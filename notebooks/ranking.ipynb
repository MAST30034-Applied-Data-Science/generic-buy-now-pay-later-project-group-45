{
 "cells": [
  {
   "cell_type": "code",
   "execution_count": 1,
   "id": "senior-analysis",
   "metadata": {},
   "outputs": [],
   "source": [
    "# create modeling spark session\n",
    "from pyspark.sql import SparkSession\n",
    "\n",
    "spark = (\n",
    "    SparkSession.builder.appName('Project 2')\n",
    "    .config('spark.sql.repl.eagerEval.enabled', True) \n",
    "    .config('spark.sql.parquet.cacheMetadata', 'true')\n",
    "    .config(\"spark.sql.session.timeZone\", \"Etc/UTC\")\n",
    "    .config(\"spark.executor.memory\", \"8g\")\n",
    "    .config(\"spark.driver.memory\", \"8g\")\n",
    "    .getOrCreate()\n",
    ")\n",
    "import pandas as pd\n",
    "from pyspark.sql import functions as F\n",
    "import pathlib"
   ]
  },
  {
   "cell_type": "code",
   "execution_count": 2,
   "id": "trained-reflection",
   "metadata": {},
   "outputs": [],
   "source": [
    "# create directory of rank folder\n",
    "pathlib.Path(\"../data/curated/rank\").mkdir(parents=True, exist_ok=True)"
   ]
  },
  {
   "cell_type": "code",
   "execution_count": 3,
   "id": "alien-childhood",
   "metadata": {},
   "outputs": [],
   "source": [
    "data = spark.read.parquet('../data/curated/final_dataset')"
   ]
  },
  {
   "cell_type": "markdown",
   "id": "presidential-ambassador",
   "metadata": {},
   "source": [
    "Use annual transaction count to predict future revenue"
   ]
  },
  {
   "cell_type": "code",
   "execution_count": 4,
   "id": "sweet-transportation",
   "metadata": {},
   "outputs": [],
   "source": [
    "clean_transaction = spark.read.parquet('../data/curated/clean_full_dataset')\n",
    "annual_transaction_count = clean_transaction.filter(F.col(\"order_datetime\")>\"2021-08-27\")\n",
    "annual_merchant_transaction = annual_transaction_count.groupby(\"merchant_abn\").count().select(\"merchant_abn\", \"count\")\n",
    "full_data = data.join(annual_merchant_transaction, on=\"merchant_abn\", how=\"left\")\n"
   ]
  },
  {
   "cell_type": "code",
   "execution_count": 5,
   "id": "dense-protein",
   "metadata": {},
   "outputs": [],
   "source": [
    "# calculate proportion of potential afterpay users\n",
    "full_data = full_data.withColumn(\"ap_rate\", (F.col(\"consumer_scaled_spare_money\")*0.1+F.col(\"ap_percentage_by_gender\").cast(\"float\")))"
   ]
  },
  {
   "cell_type": "code",
   "execution_count": 6,
   "id": "under-romania",
   "metadata": {},
   "outputs": [],
   "source": [
    "busi_area_type = [\n",
    "    \"fashion\", \"fashion\", \"electronics\", \"recreation\", \n",
    "    \"recreation\", \"household\", \"recreation\", \"household\",\n",
    "    \"recreation\", \"household\", \"electronics\", \"household\",\n",
    "    \"recreation\", \"household\", \"household\", \"electronics\",\n",
    "    \"fashion\", \"fashion\", \"recreation\", \"electronics\",\n",
    "    \"recreation\", \"recreation\", \"household\", \"household\", \"household\"]\n",
    "\n",
    "busi_area= full_data.groupby('business_area').count().select(\"business_area\").toPandas()['business_area'].to_list()\n",
    "\n",
    "\n",
    "allocation_sdf=spark.createDataFrame(pd.DataFrame(list(zip(busi_area, busi_area_type)),\n",
    "               columns =['business_area', 'business_segment']))\n",
    "\n",
    "full_data = full_data.join(allocation_sdf, on = \"business_area\")"
   ]
  },
  {
   "cell_type": "code",
   "execution_count": 7,
   "id": "logical-breakdown",
   "metadata": {},
   "outputs": [],
   "source": [
    "# calculate expected transaction counts for next year\n",
    "full_data = full_data.withColumn(\"expected_transaction\", (F.col(\"count\")*\n",
    "                                 (1+F.col(\"annual_turnover_percentage\")/100)).cast(\"int\"))"
   ]
  },
  {
   "cell_type": "code",
   "execution_count": 8,
   "id": "coupled-complex",
   "metadata": {},
   "outputs": [],
   "source": [
    "# there are ap_rate of less than 0, replace this rate by 0.001\n",
    "full_data = full_data.withColumn(\"ap_rate\", F.when(full_data[\"ap_rate\"] < 0, 0.001).otherwise(full_data[\"ap_rate\"]))"
   ]
  },
  {
   "cell_type": "code",
   "execution_count": 9,
   "id": "african-macedonia",
   "metadata": {},
   "outputs": [],
   "source": [
    "# afterpay user = transaction * (gender ap + 0.077)\n",
    "full_data = full_data.withColumn(\"expected_revenue\", \\\n",
    "                        ((F.col(\"expected_transaction\")*F.col(\"ap_percentage_by_gender\")).cast(\"int\")\\\n",
    "                        *F.col(\"avg_total_value\")+((F.col(\"expected_transaction\")*0.077).cast(\"int\")*\\\n",
    "                            F.col(\"avg_total_value\")))*F.col(\"take_rate\")/100)\n"
   ]
  },
  {
   "cell_type": "code",
   "execution_count": 10,
   "id": "exact-leone",
   "metadata": {},
   "outputs": [],
   "source": [
    "# afterpay user = transaction*1.077*aprate\n",
    "full_data = full_data.withColumn(\"expected_revenue1\", \\\n",
    "                        ((F.col(\"expected_transaction\")*1.077*F.col(\"ap_rate\")).cast(\"int\")\\\n",
    "                        *F.col(\"avg_total_value\"))*F.col(\"take_rate\")/100)"
   ]
  },
  {
   "cell_type": "code",
   "execution_count": 11,
   "id": "closing-breakdown",
   "metadata": {},
   "outputs": [],
   "source": [
    "# after pay user = aprate + 0.077\n",
    "full_data = full_data.withColumn(\"expected_revenue2\", \\\n",
    "                                 (F.col(\"expected_transaction\")*(0.077+F.col(\"ap_rate\"))).cast(\"int\")\\\n",
    "                                 *F.col(\"avg_total_value\")*F.col(\"take_rate\")/100)"
   ]
  },
  {
   "cell_type": "code",
   "execution_count": 12,
   "id": "considerable-inventory",
   "metadata": {},
   "outputs": [
    {
     "data": {
      "text/html": [
       "<table border='1'>\n",
       "<tr><th>business_area</th><th>merchant_abn</th><th>business_area_type</th><th>total_transactions_count</th><th>avg_total_value</th><th>name</th><th>revenue_level</th><th>take_rate</th><th>consumer_scaled_spare_money</th><th>ap_percentage_by_gender</th><th>annual_turnover_percentage</th><th>fraud_rate</th><th>count</th><th>ap_rate</th><th>business_segment</th><th>expected_transaction</th><th>expected_revenue</th><th>expected_revenue1</th><th>expected_revenue2</th></tr>\n",
       "<tr><td>antique shops - s...</td><td>37935728745</td><td>Retail trade</td><td>9</td><td>11317.019602391396</td><td>Laoreet Lectus Qu...</td><td>b</td><td> 4.12</td><td>0.09668931875341785</td><td>0.09227777777777778</td><td>21.9</td><td>0.4444444444444444</td><td>6</td><td>0.10194671205055084</td><td>household</td><td>7</td><td>0.0</td><td>0.0</td><td>466.26120761852553</td></tr>\n",
       "<tr><td>antique shops - s...</td><td>46916077029</td><td>Retail trade</td><td>71</td><td>13522.620077171276</td><td>Mauris Aliquam LLC</td><td>a</td><td> 6.80</td><td>0.25602447662815764</td><td>0.08721830985915494</td><td>21.9</td><td>0.4788732394366197</td><td>53</td><td>0.11282075462149115</td><td>household</td><td>64</td><td>8275.843487228822</td><td>6436.767156733527</td><td>11034.457982971762</td></tr>\n",
       "<tr><td>antique shops - s...</td><td>21319642626</td><td>Retail trade</td><td>8</td><td>22661.382077424903</td><td>At Risus Associates</td><td>b</td><td> 3.29</td><td>0.44665739507743657</td><td>0.08168750000000001</td><td>21.9</td><td>0.5</td><td>6</td><td>0.1263532420707434</td><td>household</td><td>7</td><td>0.0</td><td>0.0</td><td>745.5594703472793</td></tr>\n",
       "<tr><td>antique shops - s...</td><td>11024352823</td><td>Retail trade</td><td>379</td><td>214.29456949819507</td><td>Aliquet Metus Urn...</td><td>c</td><td> 2.62</td><td>0.26512723708338864</td><td>0.08598284960422165</td><td>21.9</td><td>0.002638522427440633</td><td>275</td><td>0.11249557539243234</td><td>household</td><td>335</td><td>297.56943920519376</td><td>224.5807088341084</td><td>353.7146164137208</td></tr>\n",
       "<tr><td>antique shops - s...</td><td>83173175334</td><td>Retail trade</td><td>16</td><td>13574.87446695437</td><td>Enim Gravida Inc.</td><td>a</td><td> 5.81</td><td>0.5519064947172286</td><td>0.07596875</td><td>21.9</td><td>0.5625</td><td>11</td><td>0.13115939929290893</td><td>household</td><td>13</td><td>788.700206530049</td><td>788.700206530049</td><td>1577.400413060098</td></tr>\n",
       "</table>\n"
      ],
      "text/plain": [
       "+--------------------+------------+------------------+------------------------+------------------+--------------------+-------------+---------+---------------------------+-----------------------+--------------------------+--------------------+-----+-------------------+----------------+--------------------+------------------+-----------------+------------------+\n",
       "|       business_area|merchant_abn|business_area_type|total_transactions_count|   avg_total_value|                name|revenue_level|take_rate|consumer_scaled_spare_money|ap_percentage_by_gender|annual_turnover_percentage|          fraud_rate|count|            ap_rate|business_segment|expected_transaction|  expected_revenue|expected_revenue1| expected_revenue2|\n",
       "+--------------------+------------+------------------+------------------------+------------------+--------------------+-------------+---------+---------------------------+-----------------------+--------------------------+--------------------+-----+-------------------+----------------+--------------------+------------------+-----------------+------------------+\n",
       "|antique shops - s...| 37935728745|      Retail trade|                       9|11317.019602391396|Laoreet Lectus Qu...|            b|     4.12|        0.09668931875341785|    0.09227777777777778|                      21.9|  0.4444444444444444|    6|0.10194671205055084|       household|                   7|               0.0|              0.0|466.26120761852553|\n",
       "|antique shops - s...| 46916077029|      Retail trade|                      71|13522.620077171276|  Mauris Aliquam LLC|            a|     6.80|        0.25602447662815764|    0.08721830985915494|                      21.9|  0.4788732394366197|   53|0.11282075462149115|       household|                  64| 8275.843487228822|6436.767156733527|11034.457982971762|\n",
       "|antique shops - s...| 21319642626|      Retail trade|                       8|22661.382077424903| At Risus Associates|            b|     3.29|        0.44665739507743657|    0.08168750000000001|                      21.9|                 0.5|    6| 0.1263532420707434|       household|                   7|               0.0|              0.0| 745.5594703472793|\n",
       "|antique shops - s...| 11024352823|      Retail trade|                     379|214.29456949819507|Aliquet Metus Urn...|            c|     2.62|        0.26512723708338864|    0.08598284960422165|                      21.9|0.002638522427440633|  275|0.11249557539243234|       household|                 335|297.56943920519376|224.5807088341084| 353.7146164137208|\n",
       "|antique shops - s...| 83173175334|      Retail trade|                      16| 13574.87446695437|   Enim Gravida Inc.|            a|     5.81|         0.5519064947172286|             0.07596875|                      21.9|              0.5625|   11|0.13115939929290893|       household|                  13|  788.700206530049| 788.700206530049| 1577.400413060098|\n",
       "+--------------------+------------+------------------+------------------------+------------------+--------------------+-------------+---------+---------------------------+-----------------------+--------------------------+--------------------+-----+-------------------+----------------+--------------------+------------------+-----------------+------------------+"
      ]
     },
     "execution_count": 12,
     "metadata": {},
     "output_type": "execute_result"
    }
   ],
   "source": [
    "full_data.limit(5)"
   ]
  },
  {
   "cell_type": "code",
   "execution_count": 13,
   "id": "potential-courtesy",
   "metadata": {},
   "outputs": [],
   "source": [
    "ranking = full_data.select(\"merchant_abn\", \"name\", \"business_area\", \"expected_revenue\", \"expected_revenue1\",\\\n",
    "                          \"expected_revenue2\" ,\"fraud_rate\", \"ap_rate\", \"revenue_level\", \"business_segment\")"
   ]
  },
  {
   "cell_type": "code",
   "execution_count": 14,
   "id": "present-chain",
   "metadata": {},
   "outputs": [],
   "source": [
    "ranking = ranking.withColumn(\"true_revenue\", (F.col(\"expected_revenue\")*(1-F.col(\"fraud_rate\"))))\\\n",
    "                .orderBy(F.col(\"true_revenue\"))"
   ]
  },
  {
   "cell_type": "code",
   "execution_count": 15,
   "id": "hawaiian-christianity",
   "metadata": {},
   "outputs": [],
   "source": [
    "ranking = ranking.drop(\"expected_revenue\", \"expected_revenue1\",\"expected_revenue2\", \"fraud_rate\", \"ap_rate\")"
   ]
  },
  {
   "cell_type": "code",
   "execution_count": 16,
   "id": "breathing-shadow",
   "metadata": {},
   "outputs": [
    {
     "data": {
      "text/html": [
       "<table border='1'>\n",
       "<tr><th>merchant_abn</th><th>name</th><th>business_area</th><th>revenue_level</th><th>business_segment</th><th>true_revenue</th></tr>\n",
       "<tr><td>96680767841</td><td>Ornare Limited</td><td>motor vehicle sup...</td><td>a</td><td>household</td><td>71084.1441208355</td></tr>\n",
       "<tr><td>38700038932</td><td>Etiam Bibendum In...</td><td>tent and awning s...</td><td>a</td><td>household</td><td>69455.09933560257</td></tr>\n",
       "<tr><td>89726005175</td><td>Est Nunc Consulting</td><td>tent and awning s...</td><td>a</td><td>household</td><td>65618.73303178482</td></tr>\n",
       "<tr><td>79827781481</td><td>Amet Risus Inc.</td><td>furniture, home f...</td><td>a</td><td>household</td><td>64801.02826181595</td></tr>\n",
       "<tr><td>49891706470</td><td>Non Vestibulum In...</td><td>tent and awning s...</td><td>a</td><td>household</td><td>50899.94176843741</td></tr>\n",
       "<tr><td>76767266140</td><td>Phasellus At Limited</td><td>furniture, home f...</td><td>b</td><td>household</td><td>50651.47914750627</td></tr>\n",
       "<tr><td>43186523025</td><td>Lorem Ipsum Sodal...</td><td>florists supplies...</td><td>b</td><td>household</td><td>49421.946260677025</td></tr>\n",
       "<tr><td>80551528183</td><td>Ac Ipsum LLC</td><td>tent and awning s...</td><td>b</td><td>household</td><td>49380.09663102982</td></tr>\n",
       "<tr><td>90568944804</td><td>Diam Eu Dolor LLC</td><td>tent and awning s...</td><td>b</td><td>household</td><td>46965.81303945826</td></tr>\n",
       "<tr><td>49549583265</td><td>Luctus Et Incorpo...</td><td>tent and awning s...</td><td>a</td><td>household</td><td>46937.21487505494</td></tr>\n",
       "<tr><td>13514558491</td><td>Magna Praesent PC</td><td>motor vehicle sup...</td><td>a</td><td>household</td><td>46550.230380807414</td></tr>\n",
       "<tr><td>75454398468</td><td>Tempus Non Lacini...</td><td>tent and awning s...</td><td>b</td><td>household</td><td>45269.18732980352</td></tr>\n",
       "<tr><td>49212265466</td><td>Auctor Company</td><td>florists supplies...</td><td>b</td><td>household</td><td>44717.28042703048</td></tr>\n",
       "<tr><td>57757792876</td><td>Pretium Et LLC</td><td>stationery, offic...</td><td>a</td><td>household</td><td>42917.22192908896</td></tr>\n",
       "<tr><td>21772962346</td><td>Purus Gravida Sag...</td><td>florists supplies...</td><td>a</td><td>household</td><td>41876.35958713659</td></tr>\n",
       "<tr><td>42355028515</td><td>Eu Inc.</td><td>lawn and garden s...</td><td>a</td><td>household</td><td>40249.56455660917</td></tr>\n",
       "<tr><td>68559320474</td><td>Aliquam Auctor As...</td><td>antique shops - s...</td><td>b</td><td>household</td><td>39312.715660841575</td></tr>\n",
       "<tr><td>31385641294</td><td>Semper Auctor PC</td><td>motor vehicle sup...</td><td>b</td><td>household</td><td>38772.6941181406</td></tr>\n",
       "<tr><td>76314317957</td><td>Semper Corp.</td><td>florists supplies...</td><td>a</td><td>household</td><td>36106.01653557673</td></tr>\n",
       "<tr><td>32709545238</td><td>Tempor Est Founda...</td><td>stationery, offic...</td><td>c</td><td>household</td><td>35906.60717893623</td></tr>\n",
       "</table>\n",
       "only showing top 20 rows\n"
      ],
      "text/plain": [
       "+------------+--------------------+--------------------+-------------+----------------+------------------+\n",
       "|merchant_abn|                name|       business_area|revenue_level|business_segment|      true_revenue|\n",
       "+------------+--------------------+--------------------+-------------+----------------+------------------+\n",
       "| 96680767841|      Ornare Limited|motor vehicle sup...|            a|       household|  71084.1441208355|\n",
       "| 38700038932|Etiam Bibendum In...|tent and awning s...|            a|       household| 69455.09933560257|\n",
       "| 89726005175| Est Nunc Consulting|tent and awning s...|            a|       household| 65618.73303178482|\n",
       "| 79827781481|     Amet Risus Inc.|furniture, home f...|            a|       household| 64801.02826181595|\n",
       "| 49891706470|Non Vestibulum In...|tent and awning s...|            a|       household| 50899.94176843741|\n",
       "| 76767266140|Phasellus At Limited|furniture, home f...|            b|       household| 50651.47914750627|\n",
       "| 43186523025|Lorem Ipsum Sodal...|florists supplies...|            b|       household|49421.946260677025|\n",
       "| 80551528183|        Ac Ipsum LLC|tent and awning s...|            b|       household| 49380.09663102982|\n",
       "| 90568944804|   Diam Eu Dolor LLC|tent and awning s...|            b|       household| 46965.81303945826|\n",
       "| 49549583265|Luctus Et Incorpo...|tent and awning s...|            a|       household| 46937.21487505494|\n",
       "| 13514558491|   Magna Praesent PC|motor vehicle sup...|            a|       household|46550.230380807414|\n",
       "| 75454398468|Tempus Non Lacini...|tent and awning s...|            b|       household| 45269.18732980352|\n",
       "| 49212265466|      Auctor Company|florists supplies...|            b|       household| 44717.28042703048|\n",
       "| 57757792876|      Pretium Et LLC|stationery, offic...|            a|       household| 42917.22192908896|\n",
       "| 21772962346|Purus Gravida Sag...|florists supplies...|            a|       household| 41876.35958713659|\n",
       "| 42355028515|             Eu Inc.|lawn and garden s...|            a|       household| 40249.56455660917|\n",
       "| 68559320474|Aliquam Auctor As...|antique shops - s...|            b|       household|39312.715660841575|\n",
       "| 31385641294|    Semper Auctor PC|motor vehicle sup...|            b|       household|  38772.6941181406|\n",
       "| 76314317957|        Semper Corp.|florists supplies...|            a|       household| 36106.01653557673|\n",
       "| 32709545238|Tempor Est Founda...|stationery, offic...|            c|       household| 35906.60717893623|\n",
       "+------------+--------------------+--------------------+-------------+----------------+------------------+\n",
       "only showing top 20 rows"
      ]
     },
     "execution_count": 16,
     "metadata": {},
     "output_type": "execute_result"
    }
   ],
   "source": [
    "household_rank = ranking.filter(F.col(\"business_segment\")==\"household\").orderBy(F.col(\"true_revenue\").desc())\n",
    "household_rank.write.mode(\"overwrite\").parquet(\"../data/curated/rank/household_rank/\")\n",
    "household_rank"
   ]
  },
  {
   "cell_type": "code",
   "execution_count": 17,
   "id": "breeding-blues",
   "metadata": {},
   "outputs": [
    {
     "data": {
      "text/html": [
       "<table border='1'>\n",
       "<tr><th>merchant_abn</th><th>name</th><th>business_area</th><th>revenue_level</th><th>business_segment</th><th>true_revenue</th></tr>\n",
       "<tr><td>32361057556</td><td>Orci In Consequat...</td><td>gift, card, novel...</td><td>a</td><td>recreation</td><td>76446.87711899739</td></tr>\n",
       "<tr><td>45629217853</td><td>Lacus Consulting</td><td>gift, card, novel...</td><td>a</td><td>recreation</td><td>72174.829764078</td></tr>\n",
       "<tr><td>64403598239</td><td>Lobortis Ultrices...</td><td>music shops - mus...</td><td>a</td><td>recreation</td><td>68500.2505103527</td></tr>\n",
       "<tr><td>63123845164</td><td>Odio Phasellus In...</td><td>artist supply and...</td><td>a</td><td>recreation</td><td>68349.43847567191</td></tr>\n",
       "<tr><td>94493496784</td><td>Dictum Phasellus ...</td><td>gift, card, novel...</td><td>a</td><td>recreation</td><td>62849.26031255052</td></tr>\n",
       "<tr><td>40515428545</td><td>Elit Sed Consequa...</td><td>artist supply and...</td><td>a</td><td>recreation</td><td>55759.23542901116</td></tr>\n",
       "<tr><td>72472909171</td><td>Nullam Consulting</td><td>digital goods: bo...</td><td>a</td><td>recreation</td><td>55577.03064490392</td></tr>\n",
       "<tr><td>79417999332</td><td>Phasellus At Company</td><td>gift, card, novel...</td><td>b</td><td>recreation</td><td>55497.97854727429</td></tr>\n",
       "<tr><td>67978471888</td><td>Magna Malesuada C...</td><td>artist supply and...</td><td>a</td><td>recreation</td><td>55079.92450594881</td></tr>\n",
       "<tr><td>98973094975</td><td>Ornare Fusce Inc.</td><td>hobby, toy and ga...</td><td>a</td><td>recreation</td><td>50031.258585266165</td></tr>\n",
       "<tr><td>27326652377</td><td>Tellus Aenean Cor...</td><td>music shops - mus...</td><td>a</td><td>recreation</td><td>49098.33951125434</td></tr>\n",
       "<tr><td>60956456424</td><td>Ultricies Digniss...</td><td>gift, card, novel...</td><td>b</td><td>recreation</td><td>46241.058019207725</td></tr>\n",
       "<tr><td>34179569263</td><td>Sodales At LLC</td><td>music shops - mus...</td><td>b</td><td>recreation</td><td>45246.946967780365</td></tr>\n",
       "<tr><td>98166254020</td><td>Magna Sed Industries</td><td>art dealers and g...</td><td>a</td><td>recreation</td><td>43720.05794924735</td></tr>\n",
       "<tr><td>49505931725</td><td>Suspendisse Ac As...</td><td>digital goods: bo...</td><td>b</td><td>recreation</td><td>41244.452357086295</td></tr>\n",
       "<tr><td>71759376949</td><td>Pharetra Corp.</td><td>music shops - mus...</td><td>a</td><td>recreation</td><td>38520.57595177046</td></tr>\n",
       "<tr><td>35223308778</td><td>Euismod In Corp.</td><td>books, periodical...</td><td>b</td><td>recreation</td><td>37505.21048008444</td></tr>\n",
       "<tr><td>63290521567</td><td>Vehicula Pellente...</td><td>artist supply and...</td><td>a</td><td>recreation</td><td>35057.8236055765</td></tr>\n",
       "<tr><td>81219314324</td><td>Faucibus Leo Ltd</td><td>gift, card, novel...</td><td>a</td><td>recreation</td><td>34526.28651727982</td></tr>\n",
       "<tr><td>99291944648</td><td>Rutrum Magna Cras...</td><td>books, periodical...</td><td>b</td><td>recreation</td><td>34223.185932764776</td></tr>\n",
       "</table>\n",
       "only showing top 20 rows\n"
      ],
      "text/plain": [
       "+------------+--------------------+--------------------+-------------+----------------+------------------+\n",
       "|merchant_abn|                name|       business_area|revenue_level|business_segment|      true_revenue|\n",
       "+------------+--------------------+--------------------+-------------+----------------+------------------+\n",
       "| 32361057556|Orci In Consequat...|gift, card, novel...|            a|      recreation| 76446.87711899739|\n",
       "| 45629217853|    Lacus Consulting|gift, card, novel...|            a|      recreation|   72174.829764078|\n",
       "| 64403598239|Lobortis Ultrices...|music shops - mus...|            a|      recreation|  68500.2505103527|\n",
       "| 63123845164|Odio Phasellus In...|artist supply and...|            a|      recreation| 68349.43847567191|\n",
       "| 94493496784|Dictum Phasellus ...|gift, card, novel...|            a|      recreation| 62849.26031255052|\n",
       "| 40515428545|Elit Sed Consequa...|artist supply and...|            a|      recreation| 55759.23542901116|\n",
       "| 72472909171|   Nullam Consulting|digital goods: bo...|            a|      recreation| 55577.03064490392|\n",
       "| 79417999332|Phasellus At Company|gift, card, novel...|            b|      recreation| 55497.97854727429|\n",
       "| 67978471888|Magna Malesuada C...|artist supply and...|            a|      recreation| 55079.92450594881|\n",
       "| 98973094975|   Ornare Fusce Inc.|hobby, toy and ga...|            a|      recreation|50031.258585266165|\n",
       "| 27326652377|Tellus Aenean Cor...|music shops - mus...|            a|      recreation| 49098.33951125434|\n",
       "| 60956456424|Ultricies Digniss...|gift, card, novel...|            b|      recreation|46241.058019207725|\n",
       "| 34179569263|      Sodales At LLC|music shops - mus...|            b|      recreation|45246.946967780365|\n",
       "| 98166254020|Magna Sed Industries|art dealers and g...|            a|      recreation| 43720.05794924735|\n",
       "| 49505931725|Suspendisse Ac As...|digital goods: bo...|            b|      recreation|41244.452357086295|\n",
       "| 71759376949|      Pharetra Corp.|music shops - mus...|            a|      recreation| 38520.57595177046|\n",
       "| 35223308778|    Euismod In Corp.|books, periodical...|            b|      recreation| 37505.21048008444|\n",
       "| 63290521567|Vehicula Pellente...|artist supply and...|            a|      recreation|  35057.8236055765|\n",
       "| 81219314324|    Faucibus Leo Ltd|gift, card, novel...|            a|      recreation| 34526.28651727982|\n",
       "| 99291944648|Rutrum Magna Cras...|books, periodical...|            b|      recreation|34223.185932764776|\n",
       "+------------+--------------------+--------------------+-------------+----------------+------------------+\n",
       "only showing top 20 rows"
      ]
     },
     "execution_count": 17,
     "metadata": {},
     "output_type": "execute_result"
    }
   ],
   "source": [
    "recreation_rank = ranking.filter(F.col(\"business_segment\")==\"recreation\").orderBy(F.col(\"true_revenue\").desc())\n",
    "recreation_rank.write.mode(\"overwrite\").parquet(\"../data/curated/rank/recreation_rank/\")\n",
    "recreation_rank"
   ]
  },
  {
   "cell_type": "code",
   "execution_count": 18,
   "id": "documented-conversion",
   "metadata": {},
   "outputs": [
    {
     "data": {
      "text/html": [
       "<table border='1'>\n",
       "<tr><th>merchant_abn</th><th>name</th><th>business_area</th><th>revenue_level</th><th>business_segment</th><th>true_revenue</th></tr>\n",
       "<tr><td>21439773999</td><td>Mauris Non Institute</td><td>cable, satellite,...</td><td>a</td><td>electronics</td><td>70123.88399183142</td></tr>\n",
       "<tr><td>82368304209</td><td>Nec Incorporated</td><td>telecom</td><td>a</td><td>electronics</td><td>53660.30852958023</td></tr>\n",
       "<tr><td>45433476494</td><td>Adipiscing Elit F...</td><td>computers, comput...</td><td>a</td><td>electronics</td><td>51362.41505377121</td></tr>\n",
       "<tr><td>35909341340</td><td>Arcu Sed Eu Incor...</td><td>computer programm...</td><td>b</td><td>electronics</td><td>51043.88829494652</td></tr>\n",
       "<tr><td>94690988633</td><td>Eu Placerat LLC</td><td>computers, comput...</td><td>a</td><td>electronics</td><td>47421.26098812279</td></tr>\n",
       "<tr><td>58454491168</td><td>Diam At Foundation</td><td>computer programm...</td><td>a</td><td>electronics</td><td>45131.137903996176</td></tr>\n",
       "<tr><td>80518954462</td><td>Neque Sed Dictum ...</td><td>computers, comput...</td><td>b</td><td>electronics</td><td>38167.61308304784</td></tr>\n",
       "<tr><td>67400260923</td><td>Eleifend PC</td><td>computer programm...</td><td>a</td><td>electronics</td><td>37435.247521033656</td></tr>\n",
       "<tr><td>34096466752</td><td>Nullam Enim Ltd</td><td>computers, comput...</td><td>b</td><td>electronics</td><td>36413.45306685639</td></tr>\n",
       "<tr><td>77590625261</td><td>Sed Diam Foundation</td><td>computer programm...</td><td>b</td><td>electronics</td><td>27499.78277305351</td></tr>\n",
       "<tr><td>77338620996</td><td>Fames Ac Turpis LLC</td><td>computers, comput...</td><td>b</td><td>electronics</td><td>26989.861874194412</td></tr>\n",
       "<tr><td>68216911708</td><td>Placerat Eget Ven...</td><td>computers, comput...</td><td>c</td><td>electronics</td><td>26057.00464342036</td></tr>\n",
       "<tr><td>17488304283</td><td>Posuere Cubilia C...</td><td>cable, satellite,...</td><td>a</td><td>electronics</td><td>25085.23167439001</td></tr>\n",
       "<tr><td>93260930990</td><td>Pede Cras Vulputa...</td><td>telecom</td><td>b</td><td>electronics</td><td>22053.180118534758</td></tr>\n",
       "<tr><td>94455880010</td><td>Nunc Sit LLC</td><td>computer programm...</td><td>a</td><td>electronics</td><td>19036.949822151946</td></tr>\n",
       "<tr><td>41271931352</td><td>Ac Sem Ut Company</td><td>computers, comput...</td><td>b</td><td>electronics</td><td>17988.146848908913</td></tr>\n",
       "<tr><td>16288327194</td><td>A Neque LLC</td><td>computers, comput...</td><td>a</td><td>electronics</td><td>13906.983084191375</td></tr>\n",
       "<tr><td>45244796758</td><td>Vitae Dolor LLP</td><td>computer programm...</td><td>a</td><td>electronics</td><td>12644.895948408635</td></tr>\n",
       "<tr><td>78760357380</td><td>Nibh Aliquam Corp.</td><td>computers, comput...</td><td>c</td><td>electronics</td><td>11915.020457608945</td></tr>\n",
       "<tr><td>10648956813</td><td>Proin Nisl Institute</td><td>computers, comput...</td><td>a</td><td>electronics</td><td>11551.516681355795</td></tr>\n",
       "</table>\n",
       "only showing top 20 rows\n"
      ],
      "text/plain": [
       "+------------+--------------------+--------------------+-------------+----------------+------------------+\n",
       "|merchant_abn|                name|       business_area|revenue_level|business_segment|      true_revenue|\n",
       "+------------+--------------------+--------------------+-------------+----------------+------------------+\n",
       "| 21439773999|Mauris Non Institute|cable, satellite,...|            a|     electronics| 70123.88399183142|\n",
       "| 82368304209|    Nec Incorporated|             telecom|            a|     electronics| 53660.30852958023|\n",
       "| 45433476494|Adipiscing Elit F...|computers, comput...|            a|     electronics| 51362.41505377121|\n",
       "| 35909341340|Arcu Sed Eu Incor...|computer programm...|            b|     electronics| 51043.88829494652|\n",
       "| 94690988633|     Eu Placerat LLC|computers, comput...|            a|     electronics| 47421.26098812279|\n",
       "| 58454491168|  Diam At Foundation|computer programm...|            a|     electronics|45131.137903996176|\n",
       "| 80518954462|Neque Sed Dictum ...|computers, comput...|            b|     electronics| 38167.61308304784|\n",
       "| 67400260923|         Eleifend PC|computer programm...|            a|     electronics|37435.247521033656|\n",
       "| 34096466752|     Nullam Enim Ltd|computers, comput...|            b|     electronics| 36413.45306685639|\n",
       "| 77590625261| Sed Diam Foundation|computer programm...|            b|     electronics| 27499.78277305351|\n",
       "| 77338620996| Fames Ac Turpis LLC|computers, comput...|            b|     electronics|26989.861874194412|\n",
       "| 68216911708|Placerat Eget Ven...|computers, comput...|            c|     electronics| 26057.00464342036|\n",
       "| 17488304283|Posuere Cubilia C...|cable, satellite,...|            a|     electronics| 25085.23167439001|\n",
       "| 93260930990|Pede Cras Vulputa...|             telecom|            b|     electronics|22053.180118534758|\n",
       "| 94455880010|        Nunc Sit LLC|computer programm...|            a|     electronics|19036.949822151946|\n",
       "| 41271931352|   Ac Sem Ut Company|computers, comput...|            b|     electronics|17988.146848908913|\n",
       "| 16288327194|         A Neque LLC|computers, comput...|            a|     electronics|13906.983084191375|\n",
       "| 45244796758|     Vitae Dolor LLP|computer programm...|            a|     electronics|12644.895948408635|\n",
       "| 78760357380|  Nibh Aliquam Corp.|computers, comput...|            c|     electronics|11915.020457608945|\n",
       "| 10648956813|Proin Nisl Institute|computers, comput...|            a|     electronics|11551.516681355795|\n",
       "+------------+--------------------+--------------------+-------------+----------------+------------------+\n",
       "only showing top 20 rows"
      ]
     },
     "execution_count": 18,
     "metadata": {},
     "output_type": "execute_result"
    }
   ],
   "source": [
    "electronic_rank = ranking.filter(F.col(\"business_segment\")==\"electronics\").orderBy(F.col(\"true_revenue\").desc())\n",
    "electronic_rank.write.mode(\"overwrite\").parquet(\"../data/curated/rank/electronic_rank/\")\n",
    "electronic_rank"
   ]
  },
  {
   "cell_type": "code",
   "execution_count": 19,
   "id": "atomic-electricity",
   "metadata": {},
   "outputs": [
    {
     "data": {
      "text/html": [
       "<table border='1'>\n",
       "<tr><th>merchant_abn</th><th>name</th><th>business_area</th><th>revenue_level</th><th>business_segment</th><th>true_revenue</th></tr>\n",
       "<tr><td>48534649627</td><td>Dignissim Maecena...</td><td>opticians, optica...</td><td>a</td><td>fashion</td><td>72370.66455459432</td></tr>\n",
       "<tr><td>86578477987</td><td>Leo In Consulting</td><td>watch, clock, and...</td><td>a</td><td>fashion</td><td>63172.729776809945</td></tr>\n",
       "<tr><td>49322182190</td><td>Gravida Mauris In...</td><td>watch, clock, and...</td><td>a</td><td>fashion</td><td>51242.15280876644</td></tr>\n",
       "<tr><td>93558142492</td><td>Dolor Quisque Inc.</td><td>shoe shops</td><td>b</td><td>fashion</td><td>36666.83519879501</td></tr>\n",
       "<tr><td>11439466003</td><td>Blandit At LLC</td><td>shoe shops</td><td>a</td><td>fashion</td><td>34025.180786472876</td></tr>\n",
       "<tr><td>95574756848</td><td>At Pede Inc.</td><td>opticians, optica...</td><td>a</td><td>fashion</td><td>29252.206391983822</td></tr>\n",
       "<tr><td>99976658299</td><td>Sociosqu Corp.</td><td>shoe shops</td><td>a</td><td>fashion</td><td>27709.426412713656</td></tr>\n",
       "<tr><td>19492220327</td><td>Commodo Ipsum Ind...</td><td>jewelry, watch, c...</td><td>b</td><td>fashion</td><td>26997.774164823233</td></tr>\n",
       "<tr><td>46804135891</td><td>Suspendisse Dui C...</td><td>opticians, optica...</td><td>c</td><td>fashion</td><td>24242.32782135498</td></tr>\n",
       "<tr><td>62224020443</td><td>Hendrerit A Corpo...</td><td>watch, clock, and...</td><td>a</td><td>fashion</td><td>23303.30471029042</td></tr>\n",
       "<tr><td>81761494572</td><td>Nulla Facilisis I...</td><td>watch, clock, and...</td><td>a</td><td>fashion</td><td>21337.198949627855</td></tr>\n",
       "<tr><td>23338656015</td><td>Iaculis LLC</td><td>watch, clock, and...</td><td>b</td><td>fashion</td><td>19184.71436775858</td></tr>\n",
       "<tr><td>92065881715</td><td>Quam Elementum Corp.</td><td>opticians, optica...</td><td>b</td><td>fashion</td><td>14794.740539970502</td></tr>\n",
       "<tr><td>29616684420</td><td>Tellus Id LLC</td><td>watch, clock, and...</td><td>b</td><td>fashion</td><td>13840.900369952102</td></tr>\n",
       "<tr><td>71528203369</td><td>Ipsum Primis Asso...</td><td>watch, clock, and...</td><td>a</td><td>fashion</td><td>13341.450163683818</td></tr>\n",
       "<tr><td>90918180829</td><td>Pharetra Quisque ...</td><td>jewelry, watch, c...</td><td>c</td><td>fashion</td><td>11252.000746306554</td></tr>\n",
       "<tr><td>11237511112</td><td>Magna Institute</td><td>opticians, optica...</td><td>c</td><td>fashion</td><td>11022.338089641593</td></tr>\n",
       "<tr><td>85362139954</td><td>In Consequat Asso...</td><td>shoe shops</td><td>a</td><td>fashion</td><td>10893.939152222645</td></tr>\n",
       "<tr><td>66842618444</td><td>Ultrices Inc.</td><td>shoe shops</td><td>a</td><td>fashion</td><td>10893.66433450831</td></tr>\n",
       "<tr><td>67142049268</td><td>Aliquet Sem Ut PC</td><td>opticians, optica...</td><td>a</td><td>fashion</td><td>10649.251587520152</td></tr>\n",
       "</table>\n",
       "only showing top 20 rows\n"
      ],
      "text/plain": [
       "+------------+--------------------+--------------------+-------------+----------------+------------------+\n",
       "|merchant_abn|                name|       business_area|revenue_level|business_segment|      true_revenue|\n",
       "+------------+--------------------+--------------------+-------------+----------------+------------------+\n",
       "| 48534649627|Dignissim Maecena...|opticians, optica...|            a|         fashion| 72370.66455459432|\n",
       "| 86578477987|   Leo In Consulting|watch, clock, and...|            a|         fashion|63172.729776809945|\n",
       "| 49322182190|Gravida Mauris In...|watch, clock, and...|            a|         fashion| 51242.15280876644|\n",
       "| 93558142492|  Dolor Quisque Inc.|          shoe shops|            b|         fashion| 36666.83519879501|\n",
       "| 11439466003|      Blandit At LLC|          shoe shops|            a|         fashion|34025.180786472876|\n",
       "| 95574756848|        At Pede Inc.|opticians, optica...|            a|         fashion|29252.206391983822|\n",
       "| 99976658299|      Sociosqu Corp.|          shoe shops|            a|         fashion|27709.426412713656|\n",
       "| 19492220327|Commodo Ipsum Ind...|jewelry, watch, c...|            b|         fashion|26997.774164823233|\n",
       "| 46804135891|Suspendisse Dui C...|opticians, optica...|            c|         fashion| 24242.32782135498|\n",
       "| 62224020443|Hendrerit A Corpo...|watch, clock, and...|            a|         fashion| 23303.30471029042|\n",
       "| 81761494572|Nulla Facilisis I...|watch, clock, and...|            a|         fashion|21337.198949627855|\n",
       "| 23338656015|         Iaculis LLC|watch, clock, and...|            b|         fashion| 19184.71436775858|\n",
       "| 92065881715|Quam Elementum Corp.|opticians, optica...|            b|         fashion|14794.740539970502|\n",
       "| 29616684420|       Tellus Id LLC|watch, clock, and...|            b|         fashion|13840.900369952102|\n",
       "| 71528203369|Ipsum Primis Asso...|watch, clock, and...|            a|         fashion|13341.450163683818|\n",
       "| 90918180829|Pharetra Quisque ...|jewelry, watch, c...|            c|         fashion|11252.000746306554|\n",
       "| 11237511112|     Magna Institute|opticians, optica...|            c|         fashion|11022.338089641593|\n",
       "| 85362139954|In Consequat Asso...|          shoe shops|            a|         fashion|10893.939152222645|\n",
       "| 66842618444|       Ultrices Inc.|          shoe shops|            a|         fashion| 10893.66433450831|\n",
       "| 67142049268|   Aliquet Sem Ut PC|opticians, optica...|            a|         fashion|10649.251587520152|\n",
       "+------------+--------------------+--------------------+-------------+----------------+------------------+\n",
       "only showing top 20 rows"
      ]
     },
     "execution_count": 19,
     "metadata": {},
     "output_type": "execute_result"
    }
   ],
   "source": [
    "fashion_rank = ranking.filter(F.col(\"business_segment\")==\"fashion\").orderBy(F.col(\"true_revenue\").desc())\n",
    "fashion_rank.write.mode(\"overwrite\").parquet(\"../data/curated/rank/fashion_rank/\")\n",
    "fashion_rank"
   ]
  }
 ],
 "metadata": {
  "kernelspec": {
   "display_name": "Python 3",
   "language": "python",
   "name": "python3"
  },
  "language_info": {
   "codemirror_mode": {
    "name": "ipython",
    "version": 3
   },
   "file_extension": ".py",
   "mimetype": "text/x-python",
   "name": "python",
   "nbconvert_exporter": "python",
   "pygments_lexer": "ipython3",
   "version": "3.9.2"
  }
 },
 "nbformat": 4,
 "nbformat_minor": 5
}
