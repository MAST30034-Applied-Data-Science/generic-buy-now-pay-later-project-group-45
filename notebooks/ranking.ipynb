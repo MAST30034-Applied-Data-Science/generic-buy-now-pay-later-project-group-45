{
 "cells": [
  {
   "cell_type": "code",
   "execution_count": 1,
   "id": "senior-analysis",
   "metadata": {},
   "outputs": [],
   "source": [
    "# create modeling spark session\n",
    "from pyspark.sql import SparkSession\n",
    "\n",
    "spark = (\n",
    "    SparkSession.builder.appName('Project 2')\n",
    "    .config('spark.sql.repl.eagerEval.enabled', True) \n",
    "    .config('spark.sql.parquet.cacheMetadata', 'true')\n",
    "    .config(\"spark.sql.session.timeZone\", \"Etc/UTC\")\n",
    "    .config(\"spark.executor.memory\", \"8g\")\n",
    "    .config(\"spark.driver.memory\", \"8g\")\n",
    "    .getOrCreate()\n",
    ")\n",
    "import pandas as pd\n",
    "from pyspark.sql import functions as F\n",
    "import pathlib"
   ]
  },
  {
   "cell_type": "code",
   "execution_count": 2,
   "id": "artificial-today",
   "metadata": {},
   "outputs": [],
   "source": [
    "# create directory of rank folder\n",
    "pathlib.Path(\"../data/curated/rank\").mkdir(parents=True, exist_ok=True)"
   ]
  },
  {
   "cell_type": "code",
   "execution_count": 3,
   "id": "alien-childhood",
   "metadata": {},
   "outputs": [],
   "source": [
    "data = spark.read.parquet('../data/curated/final_dataset')"
   ]
  },
  {
   "cell_type": "markdown",
   "id": "presidential-ambassador",
   "metadata": {},
   "source": [
    "Use annual transaction count to predict future revenue"
   ]
  },
  {
   "cell_type": "code",
   "execution_count": 4,
   "id": "sweet-transportation",
   "metadata": {},
   "outputs": [],
   "source": [
    "clean_transaction = spark.read.parquet('../data/curated/clean_full_dataset')\n",
    "annual_transaction_count = clean_transaction.filter(F.col(\"order_datetime\")>\"2021-08-27\")\n",
    "annual_merchant_transaction = annual_transaction_count.groupby(\"merchant_abn\").count().select(\"merchant_abn\", \"count\")\n",
    "full_data = data.join(annual_merchant_transaction, on=\"merchant_abn\", how=\"left\")\n"
   ]
  },
  {
   "cell_type": "code",
   "execution_count": 5,
   "id": "confidential-division",
   "metadata": {},
   "outputs": [],
   "source": [
    "# calculate proportion of potential afterpay users\n",
    "full_data = full_data.withColumn(\"ap_rate\", (F.col(\"consumer_scaled_spare_money\")*0.1+F.col(\"ap_percentage_by_gender\").cast(\"float\")))"
   ]
  },
  {
   "cell_type": "code",
   "execution_count": 6,
   "id": "funny-efficiency",
   "metadata": {},
   "outputs": [],
   "source": [
    "busi_area_type = [\n",
    "    \"fashion\", \"fashion\", \"electronics\", \"recreation\", \n",
    "    \"recreation\", \"household\", \"recreation\", \"household\",\n",
    "    \"recreation\", \"household\", \"electronics\", \"household\",\n",
    "    \"recreation\", \"household\", \"household\", \"electronics\",\n",
    "    \"fashion\", \"fashion\", \"recreation\", \"electronics\",\n",
    "    \"recreation\", \"recreation\", \"household\", \"household\", \"household\"]\n",
    "\n",
    "busi_area= full_data.groupby('business_area').count().select(\"business_area\").toPandas()['business_area'].to_list()\n",
    "\n",
    "\n",
    "allocation_sdf=spark.createDataFrame(pd.DataFrame(list(zip(busi_area, busi_area_type)),\n",
    "               columns =['business_area', 'business_segment']))\n",
    "\n",
    "full_data = full_data.join(allocation_sdf, on = \"business_area\")"
   ]
  },
  {
   "cell_type": "code",
   "execution_count": 7,
   "id": "logical-breakdown",
   "metadata": {},
   "outputs": [],
   "source": [
    "# calculate expected transaction counts for next year\n",
    "full_data = full_data.withColumn(\"expected_transaction\", (F.col(\"count\")*\n",
    "                                 (1+F.col(\"annual_turnover_percentage\")/100)).cast(\"int\"))"
   ]
  },
  {
   "cell_type": "code",
   "execution_count": 8,
   "id": "musical-mandate",
   "metadata": {},
   "outputs": [],
   "source": [
    "# there are ap_rate of less than 0, replace this rate by 0.001\n",
    "full_data = full_data.withColumn(\"ap_rate\", F.when(full_data[\"ap_rate\"] < 0, 0.001).otherwise(full_data[\"ap_rate\"]))"
   ]
  },
  {
   "cell_type": "code",
   "execution_count": 9,
   "id": "referenced-resource",
   "metadata": {},
   "outputs": [],
   "source": [
    "# afterpay user = transaction*1.077*aprate\n",
    "full_data = full_data.withColumn(\"expected_revenue\", \\\n",
    "                        ((F.col(\"expected_transaction\")*1.077*F.col(\"ap_rate\")).cast(\"int\")\\\n",
    "                        *F.col(\"avg_total_value\"))*F.col(\"take_rate\")/100)"
   ]
  },
  {
   "cell_type": "code",
   "execution_count": 10,
   "id": "horizontal-lodging",
   "metadata": {},
   "outputs": [
    {
     "data": {
      "text/html": [
       "<table border='1'>\n",
       "<tr><th>business_area</th><th>merchant_abn</th><th>business_area_type</th><th>total_transactions_count</th><th>avg_total_value</th><th>name</th><th>revenue_level</th><th>take_rate</th><th>consumer_scaled_spare_money</th><th>ap_percentage_by_gender</th><th>annual_turnover_percentage</th><th>fraud_rate</th><th>count</th><th>ap_rate</th><th>business_segment</th><th>expected_transaction</th><th>expected_revenue</th></tr>\n",
       "<tr><td>antique shops - s...</td><td>37935728745</td><td>Retail trade</td><td>9</td><td>11317.019602391396</td><td>Laoreet Lectus Qu...</td><td>b</td><td> 4.12</td><td>0.09668931875341785</td><td>0.09227777777777778</td><td>21.9</td><td>0.4444444444444444</td><td>6</td><td>0.10194671205055084</td><td>household</td><td>7</td><td>0.0</td></tr>\n",
       "<tr><td>antique shops - s...</td><td>46916077029</td><td>Retail trade</td><td>71</td><td>13522.620077171276</td><td>Mauris Aliquam LLC</td><td>a</td><td> 6.80</td><td>0.25602447662815764</td><td>0.08721830985915494</td><td>21.9</td><td>0.4788732394366197</td><td>53</td><td>0.11282075462149115</td><td>household</td><td>64</td><td>6436.767156733527</td></tr>\n",
       "<tr><td>antique shops - s...</td><td>21319642626</td><td>Retail trade</td><td>8</td><td>22661.382077424903</td><td>At Risus Associates</td><td>b</td><td> 3.29</td><td>0.44665739507743657</td><td>0.08168750000000001</td><td>21.9</td><td>0.5</td><td>6</td><td>0.1263532420707434</td><td>household</td><td>7</td><td>0.0</td></tr>\n",
       "<tr><td>antique shops - s...</td><td>11024352823</td><td>Retail trade</td><td>379</td><td>214.29456949819507</td><td>Aliquet Metus Urn...</td><td>c</td><td> 2.62</td><td>0.26512723708338864</td><td>0.08598284960422165</td><td>21.9</td><td>0.002638522427440633</td><td>275</td><td>0.11249557539243234</td><td>household</td><td>335</td><td>224.5807088341084</td></tr>\n",
       "<tr><td>antique shops - s...</td><td>83173175334</td><td>Retail trade</td><td>16</td><td>13574.87446695437</td><td>Enim Gravida Inc.</td><td>a</td><td> 5.81</td><td>0.5519064947172286</td><td>0.07596875</td><td>21.9</td><td>0.5625</td><td>11</td><td>0.13115939929290893</td><td>household</td><td>13</td><td>788.700206530049</td></tr>\n",
       "</table>\n"
      ],
      "text/plain": [
       "+--------------------+------------+------------------+------------------------+------------------+--------------------+-------------+---------+---------------------------+-----------------------+--------------------------+--------------------+-----+-------------------+----------------+--------------------+-----------------+\n",
       "|       business_area|merchant_abn|business_area_type|total_transactions_count|   avg_total_value|                name|revenue_level|take_rate|consumer_scaled_spare_money|ap_percentage_by_gender|annual_turnover_percentage|          fraud_rate|count|            ap_rate|business_segment|expected_transaction| expected_revenue|\n",
       "+--------------------+------------+------------------+------------------------+------------------+--------------------+-------------+---------+---------------------------+-----------------------+--------------------------+--------------------+-----+-------------------+----------------+--------------------+-----------------+\n",
       "|antique shops - s...| 37935728745|      Retail trade|                       9|11317.019602391396|Laoreet Lectus Qu...|            b|     4.12|        0.09668931875341785|    0.09227777777777778|                      21.9|  0.4444444444444444|    6|0.10194671205055084|       household|                   7|              0.0|\n",
       "|antique shops - s...| 46916077029|      Retail trade|                      71|13522.620077171276|  Mauris Aliquam LLC|            a|     6.80|        0.25602447662815764|    0.08721830985915494|                      21.9|  0.4788732394366197|   53|0.11282075462149115|       household|                  64|6436.767156733527|\n",
       "|antique shops - s...| 21319642626|      Retail trade|                       8|22661.382077424903| At Risus Associates|            b|     3.29|        0.44665739507743657|    0.08168750000000001|                      21.9|                 0.5|    6| 0.1263532420707434|       household|                   7|              0.0|\n",
       "|antique shops - s...| 11024352823|      Retail trade|                     379|214.29456949819507|Aliquet Metus Urn...|            c|     2.62|        0.26512723708338864|    0.08598284960422165|                      21.9|0.002638522427440633|  275|0.11249557539243234|       household|                 335|224.5807088341084|\n",
       "|antique shops - s...| 83173175334|      Retail trade|                      16| 13574.87446695437|   Enim Gravida Inc.|            a|     5.81|         0.5519064947172286|             0.07596875|                      21.9|              0.5625|   11|0.13115939929290893|       household|                  13| 788.700206530049|\n",
       "+--------------------+------------+------------------+------------------------+------------------+--------------------+-------------+---------+---------------------------+-----------------------+--------------------------+--------------------+-----+-------------------+----------------+--------------------+-----------------+"
      ]
     },
     "execution_count": 10,
     "metadata": {},
     "output_type": "execute_result"
    }
   ],
   "source": [
    "full_data.limit(5)"
   ]
  },
  {
   "cell_type": "code",
   "execution_count": 12,
   "id": "potential-courtesy",
   "metadata": {},
   "outputs": [],
   "source": [
    "ranking = full_data.select(\"merchant_abn\", \"name\", \"business_area\", \"expected_revenue\", \"avg_total_value\",\\\n",
    "                           \"fraud_rate\", \"ap_rate\", \"revenue_level\", \"business_segment\", \"expected_transaction\")"
   ]
  },
  {
   "cell_type": "code",
   "execution_count": 13,
   "id": "handmade-security",
   "metadata": {},
   "outputs": [],
   "source": [
    "ranking = ranking.withColumn(\"true_revenue\", (F.col(\"expected_revenue\")*(1-F.col(\"fraud_rate\"))))\\\n",
    "                .orderBy(F.col(\"true_revenue\").desc())"
   ]
  },
  {
   "cell_type": "code",
   "execution_count": 26,
   "id": "dense-heading",
   "metadata": {},
   "outputs": [
    {
     "data": {
      "text/html": [
       "<table border='1'>\n",
       "<tr><th>merchant_abn</th><th>name</th><th>business_area</th><th>avg_total_value</th><th>revenue_level</th><th>business_segment</th><th>expected_transaction</th><th>true_revenue</th></tr>\n",
       "<tr><td>32361057556</td><td>Orci In Consequat...</td><td>gift, card, novel...</td><td>109.98738471647025</td><td>a</td><td>recreation</td><td>65016</td><td>43766.742919312244</td></tr>\n",
       "<tr><td>45629217853</td><td>Lacus Consulting</td><td>gift, card, novel...</td><td>36.86309255250773</td><td>a</td><td>recreation</td><td>173438</td><td>42207.57778690396</td></tr>\n",
       "<tr><td>96680767841</td><td>Ornare Limited</td><td>motor vehicle sup...</td><td>315.06861309524027</td><td>a</td><td>household</td><td>23763</td><td>39728.91708258423</td></tr>\n",
       "<tr><td>21439773999</td><td>Mauris Non Institute</td><td>cable, satellite,...</td><td>78.14540729233093</td><td>a</td><td>electronics</td><td>91406</td><td>39120.00430848647</td></tr>\n",
       "<tr><td>89726005175</td><td>Est Nunc Consulting</td><td>tent and awning s...</td><td>41.23187459923756</td><td>a</td><td>household</td><td>163743</td><td>38512.82005309113</td></tr>\n",
       "<tr><td>64403598239</td><td>Lobortis Ultrices...</td><td>music shops - mus...</td><td>78.11269321474416</td><td>a</td><td>recreation</td><td>85967</td><td>38210.088844639424</td></tr>\n",
       "<tr><td>48534649627</td><td>Dignissim Maecena...</td><td>opticians, optica...</td><td>141.65798620362992</td><td>a</td><td>fashion</td><td>48309</td><td>37992.51900873453</td></tr>\n",
       "<tr><td>67978471888</td><td>Magna Malesuada C...</td><td>artist supply and...</td><td>648.8876206534682</td><td>a</td><td>recreation</td><td>9454</td><td>36923.284896821715</td></tr>\n",
       "<tr><td>38700038932</td><td>Etiam Bibendum In...</td><td>tent and awning s...</td><td>1336.2436316547887</td><td>a</td><td>household</td><td>5411</td><td>36430.26875071515</td></tr>\n",
       "<tr><td>86578477987</td><td>Leo In Consulting</td><td>watch, clock, and...</td><td>34.98176268056113</td><td>a</td><td>fashion</td><td>173786</td><td>36308.45974929885</td></tr>\n",
       "<tr><td>94493496784</td><td>Dictum Phasellus ...</td><td>gift, card, novel...</td><td>91.89829533112882</td><td>a</td><td>recreation</td><td>75281</td><td>36284.53364046986</td></tr>\n",
       "<tr><td>40515428545</td><td>Elit Sed Consequa...</td><td>artist supply and...</td><td>596.5734154604642</td><td>a</td><td>recreation</td><td>9881</td><td>34353.536434727845</td></tr>\n",
       "<tr><td>63123845164</td><td>Odio Phasellus In...</td><td>artist supply and...</td><td>751.2370990170103</td><td>a</td><td>recreation</td><td>8641</td><td>33735.956793983576</td></tr>\n",
       "<tr><td>79417999332</td><td>Phasellus At Company</td><td>gift, card, novel...</td><td>91.9414464701124</td><td>b</td><td>recreation</td><td>75447</td><td>33074.7818877211</td></tr>\n",
       "<tr><td>35909341340</td><td>Arcu Sed Eu Incor...</td><td>computer programm...</td><td>250.7705228080561</td><td>b</td><td>electronics</td><td>26338</td><td>32279.682572125555</td></tr>\n",
       "<tr><td>72472909171</td><td>Nullam Consulting</td><td>digital goods: bo...</td><td>70.31518680234745</td><td>a</td><td>recreation</td><td>77204</td><td>32167.069700367047</td></tr>\n",
       "<tr><td>80551528183</td><td>Ac Ipsum LLC</td><td>tent and awning s...</td><td>1125.4718484638406</td><td>b</td><td>household</td><td>5919</td><td>31630.093244327345</td></tr>\n",
       "<tr><td>45433476494</td><td>Adipiscing Elit F...</td><td>computers, comput...</td><td>450.93672527389566</td><td>a</td><td>electronics</td><td>12121</td><td>31161.95303567217</td></tr>\n",
       "<tr><td>82368304209</td><td>Nec Incorporated</td><td>telecom</td><td>1867.954943974729</td><td>a</td><td>electronics</td><td>3720</td><td>31146.11606194541</td></tr>\n",
       "<tr><td>76767266140</td><td>Phasellus At Limited</td><td>furniture, home f...</td><td>214.48522155694192</td><td>b</td><td>household</td><td>31572</td><td>30628.084659145745</td></tr>\n",
       "</table>\n",
       "only showing top 20 rows\n"
      ],
      "text/plain": [
       "+------------+--------------------+--------------------+------------------+-------------+----------------+--------------------+------------------+\n",
       "|merchant_abn|                name|       business_area|   avg_total_value|revenue_level|business_segment|expected_transaction|      true_revenue|\n",
       "+------------+--------------------+--------------------+------------------+-------------+----------------+--------------------+------------------+\n",
       "| 32361057556|Orci In Consequat...|gift, card, novel...|109.98738471647025|            a|      recreation|               65016|43766.742919312244|\n",
       "| 45629217853|    Lacus Consulting|gift, card, novel...| 36.86309255250773|            a|      recreation|              173438| 42207.57778690396|\n",
       "| 96680767841|      Ornare Limited|motor vehicle sup...|315.06861309524027|            a|       household|               23763| 39728.91708258423|\n",
       "| 21439773999|Mauris Non Institute|cable, satellite,...| 78.14540729233093|            a|     electronics|               91406| 39120.00430848647|\n",
       "| 89726005175| Est Nunc Consulting|tent and awning s...| 41.23187459923756|            a|       household|              163743| 38512.82005309113|\n",
       "| 64403598239|Lobortis Ultrices...|music shops - mus...| 78.11269321474416|            a|      recreation|               85967|38210.088844639424|\n",
       "| 48534649627|Dignissim Maecena...|opticians, optica...|141.65798620362992|            a|         fashion|               48309| 37992.51900873453|\n",
       "| 67978471888|Magna Malesuada C...|artist supply and...| 648.8876206534682|            a|      recreation|                9454|36923.284896821715|\n",
       "| 38700038932|Etiam Bibendum In...|tent and awning s...|1336.2436316547887|            a|       household|                5411| 36430.26875071515|\n",
       "| 86578477987|   Leo In Consulting|watch, clock, and...| 34.98176268056113|            a|         fashion|              173786| 36308.45974929885|\n",
       "| 94493496784|Dictum Phasellus ...|gift, card, novel...| 91.89829533112882|            a|      recreation|               75281| 36284.53364046986|\n",
       "| 40515428545|Elit Sed Consequa...|artist supply and...| 596.5734154604642|            a|      recreation|                9881|34353.536434727845|\n",
       "| 63123845164|Odio Phasellus In...|artist supply and...| 751.2370990170103|            a|      recreation|                8641|33735.956793983576|\n",
       "| 79417999332|Phasellus At Company|gift, card, novel...|  91.9414464701124|            b|      recreation|               75447|  33074.7818877211|\n",
       "| 35909341340|Arcu Sed Eu Incor...|computer programm...| 250.7705228080561|            b|     electronics|               26338|32279.682572125555|\n",
       "| 72472909171|   Nullam Consulting|digital goods: bo...| 70.31518680234745|            a|      recreation|               77204|32167.069700367047|\n",
       "| 80551528183|        Ac Ipsum LLC|tent and awning s...|1125.4718484638406|            b|       household|                5919|31630.093244327345|\n",
       "| 45433476494|Adipiscing Elit F...|computers, comput...|450.93672527389566|            a|     electronics|               12121| 31161.95303567217|\n",
       "| 82368304209|    Nec Incorporated|             telecom| 1867.954943974729|            a|     electronics|                3720| 31146.11606194541|\n",
       "| 76767266140|Phasellus At Limited|furniture, home f...|214.48522155694192|            b|       household|               31572|30628.084659145745|\n",
       "+------------+--------------------+--------------------+------------------+-------------+----------------+--------------------+------------------+\n",
       "only showing top 20 rows"
      ]
     },
     "execution_count": 26,
     "metadata": {},
     "output_type": "execute_result"
    }
   ],
   "source": [
    "ranking = ranking.drop(\"expected_revenue\", \"fraud_rate\", \"ap_rate\")\n",
    "ranking"
   ]
  },
  {
   "cell_type": "code",
   "execution_count": 15,
   "id": "exotic-nutrition",
   "metadata": {},
   "outputs": [
    {
     "data": {
      "text/html": [
       "<table border='1'>\n",
       "<tr><th>merchant_abn</th><th>name</th><th>business_area</th><th>avg_total_value</th><th>revenue_level</th><th>business_segment</th><th>expected_transaction</th><th>true_revenue</th></tr>\n",
       "<tr><td>96680767841</td><td>Ornare Limited</td><td>motor vehicle sup...</td><td>315.06861309524027</td><td>a</td><td>household</td><td>23763</td><td>39728.91708258423</td></tr>\n",
       "<tr><td>89726005175</td><td>Est Nunc Consulting</td><td>tent and awning s...</td><td>41.23187459923756</td><td>a</td><td>household</td><td>163743</td><td>38512.82005309113</td></tr>\n",
       "<tr><td>38700038932</td><td>Etiam Bibendum In...</td><td>tent and awning s...</td><td>1336.2436316547887</td><td>a</td><td>household</td><td>5411</td><td>36430.26875071515</td></tr>\n",
       "<tr><td>80551528183</td><td>Ac Ipsum LLC</td><td>tent and awning s...</td><td>1125.4718484638406</td><td>b</td><td>household</td><td>5919</td><td>31630.093244327345</td></tr>\n",
       "<tr><td>76767266140</td><td>Phasellus At Limited</td><td>furniture, home f...</td><td>214.48522155694192</td><td>b</td><td>household</td><td>31572</td><td>30628.084659145745</td></tr>\n",
       "<tr><td>49549583265</td><td>Luctus Et Incorpo...</td><td>tent and awning s...</td><td>678.704234522669</td><td>a</td><td>household</td><td>7611</td><td>30100.626867241706</td></tr>\n",
       "<tr><td>79827781481</td><td>Amet Risus Inc.</td><td>furniture, home f...</td><td>2036.4814449572925</td><td>a</td><td>household</td><td>3442</td><td>28800.457005251534</td></tr>\n",
       "<tr><td>49891706470</td><td>Non Vestibulum In...</td><td>tent and awning s...</td><td>28.980731305967698</td><td>a</td><td>household</td><td>187350</td><td>28426.296434780867</td></tr>\n",
       "<tr><td>43186523025</td><td>Lorem Ipsum Sodal...</td><td>florists supplies...</td><td>44.99407448848733</td><td>b</td><td>household</td><td>152011</td><td>28308.977410753636</td></tr>\n",
       "<tr><td>90568944804</td><td>Diam Eu Dolor LLC</td><td>tent and awning s...</td><td>898.5753673253311</td><td>b</td><td>household</td><td>8157</td><td>26953.984708165714</td></tr>\n",
       "<tr><td>31385641294</td><td>Semper Auctor PC</td><td>motor vehicle sup...</td><td>2187.649441713625</td><td>b</td><td>household</td><td>2881</td><td>26874.63562265969</td></tr>\n",
       "<tr><td>49212265466</td><td>Auctor Company</td><td>florists supplies...</td><td>225.71042483737486</td><td>b</td><td>household</td><td>27228</td><td>25373.515681220008</td></tr>\n",
       "<tr><td>13514558491</td><td>Magna Praesent PC</td><td>motor vehicle sup...</td><td>313.9823074585136</td><td>a</td><td>household</td><td>13572</td><td>24429.86601232178</td></tr>\n",
       "<tr><td>75454398468</td><td>Tempus Non Lacini...</td><td>tent and awning s...</td><td>1348.5237207080631</td><td>b</td><td>household</td><td>4535</td><td>24233.77691296547</td></tr>\n",
       "<tr><td>42355028515</td><td>Eu Inc.</td><td>lawn and garden s...</td><td>159.5670009993322</td><td>a</td><td>household</td><td>26180</td><td>23716.968127084725</td></tr>\n",
       "<tr><td>68559320474</td><td>Aliquam Auctor As...</td><td>antique shops - s...</td><td>215.75758025084923</td><td>b</td><td>household</td><td>26835</td><td>23264.31324197747</td></tr>\n",
       "<tr><td>76314317957</td><td>Semper Corp.</td><td>florists supplies...</td><td>149.12603966017076</td><td>a</td><td>household</td><td>25243</td><td>22945.30298879547</td></tr>\n",
       "<tr><td>31334588839</td><td>Lacus Aliquam Cor...</td><td>antique shops - s...</td><td>6375.460721650075</td><td>b</td><td>household</td><td>1187</td><td>22803.46392431061</td></tr>\n",
       "<tr><td>21772962346</td><td>Purus Gravida Sag...</td><td>florists supplies...</td><td>151.8876513060194</td><td>a</td><td>household</td><td>25757</td><td>22372.164329238916</td></tr>\n",
       "<tr><td>57757792876</td><td>Pretium Et LLC</td><td>stationery, offic...</td><td>622.8599192672041</td><td>a</td><td>household</td><td>7782</td><td>22327.863672401327</td></tr>\n",
       "</table>\n",
       "only showing top 20 rows\n"
      ],
      "text/plain": [
       "+------------+--------------------+--------------------+------------------+-------------+----------------+--------------------+------------------+\n",
       "|merchant_abn|                name|       business_area|   avg_total_value|revenue_level|business_segment|expected_transaction|      true_revenue|\n",
       "+------------+--------------------+--------------------+------------------+-------------+----------------+--------------------+------------------+\n",
       "| 96680767841|      Ornare Limited|motor vehicle sup...|315.06861309524027|            a|       household|               23763| 39728.91708258423|\n",
       "| 89726005175| Est Nunc Consulting|tent and awning s...| 41.23187459923756|            a|       household|              163743| 38512.82005309113|\n",
       "| 38700038932|Etiam Bibendum In...|tent and awning s...|1336.2436316547887|            a|       household|                5411| 36430.26875071515|\n",
       "| 80551528183|        Ac Ipsum LLC|tent and awning s...|1125.4718484638406|            b|       household|                5919|31630.093244327345|\n",
       "| 76767266140|Phasellus At Limited|furniture, home f...|214.48522155694192|            b|       household|               31572|30628.084659145745|\n",
       "| 49549583265|Luctus Et Incorpo...|tent and awning s...|  678.704234522669|            a|       household|                7611|30100.626867241706|\n",
       "| 79827781481|     Amet Risus Inc.|furniture, home f...|2036.4814449572925|            a|       household|                3442|28800.457005251534|\n",
       "| 49891706470|Non Vestibulum In...|tent and awning s...|28.980731305967698|            a|       household|              187350|28426.296434780867|\n",
       "| 43186523025|Lorem Ipsum Sodal...|florists supplies...| 44.99407448848733|            b|       household|              152011|28308.977410753636|\n",
       "| 90568944804|   Diam Eu Dolor LLC|tent and awning s...| 898.5753673253311|            b|       household|                8157|26953.984708165714|\n",
       "| 31385641294|    Semper Auctor PC|motor vehicle sup...| 2187.649441713625|            b|       household|                2881| 26874.63562265969|\n",
       "| 49212265466|      Auctor Company|florists supplies...|225.71042483737486|            b|       household|               27228|25373.515681220008|\n",
       "| 13514558491|   Magna Praesent PC|motor vehicle sup...| 313.9823074585136|            a|       household|               13572| 24429.86601232178|\n",
       "| 75454398468|Tempus Non Lacini...|tent and awning s...|1348.5237207080631|            b|       household|                4535| 24233.77691296547|\n",
       "| 42355028515|             Eu Inc.|lawn and garden s...| 159.5670009993322|            a|       household|               26180|23716.968127084725|\n",
       "| 68559320474|Aliquam Auctor As...|antique shops - s...|215.75758025084923|            b|       household|               26835| 23264.31324197747|\n",
       "| 76314317957|        Semper Corp.|florists supplies...|149.12603966017076|            a|       household|               25243| 22945.30298879547|\n",
       "| 31334588839|Lacus Aliquam Cor...|antique shops - s...| 6375.460721650075|            b|       household|                1187| 22803.46392431061|\n",
       "| 21772962346|Purus Gravida Sag...|florists supplies...| 151.8876513060194|            a|       household|               25757|22372.164329238916|\n",
       "| 57757792876|      Pretium Et LLC|stationery, offic...| 622.8599192672041|            a|       household|                7782|22327.863672401327|\n",
       "+------------+--------------------+--------------------+------------------+-------------+----------------+--------------------+------------------+\n",
       "only showing top 20 rows"
      ]
     },
     "execution_count": 15,
     "metadata": {},
     "output_type": "execute_result"
    }
   ],
   "source": [
    "household_rank = ranking.filter(F.col(\"business_segment\")==\"household\").orderBy(F.col(\"true_revenue\").desc())\n",
    "household_rank.write.mode(\"overwrite\").parquet(\"../data/curated/rank/household_rank/\")\n",
    "household_rank"
   ]
  },
  {
   "cell_type": "code",
   "execution_count": 17,
   "id": "cathedral-contribution",
   "metadata": {},
   "outputs": [
    {
     "data": {
      "text/html": [
       "<table border='1'>\n",
       "<tr><th>merchant_abn</th><th>name</th><th>business_area</th><th>avg_total_value</th><th>revenue_level</th><th>business_segment</th><th>expected_transaction</th><th>true_revenue</th></tr>\n",
       "<tr><td>32361057556</td><td>Orci In Consequat...</td><td>gift, card, novel...</td><td>109.98738471647025</td><td>a</td><td>recreation</td><td>65016</td><td>43766.742919312244</td></tr>\n",
       "<tr><td>45629217853</td><td>Lacus Consulting</td><td>gift, card, novel...</td><td>36.86309255250773</td><td>a</td><td>recreation</td><td>173438</td><td>42207.57778690396</td></tr>\n",
       "<tr><td>64403598239</td><td>Lobortis Ultrices...</td><td>music shops - mus...</td><td>78.11269321474416</td><td>a</td><td>recreation</td><td>85967</td><td>38210.088844639424</td></tr>\n",
       "<tr><td>67978471888</td><td>Magna Malesuada C...</td><td>artist supply and...</td><td>648.8876206534682</td><td>a</td><td>recreation</td><td>9454</td><td>36923.284896821715</td></tr>\n",
       "<tr><td>94493496784</td><td>Dictum Phasellus ...</td><td>gift, card, novel...</td><td>91.89829533112882</td><td>a</td><td>recreation</td><td>75281</td><td>36284.53364046986</td></tr>\n",
       "<tr><td>40515428545</td><td>Elit Sed Consequa...</td><td>artist supply and...</td><td>596.5734154604642</td><td>a</td><td>recreation</td><td>9881</td><td>34353.536434727845</td></tr>\n",
       "<tr><td>63123845164</td><td>Odio Phasellus In...</td><td>artist supply and...</td><td>751.2370990170103</td><td>a</td><td>recreation</td><td>8641</td><td>33735.956793983576</td></tr>\n",
       "<tr><td>79417999332</td><td>Phasellus At Company</td><td>gift, card, novel...</td><td>91.9414464701124</td><td>b</td><td>recreation</td><td>75447</td><td>33074.7818877211</td></tr>\n",
       "<tr><td>72472909171</td><td>Nullam Consulting</td><td>digital goods: bo...</td><td>70.31518680234745</td><td>a</td><td>recreation</td><td>77204</td><td>32167.069700367047</td></tr>\n",
       "<tr><td>27326652377</td><td>Tellus Aenean Cor...</td><td>music shops - mus...</td><td>1009.5896252964578</td><td>a</td><td>recreation</td><td>4910</td><td>30423.656221079513</td></tr>\n",
       "<tr><td>98166254020</td><td>Magna Sed Industries</td><td>art dealers and g...</td><td>1835.1681767218379</td><td>a</td><td>recreation</td><td>2848</td><td>30376.9233803212</td></tr>\n",
       "<tr><td>49505931725</td><td>Suspendisse Ac As...</td><td>digital goods: bo...</td><td>105.11997695556511</td><td>b</td><td>recreation</td><td>51645</td><td>26196.33315898986</td></tr>\n",
       "<tr><td>60956456424</td><td>Ultricies Digniss...</td><td>gift, card, novel...</td><td>88.49296523287764</td><td>b</td><td>recreation</td><td>68932</td><td>25988.624326330504</td></tr>\n",
       "<tr><td>98973094975</td><td>Ornare Fusce Inc.</td><td>hobby, toy and ga...</td><td>124.87079445782645</td><td>a</td><td>recreation</td><td>41442</td><td>23977.497421051256</td></tr>\n",
       "<tr><td>34179569263</td><td>Sodales At LLC</td><td>music shops - mus...</td><td>338.72046803264186</td><td>b</td><td>recreation</td><td>17525</td><td>23895.34831081303</td></tr>\n",
       "<tr><td>63290521567</td><td>Vehicula Pellente...</td><td>artist supply and...</td><td>24.21392587994324</td><td>a</td><td>recreation</td><td>138200</td><td>19687.675596333833</td></tr>\n",
       "<tr><td>99291944648</td><td>Rutrum Magna Cras...</td><td>books, periodical...</td><td>485.21527236682425</td><td>b</td><td>recreation</td><td>11698</td><td>18794.84803461674</td></tr>\n",
       "<tr><td>35223308778</td><td>Euismod In Corp.</td><td>books, periodical...</td><td>162.87838509638445</td><td>b</td><td>recreation</td><td>34047</td><td>18443.290924862984</td></tr>\n",
       "<tr><td>81219314324</td><td>Faucibus Leo Ltd</td><td>gift, card, novel...</td><td>88.67077723954773</td><td>a</td><td>recreation</td><td>37965</td><td>17204.22468096537</td></tr>\n",
       "<tr><td>98072939449</td><td>Mattis Velit Just...</td><td>artist supply and...</td><td>600.6672725562614</td><td>a</td><td>recreation</td><td>4405</td><td>17000.225876967696</td></tr>\n",
       "</table>\n",
       "only showing top 20 rows\n"
      ],
      "text/plain": [
       "+------------+--------------------+--------------------+------------------+-------------+----------------+--------------------+------------------+\n",
       "|merchant_abn|                name|       business_area|   avg_total_value|revenue_level|business_segment|expected_transaction|      true_revenue|\n",
       "+------------+--------------------+--------------------+------------------+-------------+----------------+--------------------+------------------+\n",
       "| 32361057556|Orci In Consequat...|gift, card, novel...|109.98738471647025|            a|      recreation|               65016|43766.742919312244|\n",
       "| 45629217853|    Lacus Consulting|gift, card, novel...| 36.86309255250773|            a|      recreation|              173438| 42207.57778690396|\n",
       "| 64403598239|Lobortis Ultrices...|music shops - mus...| 78.11269321474416|            a|      recreation|               85967|38210.088844639424|\n",
       "| 67978471888|Magna Malesuada C...|artist supply and...| 648.8876206534682|            a|      recreation|                9454|36923.284896821715|\n",
       "| 94493496784|Dictum Phasellus ...|gift, card, novel...| 91.89829533112882|            a|      recreation|               75281| 36284.53364046986|\n",
       "| 40515428545|Elit Sed Consequa...|artist supply and...| 596.5734154604642|            a|      recreation|                9881|34353.536434727845|\n",
       "| 63123845164|Odio Phasellus In...|artist supply and...| 751.2370990170103|            a|      recreation|                8641|33735.956793983576|\n",
       "| 79417999332|Phasellus At Company|gift, card, novel...|  91.9414464701124|            b|      recreation|               75447|  33074.7818877211|\n",
       "| 72472909171|   Nullam Consulting|digital goods: bo...| 70.31518680234745|            a|      recreation|               77204|32167.069700367047|\n",
       "| 27326652377|Tellus Aenean Cor...|music shops - mus...|1009.5896252964578|            a|      recreation|                4910|30423.656221079513|\n",
       "| 98166254020|Magna Sed Industries|art dealers and g...|1835.1681767218379|            a|      recreation|                2848|  30376.9233803212|\n",
       "| 49505931725|Suspendisse Ac As...|digital goods: bo...|105.11997695556511|            b|      recreation|               51645| 26196.33315898986|\n",
       "| 60956456424|Ultricies Digniss...|gift, card, novel...| 88.49296523287764|            b|      recreation|               68932|25988.624326330504|\n",
       "| 98973094975|   Ornare Fusce Inc.|hobby, toy and ga...|124.87079445782645|            a|      recreation|               41442|23977.497421051256|\n",
       "| 34179569263|      Sodales At LLC|music shops - mus...|338.72046803264186|            b|      recreation|               17525| 23895.34831081303|\n",
       "| 63290521567|Vehicula Pellente...|artist supply and...| 24.21392587994324|            a|      recreation|              138200|19687.675596333833|\n",
       "| 99291944648|Rutrum Magna Cras...|books, periodical...|485.21527236682425|            b|      recreation|               11698| 18794.84803461674|\n",
       "| 35223308778|    Euismod In Corp.|books, periodical...|162.87838509638445|            b|      recreation|               34047|18443.290924862984|\n",
       "| 81219314324|    Faucibus Leo Ltd|gift, card, novel...| 88.67077723954773|            a|      recreation|               37965| 17204.22468096537|\n",
       "| 98072939449|Mattis Velit Just...|artist supply and...| 600.6672725562614|            a|      recreation|                4405|17000.225876967696|\n",
       "+------------+--------------------+--------------------+------------------+-------------+----------------+--------------------+------------------+\n",
       "only showing top 20 rows"
      ]
     },
     "execution_count": 17,
     "metadata": {},
     "output_type": "execute_result"
    }
   ],
   "source": [
    "recreation_rank = ranking.filter(F.col(\"business_segment\")==\"recreation\").orderBy(F.col(\"true_revenue\").desc())\n",
    "recreation_rank.write.mode(\"overwrite\").parquet(\"../data/curated/rank/recreation_rank/\")\n",
    "recreation_rank"
   ]
  },
  {
   "cell_type": "code",
   "execution_count": 18,
   "id": "concerned-damage",
   "metadata": {},
   "outputs": [
    {
     "data": {
      "text/html": [
       "<table border='1'>\n",
       "<tr><th>merchant_abn</th><th>name</th><th>business_area</th><th>avg_total_value</th><th>revenue_level</th><th>business_segment</th><th>expected_transaction</th><th>true_revenue</th></tr>\n",
       "<tr><td>21439773999</td><td>Mauris Non Institute</td><td>cable, satellite,...</td><td>78.14540729233093</td><td>a</td><td>electronics</td><td>91406</td><td>39120.00430848647</td></tr>\n",
       "<tr><td>35909341340</td><td>Arcu Sed Eu Incor...</td><td>computer programm...</td><td>250.7705228080561</td><td>b</td><td>electronics</td><td>26338</td><td>32279.682572125555</td></tr>\n",
       "<tr><td>45433476494</td><td>Adipiscing Elit F...</td><td>computers, comput...</td><td>450.93672527389566</td><td>a</td><td>electronics</td><td>12121</td><td>31161.95303567217</td></tr>\n",
       "<tr><td>82368304209</td><td>Nec Incorporated</td><td>telecom</td><td>1867.954943974729</td><td>a</td><td>electronics</td><td>3720</td><td>31146.11606194541</td></tr>\n",
       "<tr><td>94690988633</td><td>Eu Placerat LLC</td><td>computers, comput...</td><td>202.0520362068834</td><td>a</td><td>electronics</td><td>23614</td><td>27964.158872441658</td></tr>\n",
       "<tr><td>58454491168</td><td>Diam At Foundation</td><td>computer programm...</td><td>251.55068227498938</td><td>a</td><td>electronics</td><td>18454</td><td>24132.20391261745</td></tr>\n",
       "<tr><td>80518954462</td><td>Neque Sed Dictum ...</td><td>computers, comput...</td><td>300.97378136636956</td><td>b</td><td>electronics</td><td>22628</td><td>23198.08590220679</td></tr>\n",
       "<tr><td>34096466752</td><td>Nullam Enim Ltd</td><td>computers, comput...</td><td>500.5880908303476</td><td>b</td><td>electronics</td><td>14008</td><td>21165.01895563647</td></tr>\n",
       "<tr><td>67400260923</td><td>Eleifend PC</td><td>computer programm...</td><td>149.812854422409</td><td>a</td><td>electronics</td><td>25908</td><td>20027.85742375301</td></tr>\n",
       "<tr><td>77590625261</td><td>Sed Diam Foundation</td><td>computer programm...</td><td>301.96276795289305</td><td>b</td><td>electronics</td><td>17412</td><td>16560.265927804096</td></tr>\n",
       "<tr><td>77338620996</td><td>Fames Ac Turpis LLC</td><td>computers, comput...</td><td>497.8691432814945</td><td>b</td><td>electronics</td><td>9375</td><td>15590.196529962297</td></tr>\n",
       "<tr><td>93260930990</td><td>Pede Cras Vulputa...</td><td>telecom</td><td>3712.6939629799067</td><td>b</td><td>electronics</td><td>1756</td><td>15530.408534179403</td></tr>\n",
       "<tr><td>68216911708</td><td>Placerat Eget Ven...</td><td>computers, comput...</td><td>38.50067617118337</td><td>c</td><td>electronics</td><td>137216</td><td>14541.131043992726</td></tr>\n",
       "<tr><td>17488304283</td><td>Posuere Cubilia C...</td><td>cable, satellite,...</td><td>97.64223290738249</td><td>a</td><td>electronics</td><td>25767</td><td>13522.695598203047</td></tr>\n",
       "<tr><td>41271931352</td><td>Ac Sem Ut Company</td><td>computers, comput...</td><td>394.30890926719616</td><td>b</td><td>electronics</td><td>5997</td><td>10943.708972495708</td></tr>\n",
       "<tr><td>94455880010</td><td>Nunc Sit LLC</td><td>computer programm...</td><td>101.55932800013461</td><td>a</td><td>electronics</td><td>18326</td><td>10072.731444100593</td></tr>\n",
       "<tr><td>16288327194</td><td>A Neque LLC</td><td>computers, comput...</td><td>442.0326721196733</td><td>a</td><td>electronics</td><td>2812</td><td>9707.50022725831</td></tr>\n",
       "<tr><td>32946666313</td><td>Ligula Donec LLC</td><td>computers, comput...</td><td>604.3489478935734</td><td>a</td><td>electronics</td><td>1985</td><td>7389.338210141987</td></tr>\n",
       "<tr><td>78760357380</td><td>Nibh Aliquam Corp.</td><td>computers, comput...</td><td>298.94530211130694</td><td>c</td><td>electronics</td><td>15343</td><td>6839.39428520031</td></tr>\n",
       "<tr><td>29641342749</td><td>Et Associates</td><td>computer programm...</td><td>147.79046416436168</td><td>a</td><td>electronics</td><td>6763</td><td>6636.007772018341</td></tr>\n",
       "</table>\n",
       "only showing top 20 rows\n"
      ],
      "text/plain": [
       "+------------+--------------------+--------------------+------------------+-------------+----------------+--------------------+------------------+\n",
       "|merchant_abn|                name|       business_area|   avg_total_value|revenue_level|business_segment|expected_transaction|      true_revenue|\n",
       "+------------+--------------------+--------------------+------------------+-------------+----------------+--------------------+------------------+\n",
       "| 21439773999|Mauris Non Institute|cable, satellite,...| 78.14540729233093|            a|     electronics|               91406| 39120.00430848647|\n",
       "| 35909341340|Arcu Sed Eu Incor...|computer programm...| 250.7705228080561|            b|     electronics|               26338|32279.682572125555|\n",
       "| 45433476494|Adipiscing Elit F...|computers, comput...|450.93672527389566|            a|     electronics|               12121| 31161.95303567217|\n",
       "| 82368304209|    Nec Incorporated|             telecom| 1867.954943974729|            a|     electronics|                3720| 31146.11606194541|\n",
       "| 94690988633|     Eu Placerat LLC|computers, comput...| 202.0520362068834|            a|     electronics|               23614|27964.158872441658|\n",
       "| 58454491168|  Diam At Foundation|computer programm...|251.55068227498938|            a|     electronics|               18454| 24132.20391261745|\n",
       "| 80518954462|Neque Sed Dictum ...|computers, comput...|300.97378136636956|            b|     electronics|               22628| 23198.08590220679|\n",
       "| 34096466752|     Nullam Enim Ltd|computers, comput...| 500.5880908303476|            b|     electronics|               14008| 21165.01895563647|\n",
       "| 67400260923|         Eleifend PC|computer programm...|  149.812854422409|            a|     electronics|               25908| 20027.85742375301|\n",
       "| 77590625261| Sed Diam Foundation|computer programm...|301.96276795289305|            b|     electronics|               17412|16560.265927804096|\n",
       "| 77338620996| Fames Ac Turpis LLC|computers, comput...| 497.8691432814945|            b|     electronics|                9375|15590.196529962297|\n",
       "| 93260930990|Pede Cras Vulputa...|             telecom|3712.6939629799067|            b|     electronics|                1756|15530.408534179403|\n",
       "| 68216911708|Placerat Eget Ven...|computers, comput...| 38.50067617118337|            c|     electronics|              137216|14541.131043992726|\n",
       "| 17488304283|Posuere Cubilia C...|cable, satellite,...| 97.64223290738249|            a|     electronics|               25767|13522.695598203047|\n",
       "| 41271931352|   Ac Sem Ut Company|computers, comput...|394.30890926719616|            b|     electronics|                5997|10943.708972495708|\n",
       "| 94455880010|        Nunc Sit LLC|computer programm...|101.55932800013461|            a|     electronics|               18326|10072.731444100593|\n",
       "| 16288327194|         A Neque LLC|computers, comput...| 442.0326721196733|            a|     electronics|                2812|  9707.50022725831|\n",
       "| 32946666313|    Ligula Donec LLC|computers, comput...| 604.3489478935734|            a|     electronics|                1985| 7389.338210141987|\n",
       "| 78760357380|  Nibh Aliquam Corp.|computers, comput...|298.94530211130694|            c|     electronics|               15343|  6839.39428520031|\n",
       "| 29641342749|       Et Associates|computer programm...|147.79046416436168|            a|     electronics|                6763| 6636.007772018341|\n",
       "+------------+--------------------+--------------------+------------------+-------------+----------------+--------------------+------------------+\n",
       "only showing top 20 rows"
      ]
     },
     "execution_count": 18,
     "metadata": {},
     "output_type": "execute_result"
    }
   ],
   "source": [
    "electronic_rank = ranking.filter(F.col(\"business_segment\")==\"electronics\").orderBy(F.col(\"true_revenue\").desc())\n",
    "electronic_rank.write.mode(\"overwrite\").parquet(\"../data/curated/rank/electronic_rank/\")\n",
    "electronic_rank"
   ]
  },
  {
   "cell_type": "code",
   "execution_count": 19,
   "id": "chicken-boulder",
   "metadata": {},
   "outputs": [
    {
     "data": {
      "text/html": [
       "<table border='1'>\n",
       "<tr><th>merchant_abn</th><th>name</th><th>business_area</th><th>avg_total_value</th><th>revenue_level</th><th>business_segment</th><th>expected_transaction</th><th>true_revenue</th></tr>\n",
       "<tr><td>48534649627</td><td>Dignissim Maecena...</td><td>opticians, optica...</td><td>141.65798620362992</td><td>a</td><td>fashion</td><td>48309</td><td>37992.51900873453</td></tr>\n",
       "<tr><td>86578477987</td><td>Leo In Consulting</td><td>watch, clock, and...</td><td>34.98176268056113</td><td>a</td><td>fashion</td><td>173786</td><td>36308.45974929885</td></tr>\n",
       "<tr><td>49322182190</td><td>Gravida Mauris In...</td><td>watch, clock, and...</td><td>151.2973045284807</td><td>a</td><td>fashion</td><td>33009</td><td>28798.587560997054</td></tr>\n",
       "<tr><td>19492220327</td><td>Commodo Ipsum Ind...</td><td>jewelry, watch, c...</td><td>9997.797797783242</td><td>b</td><td>fashion</td><td>649</td><td>20767.51858832556</td></tr>\n",
       "<tr><td>11439466003</td><td>Blandit At LLC</td><td>shoe shops</td><td>163.07968880593438</td><td>a</td><td>fashion</td><td>22619</td><td>20088.496428337545</td></tr>\n",
       "<tr><td>93558142492</td><td>Dolor Quisque Inc.</td><td>shoe shops</td><td>405.6866231203035</td><td>b</td><td>fashion</td><td>16544</td><td>18853.320486544595</td></tr>\n",
       "<tr><td>95574756848</td><td>At Pede Inc.</td><td>opticians, optica...</td><td>357.41601111620497</td><td>a</td><td>fashion</td><td>8266</td><td>17358.93264217874</td></tr>\n",
       "<tr><td>99976658299</td><td>Sociosqu Corp.</td><td>shoe shops</td><td>149.92402158371087</td><td>a</td><td>fashion</td><td>17440</td><td>16660.979479032503</td></tr>\n",
       "<tr><td>46804135891</td><td>Suspendisse Dui C...</td><td>opticians, optica...</td><td>29.98490952653827</td><td>c</td><td>fashion</td><td>170658</td><td>13434.684057044793</td></tr>\n",
       "<tr><td>81761494572</td><td>Nulla Facilisis I...</td><td>watch, clock, and...</td><td>115.0319859686225</td><td>a</td><td>fashion</td><td>16826</td><td>13369.956102551712</td></tr>\n",
       "<tr><td>62224020443</td><td>Hendrerit A Corpo...</td><td>watch, clock, and...</td><td>173.75316527625245</td><td>a</td><td>fashion</td><td>12503</td><td>13340.797223198806</td></tr>\n",
       "<tr><td>23338656015</td><td>Iaculis LLC</td><td>watch, clock, and...</td><td>144.68801990705396</td><td>b</td><td>fashion</td><td>25218</td><td>10456.723435613469</td></tr>\n",
       "<tr><td>90918180829</td><td>Pharetra Quisque ...</td><td>jewelry, watch, c...</td><td>10338.988528554226</td><td>c</td><td>fashion</td><td>447</td><td>7970.167195300473</td></tr>\n",
       "<tr><td>92065881715</td><td>Quam Elementum Corp.</td><td>opticians, optica...</td><td>355.95421177347066</td><td>b</td><td>fashion</td><td>6123</td><td>7948.079927911718</td></tr>\n",
       "<tr><td>29616684420</td><td>Tellus Id LLC</td><td>watch, clock, and...</td><td>86.35968395091058</td><td>b</td><td>fashion</td><td>28313</td><td>7799.811131021745</td></tr>\n",
       "<tr><td>66842618444</td><td>Ultrices Inc.</td><td>shoe shops</td><td>245.52236416909562</td><td>a</td><td>fashion</td><td>3980</td><td>7414.447508293251</td></tr>\n",
       "<tr><td>85362139954</td><td>In Consequat Asso...</td><td>shoe shops</td><td>421.9714969449804</td><td>a</td><td>fashion</td><td>2609</td><td>7357.2811810034445</td></tr>\n",
       "<tr><td>60836029312</td><td>Montes Nascetur I...</td><td>opticians, optica...</td><td>356.82915118269614</td><td>a</td><td>fashion</td><td>2907</td><td>7074.48916864975</td></tr>\n",
       "<tr><td>71528203369</td><td>Ipsum Primis Asso...</td><td>watch, clock, and...</td><td>57.89606030187235</td><td>a</td><td>fashion</td><td>20511</td><td>6364.324320052112</td></tr>\n",
       "<tr><td>52535771754</td><td>Vel Pede Blandit ...</td><td>opticians, optica...</td><td>284.96109978141163</td><td>a</td><td>fashion</td><td>3074</td><td>6260.397303032572</td></tr>\n",
       "</table>\n",
       "only showing top 20 rows\n"
      ],
      "text/plain": [
       "+------------+--------------------+--------------------+------------------+-------------+----------------+--------------------+------------------+\n",
       "|merchant_abn|                name|       business_area|   avg_total_value|revenue_level|business_segment|expected_transaction|      true_revenue|\n",
       "+------------+--------------------+--------------------+------------------+-------------+----------------+--------------------+------------------+\n",
       "| 48534649627|Dignissim Maecena...|opticians, optica...|141.65798620362992|            a|         fashion|               48309| 37992.51900873453|\n",
       "| 86578477987|   Leo In Consulting|watch, clock, and...| 34.98176268056113|            a|         fashion|              173786| 36308.45974929885|\n",
       "| 49322182190|Gravida Mauris In...|watch, clock, and...| 151.2973045284807|            a|         fashion|               33009|28798.587560997054|\n",
       "| 19492220327|Commodo Ipsum Ind...|jewelry, watch, c...| 9997.797797783242|            b|         fashion|                 649| 20767.51858832556|\n",
       "| 11439466003|      Blandit At LLC|          shoe shops|163.07968880593438|            a|         fashion|               22619|20088.496428337545|\n",
       "| 93558142492|  Dolor Quisque Inc.|          shoe shops| 405.6866231203035|            b|         fashion|               16544|18853.320486544595|\n",
       "| 95574756848|        At Pede Inc.|opticians, optica...|357.41601111620497|            a|         fashion|                8266| 17358.93264217874|\n",
       "| 99976658299|      Sociosqu Corp.|          shoe shops|149.92402158371087|            a|         fashion|               17440|16660.979479032503|\n",
       "| 46804135891|Suspendisse Dui C...|opticians, optica...| 29.98490952653827|            c|         fashion|              170658|13434.684057044793|\n",
       "| 81761494572|Nulla Facilisis I...|watch, clock, and...| 115.0319859686225|            a|         fashion|               16826|13369.956102551712|\n",
       "| 62224020443|Hendrerit A Corpo...|watch, clock, and...|173.75316527625245|            a|         fashion|               12503|13340.797223198806|\n",
       "| 23338656015|         Iaculis LLC|watch, clock, and...|144.68801990705396|            b|         fashion|               25218|10456.723435613469|\n",
       "| 90918180829|Pharetra Quisque ...|jewelry, watch, c...|10338.988528554226|            c|         fashion|                 447| 7970.167195300473|\n",
       "| 92065881715|Quam Elementum Corp.|opticians, optica...|355.95421177347066|            b|         fashion|                6123| 7948.079927911718|\n",
       "| 29616684420|       Tellus Id LLC|watch, clock, and...| 86.35968395091058|            b|         fashion|               28313| 7799.811131021745|\n",
       "| 66842618444|       Ultrices Inc.|          shoe shops|245.52236416909562|            a|         fashion|                3980| 7414.447508293251|\n",
       "| 85362139954|In Consequat Asso...|          shoe shops| 421.9714969449804|            a|         fashion|                2609|7357.2811810034445|\n",
       "| 60836029312|Montes Nascetur I...|opticians, optica...|356.82915118269614|            a|         fashion|                2907|  7074.48916864975|\n",
       "| 71528203369|Ipsum Primis Asso...|watch, clock, and...| 57.89606030187235|            a|         fashion|               20511| 6364.324320052112|\n",
       "| 52535771754|Vel Pede Blandit ...|opticians, optica...|284.96109978141163|            a|         fashion|                3074| 6260.397303032572|\n",
       "+------------+--------------------+--------------------+------------------+-------------+----------------+--------------------+------------------+\n",
       "only showing top 20 rows"
      ]
     },
     "execution_count": 19,
     "metadata": {},
     "output_type": "execute_result"
    }
   ],
   "source": [
    "fashion_rank = ranking.filter(F.col(\"business_segment\")==\"fashion\").orderBy(F.col(\"true_revenue\").desc())\n",
    "fashion_rank.write.mode(\"overwrite\").parquet(\"../data/curated/rank/fashion_rank/\")\n",
    "fashion_rank"
   ]
  },
  {
   "cell_type": "markdown",
   "id": "bronze-lighter",
   "metadata": {},
   "source": [
    "Top 100 merchants"
   ]
  },
  {
   "cell_type": "code",
   "execution_count": 27,
   "id": "given-mongolia",
   "metadata": {},
   "outputs": [
    {
     "data": {
      "text/html": [
       "<table border='1'>\n",
       "<tr><th>merchant_abn</th><th>name</th><th>business_area</th><th>avg_total_value</th><th>revenue_level</th><th>business_segment</th><th>expected_transaction</th><th>true_revenue</th></tr>\n",
       "<tr><td>32361057556</td><td>Orci In Consequat...</td><td>gift, card, novel...</td><td>109.98738471647025</td><td>a</td><td>recreation</td><td>65016</td><td>43766.742919312244</td></tr>\n",
       "<tr><td>45629217853</td><td>Lacus Consulting</td><td>gift, card, novel...</td><td>36.86309255250773</td><td>a</td><td>recreation</td><td>173438</td><td>42207.57778690396</td></tr>\n",
       "<tr><td>96680767841</td><td>Ornare Limited</td><td>motor vehicle sup...</td><td>315.06861309524027</td><td>a</td><td>household</td><td>23763</td><td>39728.91708258423</td></tr>\n",
       "<tr><td>21439773999</td><td>Mauris Non Institute</td><td>cable, satellite,...</td><td>78.14540729233093</td><td>a</td><td>electronics</td><td>91406</td><td>39120.00430848647</td></tr>\n",
       "<tr><td>89726005175</td><td>Est Nunc Consulting</td><td>tent and awning s...</td><td>41.23187459923756</td><td>a</td><td>household</td><td>163743</td><td>38512.82005309113</td></tr>\n",
       "<tr><td>64403598239</td><td>Lobortis Ultrices...</td><td>music shops - mus...</td><td>78.11269321474416</td><td>a</td><td>recreation</td><td>85967</td><td>38210.088844639424</td></tr>\n",
       "<tr><td>48534649627</td><td>Dignissim Maecena...</td><td>opticians, optica...</td><td>141.65798620362992</td><td>a</td><td>fashion</td><td>48309</td><td>37992.51900873453</td></tr>\n",
       "<tr><td>67978471888</td><td>Magna Malesuada C...</td><td>artist supply and...</td><td>648.8876206534682</td><td>a</td><td>recreation</td><td>9454</td><td>36923.284896821715</td></tr>\n",
       "<tr><td>38700038932</td><td>Etiam Bibendum In...</td><td>tent and awning s...</td><td>1336.2436316547887</td><td>a</td><td>household</td><td>5411</td><td>36430.26875071515</td></tr>\n",
       "<tr><td>86578477987</td><td>Leo In Consulting</td><td>watch, clock, and...</td><td>34.98176268056113</td><td>a</td><td>fashion</td><td>173786</td><td>36308.45974929885</td></tr>\n",
       "<tr><td>94493496784</td><td>Dictum Phasellus ...</td><td>gift, card, novel...</td><td>91.89829533112882</td><td>a</td><td>recreation</td><td>75281</td><td>36284.53364046986</td></tr>\n",
       "<tr><td>40515428545</td><td>Elit Sed Consequa...</td><td>artist supply and...</td><td>596.5734154604642</td><td>a</td><td>recreation</td><td>9881</td><td>34353.536434727845</td></tr>\n",
       "<tr><td>63123845164</td><td>Odio Phasellus In...</td><td>artist supply and...</td><td>751.2370990170103</td><td>a</td><td>recreation</td><td>8641</td><td>33735.956793983576</td></tr>\n",
       "<tr><td>79417999332</td><td>Phasellus At Company</td><td>gift, card, novel...</td><td>91.9414464701124</td><td>b</td><td>recreation</td><td>75447</td><td>33074.7818877211</td></tr>\n",
       "<tr><td>35909341340</td><td>Arcu Sed Eu Incor...</td><td>computer programm...</td><td>250.7705228080561</td><td>b</td><td>electronics</td><td>26338</td><td>32279.682572125555</td></tr>\n",
       "<tr><td>72472909171</td><td>Nullam Consulting</td><td>digital goods: bo...</td><td>70.31518680234745</td><td>a</td><td>recreation</td><td>77204</td><td>32167.069700367047</td></tr>\n",
       "<tr><td>80551528183</td><td>Ac Ipsum LLC</td><td>tent and awning s...</td><td>1125.4718484638406</td><td>b</td><td>household</td><td>5919</td><td>31630.093244327345</td></tr>\n",
       "<tr><td>45433476494</td><td>Adipiscing Elit F...</td><td>computers, comput...</td><td>450.93672527389566</td><td>a</td><td>electronics</td><td>12121</td><td>31161.95303567217</td></tr>\n",
       "<tr><td>82368304209</td><td>Nec Incorporated</td><td>telecom</td><td>1867.954943974729</td><td>a</td><td>electronics</td><td>3720</td><td>31146.11606194541</td></tr>\n",
       "<tr><td>76767266140</td><td>Phasellus At Limited</td><td>furniture, home f...</td><td>214.48522155694192</td><td>b</td><td>household</td><td>31572</td><td>30628.084659145745</td></tr>\n",
       "</table>\n",
       "only showing top 20 rows\n"
      ],
      "text/plain": [
       "+------------+--------------------+--------------------+------------------+-------------+----------------+--------------------+------------------+\n",
       "|merchant_abn|                name|       business_area|   avg_total_value|revenue_level|business_segment|expected_transaction|      true_revenue|\n",
       "+------------+--------------------+--------------------+------------------+-------------+----------------+--------------------+------------------+\n",
       "| 32361057556|Orci In Consequat...|gift, card, novel...|109.98738471647025|            a|      recreation|               65016|43766.742919312244|\n",
       "| 45629217853|    Lacus Consulting|gift, card, novel...| 36.86309255250773|            a|      recreation|              173438| 42207.57778690396|\n",
       "| 96680767841|      Ornare Limited|motor vehicle sup...|315.06861309524027|            a|       household|               23763| 39728.91708258423|\n",
       "| 21439773999|Mauris Non Institute|cable, satellite,...| 78.14540729233093|            a|     electronics|               91406| 39120.00430848647|\n",
       "| 89726005175| Est Nunc Consulting|tent and awning s...| 41.23187459923756|            a|       household|              163743| 38512.82005309113|\n",
       "| 64403598239|Lobortis Ultrices...|music shops - mus...| 78.11269321474416|            a|      recreation|               85967|38210.088844639424|\n",
       "| 48534649627|Dignissim Maecena...|opticians, optica...|141.65798620362992|            a|         fashion|               48309| 37992.51900873453|\n",
       "| 67978471888|Magna Malesuada C...|artist supply and...| 648.8876206534682|            a|      recreation|                9454|36923.284896821715|\n",
       "| 38700038932|Etiam Bibendum In...|tent and awning s...|1336.2436316547887|            a|       household|                5411| 36430.26875071515|\n",
       "| 86578477987|   Leo In Consulting|watch, clock, and...| 34.98176268056113|            a|         fashion|              173786| 36308.45974929885|\n",
       "| 94493496784|Dictum Phasellus ...|gift, card, novel...| 91.89829533112882|            a|      recreation|               75281| 36284.53364046986|\n",
       "| 40515428545|Elit Sed Consequa...|artist supply and...| 596.5734154604642|            a|      recreation|                9881|34353.536434727845|\n",
       "| 63123845164|Odio Phasellus In...|artist supply and...| 751.2370990170103|            a|      recreation|                8641|33735.956793983576|\n",
       "| 79417999332|Phasellus At Company|gift, card, novel...|  91.9414464701124|            b|      recreation|               75447|  33074.7818877211|\n",
       "| 35909341340|Arcu Sed Eu Incor...|computer programm...| 250.7705228080561|            b|     electronics|               26338|32279.682572125555|\n",
       "| 72472909171|   Nullam Consulting|digital goods: bo...| 70.31518680234745|            a|      recreation|               77204|32167.069700367047|\n",
       "| 80551528183|        Ac Ipsum LLC|tent and awning s...|1125.4718484638406|            b|       household|                5919|31630.093244327345|\n",
       "| 45433476494|Adipiscing Elit F...|computers, comput...|450.93672527389566|            a|     electronics|               12121| 31161.95303567217|\n",
       "| 82368304209|    Nec Incorporated|             telecom| 1867.954943974729|            a|     electronics|                3720| 31146.11606194541|\n",
       "| 76767266140|Phasellus At Limited|furniture, home f...|214.48522155694192|            b|       household|               31572|30628.084659145745|\n",
       "+------------+--------------------+--------------------+------------------+-------------+----------------+--------------------+------------------+\n",
       "only showing top 20 rows"
      ]
     },
     "execution_count": 27,
     "metadata": {},
     "output_type": "execute_result"
    }
   ],
   "source": [
    "top100 = ranking.limit(100)\n",
    "top100"
   ]
  },
  {
   "cell_type": "code",
   "execution_count": 24,
   "id": "middle-czech",
   "metadata": {},
   "outputs": [],
   "source": [
    "top10fashion = fashion_rank.limit(10)\n",
    "top10electric = electronic_rank.limit(10)\n",
    "top10recreation = recreation_rank.limit(10)\n",
    "top10household = household_rank.limit(10)"
   ]
  },
  {
   "cell_type": "code",
   "execution_count": 25,
   "id": "sixth-seafood",
   "metadata": {},
   "outputs": [
    {
     "data": {
      "text/html": [
       "<table border='1'>\n",
       "<tr><th>merchant_abn</th><th>name</th><th>business_area</th><th>avg_total_value</th><th>revenue_level</th><th>business_segment</th><th>expected_transaction</th><th>true_revenue</th></tr>\n",
       "<tr><td>48534649627</td><td>Dignissim Maecena...</td><td>opticians, optica...</td><td>141.65798620362992</td><td>a</td><td>fashion</td><td>48309</td><td>37992.51900873453</td></tr>\n",
       "<tr><td>86578477987</td><td>Leo In Consulting</td><td>watch, clock, and...</td><td>34.98176268056113</td><td>a</td><td>fashion</td><td>173786</td><td>36308.45974929885</td></tr>\n",
       "<tr><td>49322182190</td><td>Gravida Mauris In...</td><td>watch, clock, and...</td><td>151.2973045284807</td><td>a</td><td>fashion</td><td>33009</td><td>28798.587560997054</td></tr>\n",
       "<tr><td>19492220327</td><td>Commodo Ipsum Ind...</td><td>jewelry, watch, c...</td><td>9997.797797783242</td><td>b</td><td>fashion</td><td>649</td><td>20767.51858832556</td></tr>\n",
       "<tr><td>11439466003</td><td>Blandit At LLC</td><td>shoe shops</td><td>163.07968880593438</td><td>a</td><td>fashion</td><td>22619</td><td>20088.496428337545</td></tr>\n",
       "<tr><td>93558142492</td><td>Dolor Quisque Inc.</td><td>shoe shops</td><td>405.6866231203035</td><td>b</td><td>fashion</td><td>16544</td><td>18853.320486544595</td></tr>\n",
       "<tr><td>95574756848</td><td>At Pede Inc.</td><td>opticians, optica...</td><td>357.41601111620497</td><td>a</td><td>fashion</td><td>8266</td><td>17358.93264217874</td></tr>\n",
       "<tr><td>99976658299</td><td>Sociosqu Corp.</td><td>shoe shops</td><td>149.92402158371087</td><td>a</td><td>fashion</td><td>17440</td><td>16660.979479032503</td></tr>\n",
       "<tr><td>46804135891</td><td>Suspendisse Dui C...</td><td>opticians, optica...</td><td>29.98490952653827</td><td>c</td><td>fashion</td><td>170658</td><td>13434.684057044793</td></tr>\n",
       "<tr><td>81761494572</td><td>Nulla Facilisis I...</td><td>watch, clock, and...</td><td>115.0319859686225</td><td>a</td><td>fashion</td><td>16826</td><td>13369.956102551712</td></tr>\n",
       "</table>\n"
      ],
      "text/plain": [
       "+------------+--------------------+--------------------+------------------+-------------+----------------+--------------------+------------------+\n",
       "|merchant_abn|                name|       business_area|   avg_total_value|revenue_level|business_segment|expected_transaction|      true_revenue|\n",
       "+------------+--------------------+--------------------+------------------+-------------+----------------+--------------------+------------------+\n",
       "| 48534649627|Dignissim Maecena...|opticians, optica...|141.65798620362992|            a|         fashion|               48309| 37992.51900873453|\n",
       "| 86578477987|   Leo In Consulting|watch, clock, and...| 34.98176268056113|            a|         fashion|              173786| 36308.45974929885|\n",
       "| 49322182190|Gravida Mauris In...|watch, clock, and...| 151.2973045284807|            a|         fashion|               33009|28798.587560997054|\n",
       "| 19492220327|Commodo Ipsum Ind...|jewelry, watch, c...| 9997.797797783242|            b|         fashion|                 649| 20767.51858832556|\n",
       "| 11439466003|      Blandit At LLC|          shoe shops|163.07968880593438|            a|         fashion|               22619|20088.496428337545|\n",
       "| 93558142492|  Dolor Quisque Inc.|          shoe shops| 405.6866231203035|            b|         fashion|               16544|18853.320486544595|\n",
       "| 95574756848|        At Pede Inc.|opticians, optica...|357.41601111620497|            a|         fashion|                8266| 17358.93264217874|\n",
       "| 99976658299|      Sociosqu Corp.|          shoe shops|149.92402158371087|            a|         fashion|               17440|16660.979479032503|\n",
       "| 46804135891|Suspendisse Dui C...|opticians, optica...| 29.98490952653827|            c|         fashion|              170658|13434.684057044793|\n",
       "| 81761494572|Nulla Facilisis I...|watch, clock, and...| 115.0319859686225|            a|         fashion|               16826|13369.956102551712|\n",
       "+------------+--------------------+--------------------+------------------+-------------+----------------+--------------------+------------------+"
      ]
     },
     "execution_count": 25,
     "metadata": {},
     "output_type": "execute_result"
    }
   ],
   "source": [
    "top10fashion"
   ]
  }
 ],
 "metadata": {
  "kernelspec": {
   "display_name": "Python 3",
   "language": "python",
   "name": "python3"
  },
  "language_info": {
   "codemirror_mode": {
    "name": "ipython",
    "version": 3
   },
   "file_extension": ".py",
   "mimetype": "text/x-python",
   "name": "python",
   "nbconvert_exporter": "python",
   "pygments_lexer": "ipython3",
   "version": "3.9.2"
  }
 },
 "nbformat": 4,
 "nbformat_minor": 5
}
