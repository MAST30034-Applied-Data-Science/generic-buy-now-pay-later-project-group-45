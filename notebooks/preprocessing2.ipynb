{
 "cells": [
  {
   "cell_type": "markdown",
   "metadata": {},
   "source": [
    "## Buy Now, Pay Later Project\n",
    "### MAST30034: Applied Data Science \n",
    "#### Notebook 2: Preprocessing Data 2: Missing Value and Outliers Detection"
   ]
  },
  {
   "cell_type": "code",
   "execution_count": 1,
   "metadata": {},
   "outputs": [
    {
     "name": "stdout",
     "output_type": "stream",
     "text": [
      "22/09/19 21:52:42 WARN Utils: Your hostname, DESKTOP-B34N4CC resolves to a loopback address: 127.0.1.1; using 172.31.227.197 instead (on interface eth0)\n",
      "22/09/19 21:52:42 WARN Utils: Set SPARK_LOCAL_IP if you need to bind to another address\n"
     ]
    },
    {
     "name": "stderr",
     "output_type": "stream",
     "text": [
      "Setting default log level to \"WARN\".\n",
      "To adjust logging level use sc.setLogLevel(newLevel). For SparkR, use setLogLevel(newLevel).\n"
     ]
    },
    {
     "name": "stdout",
     "output_type": "stream",
     "text": [
      "22/09/19 21:52:43 WARN NativeCodeLoader: Unable to load native-hadoop library for your platform... using builtin-java classes where applicable\n"
     ]
    }
   ],
   "source": [
    "# create modeling spark session\n",
    "from pyspark.sql import SparkSession\n",
    "import pandas as pd\n",
    "\n",
    "spark = (\n",
    "    SparkSession.builder.appName('Project 2 test')\n",
    "    .config('spark.sql.repl.eagerEval.enabled', True) \n",
    "    .config('spark.sql.parquet.cacheMetadata', 'true')\n",
    "    .config(\"spark.sql.session.timeZone\", \"Etc/UTC\")\n",
    "    .config(\"spark.executor.memory\", \"8g\")\n",
    "    .config(\"spark.driver.memory\", \"8g\")\n",
    "    .getOrCreate()\n",
    ")"
   ]
  },
  {
   "cell_type": "code",
   "execution_count": 2,
   "metadata": {},
   "outputs": [
    {
     "data": {
      "text/html": [
       "<table border='1'>\n",
       "<tr><th>postcode</th><th>user_id</th><th>order_datetime</th><th>merchant_abn</th><th>dollar_value</th><th>name</th><th>business_area</th><th>revenue_level</th><th>take_rate</th><th>consumer_id</th><th>state</th><th>gender</th><th>fraud_prob_cons</th><th>Median_age_persons</th><th>Median_mortgage_repay_monthly</th><th>Median_tot_prsnl_inc_weekly</th><th>Median_rent_weekly</th><th>Median_tot_fam_inc_weekly</th><th>Average_num_psns_per_bedroom</th><th>Median_tot_hhd_inc_weekly</th><th>Average_household_size</th></tr>\n",
       "<tr><td>2452</td><td>16</td><td>2021-08-21</td><td>28941011848</td><td>266.00793693171863</td><td>Commodo LLC</td><td>watch, clock, and...</td><td>b</td><td> 4.16</td><td>1356405</td><td>NSW</td><td>Male</td><td>0</td><td>45</td><td>1603</td><td>663</td><td>370</td><td>1582</td><td>0.8</td><td>1260</td><td>2.3</td></tr>\n",
       "<tr><td>2452</td><td>16</td><td>2021-08-19</td><td>46804135891</td><td>37.881652101776105</td><td>Suspendisse Dui C...</td><td>opticians, optica...</td><td>c</td><td> 2.93</td><td>1356405</td><td>NSW</td><td>Male</td><td>0</td><td>45</td><td>1603</td><td>663</td><td>370</td><td>1582</td><td>0.8</td><td>1260</td><td>2.3</td></tr>\n",
       "<tr><td>2452</td><td>16</td><td>2021-08-19</td><td>16644129035</td><td>12.22152435051203</td><td>Magna Associates</td><td>artist supply and...</td><td>b</td><td> 5.03</td><td>1356405</td><td>NSW</td><td>Male</td><td>0</td><td>45</td><td>1603</td><td>663</td><td>370</td><td>1582</td><td>0.8</td><td>1260</td><td>2.3</td></tr>\n",
       "<tr><td>2452</td><td>16</td><td>2021-08-22</td><td>89022158521</td><td>78.93378176581483</td><td>Sollicitudin Adip...</td><td>hobby, toy and ga...</td><td>b</td><td> 4.41</td><td>1356405</td><td>NSW</td><td>Male</td><td>0</td><td>45</td><td>1603</td><td>663</td><td>370</td><td>1582</td><td>0.8</td><td>1260</td><td>2.3</td></tr>\n",
       "<tr><td>2452</td><td>16</td><td>2021-08-14</td><td>72472909171</td><td>91.49090301073126</td><td>Nullam Consulting</td><td>digital goods: bo...</td><td>a</td><td> 6.33</td><td>1356405</td><td>NSW</td><td>Male</td><td>0</td><td>45</td><td>1603</td><td>663</td><td>370</td><td>1582</td><td>0.8</td><td>1260</td><td>2.3</td></tr>\n",
       "<tr><td>2452</td><td>16</td><td>2021-08-14</td><td>44915049915</td><td>332.87079445759895</td><td>Nulla Foundation</td><td>computer programm...</td><td>c</td><td> 2.45</td><td>1356405</td><td>NSW</td><td>Male</td><td>0</td><td>45</td><td>1603</td><td>663</td><td>370</td><td>1582</td><td>0.8</td><td>1260</td><td>2.3</td></tr>\n",
       "<tr><td>2452</td><td>16</td><td>2021-08-15</td><td>19054547079</td><td>15.454798263822655</td><td>Tincidunt Adipisc...</td><td>gift, card, novel...</td><td>a</td><td> 6.65</td><td>1356405</td><td>NSW</td><td>Male</td><td>0</td><td>45</td><td>1603</td><td>663</td><td>370</td><td>1582</td><td>0.8</td><td>1260</td><td>2.3</td></tr>\n",
       "<tr><td>2452</td><td>16</td><td>2021-07-15</td><td>51959118092</td><td>7.115268119210437</td><td>Elementum Lorem I...</td><td>lawn and garden s...</td><td>a</td><td> 6.84</td><td>1356405</td><td>NSW</td><td>Male</td><td>0</td><td>45</td><td>1603</td><td>663</td><td>370</td><td>1582</td><td>0.8</td><td>1260</td><td>2.3</td></tr>\n",
       "<tr><td>2452</td><td>16</td><td>2021-08-27</td><td>76314317957</td><td>8.588883564970448</td><td>Semper Corp.</td><td>florists supplies...</td><td>a</td><td> 5.93</td><td>1356405</td><td>NSW</td><td>Male</td><td>0</td><td>45</td><td>1603</td><td>663</td><td>370</td><td>1582</td><td>0.8</td><td>1260</td><td>2.3</td></tr>\n",
       "<tr><td>2452</td><td>16</td><td>2021-08-13</td><td>82298341051</td><td>251.12084678777003</td><td>Eros Institute</td><td>lawn and garden s...</td><td>b</td><td> 4.73</td><td>1356405</td><td>NSW</td><td>Male</td><td>0</td><td>45</td><td>1603</td><td>663</td><td>370</td><td>1582</td><td>0.8</td><td>1260</td><td>2.3</td></tr>\n",
       "<tr><td>2452</td><td>16</td><td>2021-07-23</td><td>94493496784</td><td>90.16566051874901</td><td>Dictum Phasellus ...</td><td>gift, card, novel...</td><td>a</td><td> 5.65</td><td>1356405</td><td>NSW</td><td>Male</td><td>0</td><td>45</td><td>1603</td><td>663</td><td>370</td><td>1582</td><td>0.8</td><td>1260</td><td>2.3</td></tr>\n",
       "<tr><td>2452</td><td>16</td><td>2021-07-23</td><td>20885454195</td><td>39.749614530483285</td><td>Pharetra Ut Indus...</td><td>cable, satellite,...</td><td>b</td><td> 4.94</td><td>1356405</td><td>NSW</td><td>Male</td><td>0</td><td>45</td><td>1603</td><td>663</td><td>370</td><td>1582</td><td>0.8</td><td>1260</td><td>2.3</td></tr>\n",
       "<tr><td>2452</td><td>16</td><td>2021-07-23</td><td>15560455575</td><td>38.96753284736088</td><td>Morbi Accumsan La...</td><td>digital goods: bo...</td><td>b</td><td> 4.08</td><td>1356405</td><td>NSW</td><td>Male</td><td>0</td><td>45</td><td>1603</td><td>663</td><td>370</td><td>1582</td><td>0.8</td><td>1260</td><td>2.3</td></tr>\n",
       "<tr><td>2452</td><td>16</td><td>2021-07-23</td><td>40307304965</td><td>46.97194595886435</td><td>Interdum Ltd</td><td>gift, card, novel...</td><td>a</td><td> 6.91</td><td>1356405</td><td>NSW</td><td>Male</td><td>0</td><td>45</td><td>1603</td><td>663</td><td>370</td><td>1582</td><td>0.8</td><td>1260</td><td>2.3</td></tr>\n",
       "<tr><td>2452</td><td>16</td><td>2021-05-21</td><td>21094505909</td><td>379.85343873438035</td><td>Venenatis Corp.</td><td>furniture, home f...</td><td>a</td><td> 6.38</td><td>1356405</td><td>NSW</td><td>Male</td><td>0</td><td>45</td><td>1603</td><td>663</td><td>370</td><td>1582</td><td>0.8</td><td>1260</td><td>2.3</td></tr>\n",
       "<tr><td>2452</td><td>16</td><td>2021-05-21</td><td>53123395285</td><td>14.216528402499584</td><td>Nisl Arcu Limited</td><td>opticians, optica...</td><td>c</td><td> 1.86</td><td>1356405</td><td>NSW</td><td>Male</td><td>0</td><td>45</td><td>1603</td><td>663</td><td>370</td><td>1582</td><td>0.8</td><td>1260</td><td>2.3</td></tr>\n",
       "<tr><td>2452</td><td>16</td><td>2021-07-30</td><td>15269431008</td><td>138.86262214461505</td><td>Nisi Limited</td><td>gift, card, novel...</td><td>a</td><td> 6.48</td><td>1356405</td><td>NSW</td><td>Male</td><td>0</td><td>45</td><td>1603</td><td>663</td><td>370</td><td>1582</td><td>0.8</td><td>1260</td><td>2.3</td></tr>\n",
       "<tr><td>2452</td><td>16</td><td>2021-06-30</td><td>11566786699</td><td>125.65067714162808</td><td>Euismod Et Institute</td><td>opticians, optica...</td><td>c</td><td> 2.62</td><td>1356405</td><td>NSW</td><td>Male</td><td>0</td><td>45</td><td>1603</td><td>663</td><td>370</td><td>1582</td><td>0.8</td><td>1260</td><td>2.3</td></tr>\n",
       "<tr><td>2452</td><td>16</td><td>2021-06-30</td><td>14492521225</td><td>28.922275236881678</td><td>Praesent Eu Assoc...</td><td>tent and awning s...</td><td>c</td><td> 2.50</td><td>1356405</td><td>NSW</td><td>Male</td><td>0</td><td>45</td><td>1603</td><td>663</td><td>370</td><td>1582</td><td>0.8</td><td>1260</td><td>2.3</td></tr>\n",
       "<tr><td>2452</td><td>16</td><td>2021-08-06</td><td>57824995706</td><td>2.282231912478241</td><td>Nulla LLP</td><td>tent and awning s...</td><td>b</td><td> 4.04</td><td>1356405</td><td>NSW</td><td>Male</td><td>0</td><td>45</td><td>1603</td><td>663</td><td>370</td><td>1582</td><td>0.8</td><td>1260</td><td>2.3</td></tr>\n",
       "</table>\n",
       "only showing top 20 rows\n"
      ],
      "text/plain": [
       "+--------+-------+--------------+------------+------------------+--------------------+--------------------+-------------+---------+-----------+-----+------+---------------+------------------+-----------------------------+---------------------------+------------------+-------------------------+----------------------------+-------------------------+----------------------+\n",
       "|postcode|user_id|order_datetime|merchant_abn|      dollar_value|                name|       business_area|revenue_level|take_rate|consumer_id|state|gender|fraud_prob_cons|Median_age_persons|Median_mortgage_repay_monthly|Median_tot_prsnl_inc_weekly|Median_rent_weekly|Median_tot_fam_inc_weekly|Average_num_psns_per_bedroom|Median_tot_hhd_inc_weekly|Average_household_size|\n",
       "+--------+-------+--------------+------------+------------------+--------------------+--------------------+-------------+---------+-----------+-----+------+---------------+------------------+-----------------------------+---------------------------+------------------+-------------------------+----------------------------+-------------------------+----------------------+\n",
       "|    2452|     16|    2021-08-21| 28941011848|266.00793693171863|         Commodo LLC|watch, clock, and...|            b|     4.16|    1356405|  NSW|  Male|              0|                45|                         1603|                        663|               370|                     1582|                         0.8|                     1260|                   2.3|\n",
       "|    2452|     16|    2021-08-19| 46804135891|37.881652101776105|Suspendisse Dui C...|opticians, optica...|            c|     2.93|    1356405|  NSW|  Male|              0|                45|                         1603|                        663|               370|                     1582|                         0.8|                     1260|                   2.3|\n",
       "|    2452|     16|    2021-08-19| 16644129035| 12.22152435051203|    Magna Associates|artist supply and...|            b|     5.03|    1356405|  NSW|  Male|              0|                45|                         1603|                        663|               370|                     1582|                         0.8|                     1260|                   2.3|\n",
       "|    2452|     16|    2021-08-22| 89022158521| 78.93378176581483|Sollicitudin Adip...|hobby, toy and ga...|            b|     4.41|    1356405|  NSW|  Male|              0|                45|                         1603|                        663|               370|                     1582|                         0.8|                     1260|                   2.3|\n",
       "|    2452|     16|    2021-08-14| 72472909171| 91.49090301073126|   Nullam Consulting|digital goods: bo...|            a|     6.33|    1356405|  NSW|  Male|              0|                45|                         1603|                        663|               370|                     1582|                         0.8|                     1260|                   2.3|\n",
       "|    2452|     16|    2021-08-14| 44915049915|332.87079445759895|    Nulla Foundation|computer programm...|            c|     2.45|    1356405|  NSW|  Male|              0|                45|                         1603|                        663|               370|                     1582|                         0.8|                     1260|                   2.3|\n",
       "|    2452|     16|    2021-08-15| 19054547079|15.454798263822655|Tincidunt Adipisc...|gift, card, novel...|            a|     6.65|    1356405|  NSW|  Male|              0|                45|                         1603|                        663|               370|                     1582|                         0.8|                     1260|                   2.3|\n",
       "|    2452|     16|    2021-07-15| 51959118092| 7.115268119210437|Elementum Lorem I...|lawn and garden s...|            a|     6.84|    1356405|  NSW|  Male|              0|                45|                         1603|                        663|               370|                     1582|                         0.8|                     1260|                   2.3|\n",
       "|    2452|     16|    2021-08-27| 76314317957| 8.588883564970448|        Semper Corp.|florists supplies...|            a|     5.93|    1356405|  NSW|  Male|              0|                45|                         1603|                        663|               370|                     1582|                         0.8|                     1260|                   2.3|\n",
       "|    2452|     16|    2021-08-13| 82298341051|251.12084678777003|      Eros Institute|lawn and garden s...|            b|     4.73|    1356405|  NSW|  Male|              0|                45|                         1603|                        663|               370|                     1582|                         0.8|                     1260|                   2.3|\n",
       "|    2452|     16|    2021-07-23| 94493496784| 90.16566051874901|Dictum Phasellus ...|gift, card, novel...|            a|     5.65|    1356405|  NSW|  Male|              0|                45|                         1603|                        663|               370|                     1582|                         0.8|                     1260|                   2.3|\n",
       "|    2452|     16|    2021-07-23| 20885454195|39.749614530483285|Pharetra Ut Indus...|cable, satellite,...|            b|     4.94|    1356405|  NSW|  Male|              0|                45|                         1603|                        663|               370|                     1582|                         0.8|                     1260|                   2.3|\n",
       "|    2452|     16|    2021-07-23| 15560455575| 38.96753284736088|Morbi Accumsan La...|digital goods: bo...|            b|     4.08|    1356405|  NSW|  Male|              0|                45|                         1603|                        663|               370|                     1582|                         0.8|                     1260|                   2.3|\n",
       "|    2452|     16|    2021-07-23| 40307304965| 46.97194595886435|        Interdum Ltd|gift, card, novel...|            a|     6.91|    1356405|  NSW|  Male|              0|                45|                         1603|                        663|               370|                     1582|                         0.8|                     1260|                   2.3|\n",
       "|    2452|     16|    2021-05-21| 21094505909|379.85343873438035|     Venenatis Corp.|furniture, home f...|            a|     6.38|    1356405|  NSW|  Male|              0|                45|                         1603|                        663|               370|                     1582|                         0.8|                     1260|                   2.3|\n",
       "|    2452|     16|    2021-05-21| 53123395285|14.216528402499584|   Nisl Arcu Limited|opticians, optica...|            c|     1.86|    1356405|  NSW|  Male|              0|                45|                         1603|                        663|               370|                     1582|                         0.8|                     1260|                   2.3|\n",
       "|    2452|     16|    2021-07-30| 15269431008|138.86262214461505|        Nisi Limited|gift, card, novel...|            a|     6.48|    1356405|  NSW|  Male|              0|                45|                         1603|                        663|               370|                     1582|                         0.8|                     1260|                   2.3|\n",
       "|    2452|     16|    2021-06-30| 11566786699|125.65067714162808|Euismod Et Institute|opticians, optica...|            c|     2.62|    1356405|  NSW|  Male|              0|                45|                         1603|                        663|               370|                     1582|                         0.8|                     1260|                   2.3|\n",
       "|    2452|     16|    2021-06-30| 14492521225|28.922275236881678|Praesent Eu Assoc...|tent and awning s...|            c|     2.50|    1356405|  NSW|  Male|              0|                45|                         1603|                        663|               370|                     1582|                         0.8|                     1260|                   2.3|\n",
       "|    2452|     16|    2021-08-06| 57824995706| 2.282231912478241|           Nulla LLP|tent and awning s...|            b|     4.04|    1356405|  NSW|  Male|              0|                45|                         1603|                        663|               370|                     1582|                         0.8|                     1260|                   2.3|\n",
       "+--------+-------+--------------+------------+------------------+--------------------+--------------------+-------------+---------+-----------+-----+------+---------------+------------------+-----------------------------+---------------------------+------------------+-------------------------+----------------------------+-------------------------+----------------------+\n",
       "only showing top 20 rows"
      ]
     },
     "execution_count": 2,
     "metadata": {},
     "output_type": "execute_result"
    }
   ],
   "source": [
    "full = spark.read.parquet('../data/curated/full_dataset/')\n",
    "full\n"
   ]
  },
  {
   "cell_type": "code",
   "execution_count": 3,
   "metadata": {},
   "outputs": [
    {
     "name": "stdout",
     "output_type": "stream",
     "text": [
      "19024384\n"
     ]
    }
   ],
   "source": [
    "# check if missing value exists in all columns\n",
    "null_count = 0\n",
    "for col in full.columns:\n",
    "    null_count += full.filter(full[col].isNull()).count()\n",
    "print(null_count)"
   ]
  },
  {
   "cell_type": "markdown",
   "metadata": {},
   "source": [
    "There is no missing value in the curated full dataset."
   ]
  },
  {
   "cell_type": "markdown",
   "metadata": {},
   "source": [
    "### Outlier Detection"
   ]
  },
  {
   "cell_type": "code",
   "execution_count": 4,
   "metadata": {},
   "outputs": [
    {
     "name": "stderr",
     "output_type": "stream",
     "text": [
      "                                                                                \r"
     ]
    },
    {
     "data": {
      "text/html": [
       "<table border='1'>\n",
       "<tr><th>merchant_abn</th><th>count</th></tr>\n",
       "<tr><td>47047735645</td><td>1</td></tr>\n",
       "<tr><td>42461534060</td><td>1</td></tr>\n",
       "<tr><td>93267734067</td><td>1</td></tr>\n",
       "<tr><td>39150153670</td><td>1</td></tr>\n",
       "<tr><td>50532670634</td><td>1</td></tr>\n",
       "<tr><td>64094501963</td><td>1</td></tr>\n",
       "<tr><td>62688594508</td><td>1</td></tr>\n",
       "<tr><td>51425051982</td><td>1</td></tr>\n",
       "<tr><td>46537010521</td><td>2</td></tr>\n",
       "<tr><td>55403018592</td><td>2</td></tr>\n",
       "<tr><td>18261886835</td><td>2</td></tr>\n",
       "<tr><td>22853038342</td><td>2</td></tr>\n",
       "<tr><td>99801770627</td><td>2</td></tr>\n",
       "<tr><td>93915598279</td><td>2</td></tr>\n",
       "<tr><td>67213521157</td><td>2</td></tr>\n",
       "<tr><td>89109402284</td><td>2</td></tr>\n",
       "<tr><td>78577106740</td><td>2</td></tr>\n",
       "<tr><td>89133730546</td><td>2</td></tr>\n",
       "<tr><td>24212300522</td><td>2</td></tr>\n",
       "<tr><td>86791380020</td><td>2</td></tr>\n",
       "</table>\n",
       "only showing top 20 rows\n"
      ],
      "text/plain": [
       "+------------+-----+\n",
       "|merchant_abn|count|\n",
       "+------------+-----+\n",
       "| 47047735645|    1|\n",
       "| 42461534060|    1|\n",
       "| 93267734067|    1|\n",
       "| 39150153670|    1|\n",
       "| 50532670634|    1|\n",
       "| 64094501963|    1|\n",
       "| 62688594508|    1|\n",
       "| 51425051982|    1|\n",
       "| 46537010521|    2|\n",
       "| 55403018592|    2|\n",
       "| 18261886835|    2|\n",
       "| 22853038342|    2|\n",
       "| 99801770627|    2|\n",
       "| 93915598279|    2|\n",
       "| 67213521157|    2|\n",
       "| 89109402284|    2|\n",
       "| 78577106740|    2|\n",
       "| 89133730546|    2|\n",
       "| 24212300522|    2|\n",
       "| 86791380020|    2|\n",
       "+------------+-----+\n",
       "only showing top 20 rows"
      ]
     },
     "execution_count": 4,
     "metadata": {},
     "output_type": "execute_result"
    }
   ],
   "source": [
    "from pyspark.sql import functions as F\n",
    "full.groupBy(F.col('merchant_abn')).count().orderBy(F.col('count').asc())"
   ]
  },
  {
   "cell_type": "markdown",
   "metadata": {},
   "source": [
    "It is noticed that there exists a range of merchants which only has a single transaction. Such small count of transaction could not provide enough information. So draw boxplot to see the distribution of number of transactions based on merchant."
   ]
  },
  {
   "cell_type": "code",
   "execution_count": 5,
   "metadata": {},
   "outputs": [],
   "source": [
    "count_sdf = full.groupBy(F.col('merchant_abn')).count()\n",
    "# convert to df to draw boxplot\n",
    "count_df = count_sdf.toPandas()"
   ]
  },
  {
   "cell_type": "code",
   "execution_count": 6,
   "metadata": {},
   "outputs": [
    {
     "data": {
      "text/plain": [
       "0         279\n",
       "1       14288\n",
       "2        1785\n",
       "3         959\n",
       "4        5262\n",
       "        ...  \n",
       "4018        2\n",
       "4019        1\n",
       "4020        1\n",
       "4021        1\n",
       "4022        2\n",
       "Name: count, Length: 4023, dtype: int64"
      ]
     },
     "execution_count": 6,
     "metadata": {},
     "output_type": "execute_result"
    }
   ],
   "source": [
    "count = count_df['count']\n",
    "count"
   ]
  },
  {
   "cell_type": "code",
   "execution_count": 7,
   "metadata": {},
   "outputs": [
    {
     "data": {
      "text/plain": [
       "<AxesSubplot: >"
      ]
     },
     "execution_count": 7,
     "metadata": {},
     "output_type": "execute_result"
    },
    {
     "data": {
      "image/png": "[encoded data removed]",
      "text/plain": [
       "<Figure size 640x480 with 1 Axes>"
      ]
     },
     "metadata": {},
     "output_type": "display_data"
    }
   ],
   "source": [
    "count_df.boxplot(column='count', return_type='axes')"
   ]
  },
  {
   "cell_type": "code",
   "execution_count": 8,
   "metadata": {},
   "outputs": [
    {
     "name": "stdout",
     "output_type": "stream",
     "text": [
      "mean:  3383.9453144419585\n",
      "93.0 2060.0\n",
      "5010.5 -2857.5\n"
     ]
    }
   ],
   "source": [
    "# using IQR to examine the distribution\n",
    "import numpy as np\n",
    "sorted(count)\n",
    "q1, q3= np.percentile(count,[25,75])\n",
    "iqr = q3 - q1\n",
    "lower_bound = q1 -(1.5 * iqr) \n",
    "upper_bound = q3 +(1.5 * iqr) \n",
    "print(\"mean: \", np.mean(count))\n",
    "print(q1, q3)\n",
    "print(upper_bound, lower_bound)"
   ]
  },
  {
   "cell_type": "markdown",
   "metadata": {},
   "source": [
    "We can see that the distribution of count of transactions is highly left distributed. There are 25% of merchants which has less or equal to 45.0 transactions.   \n",
    "\n",
    "However, merchants with a very low number of transactions would not be ideal buisness partner with our BNPL company for the following 2 reasons. First, little turnover will result in little total revenue. Secondly, even if the total revenue is high (jewelry company onlys sell one order but brings considerable profit), the BNPL company still has to take the risk of no transaction at all after cooperation. \n",
    "\n",
    "Most importantly, such small amount of transactions for merchants could not provide enough information for our model to determine whether these merchants are worth cooperated. \n",
    "\n",
    "Therefore, merchants with less than 10 transactions would be selected. And these merchants will then be compared to the merchants which has least total amount..."
   ]
  },
  {
   "cell_type": "code",
   "execution_count": 9,
   "metadata": {},
   "outputs": [],
   "source": [
    "least_freq_merchants = count_df[count_df['count'] < 10]"
   ]
  },
  {
   "cell_type": "code",
   "execution_count": 10,
   "metadata": {},
   "outputs": [
    {
     "data": {
      "text/html": [
       "<div>\n",
       "<style scoped>\n",
       "    .dataframe tbody tr th:only-of-type {\n",
       "        vertical-align: middle;\n",
       "    }\n",
       "\n",
       "    .dataframe tbody tr th {\n",
       "        vertical-align: top;\n",
       "    }\n",
       "\n",
       "    .dataframe thead th {\n",
       "        text-align: right;\n",
       "    }\n",
       "</style>\n",
       "<table border=\"1\" class=\"dataframe\">\n",
       "  <thead>\n",
       "    <tr style=\"text-align: right;\">\n",
       "      <th></th>\n",
       "      <th>merchant_abn</th>\n",
       "      <th>sum(dollar_value)</th>\n",
       "    </tr>\n",
       "  </thead>\n",
       "  <tbody>\n",
       "    <tr>\n",
       "      <th>0</th>\n",
       "      <td>41956465747</td>\n",
       "      <td>6.367427e+04</td>\n",
       "    </tr>\n",
       "    <tr>\n",
       "      <th>1</th>\n",
       "      <td>83412691377</td>\n",
       "      <td>4.985366e+05</td>\n",
       "    </tr>\n",
       "    <tr>\n",
       "      <th>2</th>\n",
       "      <td>15613631617</td>\n",
       "      <td>5.430305e+05</td>\n",
       "    </tr>\n",
       "    <tr>\n",
       "      <th>3</th>\n",
       "      <td>73841664453</td>\n",
       "      <td>8.331429e+04</td>\n",
       "    </tr>\n",
       "    <tr>\n",
       "      <th>4</th>\n",
       "      <td>73256306726</td>\n",
       "      <td>1.496823e+06</td>\n",
       "    </tr>\n",
       "    <tr>\n",
       "      <th>...</th>\n",
       "      <td>...</td>\n",
       "      <td>...</td>\n",
       "    </tr>\n",
       "    <tr>\n",
       "      <th>4018</th>\n",
       "      <td>24174334793</td>\n",
       "      <td>1.684496e+04</td>\n",
       "    </tr>\n",
       "    <tr>\n",
       "      <th>4019</th>\n",
       "      <td>42461534060</td>\n",
       "      <td>2.260011e+04</td>\n",
       "    </tr>\n",
       "    <tr>\n",
       "      <th>4020</th>\n",
       "      <td>39150153670</td>\n",
       "      <td>3.808994e+04</td>\n",
       "    </tr>\n",
       "    <tr>\n",
       "      <th>4021</th>\n",
       "      <td>50532670634</td>\n",
       "      <td>9.742962e+03</td>\n",
       "    </tr>\n",
       "    <tr>\n",
       "      <th>4022</th>\n",
       "      <td>28311306642</td>\n",
       "      <td>4.399445e+04</td>\n",
       "    </tr>\n",
       "  </tbody>\n",
       "</table>\n",
       "<p>4023 rows × 2 columns</p>\n",
       "</div>"
      ],
      "text/plain": [
       "      merchant_abn  sum(dollar_value)\n",
       "0      41956465747       6.367427e+04\n",
       "1      83412691377       4.985366e+05\n",
       "2      15613631617       5.430305e+05\n",
       "3      73841664453       8.331429e+04\n",
       "4      73256306726       1.496823e+06\n",
       "...            ...                ...\n",
       "4018   24174334793       1.684496e+04\n",
       "4019   42461534060       2.260011e+04\n",
       "4020   39150153670       3.808994e+04\n",
       "4021   50532670634       9.742962e+03\n",
       "4022   28311306642       4.399445e+04\n",
       "\n",
       "[4023 rows x 2 columns]"
      ]
     },
     "execution_count": 10,
     "metadata": {},
     "output_type": "execute_result"
    }
   ],
   "source": [
    "amount = full.groupBy(F.col('merchant_abn')).sum('dollar_value')\n",
    "amount_df = amount.toPandas()\n",
    "amount_df"
   ]
  },
  {
   "cell_type": "code",
   "execution_count": 11,
   "metadata": {},
   "outputs": [
    {
     "data": {
      "text/plain": [
       "<AxesSubplot: >"
      ]
     },
     "execution_count": 11,
     "metadata": {},
     "output_type": "execute_result"
    }
   ],
   "source": [
    "amount_df.boxplot(column='sum(dollar_value)', return_type='axes')"
   ]
  },
  {
   "cell_type": "code",
   "execution_count": 12,
   "metadata": {},
   "outputs": [
    {
     "data": {
      "text/plain": [
       "array([[<AxesSubplot: title={'center': 'sum(dollar_value)'}>]],\n",
       "      dtype=object)"
      ]
     },
     "execution_count": 12,
     "metadata": {},
     "output_type": "execute_result"
    }
   ],
   "source": [
    "amount_df.hist(column='sum(dollar_value)')"
   ]
  },
  {
   "cell_type": "markdown",
   "metadata": {},
   "source": [
    "Similiarly, the distribution of total amount of transactions are highly left-skewed."
   ]
  },
  {
   "cell_type": "code",
   "execution_count": 13,
   "metadata": {},
   "outputs": [],
   "source": [
    "total_amount = amount_df[\"sum(dollar_value)\"]"
   ]
  },
  {
   "cell_type": "code",
   "execution_count": 14,
   "metadata": {},
   "outputs": [
    {
     "name": "stdout",
     "output_type": "stream",
     "text": [
      "mean:  533532.7765323845\n",
      "36353.08797006475 623638.2492132091\n",
      "1504565.9910779258 -844574.6538946519\n"
     ]
    }
   ],
   "source": [
    "# using IQR to examine the distribution\n",
    "import numpy as np\n",
    "sorted(total_amount)\n",
    "q1, q3= np.percentile(total_amount,[25,75])\n",
    "iqr = q3 - q1\n",
    "lower_bound = q1 -(1.5 * iqr) \n",
    "upper_bound = q3 +(1.5 * iqr) \n",
    "print(\"mean: \", np.mean(total_amount))\n",
    "print(q1, q3)\n",
    "print(upper_bound, lower_bound)"
   ]
  },
  {
   "cell_type": "code",
   "execution_count": 15,
   "metadata": {},
   "outputs": [],
   "source": [
    "# consider merchants with total value < 10000 as least_amount_merchants\n",
    "least_amount_merchants = amount_df[amount_df['sum(dollar_value)'] < 10000]"
   ]
  },
  {
   "cell_type": "code",
   "execution_count": 16,
   "metadata": {},
   "outputs": [
    {
     "data": {
      "text/html": [
       "<div>\n",
       "<style scoped>\n",
       "    .dataframe tbody tr th:only-of-type {\n",
       "        vertical-align: middle;\n",
       "    }\n",
       "\n",
       "    .dataframe tbody tr th {\n",
       "        vertical-align: top;\n",
       "    }\n",
       "\n",
       "    .dataframe thead th {\n",
       "        text-align: right;\n",
       "    }\n",
       "</style>\n",
       "<table border=\"1\" class=\"dataframe\">\n",
       "  <thead>\n",
       "    <tr style=\"text-align: right;\">\n",
       "      <th></th>\n",
       "      <th>merchant_abn</th>\n",
       "      <th>count</th>\n",
       "      <th>sum(dollar_value)</th>\n",
       "    </tr>\n",
       "  </thead>\n",
       "  <tbody>\n",
       "    <tr>\n",
       "      <th>0</th>\n",
       "      <td>51425051982</td>\n",
       "      <td>1</td>\n",
       "      <td>7677.628516</td>\n",
       "    </tr>\n",
       "    <tr>\n",
       "      <th>1</th>\n",
       "      <td>50532670634</td>\n",
       "      <td>1</td>\n",
       "      <td>9742.961525</td>\n",
       "    </tr>\n",
       "  </tbody>\n",
       "</table>\n",
       "</div>"
      ],
      "text/plain": [
       "   merchant_abn  count  sum(dollar_value)\n",
       "0   51425051982      1        7677.628516\n",
       "1   50532670634      1        9742.961525"
      ]
     },
     "execution_count": 16,
     "metadata": {},
     "output_type": "execute_result"
    }
   ],
   "source": [
    "# combine merchants with both least frequency and least amount\n",
    "least_merchants = pd.merge(least_freq_merchants, least_amount_merchants)\n",
    "least_merchants"
   ]
  },
  {
   "cell_type": "markdown",
   "metadata": {},
   "source": [
    "There are 113 merchants which have less than 10 number of transactions and their total transaction dollar value is less than 10000. Those merchants has too little frequency of transaction records which could not provide enough information for our model, and has the least potential to be identified as ideal companies. Therefore, they are considerred as outliers and will be removed from the dataset."
   ]
  },
  {
   "cell_type": "code",
   "execution_count": 17,
   "metadata": {},
   "outputs": [],
   "source": [
    "removed_merchants = least_merchants[\"merchant_abn\"].to_list()"
   ]
  },
  {
   "cell_type": "code",
   "execution_count": 18,
   "metadata": {},
   "outputs": [],
   "source": [
    "clean_full = full.filter(~full.merchant_abn.isin(removed_merchants))"
   ]
  },
  {
   "cell_type": "markdown",
   "metadata": {},
   "source": [
    "### Buisness Area Allocation"
   ]
  },
  {
   "cell_type": "markdown",
   "metadata": {},
   "source": [
    "In the turnovers dataset, buisness areas are classfied into 13 categories, including [\"Mining\", \"Manufacturing\", \"Electricity gas water waste service\", \"Construction\", \"Wholesale_trade\", \"Retail_trade\", \"Accommodation food services\", \"Transport postal warehousing\", \"Information media telecommunications\", \"Professional scientific technical services\", \"Administrative support services\", \"Arts recreation services\", \"Other_services\"]\n",
    "\n",
    "In order to map our full dataset with this turnover dataset, we manually classfies the \"business_area\" into these 13 categories as follows."
   ]
  },
  {
   "cell_type": "code",
   "execution_count": 19,
   "metadata": {},
   "outputs": [
    {
     "data": {
      "text/plain": [
       "['antique shops - sales, repairs, and restoration services',\n",
       " 'art dealers and galleries',\n",
       " 'artist supply and craft shops',\n",
       " 'bicycle shops - sales and service',\n",
       " 'books, periodicals, and newspapers',\n",
       " 'cable, satellite, and other pay television and radio services',\n",
       " 'computer programming , data processing, and integrated systems design services',\n",
       " 'computers, computer peripheral equipment, and software',\n",
       " 'digital goods: books, movies, music',\n",
       " 'equipment, tool, furniture, and appliance rent al and leasing',\n",
       " 'florists supplies, nursery stock, and flowers',\n",
       " 'furniture, home furnishings and equipment shops, and manufacturers, except appliances',\n",
       " 'gift, card, novelty, and souvenir shops',\n",
       " 'health and beauty spas',\n",
       " 'hobby, toy and game shops',\n",
       " 'jewelry, watch, clock, and silverware shops',\n",
       " 'lawn and garden supply outlets, including nurseries',\n",
       " 'motor vehicle supplies and new parts',\n",
       " 'music shops - musical instruments, pianos, and sheet music',\n",
       " 'opticians, optical goods, and eyeglasses',\n",
       " 'shoe shops',\n",
       " 'stationery, office supplies and printing and writing paper',\n",
       " 'telecom',\n",
       " 'tent and awning shops',\n",
       " 'watch, clock, and jewelry repair shops']"
      ]
     },
     "execution_count": 19,
     "metadata": {},
     "output_type": "execute_result"
    }
   ],
   "source": [
    "busi_area = clean_full.groupby('business_area').count().sort(\"business_area\").select(\"business_area\").toPandas()['business_area'].to_list()\n",
    "busi_area\n"
   ]
  },
  {
   "cell_type": "code",
   "execution_count": 20,
   "metadata": {},
   "outputs": [
    {
     "data": {
      "text/html": [
       "<div>\n",
       "<style scoped>\n",
       "    .dataframe tbody tr th:only-of-type {\n",
       "        vertical-align: middle;\n",
       "    }\n",
       "\n",
       "    .dataframe tbody tr th {\n",
       "        vertical-align: top;\n",
       "    }\n",
       "\n",
       "    .dataframe thead th {\n",
       "        text-align: right;\n",
       "    }\n",
       "</style>\n",
       "<table border=\"1\" class=\"dataframe\">\n",
       "  <thead>\n",
       "    <tr style=\"text-align: right;\">\n",
       "      <th></th>\n",
       "      <th>business_area</th>\n",
       "      <th>business_area_type</th>\n",
       "    </tr>\n",
       "  </thead>\n",
       "  <tbody>\n",
       "    <tr>\n",
       "      <th>0</th>\n",
       "      <td>antique shops - sales, repairs, and restoratio...</td>\n",
       "      <td>Retail trade</td>\n",
       "    </tr>\n",
       "    <tr>\n",
       "      <th>1</th>\n",
       "      <td>art dealers and galleries</td>\n",
       "      <td>Arts and recreation services</td>\n",
       "    </tr>\n",
       "    <tr>\n",
       "      <th>2</th>\n",
       "      <td>artist supply and craft shops</td>\n",
       "      <td>Retail trade</td>\n",
       "    </tr>\n",
       "    <tr>\n",
       "      <th>3</th>\n",
       "      <td>bicycle shops - sales and service</td>\n",
       "      <td>Retail trade</td>\n",
       "    </tr>\n",
       "    <tr>\n",
       "      <th>4</th>\n",
       "      <td>books, periodicals, and newspapers</td>\n",
       "      <td>Retail trade</td>\n",
       "    </tr>\n",
       "    <tr>\n",
       "      <th>5</th>\n",
       "      <td>cable, satellite, and other pay television and...</td>\n",
       "      <td>Retail trade</td>\n",
       "    </tr>\n",
       "    <tr>\n",
       "      <th>6</th>\n",
       "      <td>computer programming , data processing, and in...</td>\n",
       "      <td>Professional, scientific and technical services</td>\n",
       "    </tr>\n",
       "    <tr>\n",
       "      <th>7</th>\n",
       "      <td>computers, computer peripheral equipment, and ...</td>\n",
       "      <td>Retail trade</td>\n",
       "    </tr>\n",
       "    <tr>\n",
       "      <th>8</th>\n",
       "      <td>digital goods: books, movies, music</td>\n",
       "      <td>Retail trade</td>\n",
       "    </tr>\n",
       "    <tr>\n",
       "      <th>9</th>\n",
       "      <td>equipment, tool, furniture, and appliance rent...</td>\n",
       "      <td>Retail trade</td>\n",
       "    </tr>\n",
       "    <tr>\n",
       "      <th>10</th>\n",
       "      <td>florists supplies, nursery stock, and flowers</td>\n",
       "      <td>Retail trade</td>\n",
       "    </tr>\n",
       "    <tr>\n",
       "      <th>11</th>\n",
       "      <td>furniture, home furnishings and equipment shop...</td>\n",
       "      <td>Manufacturing</td>\n",
       "    </tr>\n",
       "    <tr>\n",
       "      <th>12</th>\n",
       "      <td>gift, card, novelty, and souvenir shops</td>\n",
       "      <td>Retail trade</td>\n",
       "    </tr>\n",
       "    <tr>\n",
       "      <th>13</th>\n",
       "      <td>health and beauty spas</td>\n",
       "      <td>Other services</td>\n",
       "    </tr>\n",
       "    <tr>\n",
       "      <th>14</th>\n",
       "      <td>hobby, toy and game shops</td>\n",
       "      <td>Retail trade</td>\n",
       "    </tr>\n",
       "    <tr>\n",
       "      <th>15</th>\n",
       "      <td>jewelry, watch, clock, and silverware shops</td>\n",
       "      <td>Retail trade</td>\n",
       "    </tr>\n",
       "    <tr>\n",
       "      <th>16</th>\n",
       "      <td>lawn and garden supply outlets, including nurs...</td>\n",
       "      <td>Retail trade</td>\n",
       "    </tr>\n",
       "    <tr>\n",
       "      <th>17</th>\n",
       "      <td>motor vehicle supplies and new parts</td>\n",
       "      <td>Retail trade</td>\n",
       "    </tr>\n",
       "    <tr>\n",
       "      <th>18</th>\n",
       "      <td>music shops - musical instruments, pianos, and...</td>\n",
       "      <td>Retail trade</td>\n",
       "    </tr>\n",
       "    <tr>\n",
       "      <th>19</th>\n",
       "      <td>opticians, optical goods, and eyeglasses</td>\n",
       "      <td>Manufacturing</td>\n",
       "    </tr>\n",
       "    <tr>\n",
       "      <th>20</th>\n",
       "      <td>shoe shops</td>\n",
       "      <td>Retail trade</td>\n",
       "    </tr>\n",
       "    <tr>\n",
       "      <th>21</th>\n",
       "      <td>stationery, office supplies and printing and w...</td>\n",
       "      <td>Retail trade</td>\n",
       "    </tr>\n",
       "    <tr>\n",
       "      <th>22</th>\n",
       "      <td>telecom</td>\n",
       "      <td>Information media and telecommunications</td>\n",
       "    </tr>\n",
       "    <tr>\n",
       "      <th>23</th>\n",
       "      <td>tent and awning shops</td>\n",
       "      <td>Retail trade</td>\n",
       "    </tr>\n",
       "    <tr>\n",
       "      <th>24</th>\n",
       "      <td>watch, clock, and jewelry repair shops</td>\n",
       "      <td>Other services</td>\n",
       "    </tr>\n",
       "  </tbody>\n",
       "</table>\n",
       "</div>"
      ],
      "text/plain": [
       "                                        business_area  \\\n",
       "0   antique shops - sales, repairs, and restoratio...   \n",
       "1                           art dealers and galleries   \n",
       "2                       artist supply and craft shops   \n",
       "3                   bicycle shops - sales and service   \n",
       "4                  books, periodicals, and newspapers   \n",
       "5   cable, satellite, and other pay television and...   \n",
       "6   computer programming , data processing, and in...   \n",
       "7   computers, computer peripheral equipment, and ...   \n",
       "8                 digital goods: books, movies, music   \n",
       "9   equipment, tool, furniture, and appliance rent...   \n",
       "10      florists supplies, nursery stock, and flowers   \n",
       "11  furniture, home furnishings and equipment shop...   \n",
       "12            gift, card, novelty, and souvenir shops   \n",
       "13                             health and beauty spas   \n",
       "14                          hobby, toy and game shops   \n",
       "15        jewelry, watch, clock, and silverware shops   \n",
       "16  lawn and garden supply outlets, including nurs...   \n",
       "17               motor vehicle supplies and new parts   \n",
       "18  music shops - musical instruments, pianos, and...   \n",
       "19           opticians, optical goods, and eyeglasses   \n",
       "20                                         shoe shops   \n",
       "21  stationery, office supplies and printing and w...   \n",
       "22                                            telecom   \n",
       "23                              tent and awning shops   \n",
       "24             watch, clock, and jewelry repair shops   \n",
       "\n",
       "                                 business_area_type  \n",
       "0                                      Retail trade  \n",
       "1                      Arts and recreation services  \n",
       "2                                      Retail trade  \n",
       "3                                      Retail trade  \n",
       "4                                      Retail trade  \n",
       "5                                      Retail trade  \n",
       "6   Professional, scientific and technical services  \n",
       "7                                      Retail trade  \n",
       "8                                      Retail trade  \n",
       "9                                      Retail trade  \n",
       "10                                     Retail trade  \n",
       "11                                    Manufacturing  \n",
       "12                                     Retail trade  \n",
       "13                                   Other services  \n",
       "14                                     Retail trade  \n",
       "15                                     Retail trade  \n",
       "16                                     Retail trade  \n",
       "17                                     Retail trade  \n",
       "18                                     Retail trade  \n",
       "19                                    Manufacturing  \n",
       "20                                     Retail trade  \n",
       "21                                     Retail trade  \n",
       "22         Information media and telecommunications  \n",
       "23                                     Retail trade  \n",
       "24                                   Other services  "
      ]
     },
     "execution_count": 20,
     "metadata": {},
     "output_type": "execute_result"
    }
   ],
   "source": [
    "# the mapping is based on common knowledge and references from industry information published by Australian Government.\n",
    "#  https://business.gov.au/planning/industry-information\n",
    "busi_area_type = [\"Retail trade\", \"Arts and recreation services\", \"Retail trade\", \"Retail trade\", \"Retail trade\", \"Retail trade\", \"Professional, scientific and technical services\", \"Retail trade\",\n",
    "\"Retail trade\", \"Retail trade\", \"Retail trade\", \"Manufacturing\", \"Retail trade\", \"Other services\", \"Retail trade\", \"Retail trade\", \"Retail trade\", \"Retail trade\", \n",
    "\"Retail trade\", \"Manufacturing\", \"Retail trade\", \"Retail trade\", \"Information media and telecommunications\", \"Retail trade\", \"Other services\"]\n",
    "\n",
    "allocation_df = pd.DataFrame(list(zip(busi_area, busi_area_type)),\n",
    "               columns =['business_area', 'business_area_type'])\n",
    "allocation_df"
   ]
  },
  {
   "cell_type": "code",
   "execution_count": 21,
   "metadata": {},
   "outputs": [
    {
     "data": {
      "text/html": [
       "<div>\n",
       "<style scoped>\n",
       "    .dataframe tbody tr th:only-of-type {\n",
       "        vertical-align: middle;\n",
       "    }\n",
       "\n",
       "    .dataframe tbody tr th {\n",
       "        vertical-align: top;\n",
       "    }\n",
       "\n",
       "    .dataframe thead th {\n",
       "        text-align: right;\n",
       "    }\n",
       "</style>\n",
       "<table border=\"1\" class=\"dataframe\">\n",
       "  <thead>\n",
       "    <tr style=\"text-align: right;\">\n",
       "      <th></th>\n",
       "      <th>business_area</th>\n",
       "      <th>business_area_type</th>\n",
       "      <th>annual_turnover_percentage</th>\n",
       "    </tr>\n",
       "  </thead>\n",
       "  <tbody>\n",
       "    <tr>\n",
       "      <th>0</th>\n",
       "      <td>antique shops - sales, repairs, and restoratio...</td>\n",
       "      <td>Retail trade</td>\n",
       "      <td>21.9</td>\n",
       "    </tr>\n",
       "    <tr>\n",
       "      <th>1</th>\n",
       "      <td>art dealers and galleries</td>\n",
       "      <td>Arts and recreation services</td>\n",
       "      <td>13.3</td>\n",
       "    </tr>\n",
       "    <tr>\n",
       "      <th>2</th>\n",
       "      <td>artist supply and craft shops</td>\n",
       "      <td>Retail trade</td>\n",
       "      <td>21.9</td>\n",
       "    </tr>\n",
       "    <tr>\n",
       "      <th>3</th>\n",
       "      <td>bicycle shops - sales and service</td>\n",
       "      <td>Retail trade</td>\n",
       "      <td>21.9</td>\n",
       "    </tr>\n",
       "    <tr>\n",
       "      <th>4</th>\n",
       "      <td>books, periodicals, and newspapers</td>\n",
       "      <td>Retail trade</td>\n",
       "      <td>21.9</td>\n",
       "    </tr>\n",
       "    <tr>\n",
       "      <th>5</th>\n",
       "      <td>cable, satellite, and other pay television and...</td>\n",
       "      <td>Retail trade</td>\n",
       "      <td>21.9</td>\n",
       "    </tr>\n",
       "    <tr>\n",
       "      <th>6</th>\n",
       "      <td>computer programming , data processing, and in...</td>\n",
       "      <td>Professional, scientific and technical services</td>\n",
       "      <td>11.3</td>\n",
       "    </tr>\n",
       "    <tr>\n",
       "      <th>7</th>\n",
       "      <td>computers, computer peripheral equipment, and ...</td>\n",
       "      <td>Retail trade</td>\n",
       "      <td>21.9</td>\n",
       "    </tr>\n",
       "    <tr>\n",
       "      <th>8</th>\n",
       "      <td>digital goods: books, movies, music</td>\n",
       "      <td>Retail trade</td>\n",
       "      <td>21.9</td>\n",
       "    </tr>\n",
       "    <tr>\n",
       "      <th>9</th>\n",
       "      <td>equipment, tool, furniture, and appliance rent...</td>\n",
       "      <td>Retail trade</td>\n",
       "      <td>21.9</td>\n",
       "    </tr>\n",
       "    <tr>\n",
       "      <th>10</th>\n",
       "      <td>florists supplies, nursery stock, and flowers</td>\n",
       "      <td>Retail trade</td>\n",
       "      <td>21.9</td>\n",
       "    </tr>\n",
       "    <tr>\n",
       "      <th>11</th>\n",
       "      <td>furniture, home furnishings and equipment shop...</td>\n",
       "      <td>Manufacturing</td>\n",
       "      <td>17.0</td>\n",
       "    </tr>\n",
       "    <tr>\n",
       "      <th>12</th>\n",
       "      <td>gift, card, novelty, and souvenir shops</td>\n",
       "      <td>Retail trade</td>\n",
       "      <td>21.9</td>\n",
       "    </tr>\n",
       "    <tr>\n",
       "      <th>13</th>\n",
       "      <td>health and beauty spas</td>\n",
       "      <td>Other services</td>\n",
       "      <td>2.4</td>\n",
       "    </tr>\n",
       "    <tr>\n",
       "      <th>14</th>\n",
       "      <td>hobby, toy and game shops</td>\n",
       "      <td>Retail trade</td>\n",
       "      <td>21.9</td>\n",
       "    </tr>\n",
       "    <tr>\n",
       "      <th>15</th>\n",
       "      <td>jewelry, watch, clock, and silverware shops</td>\n",
       "      <td>Retail trade</td>\n",
       "      <td>21.9</td>\n",
       "    </tr>\n",
       "    <tr>\n",
       "      <th>16</th>\n",
       "      <td>lawn and garden supply outlets, including nurs...</td>\n",
       "      <td>Retail trade</td>\n",
       "      <td>21.9</td>\n",
       "    </tr>\n",
       "    <tr>\n",
       "      <th>17</th>\n",
       "      <td>motor vehicle supplies and new parts</td>\n",
       "      <td>Retail trade</td>\n",
       "      <td>21.9</td>\n",
       "    </tr>\n",
       "    <tr>\n",
       "      <th>18</th>\n",
       "      <td>music shops - musical instruments, pianos, and...</td>\n",
       "      <td>Retail trade</td>\n",
       "      <td>21.9</td>\n",
       "    </tr>\n",
       "    <tr>\n",
       "      <th>19</th>\n",
       "      <td>opticians, optical goods, and eyeglasses</td>\n",
       "      <td>Manufacturing</td>\n",
       "      <td>17.0</td>\n",
       "    </tr>\n",
       "    <tr>\n",
       "      <th>20</th>\n",
       "      <td>shoe shops</td>\n",
       "      <td>Retail trade</td>\n",
       "      <td>21.9</td>\n",
       "    </tr>\n",
       "    <tr>\n",
       "      <th>21</th>\n",
       "      <td>stationery, office supplies and printing and w...</td>\n",
       "      <td>Retail trade</td>\n",
       "      <td>21.9</td>\n",
       "    </tr>\n",
       "    <tr>\n",
       "      <th>22</th>\n",
       "      <td>telecom</td>\n",
       "      <td>Information media and telecommunications</td>\n",
       "      <td>16.4</td>\n",
       "    </tr>\n",
       "    <tr>\n",
       "      <th>23</th>\n",
       "      <td>tent and awning shops</td>\n",
       "      <td>Retail trade</td>\n",
       "      <td>21.9</td>\n",
       "    </tr>\n",
       "    <tr>\n",
       "      <th>24</th>\n",
       "      <td>watch, clock, and jewelry repair shops</td>\n",
       "      <td>Other services</td>\n",
       "      <td>2.4</td>\n",
       "    </tr>\n",
       "  </tbody>\n",
       "</table>\n",
       "</div>"
      ],
      "text/plain": [
       "                                        business_area  \\\n",
       "0   antique shops - sales, repairs, and restoratio...   \n",
       "1                           art dealers and galleries   \n",
       "2                       artist supply and craft shops   \n",
       "3                   bicycle shops - sales and service   \n",
       "4                  books, periodicals, and newspapers   \n",
       "5   cable, satellite, and other pay television and...   \n",
       "6   computer programming , data processing, and in...   \n",
       "7   computers, computer peripheral equipment, and ...   \n",
       "8                 digital goods: books, movies, music   \n",
       "9   equipment, tool, furniture, and appliance rent...   \n",
       "10      florists supplies, nursery stock, and flowers   \n",
       "11  furniture, home furnishings and equipment shop...   \n",
       "12            gift, card, novelty, and souvenir shops   \n",
       "13                             health and beauty spas   \n",
       "14                          hobby, toy and game shops   \n",
       "15        jewelry, watch, clock, and silverware shops   \n",
       "16  lawn and garden supply outlets, including nurs...   \n",
       "17               motor vehicle supplies and new parts   \n",
       "18  music shops - musical instruments, pianos, and...   \n",
       "19           opticians, optical goods, and eyeglasses   \n",
       "20                                         shoe shops   \n",
       "21  stationery, office supplies and printing and w...   \n",
       "22                                            telecom   \n",
       "23                              tent and awning shops   \n",
       "24             watch, clock, and jewelry repair shops   \n",
       "\n",
       "                                 business_area_type  \\\n",
       "0                                      Retail trade   \n",
       "1                      Arts and recreation services   \n",
       "2                                      Retail trade   \n",
       "3                                      Retail trade   \n",
       "4                                      Retail trade   \n",
       "5                                      Retail trade   \n",
       "6   Professional, scientific and technical services   \n",
       "7                                      Retail trade   \n",
       "8                                      Retail trade   \n",
       "9                                      Retail trade   \n",
       "10                                     Retail trade   \n",
       "11                                    Manufacturing   \n",
       "12                                     Retail trade   \n",
       "13                                   Other services   \n",
       "14                                     Retail trade   \n",
       "15                                     Retail trade   \n",
       "16                                     Retail trade   \n",
       "17                                     Retail trade   \n",
       "18                                     Retail trade   \n",
       "19                                    Manufacturing   \n",
       "20                                     Retail trade   \n",
       "21                                     Retail trade   \n",
       "22         Information media and telecommunications   \n",
       "23                                     Retail trade   \n",
       "24                                   Other services   \n",
       "\n",
       "    annual_turnover_percentage  \n",
       "0                         21.9  \n",
       "1                         13.3  \n",
       "2                         21.9  \n",
       "3                         21.9  \n",
       "4                         21.9  \n",
       "5                         21.9  \n",
       "6                         11.3  \n",
       "7                         21.9  \n",
       "8                         21.9  \n",
       "9                         21.9  \n",
       "10                        21.9  \n",
       "11                        17.0  \n",
       "12                        21.9  \n",
       "13                         2.4  \n",
       "14                        21.9  \n",
       "15                        21.9  \n",
       "16                        21.9  \n",
       "17                        21.9  \n",
       "18                        21.9  \n",
       "19                        17.0  \n",
       "20                        21.9  \n",
       "21                        21.9  \n",
       "22                        16.4  \n",
       "23                        21.9  \n",
       "24                         2.4  "
      ]
     },
     "execution_count": 21,
     "metadata": {},
     "output_type": "execute_result"
    }
   ],
   "source": [
    "turnover = pd.read_csv('../data/tables/turnover/Business turnover indicator, change in turnover, seasonally adjusted.csv', header=1)\n",
    "turnover = turnover[[\"Unnamed: 0\",\"July 2021 to July 2022 (%)\"]]\n",
    "turnover = turnover.rename(columns={\"Unnamed: 0\": \"business_area_type\", \"July 2021 to July 2022 (%)\": \"annual_turnover_percentage\"})\n",
    "allocation_df = allocation_df.merge(turnover, on=\"business_area_type\", how=\"left\")\n",
    "allocation_df"
   ]
  },
  {
   "cell_type": "code",
   "execution_count": 22,
   "metadata": {},
   "outputs": [],
   "source": [
    "# convert pandas to pyspark dataframe to merge with clean full dataset\n",
    "allocation_sdf=spark.createDataFrame(allocation_df) "
   ]
  },
  {
   "cell_type": "code",
   "execution_count": 23,
   "metadata": {},
   "outputs": [
    {
     "name": "stderr",
     "output_type": "stream",
     "text": [
      "                                                                                \r"
     ]
    },
    {
     "data": {
      "text/html": [
       "<table border='1'>\n",
       "<tr><th>postcode</th><th>user_id</th><th>order_datetime</th><th>merchant_abn</th><th>dollar_value</th><th>name</th><th>business_area</th><th>revenue_level</th><th>take_rate</th><th>consumer_id</th><th>state</th><th>gender</th><th>fraud_prob_cons</th><th>Median_age_persons</th><th>Median_mortgage_repay_monthly</th><th>Median_tot_prsnl_inc_weekly</th><th>Median_rent_weekly</th><th>Median_tot_fam_inc_weekly</th><th>Average_num_psns_per_bedroom</th><th>Median_tot_hhd_inc_weekly</th><th>Average_household_size</th><th>business_area_type</th><th>annual_turnover_percentage</th></tr>\n",
       "<tr><td>2452</td><td>16</td><td>2021-08-19</td><td>46804135891</td><td>37.881652101776105</td><td>Suspendisse Dui C...</td><td>opticians, optica...</td><td>c</td><td> 2.93</td><td>1356405</td><td>NSW</td><td>Male</td><td>0</td><td>45</td><td>1603</td><td>663</td><td>370</td><td>1582</td><td>0.8</td><td>1260</td><td>2.3</td><td>Manufacturing</td><td>17.0</td></tr>\n",
       "<tr><td>2452</td><td>16</td><td>2021-05-21</td><td>53123395285</td><td>14.216528402499584</td><td>Nisl Arcu Limited</td><td>opticians, optica...</td><td>c</td><td> 1.86</td><td>1356405</td><td>NSW</td><td>Male</td><td>0</td><td>45</td><td>1603</td><td>663</td><td>370</td><td>1582</td><td>0.8</td><td>1260</td><td>2.3</td><td>Manufacturing</td><td>17.0</td></tr>\n",
       "<tr><td>2452</td><td>16</td><td>2021-06-30</td><td>11566786699</td><td>125.65067714162808</td><td>Euismod Et Institute</td><td>opticians, optica...</td><td>c</td><td> 2.62</td><td>1356405</td><td>NSW</td><td>Male</td><td>0</td><td>45</td><td>1603</td><td>663</td><td>370</td><td>1582</td><td>0.8</td><td>1260</td><td>2.3</td><td>Manufacturing</td><td>17.0</td></tr>\n",
       "<tr><td>2452</td><td>16</td><td>2021-08-07</td><td>71674475255</td><td>65.16914816994323</td><td>Lacinia Mattis LLC</td><td>opticians, optica...</td><td>b</td><td> 3.81</td><td>1356405</td><td>NSW</td><td>Male</td><td>0</td><td>45</td><td>1603</td><td>663</td><td>370</td><td>1582</td><td>0.8</td><td>1260</td><td>2.3</td><td>Manufacturing</td><td>17.0</td></tr>\n",
       "<tr><td>2452</td><td>16</td><td>2021-06-05</td><td>80389596712</td><td>92.69744615275272</td><td>Lacinia LLC</td><td>opticians, optica...</td><td>b</td><td> 4.15</td><td>1356405</td><td>NSW</td><td>Male</td><td>0</td><td>45</td><td>1603</td><td>663</td><td>370</td><td>1582</td><td>0.8</td><td>1260</td><td>2.3</td><td>Manufacturing</td><td>17.0</td></tr>\n",
       "<tr><td>2452</td><td>16</td><td>2021-06-07</td><td>46804135891</td><td>57.322804971480885</td><td>Suspendisse Dui C...</td><td>opticians, optica...</td><td>c</td><td> 2.93</td><td>1356405</td><td>NSW</td><td>Male</td><td>0</td><td>45</td><td>1603</td><td>663</td><td>370</td><td>1582</td><td>0.8</td><td>1260</td><td>2.3</td><td>Manufacturing</td><td>17.0</td></tr>\n",
       "<tr><td>2452</td><td>16</td><td>2021-06-02</td><td>39088614710</td><td>157.3933456215878</td><td>Ut Eros Institute</td><td>opticians, optica...</td><td>a</td><td> 5.67</td><td>1356405</td><td>NSW</td><td>Male</td><td>0</td><td>45</td><td>1603</td><td>663</td><td>370</td><td>1582</td><td>0.8</td><td>1260</td><td>2.3</td><td>Manufacturing</td><td>17.0</td></tr>\n",
       "<tr><td>2452</td><td>16</td><td>2021-11-05</td><td>48534649627</td><td>53.548680503648065</td><td>Dignissim Maecena...</td><td>opticians, optica...</td><td>a</td><td> 6.64</td><td>1356405</td><td>NSW</td><td>Male</td><td>0</td><td>45</td><td>1603</td><td>663</td><td>370</td><td>1582</td><td>0.8</td><td>1260</td><td>2.3</td><td>Manufacturing</td><td>17.0</td></tr>\n",
       "<tr><td>2452</td><td>16</td><td>2021-09-23</td><td>46804135891</td><td>23.173524678300442</td><td>Suspendisse Dui C...</td><td>opticians, optica...</td><td>c</td><td> 2.93</td><td>1356405</td><td>NSW</td><td>Male</td><td>0</td><td>45</td><td>1603</td><td>663</td><td>370</td><td>1582</td><td>0.8</td><td>1260</td><td>2.3</td><td>Manufacturing</td><td>17.0</td></tr>\n",
       "<tr><td>2452</td><td>16</td><td>2021-09-16</td><td>46804135891</td><td>16.258619260302098</td><td>Suspendisse Dui C...</td><td>opticians, optica...</td><td>c</td><td> 2.93</td><td>1356405</td><td>NSW</td><td>Male</td><td>0</td><td>45</td><td>1603</td><td>663</td><td>370</td><td>1582</td><td>0.8</td><td>1260</td><td>2.3</td><td>Manufacturing</td><td>17.0</td></tr>\n",
       "<tr><td>2452</td><td>16</td><td>2021-11-01</td><td>46804135891</td><td>10.47516656638479</td><td>Suspendisse Dui C...</td><td>opticians, optica...</td><td>c</td><td> 2.93</td><td>1356405</td><td>NSW</td><td>Male</td><td>0</td><td>45</td><td>1603</td><td>663</td><td>370</td><td>1582</td><td>0.8</td><td>1260</td><td>2.3</td><td>Manufacturing</td><td>17.0</td></tr>\n",
       "<tr><td>2452</td><td>16</td><td>2021-10-02</td><td>25674631453</td><td>119.69747747276881</td><td>Venenatis Lacus E...</td><td>opticians, optica...</td><td>c</td><td> 2.56</td><td>1356405</td><td>NSW</td><td>Male</td><td>0</td><td>45</td><td>1603</td><td>663</td><td>370</td><td>1582</td><td>0.8</td><td>1260</td><td>2.3</td><td>Manufacturing</td><td>17.0</td></tr>\n",
       "<tr><td>2452</td><td>16</td><td>2021-09-01</td><td>46804135891</td><td>81.46574147167959</td><td>Suspendisse Dui C...</td><td>opticians, optica...</td><td>c</td><td> 2.93</td><td>1356405</td><td>NSW</td><td>Male</td><td>0</td><td>45</td><td>1603</td><td>663</td><td>370</td><td>1582</td><td>0.8</td><td>1260</td><td>2.3</td><td>Manufacturing</td><td>17.0</td></tr>\n",
       "<tr><td>2452</td><td>16</td><td>2022-01-25</td><td>46804135891</td><td>23.776412444750825</td><td>Suspendisse Dui C...</td><td>opticians, optica...</td><td>c</td><td> 2.93</td><td>1356405</td><td>NSW</td><td>Male</td><td>0</td><td>45</td><td>1603</td><td>663</td><td>370</td><td>1582</td><td>0.8</td><td>1260</td><td>2.3</td><td>Manufacturing</td><td>17.0</td></tr>\n",
       "<tr><td>2452</td><td>16</td><td>2022-02-01</td><td>42191818419</td><td>232.09388320321344</td><td>Sit PC</td><td>opticians, optica...</td><td>a</td><td> 6.67</td><td>1356405</td><td>NSW</td><td>Male</td><td>0</td><td>45</td><td>1603</td><td>663</td><td>370</td><td>1582</td><td>0.8</td><td>1260</td><td>2.3</td><td>Manufacturing</td><td>17.0</td></tr>\n",
       "<tr><td>2452</td><td>16</td><td>2022-10-08</td><td>11237511112</td><td>227.1683543831561</td><td>Magna Institute</td><td>opticians, optica...</td><td>c</td><td> 2.11</td><td>1356405</td><td>NSW</td><td>Male</td><td>0</td><td>45</td><td>1603</td><td>663</td><td>370</td><td>1582</td><td>0.8</td><td>1260</td><td>2.3</td><td>Manufacturing</td><td>17.0</td></tr>\n",
       "<tr><td>2452</td><td>16</td><td>2022-10-23</td><td>74019238521</td><td>60.155293644282665</td><td>Ac Limited</td><td>opticians, optica...</td><td>b</td><td> 3.69</td><td>1356405</td><td>NSW</td><td>Male</td><td>0</td><td>45</td><td>1603</td><td>663</td><td>370</td><td>1582</td><td>0.8</td><td>1260</td><td>2.3</td><td>Manufacturing</td><td>17.0</td></tr>\n",
       "<tr><td>2452</td><td>16</td><td>2022-05-21</td><td>30801495844</td><td>15.630192496294026</td><td>Nunc Ullamcorper ...</td><td>opticians, optica...</td><td>b</td><td> 4.58</td><td>1356405</td><td>NSW</td><td>Male</td><td>0</td><td>45</td><td>1603</td><td>663</td><td>370</td><td>1582</td><td>0.8</td><td>1260</td><td>2.3</td><td>Manufacturing</td><td>17.0</td></tr>\n",
       "<tr><td>2452</td><td>16</td><td>2022-07-01</td><td>22059270846</td><td>15.8316912062586</td><td>Montes Nascetur R...</td><td>opticians, optica...</td><td>a</td><td> 6.59</td><td>1356405</td><td>NSW</td><td>Male</td><td>0</td><td>45</td><td>1603</td><td>663</td><td>370</td><td>1582</td><td>0.8</td><td>1260</td><td>2.3</td><td>Manufacturing</td><td>17.0</td></tr>\n",
       "<tr><td>2452</td><td>16</td><td>2022-06-17</td><td>67797658023</td><td>27.945782566191692</td><td>Enim Mi Ltd</td><td>opticians, optica...</td><td>c</td><td> 2.93</td><td>1356405</td><td>NSW</td><td>Male</td><td>0</td><td>45</td><td>1603</td><td>663</td><td>370</td><td>1582</td><td>0.8</td><td>1260</td><td>2.3</td><td>Manufacturing</td><td>17.0</td></tr>\n",
       "</table>\n",
       "only showing top 20 rows\n"
      ],
      "text/plain": [
       "+--------+-------+--------------+------------+------------------+--------------------+--------------------+-------------+---------+-----------+-----+------+---------------+------------------+-----------------------------+---------------------------+------------------+-------------------------+----------------------------+-------------------------+----------------------+------------------+--------------------------+\n",
       "|postcode|user_id|order_datetime|merchant_abn|      dollar_value|                name|       business_area|revenue_level|take_rate|consumer_id|state|gender|fraud_prob_cons|Median_age_persons|Median_mortgage_repay_monthly|Median_tot_prsnl_inc_weekly|Median_rent_weekly|Median_tot_fam_inc_weekly|Average_num_psns_per_bedroom|Median_tot_hhd_inc_weekly|Average_household_size|business_area_type|annual_turnover_percentage|\n",
       "+--------+-------+--------------+------------+------------------+--------------------+--------------------+-------------+---------+-----------+-----+------+---------------+------------------+-----------------------------+---------------------------+------------------+-------------------------+----------------------------+-------------------------+----------------------+------------------+--------------------------+\n",
       "|    2452|     16|    2021-08-19| 46804135891|37.881652101776105|Suspendisse Dui C...|opticians, optica...|            c|     2.93|    1356405|  NSW|  Male|              0|                45|                         1603|                        663|               370|                     1582|                         0.8|                     1260|                   2.3|     Manufacturing|                      17.0|\n",
       "|    2452|     16|    2021-05-21| 53123395285|14.216528402499584|   Nisl Arcu Limited|opticians, optica...|            c|     1.86|    1356405|  NSW|  Male|              0|                45|                         1603|                        663|               370|                     1582|                         0.8|                     1260|                   2.3|     Manufacturing|                      17.0|\n",
       "|    2452|     16|    2021-06-30| 11566786699|125.65067714162808|Euismod Et Institute|opticians, optica...|            c|     2.62|    1356405|  NSW|  Male|              0|                45|                         1603|                        663|               370|                     1582|                         0.8|                     1260|                   2.3|     Manufacturing|                      17.0|\n",
       "|    2452|     16|    2021-08-07| 71674475255| 65.16914816994323|  Lacinia Mattis LLC|opticians, optica...|            b|     3.81|    1356405|  NSW|  Male|              0|                45|                         1603|                        663|               370|                     1582|                         0.8|                     1260|                   2.3|     Manufacturing|                      17.0|\n",
       "|    2452|     16|    2021-06-05| 80389596712| 92.69744615275272|         Lacinia LLC|opticians, optica...|            b|     4.15|    1356405|  NSW|  Male|              0|                45|                         1603|                        663|               370|                     1582|                         0.8|                     1260|                   2.3|     Manufacturing|                      17.0|\n",
       "|    2452|     16|    2021-06-07| 46804135891|57.322804971480885|Suspendisse Dui C...|opticians, optica...|            c|     2.93|    1356405|  NSW|  Male|              0|                45|                         1603|                        663|               370|                     1582|                         0.8|                     1260|                   2.3|     Manufacturing|                      17.0|\n",
       "|    2452|     16|    2021-06-02| 39088614710| 157.3933456215878|   Ut Eros Institute|opticians, optica...|            a|     5.67|    1356405|  NSW|  Male|              0|                45|                         1603|                        663|               370|                     1582|                         0.8|                     1260|                   2.3|     Manufacturing|                      17.0|\n",
       "|    2452|     16|    2021-11-05| 48534649627|53.548680503648065|Dignissim Maecena...|opticians, optica...|            a|     6.64|    1356405|  NSW|  Male|              0|                45|                         1603|                        663|               370|                     1582|                         0.8|                     1260|                   2.3|     Manufacturing|                      17.0|\n",
       "|    2452|     16|    2021-09-23| 46804135891|23.173524678300442|Suspendisse Dui C...|opticians, optica...|            c|     2.93|    1356405|  NSW|  Male|              0|                45|                         1603|                        663|               370|                     1582|                         0.8|                     1260|                   2.3|     Manufacturing|                      17.0|\n",
       "|    2452|     16|    2021-09-16| 46804135891|16.258619260302098|Suspendisse Dui C...|opticians, optica...|            c|     2.93|    1356405|  NSW|  Male|              0|                45|                         1603|                        663|               370|                     1582|                         0.8|                     1260|                   2.3|     Manufacturing|                      17.0|\n",
       "|    2452|     16|    2021-11-01| 46804135891| 10.47516656638479|Suspendisse Dui C...|opticians, optica...|            c|     2.93|    1356405|  NSW|  Male|              0|                45|                         1603|                        663|               370|                     1582|                         0.8|                     1260|                   2.3|     Manufacturing|                      17.0|\n",
       "|    2452|     16|    2021-10-02| 25674631453|119.69747747276881|Venenatis Lacus E...|opticians, optica...|            c|     2.56|    1356405|  NSW|  Male|              0|                45|                         1603|                        663|               370|                     1582|                         0.8|                     1260|                   2.3|     Manufacturing|                      17.0|\n",
       "|    2452|     16|    2021-09-01| 46804135891| 81.46574147167959|Suspendisse Dui C...|opticians, optica...|            c|     2.93|    1356405|  NSW|  Male|              0|                45|                         1603|                        663|               370|                     1582|                         0.8|                     1260|                   2.3|     Manufacturing|                      17.0|\n",
       "|    2452|     16|    2022-01-25| 46804135891|23.776412444750825|Suspendisse Dui C...|opticians, optica...|            c|     2.93|    1356405|  NSW|  Male|              0|                45|                         1603|                        663|               370|                     1582|                         0.8|                     1260|                   2.3|     Manufacturing|                      17.0|\n",
       "|    2452|     16|    2022-02-01| 42191818419|232.09388320321344|              Sit PC|opticians, optica...|            a|     6.67|    1356405|  NSW|  Male|              0|                45|                         1603|                        663|               370|                     1582|                         0.8|                     1260|                   2.3|     Manufacturing|                      17.0|\n",
       "|    2452|     16|    2022-10-08| 11237511112| 227.1683543831561|     Magna Institute|opticians, optica...|            c|     2.11|    1356405|  NSW|  Male|              0|                45|                         1603|                        663|               370|                     1582|                         0.8|                     1260|                   2.3|     Manufacturing|                      17.0|\n",
       "|    2452|     16|    2022-10-23| 74019238521|60.155293644282665|          Ac Limited|opticians, optica...|            b|     3.69|    1356405|  NSW|  Male|              0|                45|                         1603|                        663|               370|                     1582|                         0.8|                     1260|                   2.3|     Manufacturing|                      17.0|\n",
       "|    2452|     16|    2022-05-21| 30801495844|15.630192496294026|Nunc Ullamcorper ...|opticians, optica...|            b|     4.58|    1356405|  NSW|  Male|              0|                45|                         1603|                        663|               370|                     1582|                         0.8|                     1260|                   2.3|     Manufacturing|                      17.0|\n",
       "|    2452|     16|    2022-07-01| 22059270846|  15.8316912062586|Montes Nascetur R...|opticians, optica...|            a|     6.59|    1356405|  NSW|  Male|              0|                45|                         1603|                        663|               370|                     1582|                         0.8|                     1260|                   2.3|     Manufacturing|                      17.0|\n",
       "|    2452|     16|    2022-06-17| 67797658023|27.945782566191692|         Enim Mi Ltd|opticians, optica...|            c|     2.93|    1356405|  NSW|  Male|              0|                45|                         1603|                        663|               370|                     1582|                         0.8|                     1260|                   2.3|     Manufacturing|                      17.0|\n",
       "+--------+-------+--------------+------------+------------------+--------------------+--------------------+-------------+---------+-----------+-----+------+---------------+------------------+-----------------------------+---------------------------+------------------+-------------------------+----------------------------+-------------------------+----------------------+------------------+--------------------------+\n",
       "only showing top 20 rows"
      ]
     },
     "execution_count": 23,
     "metadata": {},
     "output_type": "execute_result"
    }
   ],
   "source": [
    "# add the business_area_type into clean_full_dataset\n",
    "clean_full = clean_full.join(allocation_sdf, clean_full.business_area == allocation_sdf.business_area).drop(allocation_sdf.business_area)\n",
    "clean_full"
   ]
  },
  {
   "cell_type": "code",
   "execution_count": 24,
   "metadata": {},
   "outputs": [
    {
     "name": "stderr",
     "output_type": "stream",
     "text": [
      "                                                                                \r"
     ]
    }
   ],
   "source": [
    "# save dataset\n",
    "clean_full.write.mode('overwrite').parquet('../data/curated/clean_full_dataset/')"
   ]
  }
 ],
 "metadata": {
  "kernelspec": {
   "display_name": "Python 3.8.10 64-bit",
   "language": "python",
   "name": "python3"
  },
  "language_info": {
   "codemirror_mode": {
    "name": "ipython",
    "version": 3
   },
   "file_extension": ".py",
   "mimetype": "text/x-python",
   "name": "python",
   "nbconvert_exporter": "python",
   "pygments_lexer": "ipython3",
   "version": "3.8.10"
  },
  "orig_nbformat": 4,
  "vscode": {
   "interpreter": {
    "hash": "916dbcbb3f70747c44a77c7bcd40155683ae19c65e1c03b4aa3499c5328201f1"
   }
  }
 },
 "nbformat": 4,
 "nbformat_minor": 2
}
