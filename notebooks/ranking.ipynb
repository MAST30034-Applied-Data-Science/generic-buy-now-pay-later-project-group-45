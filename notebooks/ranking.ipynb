{
 "cells": [
  {
   "cell_type": "code",
   "execution_count": 1,
   "id": "senior-analysis",
   "metadata": {},
   "outputs": [],
   "source": [
    "# create modeling spark session\n",
    "from pyspark.sql import SparkSession\n",
    "\n",
    "spark = (\n",
    "    SparkSession.builder.appName('Project 2')\n",
    "    .config('spark.sql.repl.eagerEval.enabled', True) \n",
    "    .config('spark.sql.parquet.cacheMetadata', 'true')\n",
    "    .config(\"spark.sql.session.timeZone\", \"Etc/UTC\")\n",
    "    .config(\"spark.executor.memory\", \"8g\")\n",
    "    .config(\"spark.driver.memory\", \"8g\")\n",
    "    .getOrCreate()\n",
    ")"
   ]
  },
  {
   "cell_type": "code",
   "execution_count": 6,
   "id": "advisory-craft",
   "metadata": {},
   "outputs": [],
   "source": [
    "from pyspark.sql import functions as F"
   ]
  },
  {
   "cell_type": "code",
   "execution_count": 3,
   "id": "alien-childhood",
   "metadata": {},
   "outputs": [
    {
     "data": {
      "text/html": [
       "<table border='1'>\n",
       "<tr><th>business_area_type</th><th>merchant_abn</th><th>total_transactions_count</th><th>avg_total_value</th><th>name</th><th>business_area</th><th>revenue_level</th><th>take_rate</th><th>consumer_scaled_spare_money</th><th>ap_percentage_by_gender</th><th>annual_turnover_percentage</th></tr>\n",
       "<tr><td>Retail trade</td><td>11788487195</td><td>184</td><td>1087.1773317511631</td><td>Id Magna LLP</td><td>music shops - mus...</td><td>b</td><td> 3.51</td><td>0.0802806368019285</td><td>0.08715760869565217</td><td>21.9</td></tr>\n",
       "<tr><td>Retail trade</td><td>59962058395</td><td>377</td><td>306.7863223809038</td><td>Pellentesque Tinc...</td><td>florists supplies...</td><td>d</td><td> 1.31</td><td>0.2537913711493971</td><td>0.08339655172413794</td><td>21.9</td></tr>\n",
       "<tr><td>Retail trade</td><td>33765505000</td><td>29</td><td>829.8756270760261</td><td>Ut Nulla Associates</td><td>tent and awning s...</td><td>c</td><td> 1.58</td><td>-0.03067390145974...</td><td>0.08339655172413794</td><td>21.9</td></tr>\n",
       "<tr><td>Manufacturing</td><td>72167534195</td><td>778</td><td>93.60350729533076</td><td>Quisque Libero Co...</td><td>opticians, optica...</td><td>b</td><td> 4.11</td><td>0.1763360446096375</td><td>0.08581362467866326</td><td>17.0</td></tr>\n",
       "<tr><td>Retail trade</td><td>87285933135</td><td>324</td><td>97.10476271896748</td><td>Proin Vel Associates</td><td>shoe shops</td><td>c</td><td> 1.67</td><td>0.2756853056509352</td><td>0.08700617283950617</td><td>21.9</td></tr>\n",
       "</table>\n"
      ],
      "text/plain": [
       "+------------------+------------+------------------------+------------------+--------------------+--------------------+-------------+---------+---------------------------+-----------------------+--------------------------+\n",
       "|business_area_type|merchant_abn|total_transactions_count|   avg_total_value|                name|       business_area|revenue_level|take_rate|consumer_scaled_spare_money|ap_percentage_by_gender|annual_turnover_percentage|\n",
       "+------------------+------------+------------------------+------------------+--------------------+--------------------+-------------+---------+---------------------------+-----------------------+--------------------------+\n",
       "|      Retail trade| 11788487195|                     184|1087.1773317511631|        Id Magna LLP|music shops - mus...|            b|     3.51|         0.0802806368019285|    0.08715760869565217|                      21.9|\n",
       "|      Retail trade| 59962058395|                     377| 306.7863223809038|Pellentesque Tinc...|florists supplies...|            d|     1.31|         0.2537913711493971|    0.08339655172413794|                      21.9|\n",
       "|      Retail trade| 33765505000|                      29| 829.8756270760261| Ut Nulla Associates|tent and awning s...|            c|     1.58|       -0.03067390145974...|    0.08339655172413794|                      21.9|\n",
       "|     Manufacturing| 72167534195|                     778| 93.60350729533076|Quisque Libero Co...|opticians, optica...|            b|     4.11|         0.1763360446096375|    0.08581362467866326|                      17.0|\n",
       "|      Retail trade| 87285933135|                     324| 97.10476271896748|Proin Vel Associates|          shoe shops|            c|     1.67|         0.2756853056509352|    0.08700617283950617|                      21.9|\n",
       "+------------------+------------+------------------------+------------------+--------------------+--------------------+-------------+---------+---------------------------+-----------------------+--------------------------+"
      ]
     },
     "execution_count": 3,
     "metadata": {},
     "output_type": "execute_result"
    }
   ],
   "source": [
    "data = spark.read.parquet('../data/curated/final_dataset')\n",
    "data.limit(5)"
   ]
  },
  {
   "cell_type": "markdown",
   "id": "presidential-ambassador",
   "metadata": {},
   "source": [
    "If we use annual transaction count to predict revenue, then run the following"
   ]
  },
  {
   "cell_type": "code",
   "execution_count": 4,
   "id": "sweet-transportation",
   "metadata": {},
   "outputs": [],
   "source": [
    "clean_transaction = spark.read.parquet('../data/curated/clean_full_dataset')"
   ]
  },
  {
   "cell_type": "code",
   "execution_count": 7,
   "id": "handed-penalty",
   "metadata": {},
   "outputs": [],
   "source": [
    "annual_transaction_count = clean_transaction.filter(F.col(\"order_datetime\")>\"2021-08-27\")"
   ]
  },
  {
   "cell_type": "code",
   "execution_count": 9,
   "id": "respective-philosophy",
   "metadata": {},
   "outputs": [],
   "source": [
    "annual_merchant_transaction = annual_transaction_count.groupby(\"merchant_abn\").count()"
   ]
  },
  {
   "cell_type": "code",
   "execution_count": 36,
   "id": "capital-ontario",
   "metadata": {},
   "outputs": [],
   "source": [
    "full_data = data.join(annual_merchant_transaction, on=\"merchant_abn\", how=\"left\")"
   ]
  },
  {
   "cell_type": "code",
   "execution_count": 46,
   "id": "liable-passion",
   "metadata": {},
   "outputs": [
    {
     "data": {
      "text/html": [
       "<table border='1'>\n",
       "<tr><th>merchant_abn</th><th>business_area_type</th><th>total_transactions_count</th><th>avg_total_value</th><th>name</th><th>business_area</th><th>revenue_level</th><th>take_rate</th><th>consumer_scaled_spare_money</th><th>ap_percentage_by_gender</th><th>annual_turnover_percentage</th><th>count</th><th>expected_transaction</th><th>expected_revenue</th></tr>\n",
       "<tr><td>48214071373</td><td>Retail trade</td><td>469</td><td>300.94198389965146</td><td>Ridiculus LLC</td><td>motor vehicle sup...</td><td>b</td><td> 4.02</td><td>0.12917558022955608</td><td>0.08647547974413645</td><td>21.9</td><td>341</td><td>571</td><td>1076.3472939635901</td></tr>\n",
       "<tr><td>73256306726</td><td>Other services</td><td>4749</td><td>284.38398242669064</td><td>Id LLP</td><td>health and beauty...</td><td>b</td><td> 4.81</td><td>0.03254363266004481</td><td>0.08505043166982523</td><td>2.4</td><td>3371</td><td>4862</td><td>10304.839590355643</td></tr>\n",
       "<tr><td>83412691377</td><td>Other services</td><td>12748</td><td>34.92686555664642</td><td>Suspendisse Sagit...</td><td>watch, clock, and...</td><td>c</td><td> 2.94</td><td>-0.00802709826851...</td><td>0.08502627863194226</td><td>2.4</td><td>9103</td><td>13053</td><td>2077.0194547644774</td></tr>\n",
       "<tr><td>34440496342</td><td>Manufacturing</td><td>192</td><td>89.5003676383182</td><td>Mauris Nulla Inte...</td><td>opticians, optica...</td><td>c</td><td> 2.85</td><td>0.2587477349990235</td><td>0.08978906250000002</td><td>17.0</td><td>135</td><td>224</td><td>91.01113384405302</td></tr>\n",
       "<tr><td>38700038932</td><td>Retail trade</td><td>6383</td><td>1337.4804473531829</td><td>Etiam Bibendum In...</td><td>tent and awning s...</td><td>a</td><td> 6.31</td><td>-0.06052124811389448</td><td>0.08520852263825789</td><td>21.9</td><td>4537</td><td>7780</td><td>101831.02658068773</td></tr>\n",
       "<tr><td>73841664453</td><td>Retail trade</td><td>852</td><td>86.86264397291626</td><td>Lacinia At LLP</td><td>digital goods: bo...</td><td>a</td><td> 5.55</td><td>0.13532990735039052</td><td>0.08460504694835681</td><td>21.9</td><td>591</td><td>1038</td><td>769.7011803877275</td></tr>\n",
       "<tr><td>78916025936</td><td>Retail trade</td><td>64</td><td>319.68115127325086</td><td>Urna Nec Corporation</td><td>florists supplies...</td><td>e</td><td> 0.37</td><td>0.21464664863316452</td><td>0.08645312499999999</td><td>21.9</td><td>48</td><td>78</td><td>13.555120176288384</td></tr>\n",
       "<tr><td>60654402457</td><td>Retail trade</td><td>171</td><td>86.2293852509412</td><td>Lacus Quisque Imp...</td><td>digital goods: bo...</td><td>b</td><td> 3.52</td><td>-4.008149999537232</td><td>0.07943567251461989</td><td>21.9</td><td>119</td><td>208</td><td>92.75798446706048</td></tr>\n",
       "<tr><td>19839532017</td><td>Retail trade</td><td>674</td><td>157.0</td><td>Pellentesque Habi...</td><td>cable, satellite,...</td><td>b</td><td> 4.94</td><td>-0.8502169050815052</td><td>0.08522848664688427</td><td>21.9</td><td>484</td><td>821</td><td>980.8760260000001</td></tr>\n",
       "<tr><td>38986645707</td><td>Retail trade</td><td>38</td><td>943.1286654741962</td><td>Lectus Justo LLC</td><td>bicycle shops - s...</td><td>c</td><td> 1.72</td><td>0.27008298844572065</td><td>0.08951315789473684</td><td>21.9</td><td>30</td><td>46</td><td>117.12149019324757</td></tr>\n",
       "<tr><td>52763133264</td><td>Other services</td><td>113</td><td>114.27153104102972</td><td>Dui Lectus LLP</td><td>watch, clock, and...</td><td>a</td><td> 5.63</td><td>0.16087308805544917</td><td>0.08792920353982302</td><td>2.4</td><td>75</td><td>115</td><td>116.12444391686002</td></tr>\n",
       "<tr><td>37935728745</td><td>Retail trade</td><td>10</td><td>10566.89946101738</td><td>Laoreet Lectus Qu...</td><td>antique shops - s...</td><td>b</td><td> 4.12</td><td>-0.05040006524845066</td><td>0.09465</td><td>21.9</td><td>7</td><td>12</td><td>801.0555143408055</td></tr>\n",
       "<tr><td>12516851436</td><td>Other services</td><td>187</td><td>150.9024266784057</td><td>Mollis Corp.</td><td>watch, clock, and...</td><td>a</td><td> 6.71</td><td>0.1250002608992218</td><td>0.08517379679144385</td><td>2.4</td><td>135</td><td>191</td><td>297.3874866206545</td></tr>\n",
       "<tr><td>41956465747</td><td>Retail trade</td><td>248</td><td>226.0095831664382</td><td>Pede Cras LLP</td><td>motor vehicle sup...</td><td>b</td><td> 3.79</td><td>-2.796583732791726</td><td>0.08574596774193549</td><td>21.9</td><td>183</td><td>302</td><td>395.22431414064954</td></tr>\n",
       "<tr><td>15613631617</td><td>Retail trade</td><td>1605</td><td>303.19752717300236</td><td>Ante Industries</td><td>motor vehicle sup...</td><td>e</td><td> 0.35</td><td>0.18300817410083073</td><td>0.08377071651090343</td><td>21.9</td><td>1090</td><td>1956</td><td>318.27250822404403</td></tr>\n",
       "<tr><td>35344855546</td><td>Other services</td><td>1354</td><td>86.96448931968318</td><td>Quis Tristique Ac...</td><td>watch, clock, and...</td><td>c</td><td> 2.92</td><td>0.08176758785807266</td><td>0.08453138847858199</td><td>2.4</td><td>970</td><td>1386</td><td>543.4744881225989</td></tr>\n",
       "<tr><td>57798993346</td><td>Retail trade</td><td>13</td><td>1059.4243830742282</td><td>Malesuada LLC</td><td>tent and awning s...</td><td>b</td><td> 4.34</td><td>-0.7332225844323252</td><td>0.0901923076923077</td><td>21.9</td><td>10</td><td>15</td><td>94.25698736211409</td></tr>\n",
       "<tr><td>96946925998</td><td>Retail trade</td><td>118</td><td>995.3474396941197</td><td>Nisi Cum Corporation</td><td>music shops - mus...</td><td>a</td><td> 5.99</td><td>-0.07625140665450109</td><td>0.08653389830508476</td><td>21.9</td><td>76</td><td>143</td><td>1312.265069145288</td></tr>\n",
       "<tr><td>92202115241</td><td>Retail trade</td><td>107</td><td>329.71884158166876</td><td>Fames Ac Turpis L...</td><td>books, periodical...</td><td>a</td><td> 5.66</td><td>0.023783192866247596</td><td>0.08778037383177571</td><td>21.9</td><td>72</td><td>130</td><td>375.1079373138013</td></tr>\n",
       "<tr><td>37935728745</td><td>Retail trade</td><td>10</td><td>10566.89946101738</td><td>Laoreet Lectus Qu...</td><td>antique shops - s...</td><td>b</td><td> 4.12</td><td>-0.05040006524845066</td><td>0.09465</td><td>21.9</td><td>7</td><td>12</td><td>801.0555143408055</td></tr>\n",
       "</table>\n",
       "only showing top 20 rows\n"
      ],
      "text/plain": [
       "+------------+------------------+------------------------+------------------+--------------------+--------------------+-------------+---------+---------------------------+-----------------------+--------------------------+-----+--------------------+------------------+\n",
       "|merchant_abn|business_area_type|total_transactions_count|   avg_total_value|                name|       business_area|revenue_level|take_rate|consumer_scaled_spare_money|ap_percentage_by_gender|annual_turnover_percentage|count|expected_transaction|  expected_revenue|\n",
       "+------------+------------------+------------------------+------------------+--------------------+--------------------+-------------+---------+---------------------------+-----------------------+--------------------------+-----+--------------------+------------------+\n",
       "| 48214071373|      Retail trade|                     469|300.94198389965146|       Ridiculus LLC|motor vehicle sup...|            b|     4.02|        0.12917558022955608|    0.08647547974413645|                      21.9|  341|                 571|1076.3472939635901|\n",
       "| 73256306726|    Other services|                    4749|284.38398242669064|              Id LLP|health and beauty...|            b|     4.81|        0.03254363266004481|    0.08505043166982523|                       2.4| 3371|                4862|10304.839590355643|\n",
       "| 83412691377|    Other services|                   12748| 34.92686555664642|Suspendisse Sagit...|watch, clock, and...|            c|     2.94|       -0.00802709826851...|    0.08502627863194226|                       2.4| 9103|               13053|2077.0194547644774|\n",
       "| 34440496342|     Manufacturing|                     192|  89.5003676383182|Mauris Nulla Inte...|opticians, optica...|            c|     2.85|         0.2587477349990235|    0.08978906250000002|                      17.0|  135|                 224| 91.01113384405302|\n",
       "| 38700038932|      Retail trade|                    6383|1337.4804473531829|Etiam Bibendum In...|tent and awning s...|            a|     6.31|       -0.06052124811389448|    0.08520852263825789|                      21.9| 4537|                7780|101831.02658068773|\n",
       "| 73841664453|      Retail trade|                     852| 86.86264397291626|      Lacinia At LLP|digital goods: bo...|            a|     5.55|        0.13532990735039052|    0.08460504694835681|                      21.9|  591|                1038| 769.7011803877275|\n",
       "| 78916025936|      Retail trade|                      64|319.68115127325086|Urna Nec Corporation|florists supplies...|            e|     0.37|        0.21464664863316452|    0.08645312499999999|                      21.9|   48|                  78|13.555120176288384|\n",
       "| 60654402457|      Retail trade|                     171|  86.2293852509412|Lacus Quisque Imp...|digital goods: bo...|            b|     3.52|         -4.008149999537232|    0.07943567251461989|                      21.9|  119|                 208| 92.75798446706048|\n",
       "| 19839532017|      Retail trade|                     674|             157.0|Pellentesque Habi...|cable, satellite,...|            b|     4.94|        -0.8502169050815052|    0.08522848664688427|                      21.9|  484|                 821| 980.8760260000001|\n",
       "| 38986645707|      Retail trade|                      38| 943.1286654741962|    Lectus Justo LLC|bicycle shops - s...|            c|     1.72|        0.27008298844572065|    0.08951315789473684|                      21.9|   30|                  46|117.12149019324757|\n",
       "| 52763133264|    Other services|                     113|114.27153104102972|      Dui Lectus LLP|watch, clock, and...|            a|     5.63|        0.16087308805544917|    0.08792920353982302|                       2.4|   75|                 115|116.12444391686002|\n",
       "| 37935728745|      Retail trade|                      10| 10566.89946101738|Laoreet Lectus Qu...|antique shops - s...|            b|     4.12|       -0.05040006524845066|                0.09465|                      21.9|    7|                  12| 801.0555143408055|\n",
       "| 12516851436|    Other services|                     187| 150.9024266784057|        Mollis Corp.|watch, clock, and...|            a|     6.71|         0.1250002608992218|    0.08517379679144385|                       2.4|  135|                 191| 297.3874866206545|\n",
       "| 41956465747|      Retail trade|                     248| 226.0095831664382|       Pede Cras LLP|motor vehicle sup...|            b|     3.79|         -2.796583732791726|    0.08574596774193549|                      21.9|  183|                 302|395.22431414064954|\n",
       "| 15613631617|      Retail trade|                    1605|303.19752717300236|     Ante Industries|motor vehicle sup...|            e|     0.35|        0.18300817410083073|    0.08377071651090343|                      21.9| 1090|                1956|318.27250822404403|\n",
       "| 35344855546|    Other services|                    1354| 86.96448931968318|Quis Tristique Ac...|watch, clock, and...|            c|     2.92|        0.08176758785807266|    0.08453138847858199|                       2.4|  970|                1386| 543.4744881225989|\n",
       "| 57798993346|      Retail trade|                      13|1059.4243830742282|       Malesuada LLC|tent and awning s...|            b|     4.34|        -0.7332225844323252|     0.0901923076923077|                      21.9|   10|                  15| 94.25698736211409|\n",
       "| 96946925998|      Retail trade|                     118| 995.3474396941197|Nisi Cum Corporation|music shops - mus...|            a|     5.99|       -0.07625140665450109|    0.08653389830508476|                      21.9|   76|                 143| 1312.265069145288|\n",
       "| 92202115241|      Retail trade|                     107|329.71884158166876|Fames Ac Turpis L...|books, periodical...|            a|     5.66|       0.023783192866247596|    0.08778037383177571|                      21.9|   72|                 130| 375.1079373138013|\n",
       "| 37935728745|      Retail trade|                      10| 10566.89946101738|Laoreet Lectus Qu...|antique shops - s...|            b|     4.12|       -0.05040006524845066|                0.09465|                      21.9|    7|                  12| 801.0555143408055|\n",
       "+------------+------------------+------------------------+------------------+--------------------+--------------------+-------------+---------+---------------------------+-----------------------+--------------------------+-----+--------------------+------------------+\n",
       "only showing top 20 rows"
      ]
     },
     "execution_count": 46,
     "metadata": {},
     "output_type": "execute_result"
    }
   ],
   "source": [
    "full_data"
   ]
  },
  {
   "cell_type": "code",
   "execution_count": 37,
   "id": "logical-breakdown",
   "metadata": {},
   "outputs": [],
   "source": [
    "full_data = full_data.withColumn(\"expected_transaction\", (F.col(\"total_transactions_count\")*\n",
    "                                 (1+F.col(\"annual_turnover_percentage\")/100)).cast(\"int\"))"
   ]
  },
  {
   "cell_type": "code",
   "execution_count": 50,
   "id": "african-macedonia",
   "metadata": {},
   "outputs": [],
   "source": [
    "full_data = full_data.withColumn(\"expected_revenue\", \\\n",
    "                        ((F.col(\"expected_transaction\")*F.col(\"ap_percentage_by_gender\")).cast(\"int\")\\\n",
    "                        *F.col(\"avg_total_value\")+(F.col(\"expected_transaction\")*0.07*\\\n",
    "                            F.col(\"avg_total_value\")))*F.col(\"take_rate\")/100)\n"
   ]
  },
  {
   "cell_type": "code",
   "execution_count": 51,
   "id": "potential-courtesy",
   "metadata": {},
   "outputs": [],
   "source": [
    "ranking = full_data.select(\"merchant_abn\", \"name\", \"business_area\", \"expected_revenue\")"
   ]
  },
  {
   "cell_type": "code",
   "execution_count": 52,
   "id": "bound-fundamentals",
   "metadata": {},
   "outputs": [
    {
     "data": {
      "text/html": [
       "<table border='1'>\n",
       "<tr><th>merchant_abn</th><th>name</th><th>business_area</th><th>expected_revenue</th></tr>\n",
       "<tr><td>79827781481</td><td>Amet Risus Inc.</td><td>furniture, home f...</td><td>108018.3380069306</td></tr>\n",
       "<tr><td>32361057556</td><td>Orci In Consequat...</td><td>gift, card, novel...</td><td>105036.50024917642</td></tr>\n",
       "<tr><td>38700038932</td><td>Etiam Bibendum In...</td><td>tent and awning s...</td><td>101831.02658068773</td></tr>\n",
       "<tr><td>48534649627</td><td>Dignissim Maecena...</td><td>opticians, optica...</td><td>100859.6176281757</td></tr>\n",
       "<tr><td>45629217853</td><td>Lacus Consulting</td><td>gift, card, novel...</td><td>98872.32144781435</td></tr>\n",
       "<tr><td>96680767841</td><td>Ornare Limited</td><td>motor vehicle sup...</td><td>97657.09041580516</td></tr>\n",
       "<tr><td>21439773999</td><td>Mauris Non Institute</td><td>cable, satellite,...</td><td>96867.2069639873</td></tr>\n",
       "<tr><td>63123845164</td><td>Odio Phasellus In...</td><td>artist supply and...</td><td>94992.92399436876</td></tr>\n",
       "<tr><td>64403598239</td><td>Lobortis Ultrices...</td><td>music shops - mus...</td><td>94273.21732778347</td></tr>\n",
       "<tr><td>89726005175</td><td>Est Nunc Consulting</td><td>tent and awning s...</td><td>90160.84702400741</td></tr>\n",
       "<tr><td>86578477987</td><td>Leo In Consulting</td><td>watch, clock, and...</td><td>86810.40418850892</td></tr>\n",
       "<tr><td>94493496784</td><td>Dictum Phasellus ...</td><td>gift, card, novel...</td><td>86620.10034673582</td></tr>\n",
       "<tr><td>82368304209</td><td>Nec Incorporated</td><td>telecom</td><td>86250.80749002277</td></tr>\n",
       "<tr><td>40515428545</td><td>Elit Sed Consequa...</td><td>artist supply and...</td><td>77328.25758555409</td></tr>\n",
       "<tr><td>72472909171</td><td>Nullam Consulting</td><td>digital goods: bo...</td><td>76350.5810192905</td></tr>\n",
       "<tr><td>79417999332</td><td>Phasellus At Company</td><td>gift, card, novel...</td><td>76191.00364182018</td></tr>\n",
       "<tr><td>67978471888</td><td>Magna Malesuada C...</td><td>artist supply and...</td><td>75793.25386924406</td></tr>\n",
       "<tr><td>80551528183</td><td>Ac Ipsum LLC</td><td>tent and awning s...</td><td>70992.44585397435</td></tr>\n",
       "<tr><td>49322182190</td><td>Gravida Mauris In...</td><td>watch, clock, and...</td><td>70615.75684916414</td></tr>\n",
       "<tr><td>35909341340</td><td>Arcu Sed Eu Incor...</td><td>computer programm...</td><td>70356.20179826152</td></tr>\n",
       "</table>\n",
       "only showing top 20 rows\n"
      ],
      "text/plain": [
       "+------------+--------------------+--------------------+------------------+\n",
       "|merchant_abn|                name|       business_area|  expected_revenue|\n",
       "+------------+--------------------+--------------------+------------------+\n",
       "| 79827781481|     Amet Risus Inc.|furniture, home f...| 108018.3380069306|\n",
       "| 32361057556|Orci In Consequat...|gift, card, novel...|105036.50024917642|\n",
       "| 38700038932|Etiam Bibendum In...|tent and awning s...|101831.02658068773|\n",
       "| 48534649627|Dignissim Maecena...|opticians, optica...| 100859.6176281757|\n",
       "| 45629217853|    Lacus Consulting|gift, card, novel...| 98872.32144781435|\n",
       "| 96680767841|      Ornare Limited|motor vehicle sup...| 97657.09041580516|\n",
       "| 21439773999|Mauris Non Institute|cable, satellite,...|  96867.2069639873|\n",
       "| 63123845164|Odio Phasellus In...|artist supply and...| 94992.92399436876|\n",
       "| 64403598239|Lobortis Ultrices...|music shops - mus...| 94273.21732778347|\n",
       "| 89726005175| Est Nunc Consulting|tent and awning s...| 90160.84702400741|\n",
       "| 86578477987|   Leo In Consulting|watch, clock, and...| 86810.40418850892|\n",
       "| 94493496784|Dictum Phasellus ...|gift, card, novel...| 86620.10034673582|\n",
       "| 82368304209|    Nec Incorporated|             telecom| 86250.80749002277|\n",
       "| 40515428545|Elit Sed Consequa...|artist supply and...| 77328.25758555409|\n",
       "| 72472909171|   Nullam Consulting|digital goods: bo...|  76350.5810192905|\n",
       "| 79417999332|Phasellus At Company|gift, card, novel...| 76191.00364182018|\n",
       "| 67978471888|Magna Malesuada C...|artist supply and...| 75793.25386924406|\n",
       "| 80551528183|        Ac Ipsum LLC|tent and awning s...| 70992.44585397435|\n",
       "| 49322182190|Gravida Mauris In...|watch, clock, and...| 70615.75684916414|\n",
       "| 35909341340|Arcu Sed Eu Incor...|computer programm...| 70356.20179826152|\n",
       "+------------+--------------------+--------------------+------------------+\n",
       "only showing top 20 rows"
      ]
     },
     "execution_count": 52,
     "metadata": {},
     "output_type": "execute_result"
    }
   ],
   "source": [
    "ranking.orderBy(F.col(\"expected_revenue\").desc())"
   ]
  },
  {
   "cell_type": "code",
   "execution_count": 45,
   "id": "upset-choir",
   "metadata": {},
   "outputs": [],
   "source": [
    "busi_area_type = []"
   ]
  }
 ],
 "metadata": {
  "kernelspec": {
   "display_name": "Python 3",
   "language": "python",
   "name": "python3"
  },
  "language_info": {
   "codemirror_mode": {
    "name": "ipython",
    "version": 3
   },
   "file_extension": ".py",
   "mimetype": "text/x-python",
   "name": "python",
   "nbconvert_exporter": "python",
   "pygments_lexer": "ipython3",
   "version": "3.9.2"
  }
 },
 "nbformat": 4,
 "nbformat_minor": 5
}
