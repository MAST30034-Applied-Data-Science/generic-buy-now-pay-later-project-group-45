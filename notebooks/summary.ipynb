{
 "cells": [
  {
   "cell_type": "markdown",
   "metadata": {},
   "source": [
    "# The Buy Now & Pay Later (BNPL) project\n",
    "## Introduction \n",
    "Buy Now, Pay Later (BNPL) is a firm offering a new “Pay in 5 Installments” feature. Merchants (also known as retailers) are looking to boost their customer base by forming a partnership with this firm and in return, the BNPL firm gets a small percentage of revenue (take rate) to cover operating cost.\n",
    "This industry project aims to generate a robust ranking system with insights to assist this BNPL firm in finding which merchants they should accept, we also separate the merchants into four segments with business areas and ranked the top-10 merchants in the business area.\n",
    "\n",
    "This notebook intend to summarising the overall approach taken and the limitations/assumptions we made.\n",
    "\n",
    "\n",
    "\n",
    "\n",
    "## Approach\n",
    "### Data\n",
    "#### we use different data from reliable resources\n",
    "\n",
    "- ABS census data (by POS AND STATE)\n",
    "- merchant transaction data\n",
    "- industry turnover data\n",
    "\n",
    "### Preprocessing\n",
    "#### we use different preprocess method to build the ranking model\n",
    "- Data cleaning\n",
    "\n",
    "- Null value evaluation\n",
    "\n",
    "- external ABS data merge to transaction data *\n",
    "\n",
    "- Data normalization\n",
    "\n",
    "- Outlier detection and removal ** \n",
    "\n",
    "- fraud data evaluation\n",
    "\n",
    "<b>*</b>we first merge to ABS data with transaction post code, for the leftover postcode which not cover by the ABS data, we will merge those with the corresponding state ABS data.\n",
    "<br><b>**</b>we exclude the merchant that meet these two conditions: 1. has revenue less then 50,000 2. transaction number less then 10  \n",
    "\n",
    "### Ranking Algorithm \n",
    "\n",
    "Our approach to the rank system is to esitmate the merchant expected revenue after join the BNPL and the merchants are ranked by expected revenue:\n",
    "\n",
    "**expected revenue = ap_rate * total_transaction_count * avg_transaction_amount * take_rate_revenue**.\n",
    "\n",
    "where \n",
    "\n",
    "**ap_rate** is the percentage of customers who are likely to use afterpay for their orders, which is calculated combining customer gender, rent and income based on their recorded postcode;\n",
    "\n",
    "**total_transaction_count** is the expected count of transactions of this merchant after cooparated with BNPL company, (i.e. there will be a 7% increasing on transactions statistically);\n",
    "\n",
    "**avg_transaction_amount** is the average amount of existing transactions for this merchant;\n",
    "\n",
    "**take_rate_revenue** is the provided rate of total transaction amount that is the revenue of BNPL company.\n",
    "\n",
    "\n",
    "### Result\n",
    "\n",
    "\n",
    "\n",
    "\n",
    "\n",
    "### limitations/assumptions"
   ]
  }
 ],
 "metadata": {
  "kernelspec": {
   "display_name": "Python 3.10.4 64-bit",
   "language": "python",
   "name": "python3"
  },
  "language_info": {
   "name": "python",
   "version": "3.10.4"
  },
  "orig_nbformat": 4,
  "vscode": {
   "interpreter": {
    "hash": "916dbcbb3f70747c44a77c7bcd40155683ae19c65e1c03b4aa3499c5328201f1"
   }
  }
 },
 "nbformat": 4,
 "nbformat_minor": 2
}
