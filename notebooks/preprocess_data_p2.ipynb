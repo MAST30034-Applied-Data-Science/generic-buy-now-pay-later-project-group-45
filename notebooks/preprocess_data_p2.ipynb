{
 "cells": [
  {
   "cell_type": "code",
   "execution_count": 1,
   "id": "different-infrared",
   "metadata": {},
   "outputs": [
    {
     "name": "stderr",
     "output_type": "stream",
     "text": [
      "Setting default log level to \"WARN\".\n",
      "To adjust logging level use sc.setLogLevel(newLevel). For SparkR, use setLogLevel(newLevel).\n"
     ]
    },
    {
     "name": "stdout",
     "output_type": "stream",
     "text": [
      "22/08/30 18:49:55 WARN NativeCodeLoader: Unable to load native-hadoop library for your platform... using builtin-java classes where applicable\n"
     ]
    }
   ],
   "source": [
    "# create modeling spark session\n",
    "from pyspark.sql import SparkSession\n",
    "\n",
    "spark = (\n",
    "    SparkSession.builder.appName('Project 2 test')\n",
    "    .config('spark.sql.repl.eagerEval.enabled', True) \n",
    "    .config('spark.sql.parquet.cacheMetadata', 'true')\n",
    "    .config(\"spark.sql.session.timeZone\", \"Etc/UTC\")\n",
    "    .config(\"spark.executor.memory\", \"8g\")\n",
    "    .config(\"spark.driver.memory\", \"8g\")\n",
    "    .getOrCreate()\n",
    ")"
   ]
  },
  {
   "cell_type": "code",
   "execution_count": 2,
   "id": "informal-fishing",
   "metadata": {},
   "outputs": [
    {
     "name": "stderr",
     "output_type": "stream",
     "text": [
      "                                                                                \r"
     ]
    },
    {
     "data": {
      "text/html": [
       "<table border='1'>\n",
       "<tr><th>name</th><th>tags</th><th>merchant_abn</th></tr>\n",
       "<tr><td>Felis Limited</td><td>((furniture, home...</td><td>10023283211</td></tr>\n",
       "<tr><td>Arcu Ac Orci Corp...</td><td>([cable, satellit...</td><td>10142254217</td></tr>\n",
       "<tr><td>Nunc Sed Company</td><td>([jewelry, watch,...</td><td>10165489824</td></tr>\n",
       "<tr><td>Ultricies Digniss...</td><td>([wAtch, clock, a...</td><td>10187291046</td></tr>\n",
       "<tr><td>Enim Condimentum PC</td><td>([music shops - m...</td><td>10192359162</td></tr>\n",
       "</table>\n"
      ],
      "text/plain": [
       "+--------------------+--------------------+------------+\n",
       "|                name|                tags|merchant_abn|\n",
       "+--------------------+--------------------+------------+\n",
       "|       Felis Limited|((furniture, home...| 10023283211|\n",
       "|Arcu Ac Orci Corp...|([cable, satellit...| 10142254217|\n",
       "|    Nunc Sed Company|([jewelry, watch,...| 10165489824|\n",
       "|Ultricies Digniss...|([wAtch, clock, a...| 10187291046|\n",
       "| Enim Condimentum PC|([music shops - m...| 10192359162|\n",
       "+--------------------+--------------------+------------+"
      ]
     },
     "execution_count": 2,
     "metadata": {},
     "output_type": "execute_result"
    }
   ],
   "source": [
    "# read merchants data\n",
    "merchants = spark.read.parquet('../data/tables/tbl_merchants.parquet')\n",
    "merchants.limit(5)"
   ]
  },
  {
   "cell_type": "code",
   "execution_count": 3,
   "id": "adolescent-charm",
   "metadata": {},
   "outputs": [],
   "source": [
    "from pyspark.sql import functions as F"
   ]
  },
  {
   "cell_type": "code",
   "execution_count": 4,
   "id": "growing-rally",
   "metadata": {},
   "outputs": [],
   "source": [
    "# tags are seperated by ), ( or ], [, replace these by ### for splitting\n",
    "\n",
    "merchants = merchants.withColumn(\"tags\",F.regexp_replace(F.regexp_replace(\n",
    "    F.col(\"tags\"),\"\\){1},{1}\\s?\\(\",\"###\"),\"\\]{1},{1}\\s?\\[\",\"###\"))\n"
   ]
  },
  {
   "cell_type": "code",
   "execution_count": 5,
   "id": "desirable-authentication",
   "metadata": {},
   "outputs": [
    {
     "name": "stdout",
     "output_type": "stream",
     "text": [
      "+---------------------------------------------------------------------------------------------------------------+\n",
      "|tags                                                                                                           |\n",
      "+---------------------------------------------------------------------------------------------------------------+\n",
      "|((furniture, home furnishings and equipment shops, and manufacturers, except appliances###e###take rate: 0.18))|\n",
      "|([cable, satellite, and otHer pay television and radio services###b###take rate: 4.22])                        |\n",
      "|([jewelry, watch, clock, and silverware shops###b###take rate: 4.40])                                          |\n",
      "|([wAtch, clock, and jewelry repair shops###b###take rate: 3.29])                                               |\n",
      "|([music shops - musical instruments, pianos, and sheet music###a###take rate: 6.33])                           |\n",
      "|[(gift, card, novelty, and souvenir shops###a###take rate: 6.34)]                                              |\n",
      "|[(computers, comPUter peripheral equipment, and softwAre###b###take rate: 4.32)]                               |\n",
      "|[[watch, clock, and jewelry repair shops###c###take rate: 2.39]]                                               |\n",
      "|([computer programming , data processing, and integrated systems design services###a###take rate: 5.71])       |\n",
      "|[(furniture, home furnishings and equipment shopS, and manufacturers, except appliances###a###take rate: 6.61)]|\n",
      "+---------------------------------------------------------------------------------------------------------------+\n",
      "only showing top 10 rows\n",
      "\n"
     ]
    }
   ],
   "source": [
    "# check if correctly replaced\n",
    "merchants.select(\"tags\").show(10, False)"
   ]
  },
  {
   "cell_type": "code",
   "execution_count": 6,
   "id": "liberal-professor",
   "metadata": {},
   "outputs": [],
   "source": [
    "# split tags data to three columns, denoted as business_area, revenue_level and take_rate\n",
    "split_merchants = merchants.withColumn(\"business_area\", F.split(F.col(\"tags\"), \"###\").getItem(0))\\\n",
    "                           .withColumn(\"revenue_level\", F.split(F.col(\"tags\"), \"###\").getItem(1))\\\n",
    "                           .withColumn(\"take_rate\", F.split(F.col(\"tags\"), \"###\").getItem(2))"
   ]
  },
  {
   "cell_type": "code",
   "execution_count": 7,
   "id": "continuous-yemen",
   "metadata": {},
   "outputs": [
    {
     "data": {
      "text/html": [
       "<table border='1'>\n",
       "<tr><th>name</th><th>tags</th><th>merchant_abn</th><th>business_area</th><th>revenue_level</th><th>take_rate</th></tr>\n",
       "<tr><td>Felis Limited</td><td>((furniture, home...</td><td>10023283211</td><td>((furniture, home...</td><td>e</td><td>take rate: 0.18))</td></tr>\n",
       "<tr><td>Arcu Ac Orci Corp...</td><td>([cable, satellit...</td><td>10142254217</td><td>([cable, satellit...</td><td>b</td><td>take rate: 4.22])</td></tr>\n",
       "<tr><td>Nunc Sed Company</td><td>([jewelry, watch,...</td><td>10165489824</td><td>([jewelry, watch,...</td><td>b</td><td>take rate: 4.40])</td></tr>\n",
       "<tr><td>Ultricies Digniss...</td><td>([wAtch, clock, a...</td><td>10187291046</td><td>([wAtch, clock, a...</td><td>b</td><td>take rate: 3.29])</td></tr>\n",
       "<tr><td>Enim Condimentum PC</td><td>([music shops - m...</td><td>10192359162</td><td>([music shops - m...</td><td>a</td><td>take rate: 6.33])</td></tr>\n",
       "</table>\n"
      ],
      "text/plain": [
       "+--------------------+--------------------+------------+--------------------+-------------+-----------------+\n",
       "|                name|                tags|merchant_abn|       business_area|revenue_level|        take_rate|\n",
       "+--------------------+--------------------+------------+--------------------+-------------+-----------------+\n",
       "|       Felis Limited|((furniture, home...| 10023283211|((furniture, home...|            e|take rate: 0.18))|\n",
       "|Arcu Ac Orci Corp...|([cable, satellit...| 10142254217|([cable, satellit...|            b|take rate: 4.22])|\n",
       "|    Nunc Sed Company|([jewelry, watch,...| 10165489824|([jewelry, watch,...|            b|take rate: 4.40])|\n",
       "|Ultricies Digniss...|([wAtch, clock, a...| 10187291046|([wAtch, clock, a...|            b|take rate: 3.29])|\n",
       "| Enim Condimentum PC|([music shops - m...| 10192359162|([music shops - m...|            a|take rate: 6.33])|\n",
       "+--------------------+--------------------+------------+--------------------+-------------+-----------------+"
      ]
     },
     "execution_count": 7,
     "metadata": {},
     "output_type": "execute_result"
    }
   ],
   "source": [
    "split_merchants.limit(5)"
   ]
  },
  {
   "cell_type": "code",
   "execution_count": 8,
   "id": "assured-proxy",
   "metadata": {},
   "outputs": [],
   "source": [
    "split_merchants = split_merchants\\\n",
    "                    .withColumn(\"business_area\",F.regexp_replace(F.col(\"business_area\"),r\"\\(\\[\\)\\]\",\"\"))\n",
    "                    \n"
   ]
  },
  {
   "cell_type": "code",
   "execution_count": 9,
   "id": "challenging-insurance",
   "metadata": {},
   "outputs": [],
   "source": [
    "# remove remaining ()[] punctuation in column business_area and take_rate\n",
    "\n",
    "# obtain take rate in numeric form from take_rate column, \n",
    "# in the form of take rate: d.dd, therefore item 1 is the numeric value\n",
    "\n",
    "# convert string in business_area to lower form\n",
    "\n",
    "# convert string in revenue_level to lower form, just in case if there's a typo\n",
    "\n",
    "curated_merchant = split_merchants\\\n",
    "            .withColumn(\"business_area\", F.regexp_replace(\"business_area\", \"[\\[\\]\\(\\)]\", \"\"))\\\n",
    "            .withColumn(\"take_rate\", F.regexp_replace(\"take_rate\", \"[\\[\\]\\(\\)]\", \"\"))\\\n",
    "            .withColumn(\"take_rate\", F.split(F.col(\"take_rate\"), \":\").getItem(1))\\\n",
    "            .withColumn(\"business_area\", F.lower(F.col('business_area')))\\\n",
    "            .withColumn(\"revenue_level\", F.lower(F.col('revenue_level')))\n",
    "\n",
    "\n",
    "final_merchant = curated_merchant.drop('tags')"
   ]
  },
  {
   "cell_type": "code",
   "execution_count": 10,
   "id": "micro-daisy",
   "metadata": {},
   "outputs": [
    {
     "data": {
      "text/html": [
       "<table border='1'>\n",
       "<tr><th>name</th><th>merchant_abn</th><th>business_area</th><th>revenue_level</th><th>take_rate</th></tr>\n",
       "<tr><td>Felis Limited</td><td>10023283211</td><td>furniture, home f...</td><td>e</td><td> 0.18</td></tr>\n",
       "<tr><td>Arcu Ac Orci Corp...</td><td>10142254217</td><td>cable, satellite,...</td><td>b</td><td> 4.22</td></tr>\n",
       "<tr><td>Nunc Sed Company</td><td>10165489824</td><td>jewelry, watch, c...</td><td>b</td><td> 4.40</td></tr>\n",
       "<tr><td>Ultricies Digniss...</td><td>10187291046</td><td>watch, clock, and...</td><td>b</td><td> 3.29</td></tr>\n",
       "<tr><td>Enim Condimentum PC</td><td>10192359162</td><td>music shops - mus...</td><td>a</td><td> 6.33</td></tr>\n",
       "</table>\n"
      ],
      "text/plain": [
       "+--------------------+------------+--------------------+-------------+---------+\n",
       "|                name|merchant_abn|       business_area|revenue_level|take_rate|\n",
       "+--------------------+------------+--------------------+-------------+---------+\n",
       "|       Felis Limited| 10023283211|furniture, home f...|            e|     0.18|\n",
       "|Arcu Ac Orci Corp...| 10142254217|cable, satellite,...|            b|     4.22|\n",
       "|    Nunc Sed Company| 10165489824|jewelry, watch, c...|            b|     4.40|\n",
       "|Ultricies Digniss...| 10187291046|watch, clock, and...|            b|     3.29|\n",
       "| Enim Condimentum PC| 10192359162|music shops - mus...|            a|     6.33|\n",
       "+--------------------+------------+--------------------+-------------+---------+"
      ]
     },
     "execution_count": 10,
     "metadata": {},
     "output_type": "execute_result"
    }
   ],
   "source": [
    "final_merchant.limit(5)"
   ]
  },
  {
   "cell_type": "code",
   "execution_count": 11,
   "id": "official-floor",
   "metadata": {},
   "outputs": [
    {
     "data": {
      "text/html": [
       "<table border='1'>\n",
       "<tr><th>revenue_level</th><th>count</th></tr>\n",
       "<tr><td>e</td><td>53</td></tr>\n",
       "<tr><td>d</td><td>98</td></tr>\n",
       "<tr><td>c</td><td>922</td></tr>\n",
       "<tr><td>b</td><td>1351</td></tr>\n",
       "<tr><td>a</td><td>1602</td></tr>\n",
       "</table>\n"
      ],
      "text/plain": [
       "+-------------+-----+\n",
       "|revenue_level|count|\n",
       "+-------------+-----+\n",
       "|            e|   53|\n",
       "|            d|   98|\n",
       "|            c|  922|\n",
       "|            b| 1351|\n",
       "|            a| 1602|\n",
       "+-------------+-----+"
      ]
     },
     "execution_count": 11,
     "metadata": {},
     "output_type": "execute_result"
    }
   ],
   "source": [
    "# check if revenue_level match levels (5 types)\n",
    "final_merchant.groupby('revenue_level').count()\n"
   ]
  },
  {
   "cell_type": "code",
   "execution_count": 12,
   "id": "suspected-separate",
   "metadata": {},
   "outputs": [
    {
     "data": {
      "text/html": [
       "<table border='1'>\n",
       "<tr><th>business_area</th><th>count</th></tr>\n",
       "<tr><td>stationery, offic...</td><td>2</td></tr>\n",
       "<tr><td>health  and beaut...</td><td>1</td></tr>\n",
       "<tr><td>opticians, optica...</td><td>145</td></tr>\n",
       "<tr><td>books, periodical...</td><td>5</td></tr>\n",
       "<tr><td>watch, clock, and...</td><td>159</td></tr>\n",
       "<tr><td>computer programm...</td><td>182</td></tr>\n",
       "<tr><td>jewelry, watch, c...</td><td>2</td></tr>\n",
       "<tr><td>tent and  awning ...</td><td>1</td></tr>\n",
       "<tr><td>opticians, optica...</td><td>1</td></tr>\n",
       "<tr><td>books, periodical...</td><td>5</td></tr>\n",
       "<tr><td>lawn and garden  ...</td><td>2</td></tr>\n",
       "<tr><td>furniture, home f...</td><td>1</td></tr>\n",
       "<tr><td>watch,  clock, an...</td><td>2</td></tr>\n",
       "<tr><td>computer programm...</td><td>1</td></tr>\n",
       "<tr><td>hobby, toy and  g...</td><td>1</td></tr>\n",
       "<tr><td>digital goods: bo...</td><td>190</td></tr>\n",
       "<tr><td>computer programm...</td><td>1</td></tr>\n",
       "<tr><td>watch, clock, and...</td><td>4</td></tr>\n",
       "<tr><td>stationery, offic...</td><td>1</td></tr>\n",
       "<tr><td>artist supply  an...</td><td>3</td></tr>\n",
       "</table>\n",
       "only showing top 20 rows\n"
      ],
      "text/plain": [
       "+--------------------+-----+\n",
       "|       business_area|count|\n",
       "+--------------------+-----+\n",
       "|stationery, offic...|    2|\n",
       "|health  and beaut...|    1|\n",
       "|opticians, optica...|  145|\n",
       "|books, periodical...|    5|\n",
       "|watch, clock, and...|  159|\n",
       "|computer programm...|  182|\n",
       "|jewelry, watch, c...|    2|\n",
       "|tent and  awning ...|    1|\n",
       "|opticians, optica...|    1|\n",
       "|books, periodical...|    5|\n",
       "|lawn and garden  ...|    2|\n",
       "|furniture, home f...|    1|\n",
       "|watch,  clock, an...|    2|\n",
       "|computer programm...|    1|\n",
       "|hobby, toy and  g...|    1|\n",
       "|digital goods: bo...|  190|\n",
       "|computer programm...|    1|\n",
       "|watch, clock, and...|    4|\n",
       "|stationery, offic...|    1|\n",
       "|artist supply  an...|    3|\n",
       "+--------------------+-----+\n",
       "only showing top 20 rows"
      ]
     },
     "execution_count": 12,
     "metadata": {},
     "output_type": "execute_result"
    }
   ],
   "source": [
    "# check for different business area\n",
    "final_merchant.groupby('business_area').count()\n"
   ]
  },
  {
   "cell_type": "code",
   "execution_count": 13,
   "id": "automotive-familiar",
   "metadata": {},
   "outputs": [
    {
     "ename": "AnalysisException",
     "evalue": "Path does not exist: file:/Users/aobo/Desktop/Project_2/data/tables/consumer_user_details.parquet",
     "output_type": "error",
     "traceback": [
      "\u001b[0;31m---------------------------------------------------------------------------\u001b[0m",
      "\u001b[0;31mAnalysisException\u001b[0m                         Traceback (most recent call last)",
      "\u001b[0;32m/var/folders/17/2yr72sms5dxfjc_jkzl6nk7m0000gp/T/ipykernel_6810/1360832760.py\u001b[0m in \u001b[0;36m<module>\u001b[0;34m\u001b[0m\n\u001b[0;32m----> 1\u001b[0;31m \u001b[0mconsumer\u001b[0m \u001b[0;34m=\u001b[0m \u001b[0mspark\u001b[0m\u001b[0;34m.\u001b[0m\u001b[0mread\u001b[0m\u001b[0;34m.\u001b[0m\u001b[0mparquet\u001b[0m\u001b[0;34m(\u001b[0m\u001b[0;34m'/Users/aobo/Desktop/Project_2/data/tables/consumer_user_details.parquet'\u001b[0m\u001b[0;34m)\u001b[0m\u001b[0;34m\u001b[0m\u001b[0;34m\u001b[0m\u001b[0m\n\u001b[0m\u001b[1;32m      2\u001b[0m \u001b[0mconsumer\u001b[0m\u001b[0;34m\u001b[0m\u001b[0;34m\u001b[0m\u001b[0m\n",
      "\u001b[0;32m~/opt/anaconda3/lib/python3.9/site-packages/pyspark/sql/readwriter.py\u001b[0m in \u001b[0;36mparquet\u001b[0;34m(self, *paths, **options)\u001b[0m\n\u001b[1;32m    362\u001b[0m         )\n\u001b[1;32m    363\u001b[0m \u001b[0;34m\u001b[0m\u001b[0m\n\u001b[0;32m--> 364\u001b[0;31m         \u001b[0;32mreturn\u001b[0m \u001b[0mself\u001b[0m\u001b[0;34m.\u001b[0m\u001b[0m_df\u001b[0m\u001b[0;34m(\u001b[0m\u001b[0mself\u001b[0m\u001b[0;34m.\u001b[0m\u001b[0m_jreader\u001b[0m\u001b[0;34m.\u001b[0m\u001b[0mparquet\u001b[0m\u001b[0;34m(\u001b[0m\u001b[0m_to_seq\u001b[0m\u001b[0;34m(\u001b[0m\u001b[0mself\u001b[0m\u001b[0;34m.\u001b[0m\u001b[0m_spark\u001b[0m\u001b[0;34m.\u001b[0m\u001b[0m_sc\u001b[0m\u001b[0;34m,\u001b[0m \u001b[0mpaths\u001b[0m\u001b[0;34m)\u001b[0m\u001b[0;34m)\u001b[0m\u001b[0;34m)\u001b[0m\u001b[0;34m\u001b[0m\u001b[0;34m\u001b[0m\u001b[0m\n\u001b[0m\u001b[1;32m    365\u001b[0m \u001b[0;34m\u001b[0m\u001b[0m\n\u001b[1;32m    366\u001b[0m     def text(\n",
      "\u001b[0;32m~/opt/anaconda3/lib/python3.9/site-packages/py4j/java_gateway.py\u001b[0m in \u001b[0;36m__call__\u001b[0;34m(self, *args)\u001b[0m\n\u001b[1;32m   1319\u001b[0m \u001b[0;34m\u001b[0m\u001b[0m\n\u001b[1;32m   1320\u001b[0m         \u001b[0manswer\u001b[0m \u001b[0;34m=\u001b[0m \u001b[0mself\u001b[0m\u001b[0;34m.\u001b[0m\u001b[0mgateway_client\u001b[0m\u001b[0;34m.\u001b[0m\u001b[0msend_command\u001b[0m\u001b[0;34m(\u001b[0m\u001b[0mcommand\u001b[0m\u001b[0;34m)\u001b[0m\u001b[0;34m\u001b[0m\u001b[0;34m\u001b[0m\u001b[0m\n\u001b[0;32m-> 1321\u001b[0;31m         return_value = get_return_value(\n\u001b[0m\u001b[1;32m   1322\u001b[0m             answer, self.gateway_client, self.target_id, self.name)\n\u001b[1;32m   1323\u001b[0m \u001b[0;34m\u001b[0m\u001b[0m\n",
      "\u001b[0;32m~/opt/anaconda3/lib/python3.9/site-packages/pyspark/sql/utils.py\u001b[0m in \u001b[0;36mdeco\u001b[0;34m(*a, **kw)\u001b[0m\n\u001b[1;32m    194\u001b[0m                 \u001b[0;31m# Hide where the exception came from that shows a non-Pythonic\u001b[0m\u001b[0;34m\u001b[0m\u001b[0;34m\u001b[0m\u001b[0m\n\u001b[1;32m    195\u001b[0m                 \u001b[0;31m# JVM exception message.\u001b[0m\u001b[0;34m\u001b[0m\u001b[0;34m\u001b[0m\u001b[0m\n\u001b[0;32m--> 196\u001b[0;31m                 \u001b[0;32mraise\u001b[0m \u001b[0mconverted\u001b[0m \u001b[0;32mfrom\u001b[0m \u001b[0;32mNone\u001b[0m\u001b[0;34m\u001b[0m\u001b[0;34m\u001b[0m\u001b[0m\n\u001b[0m\u001b[1;32m    197\u001b[0m             \u001b[0;32melse\u001b[0m\u001b[0;34m:\u001b[0m\u001b[0;34m\u001b[0m\u001b[0;34m\u001b[0m\u001b[0m\n\u001b[1;32m    198\u001b[0m                 \u001b[0;32mraise\u001b[0m\u001b[0;34m\u001b[0m\u001b[0;34m\u001b[0m\u001b[0m\n",
      "\u001b[0;31mAnalysisException\u001b[0m: Path does not exist: file:/Users/aobo/Desktop/Project_2/data/tables/consumer_user_details.parquet"
     ]
    }
   ],
   "source": [
    "consumer = spark.read.parquet('/Users/aobo/Desktop/Project_2/data/tables/consumer_user_details.parquet')\n",
    "consumer"
   ]
  },
  {
   "cell_type": "code",
   "execution_count": null,
   "id": "political-condition",
   "metadata": {},
   "outputs": [
    {
     "data": {
      "text/plain": [
       "499999"
      ]
     },
     "execution_count": 15,
     "metadata": {},
     "output_type": "execute_result"
    }
   ],
   "source": [
    "consumer.count()"
   ]
  },
  {
   "cell_type": "code",
   "execution_count": null,
   "id": "gross-daily",
   "metadata": {},
   "outputs": [
    {
     "data": {
      "text/html": [
       "<table border='1'>\n",
       "<tr><th>name</th><th>address</th><th>state</th><th>postcode</th><th>gender</th><th>consumer_id</th></tr>\n",
       "<tr><td>Yolanda Williams</td><td>413 Haney Gardens...</td><td>WA</td><td>6935</td><td>Female</td><td>1195503</td></tr>\n",
       "<tr><td>Mary Smith</td><td>3764 Amber Oval</td><td>NSW</td><td>2782</td><td>Female</td><td>179208</td></tr>\n",
       "<tr><td>Jill Jones MD</td><td>40693 Henry Greens</td><td>NT</td><td>862</td><td>Female</td><td>1194530</td></tr>\n",
       "<tr><td>Lindsay Jimenez</td><td>00653 Davenport C...</td><td>NSW</td><td>2780</td><td>Female</td><td>154128</td></tr>\n",
       "<tr><td>Rebecca Blanchard</td><td>9271 Michael Mano...</td><td>WA</td><td>6355</td><td>Female</td><td>712975</td></tr>\n",
       "<tr><td>Karen Chapman</td><td>2706 Stewart Oval...</td><td>NSW</td><td>2033</td><td>Female</td><td>407340</td></tr>\n",
       "<tr><td>Andrea Jones</td><td>122 Brandon Cliff</td><td>QLD</td><td>4606</td><td>Female</td><td>511685</td></tr>\n",
       "<tr><td>Stephen Williams</td><td>6804 Wright Crest...</td><td>WA</td><td>6056</td><td>Male</td><td>448088</td></tr>\n",
       "<tr><td>Stephanie Reyes</td><td>5813 Denise Land ...</td><td>NSW</td><td>2482</td><td>Female</td><td>650435</td></tr>\n",
       "<tr><td>Jillian Gonzales</td><td>461 Ryan Common S...</td><td>VIC</td><td>3220</td><td>Female</td><td>1058499</td></tr>\n",
       "<tr><td>Eugene Lucas</td><td>33983 Kevin Drive...</td><td>VIC</td><td>3063</td><td>Undisclosed</td><td>428325</td></tr>\n",
       "<tr><td>Melissa Jones</td><td>13706 Kimberly Port</td><td>WA</td><td>6743</td><td>Female</td><td>1494640</td></tr>\n",
       "<tr><td>Angela Brown PhD</td><td>0236 Mills Land S...</td><td>QLD</td><td>4673</td><td>Female</td><td>1146717</td></tr>\n",
       "<tr><td>Lance Butler</td><td>8943 Kenneth Camp</td><td>VIC</td><td>3332</td><td>Male</td><td>1343547</td></tr>\n",
       "<tr><td>Paul Abbott</td><td>60495 Ryan Hill</td><td>QLD</td><td>4512</td><td>Male</td><td>1463076</td></tr>\n",
       "<tr><td>Tracy Hart</td><td>9671 Jacob Harbor...</td><td>NSW</td><td>2452</td><td>Male</td><td>1356405</td></tr>\n",
       "<tr><td>Alyssa Wilson</td><td>44353 Nathan Ridge</td><td>VIC</td><td>3719</td><td>Female</td><td>1331093</td></tr>\n",
       "<tr><td>Michael Burnett</td><td>89400 Torres Fort</td><td>NSW</td><td>1109</td><td>Male</td><td>80965</td></tr>\n",
       "<tr><td>Victoria Gonzalez</td><td>68657 Johnson Gle...</td><td>TAS</td><td>7276</td><td>Female</td><td>1226530</td></tr>\n",
       "<tr><td>James Norris</td><td>790 Ramos Landing</td><td>VIC</td><td>3234</td><td>Undisclosed</td><td>1390367</td></tr>\n",
       "</table>\n",
       "only showing top 20 rows\n"
      ],
      "text/plain": [
       "+-----------------+--------------------+-----+--------+-----------+-----------+\n",
       "|             name|             address|state|postcode|     gender|consumer_id|\n",
       "+-----------------+--------------------+-----+--------+-----------+-----------+\n",
       "| Yolanda Williams|413 Haney Gardens...|   WA|    6935|     Female|    1195503|\n",
       "|       Mary Smith|     3764 Amber Oval|  NSW|    2782|     Female|     179208|\n",
       "|    Jill Jones MD|  40693 Henry Greens|   NT|     862|     Female|    1194530|\n",
       "|  Lindsay Jimenez|00653 Davenport C...|  NSW|    2780|     Female|     154128|\n",
       "|Rebecca Blanchard|9271 Michael Mano...|   WA|    6355|     Female|     712975|\n",
       "|    Karen Chapman|2706 Stewart Oval...|  NSW|    2033|     Female|     407340|\n",
       "|     Andrea Jones|   122 Brandon Cliff|  QLD|    4606|     Female|     511685|\n",
       "| Stephen Williams|6804 Wright Crest...|   WA|    6056|       Male|     448088|\n",
       "|  Stephanie Reyes|5813 Denise Land ...|  NSW|    2482|     Female|     650435|\n",
       "| Jillian Gonzales|461 Ryan Common S...|  VIC|    3220|     Female|    1058499|\n",
       "|     Eugene Lucas|33983 Kevin Drive...|  VIC|    3063|Undisclosed|     428325|\n",
       "|    Melissa Jones| 13706 Kimberly Port|   WA|    6743|     Female|    1494640|\n",
       "| Angela Brown PhD|0236 Mills Land S...|  QLD|    4673|     Female|    1146717|\n",
       "|     Lance Butler|   8943 Kenneth Camp|  VIC|    3332|       Male|    1343547|\n",
       "|      Paul Abbott|     60495 Ryan Hill|  QLD|    4512|       Male|    1463076|\n",
       "|       Tracy Hart|9671 Jacob Harbor...|  NSW|    2452|       Male|    1356405|\n",
       "|    Alyssa Wilson|  44353 Nathan Ridge|  VIC|    3719|     Female|    1331093|\n",
       "|  Michael Burnett|   89400 Torres Fort|  NSW|    1109|       Male|      80965|\n",
       "|Victoria Gonzalez|68657 Johnson Gle...|  TAS|    7276|     Female|    1226530|\n",
       "|     James Norris|   790 Ramos Landing|  VIC|    3234|Undisclosed|    1390367|\n",
       "+-----------------+--------------------+-----+--------+-----------+-----------+\n",
       "only showing top 20 rows"
      ]
     },
     "execution_count": 16,
     "metadata": {},
     "output_type": "execute_result"
    }
   ],
   "source": [
    "consumer_detail = spark.read.option('sep', \"|\").csv(directory + '/data/tables/tbl_consumer.csv', \n",
    "                                                    header = True)\n",
    "consumer_detail"
   ]
  },
  {
   "cell_type": "code",
   "execution_count": null,
   "id": "compressed-sport",
   "metadata": {},
   "outputs": [
    {
     "data": {
      "text/plain": [
       "499999"
      ]
     },
     "execution_count": 17,
     "metadata": {},
     "output_type": "execute_result"
    }
   ],
   "source": [
    "consumer_detail.count()"
   ]
  },
  {
   "cell_type": "code",
   "execution_count": null,
   "id": "affiliated-mother",
   "metadata": {},
   "outputs": [
    {
     "data": {
      "text/plain": [
       "4026"
      ]
     },
     "execution_count": 18,
     "metadata": {},
     "output_type": "execute_result"
    }
   ],
   "source": [
    "curated_merchant.count()"
   ]
  }
 ],
 "metadata": {
  "kernelspec": {
   "display_name": "Python 3.9.7 ('base')",
   "language": "python",
   "name": "python3"
  },
  "language_info": {
   "codemirror_mode": {
    "name": "ipython",
    "version": 3
   },
   "file_extension": ".py",
   "mimetype": "text/x-python",
   "name": "python",
   "nbconvert_exporter": "python",
   "pygments_lexer": "ipython3",
   "version": "3.9.7"
  },
  "vscode": {
   "interpreter": {
    "hash": "8b547a52226fc5fe22fa6147a895ab8492f18b840e638a9d35222f35938a0abf"
   }
  }
 },
 "nbformat": 4,
 "nbformat_minor": 5
}
