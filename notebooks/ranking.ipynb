{
 "cells": [
  {
   "cell_type": "code",
   "execution_count": 1,
   "id": "senior-analysis",
   "metadata": {},
   "outputs": [],
   "source": [
    "# create modeling spark session\n",
    "from pyspark.sql import SparkSession\n",
    "\n",
    "spark = (\n",
    "    SparkSession.builder.appName('Project 2')\n",
    "    .config('spark.sql.repl.eagerEval.enabled', True) \n",
    "    .config('spark.sql.parquet.cacheMetadata', 'true')\n",
    "    .config(\"spark.sql.session.timeZone\", \"Etc/UTC\")\n",
    "    .config(\"spark.executor.memory\", \"8g\")\n",
    "    .config(\"spark.driver.memory\", \"8g\")\n",
    "    .getOrCreate()\n",
    ")"
   ]
  },
  {
   "cell_type": "code",
   "execution_count": 2,
   "id": "advisory-craft",
   "metadata": {},
   "outputs": [],
   "source": [
    "from pyspark.sql import functions as F"
   ]
  },
  {
   "cell_type": "code",
   "execution_count": 3,
   "id": "alien-childhood",
   "metadata": {},
   "outputs": [
    {
     "data": {
      "text/html": [
       "<table border='1'>\n",
       "<tr><th>business_area_type</th><th>merchant_abn</th><th>total_transactions_count</th><th>avg_total_value</th><th>name</th><th>business_area</th><th>revenue_level</th><th>take_rate</th><th>consumer_scaled_spare_money</th><th>ap_percentage_by_gender</th><th>annual_turnover_percentage</th></tr>\n",
       "<tr><td>Retail trade</td><td>11788487195</td><td>184</td><td>1087.1773317511631</td><td>Id Magna LLP</td><td>music shops - mus...</td><td>b</td><td> 3.51</td><td>0.0802806368019285</td><td>0.08715760869565217</td><td>21.9</td></tr>\n",
       "<tr><td>Retail trade</td><td>59962058395</td><td>377</td><td>306.7863223809038</td><td>Pellentesque Tinc...</td><td>florists supplies...</td><td>d</td><td> 1.31</td><td>0.2537913711493971</td><td>0.08339655172413794</td><td>21.9</td></tr>\n",
       "<tr><td>Retail trade</td><td>33765505000</td><td>29</td><td>829.8756270760261</td><td>Ut Nulla Associates</td><td>tent and awning s...</td><td>c</td><td> 1.58</td><td>-0.03067390145974...</td><td>0.08339655172413794</td><td>21.9</td></tr>\n",
       "<tr><td>Manufacturing</td><td>72167534195</td><td>778</td><td>93.60350729533076</td><td>Quisque Libero Co...</td><td>opticians, optica...</td><td>b</td><td> 4.11</td><td>0.1763360446096375</td><td>0.08581362467866326</td><td>17.0</td></tr>\n",
       "<tr><td>Retail trade</td><td>87285933135</td><td>324</td><td>97.10476271896748</td><td>Proin Vel Associates</td><td>shoe shops</td><td>c</td><td> 1.67</td><td>0.2756853056509352</td><td>0.08700617283950617</td><td>21.9</td></tr>\n",
       "</table>\n"
      ],
      "text/plain": [
       "+------------------+------------+------------------------+------------------+--------------------+--------------------+-------------+---------+---------------------------+-----------------------+--------------------------+\n",
       "|business_area_type|merchant_abn|total_transactions_count|   avg_total_value|                name|       business_area|revenue_level|take_rate|consumer_scaled_spare_money|ap_percentage_by_gender|annual_turnover_percentage|\n",
       "+------------------+------------+------------------------+------------------+--------------------+--------------------+-------------+---------+---------------------------+-----------------------+--------------------------+\n",
       "|      Retail trade| 11788487195|                     184|1087.1773317511631|        Id Magna LLP|music shops - mus...|            b|     3.51|         0.0802806368019285|    0.08715760869565217|                      21.9|\n",
       "|      Retail trade| 59962058395|                     377| 306.7863223809038|Pellentesque Tinc...|florists supplies...|            d|     1.31|         0.2537913711493971|    0.08339655172413794|                      21.9|\n",
       "|      Retail trade| 33765505000|                      29| 829.8756270760261| Ut Nulla Associates|tent and awning s...|            c|     1.58|       -0.03067390145974...|    0.08339655172413794|                      21.9|\n",
       "|     Manufacturing| 72167534195|                     778| 93.60350729533076|Quisque Libero Co...|opticians, optica...|            b|     4.11|         0.1763360446096375|    0.08581362467866326|                      17.0|\n",
       "|      Retail trade| 87285933135|                     324| 97.10476271896748|Proin Vel Associates|          shoe shops|            c|     1.67|         0.2756853056509352|    0.08700617283950617|                      21.9|\n",
       "+------------------+------------+------------------------+------------------+--------------------+--------------------+-------------+---------+---------------------------+-----------------------+--------------------------+"
      ]
     },
     "execution_count": 3,
     "metadata": {},
     "output_type": "execute_result"
    }
   ],
   "source": [
    "data = spark.read.parquet('../data/curated/final_dataset')\n",
    "data.limit(5)"
   ]
  },
  {
   "cell_type": "markdown",
   "id": "presidential-ambassador",
   "metadata": {},
   "source": [
    "If we use annual transaction count to predict revenue, then run the following"
   ]
  },
  {
   "cell_type": "code",
   "execution_count": 4,
   "id": "sweet-transportation",
   "metadata": {},
   "outputs": [],
   "source": [
    "clean_transaction = spark.read.parquet('../data/curated/clean_full_dataset')"
   ]
  },
  {
   "cell_type": "code",
   "execution_count": 5,
   "id": "handed-penalty",
   "metadata": {},
   "outputs": [],
   "source": [
    "annual_transaction_count = clean_transaction.filter(F.col(\"order_datetime\")>\"2021-08-27\")"
   ]
  },
  {
   "cell_type": "code",
   "execution_count": 6,
   "id": "respective-philosophy",
   "metadata": {},
   "outputs": [],
   "source": [
    "annual_merchant_transaction = annual_transaction_count.groupby(\"merchant_abn\").count()"
   ]
  },
  {
   "cell_type": "code",
   "execution_count": 7,
   "id": "capital-ontario",
   "metadata": {},
   "outputs": [],
   "source": [
    "full_data = data.join(annual_merchant_transaction, on=\"merchant_abn\", how=\"left\")"
   ]
  },
  {
   "cell_type": "code",
   "execution_count": 8,
   "id": "sunrise-estate",
   "metadata": {},
   "outputs": [],
   "source": [
    "full_data = full_data.withColumn(\"ap_rate\", (F.col(\"consumer_scaled_spare_money\")*0.1+F.col(\"ap_percentage_by_gender\").cast(\"float\")))"
   ]
  },
  {
   "cell_type": "code",
   "execution_count": 9,
   "id": "logical-breakdown",
   "metadata": {},
   "outputs": [],
   "source": [
    "# cal\n",
    "full_data = full_data.withColumn(\"expected_transaction\", (F.col(\"total_transactions_count\")*\n",
    "                                 (1+F.col(\"annual_turnover_percentage\")/100)).cast(\"int\"))"
   ]
  },
  {
   "cell_type": "code",
   "execution_count": 22,
   "id": "african-macedonia",
   "metadata": {},
   "outputs": [],
   "source": [
    "full_data = full_data.withColumn(\"expected_revenue\", \\\n",
    "                        ((F.col(\"expected_transaction\")*F.col(\"ap_percentage_by_gender\")).cast(\"int\")\\\n",
    "                        *F.col(\"avg_total_value\")+(F.col(\"expected_transaction\")*0.077*\\\n",
    "                            F.col(\"avg_total_value\")))*F.col(\"take_rate\")/100)\n"
   ]
  },
  {
   "cell_type": "code",
   "execution_count": 10,
   "id": "manual-filename",
   "metadata": {},
   "outputs": [],
   "source": [
    "full_data = full_data.withColumn(\"expected_revenue\", \\\n",
    "                        ((F.col(\"expected_transaction\")*1.077*F.col(\"ap_rate\")).cast(\"int\")\\\n",
    "                        *F.col(\"avg_total_value\")*F.col(\"take_rate\")/100))\n",
    "\n"
   ]
  },
  {
   "cell_type": "code",
   "execution_count": 12,
   "id": "following-worcester",
   "metadata": {},
   "outputs": [
    {
     "data": {
      "text/html": [
       "<table border='1'>\n",
       "<tr><th>merchant_abn</th><th>business_area_type</th><th>total_transactions_count</th><th>avg_total_value</th><th>name</th><th>business_area</th><th>revenue_level</th><th>take_rate</th><th>consumer_scaled_spare_money</th><th>ap_percentage_by_gender</th><th>annual_turnover_percentage</th><th>count</th><th>ap_rate</th><th>expected_transaction</th><th>expected_revenue</th></tr>\n",
       "<tr><td>48214071373</td><td>Retail trade</td><td>469</td><td>300.94198389965146</td><td>Ridiculus LLC</td><td>motor vehicle sup...</td><td>b</td><td> 4.02</td><td>0.12917558022955608</td><td>0.08647547974413645</td><td>21.9</td><td>341</td><td>0.09939303464553709</td><td>571</td><td>737.9699329187252</td></tr>\n",
       "<tr><td>73256306726</td><td>Other services</td><td>4749</td><td>284.38398242669064</td><td>Id LLP</td><td>health and beauty...</td><td>b</td><td> 4.81</td><td>0.03254363266004481</td><td>0.08505043166982523</td><td>2.4</td><td>3371</td><td>0.08830479714013473</td><td>4862</td><td>6319.637734282404</td></tr>\n",
       "<tr><td>83412691377</td><td>Other services</td><td>12748</td><td>34.92686555664642</td><td>Suspendisse Sagit...</td><td>watch, clock, and...</td><td>c</td><td> 2.94</td><td>-0.00802709826851...</td><td>0.08502627863194226</td><td>2.4</td><td>9103</td><td>0.0842235692649837</td><td>13053</td><td>1215.7902192806391</td></tr>\n",
       "<tr><td>34440496342</td><td>Manufacturing</td><td>192</td><td>89.5003676383182</td><td>Mauris Nulla Inte...</td><td>opticians, optica...</td><td>c</td><td> 2.85</td><td>0.2587477349990235</td><td>0.08978906250000002</td><td>17.0</td><td>135</td><td>0.11566383623832092</td><td>224</td><td>68.87053289768585</td></tr>\n",
       "<tr><td>38700038932</td><td>Retail trade</td><td>6383</td><td>1337.4804473531829</td><td>Etiam Bibendum In...</td><td>tent and awning s...</td><td>a</td><td> 6.31</td><td>-0.06052124811389448</td><td>0.08520852263825789</td><td>21.9</td><td>4537</td><td>0.07915639548184633</td><td>7780</td><td>55953.895759154606</td></tr>\n",
       "<tr><td>73841664453</td><td>Retail trade</td><td>852</td><td>86.86264397291626</td><td>Lacinia At LLP</td><td>digital goods: bo...</td><td>a</td><td> 5.55</td><td>0.13532990735039052</td><td>0.08460504694835681</td><td>21.9</td><td>591</td><td>0.09813803635166579</td><td>1038</td><td>525.4755647141569</td></tr>\n",
       "<tr><td>78916025936</td><td>Retail trade</td><td>64</td><td>319.68115127325086</td><td>Urna Nec Corporation</td><td>florists supplies...</td><td>e</td><td> 0.37</td><td>0.21464664863316452</td><td>0.08645312499999999</td><td>21.9</td><td>48</td><td>0.10791778974410716</td><td>78</td><td>10.645382337399255</td></tr>\n",
       "<tr><td>60654402457</td><td>Retail trade</td><td>171</td><td>86.2293852509412</td><td>Lacus Quisque Imp...</td><td>digital goods: bo...</td><td>b</td><td> 3.52</td><td>-4.008149999537232</td><td>0.07943567251461989</td><td>21.9</td><td>119</td><td>-0.32137933106801536</td><td>208</td><td>-215.50447961915225</td></tr>\n",
       "<tr><td>19839532017</td><td>Retail trade</td><td>674</td><td>157.0</td><td>Pellentesque Habi...</td><td>cable, satellite,...</td><td>b</td><td> 4.94</td><td>-0.8502169050815052</td><td>0.08522848664688427</td><td>21.9</td><td>484</td><td>2.067973410850160...</td><td>821</td><td>0.0</td></tr>\n",
       "<tr><td>38986645707</td><td>Retail trade</td><td>38</td><td>943.1286654741962</td><td>Lectus Justo LLC</td><td>bicycle shops - s...</td><td>c</td><td> 1.72</td><td>0.27008298844572065</td><td>0.08951315789473684</td><td>21.9</td><td>30</td><td>0.11652145913290596</td><td>46</td><td>81.10906523078087</td></tr>\n",
       "<tr><td>52763133264</td><td>Other services</td><td>113</td><td>114.27153104102972</td><td>Dui Lectus LLP</td><td>watch, clock, and...</td><td>a</td><td> 5.63</td><td>0.16087308805544917</td><td>0.08792920353982302</td><td>2.4</td><td>75</td><td>0.10401651291187579</td><td>115</td><td>77.20184637131968</td></tr>\n",
       "<tr><td>37935728745</td><td>Retail trade</td><td>10</td><td>10566.89946101738</td><td>Laoreet Lectus Qu...</td><td>antique shops - s...</td><td>b</td><td> 4.12</td><td>-0.05040006524845066</td><td>0.09465</td><td>21.9</td><td>7</td><td>0.08960999380894094</td><td>12</td><td>435.35625779391603</td></tr>\n",
       "<tr><td>12516851436</td><td>Other services</td><td>187</td><td>150.9024266784057</td><td>Mollis Corp.</td><td>watch, clock, and...</td><td>a</td><td> 6.71</td><td>0.1250002608992218</td><td>0.08517379679144385</td><td>2.4</td><td>135</td><td>0.0976738192269957</td><td>191</td><td>202.51105660242047</td></tr>\n",
       "<tr><td>41956465747</td><td>Retail trade</td><td>248</td><td>226.0095831664382</td><td>Pede Cras LLP</td><td>motor vehicle sup...</td><td>b</td><td> 3.79</td><td>-2.796583732791726</td><td>0.08574596774193549</td><td>21.9</td><td>183</td><td>-0.1939124053545777</td><td>302</td><td>-539.6430817265044</td></tr>\n",
       "<tr><td>15613631617</td><td>Retail trade</td><td>1605</td><td>303.19752717300236</td><td>Ante Industries</td><td>motor vehicle sup...</td><td>e</td><td> 0.35</td><td>0.18300817410083073</td><td>0.08377071651090343</td><td>21.9</td><td>1090</td><td>0.10207153211030509</td><td>1956</td><td>228.15613919768424</td></tr>\n",
       "<tr><td>35344855546</td><td>Other services</td><td>1354</td><td>86.96448931968318</td><td>Quis Tristique Ac...</td><td>watch, clock, and...</td><td>c</td><td> 2.92</td><td>0.08176758785807266</td><td>0.08453138847858199</td><td>2.4</td><td>970</td><td>0.09270814796265281</td><td>1386</td><td>350.4321061625953</td></tr>\n",
       "<tr><td>57798993346</td><td>Retail trade</td><td>13</td><td>1059.4243830742282</td><td>Malesuada LLC</td><td>tent and awning s...</td><td>b</td><td> 4.34</td><td>-0.7332225844323252</td><td>0.0901923076923077</td><td>21.9</td><td>10</td><td>0.016870052068833366</td><td>15</td><td>0.0</td></tr>\n",
       "<tr><td>96946925998</td><td>Retail trade</td><td>118</td><td>995.3474396941197</td><td>Nisi Cum Corporation</td><td>music shops - mus...</td><td>a</td><td> 5.99</td><td>-0.07625140665450109</td><td>0.08653389830508476</td><td>21.9</td><td>76</td><td>0.07890875595959185</td><td>143</td><td>715.4557396521332</td></tr>\n",
       "<tr><td>92202115241</td><td>Retail trade</td><td>107</td><td>329.71884158166876</td><td>Fames Ac Turpis L...</td><td>books, periodical...</td><td>a</td><td> 5.66</td><td>0.023783192866247596</td><td>0.08778037383177571</td><td>21.9</td><td>72</td><td>0.09015869059495148</td><td>130</td><td>223.94503720226942</td></tr>\n",
       "<tr><td>37935728745</td><td>Retail trade</td><td>10</td><td>10566.89946101738</td><td>Laoreet Lectus Qu...</td><td>antique shops - s...</td><td>b</td><td> 4.12</td><td>-0.05040006524845066</td><td>0.09465</td><td>21.9</td><td>7</td><td>0.08960999380894094</td><td>12</td><td>435.35625779391603</td></tr>\n",
       "</table>\n",
       "only showing top 20 rows\n"
      ],
      "text/plain": [
       "+------------+------------------+------------------------+------------------+--------------------+--------------------+-------------+---------+---------------------------+-----------------------+--------------------------+-----+--------------------+--------------------+-------------------+\n",
       "|merchant_abn|business_area_type|total_transactions_count|   avg_total_value|                name|       business_area|revenue_level|take_rate|consumer_scaled_spare_money|ap_percentage_by_gender|annual_turnover_percentage|count|             ap_rate|expected_transaction|   expected_revenue|\n",
       "+------------+------------------+------------------------+------------------+--------------------+--------------------+-------------+---------+---------------------------+-----------------------+--------------------------+-----+--------------------+--------------------+-------------------+\n",
       "| 48214071373|      Retail trade|                     469|300.94198389965146|       Ridiculus LLC|motor vehicle sup...|            b|     4.02|        0.12917558022955608|    0.08647547974413645|                      21.9|  341| 0.09939303464553709|                 571|  737.9699329187252|\n",
       "| 73256306726|    Other services|                    4749|284.38398242669064|              Id LLP|health and beauty...|            b|     4.81|        0.03254363266004481|    0.08505043166982523|                       2.4| 3371| 0.08830479714013473|                4862|  6319.637734282404|\n",
       "| 83412691377|    Other services|                   12748| 34.92686555664642|Suspendisse Sagit...|watch, clock, and...|            c|     2.94|       -0.00802709826851...|    0.08502627863194226|                       2.4| 9103|  0.0842235692649837|               13053| 1215.7902192806391|\n",
       "| 34440496342|     Manufacturing|                     192|  89.5003676383182|Mauris Nulla Inte...|opticians, optica...|            c|     2.85|         0.2587477349990235|    0.08978906250000002|                      17.0|  135| 0.11566383623832092|                 224|  68.87053289768585|\n",
       "| 38700038932|      Retail trade|                    6383|1337.4804473531829|Etiam Bibendum In...|tent and awning s...|            a|     6.31|       -0.06052124811389448|    0.08520852263825789|                      21.9| 4537| 0.07915639548184633|                7780| 55953.895759154606|\n",
       "| 73841664453|      Retail trade|                     852| 86.86264397291626|      Lacinia At LLP|digital goods: bo...|            a|     5.55|        0.13532990735039052|    0.08460504694835681|                      21.9|  591| 0.09813803635166579|                1038|  525.4755647141569|\n",
       "| 78916025936|      Retail trade|                      64|319.68115127325086|Urna Nec Corporation|florists supplies...|            e|     0.37|        0.21464664863316452|    0.08645312499999999|                      21.9|   48| 0.10791778974410716|                  78| 10.645382337399255|\n",
       "| 60654402457|      Retail trade|                     171|  86.2293852509412|Lacus Quisque Imp...|digital goods: bo...|            b|     3.52|         -4.008149999537232|    0.07943567251461989|                      21.9|  119|-0.32137933106801536|                 208|-215.50447961915225|\n",
       "| 19839532017|      Retail trade|                     674|             157.0|Pellentesque Habi...|cable, satellite,...|            b|     4.94|        -0.8502169050815052|    0.08522848664688427|                      21.9|  484|2.067973410850160...|                 821|                0.0|\n",
       "| 38986645707|      Retail trade|                      38| 943.1286654741962|    Lectus Justo LLC|bicycle shops - s...|            c|     1.72|        0.27008298844572065|    0.08951315789473684|                      21.9|   30| 0.11652145913290596|                  46|  81.10906523078087|\n",
       "| 52763133264|    Other services|                     113|114.27153104102972|      Dui Lectus LLP|watch, clock, and...|            a|     5.63|        0.16087308805544917|    0.08792920353982302|                       2.4|   75| 0.10401651291187579|                 115|  77.20184637131968|\n",
       "| 37935728745|      Retail trade|                      10| 10566.89946101738|Laoreet Lectus Qu...|antique shops - s...|            b|     4.12|       -0.05040006524845066|                0.09465|                      21.9|    7| 0.08960999380894094|                  12| 435.35625779391603|\n",
       "| 12516851436|    Other services|                     187| 150.9024266784057|        Mollis Corp.|watch, clock, and...|            a|     6.71|         0.1250002608992218|    0.08517379679144385|                       2.4|  135|  0.0976738192269957|                 191| 202.51105660242047|\n",
       "| 41956465747|      Retail trade|                     248| 226.0095831664382|       Pede Cras LLP|motor vehicle sup...|            b|     3.79|         -2.796583732791726|    0.08574596774193549|                      21.9|  183| -0.1939124053545777|                 302| -539.6430817265044|\n",
       "| 15613631617|      Retail trade|                    1605|303.19752717300236|     Ante Industries|motor vehicle sup...|            e|     0.35|        0.18300817410083073|    0.08377071651090343|                      21.9| 1090| 0.10207153211030509|                1956| 228.15613919768424|\n",
       "| 35344855546|    Other services|                    1354| 86.96448931968318|Quis Tristique Ac...|watch, clock, and...|            c|     2.92|        0.08176758785807266|    0.08453138847858199|                       2.4|  970| 0.09270814796265281|                1386|  350.4321061625953|\n",
       "| 57798993346|      Retail trade|                      13|1059.4243830742282|       Malesuada LLC|tent and awning s...|            b|     4.34|        -0.7332225844323252|     0.0901923076923077|                      21.9|   10|0.016870052068833366|                  15|                0.0|\n",
       "| 96946925998|      Retail trade|                     118| 995.3474396941197|Nisi Cum Corporation|music shops - mus...|            a|     5.99|       -0.07625140665450109|    0.08653389830508476|                      21.9|   76| 0.07890875595959185|                 143|  715.4557396521332|\n",
       "| 92202115241|      Retail trade|                     107|329.71884158166876|Fames Ac Turpis L...|books, periodical...|            a|     5.66|       0.023783192866247596|    0.08778037383177571|                      21.9|   72| 0.09015869059495148|                 130| 223.94503720226942|\n",
       "| 37935728745|      Retail trade|                      10| 10566.89946101738|Laoreet Lectus Qu...|antique shops - s...|            b|     4.12|       -0.05040006524845066|                0.09465|                      21.9|    7| 0.08960999380894094|                  12| 435.35625779391603|\n",
       "+------------+------------------+------------------------+------------------+--------------------+--------------------+-------------+---------+---------------------------+-----------------------+--------------------------+-----+--------------------+--------------------+-------------------+\n",
       "only showing top 20 rows"
      ]
     },
     "execution_count": 12,
     "metadata": {},
     "output_type": "execute_result"
    }
   ],
   "source": [
    "full_data"
   ]
  },
  {
   "cell_type": "code",
   "execution_count": 17,
   "id": "potential-courtesy",
   "metadata": {},
   "outputs": [],
   "source": [
    "ranking = full_data.select(\"merchant_abn\", \"name\", \"business_area\", \"expected_revenue\")"
   ]
  },
  {
   "cell_type": "code",
   "execution_count": 18,
   "id": "bound-fundamentals",
   "metadata": {},
   "outputs": [
    {
     "data": {
      "text/html": [
       "<table border='1'>\n",
       "<tr><th>merchant_abn</th><th>name</th><th>business_area</th><th>expected_revenue</th></tr>\n",
       "<tr><td>32361057556</td><td>Orci In Consequat...</td><td>gift, card, novel...</td><td>62224.66569754494</td></tr>\n",
       "<tr><td>45629217853</td><td>Lacus Consulting</td><td>gift, card, novel...</td><td>60079.36627286218</td></tr>\n",
       "<tr><td>96680767841</td><td>Ornare Limited</td><td>motor vehicle sup...</td><td>56982.14902073573</td></tr>\n",
       "<tr><td>21439773999</td><td>Mauris Non Institute</td><td>cable, satellite,...</td><td>56548.880127988654</td></tr>\n",
       "<tr><td>38700038932</td><td>Etiam Bibendum In...</td><td>tent and awning s...</td><td>55953.895759154606</td></tr>\n",
       "<tr><td>48534649627</td><td>Dignissim Maecena...</td><td>opticians, optica...</td><td>55471.7824868209</td></tr>\n",
       "<tr><td>89726005175</td><td>Est Nunc Consulting</td><td>tent and awning s...</td><td>55366.675559525</td></tr>\n",
       "<tr><td>19492220327</td><td>Commodo Ipsum Ind...</td><td>jewelry, watch, c...</td><td>55081.61016991129</td></tr>\n",
       "<tr><td>64403598239</td><td>Lobortis Ultrices...</td><td>music shops - mus...</td><td>54593.534228743665</td></tr>\n",
       "<tr><td>67978471888</td><td>Magna Malesuada C...</td><td>artist supply and...</td><td>53131.83946357304</td></tr>\n",
       "<tr><td>82368304209</td><td>Nec Incorporated</td><td>telecom</td><td>52303.974473391485</td></tr>\n",
       "<tr><td>94493496784</td><td>Dictum Phasellus ...</td><td>gift, card, novel...</td><td>52296.16977013355</td></tr>\n",
       "<tr><td>86578477987</td><td>Leo In Consulting</td><td>watch, clock, and...</td><td>51865.87160718224</td></tr>\n",
       "<tr><td>79827781481</td><td>Amet Risus Inc.</td><td>furniture, home f...</td><td>50682.84682357813</td></tr>\n",
       "<tr><td>31334588839</td><td>Lacus Aliquam Cor...</td><td>antique shops - s...</td><td>50554.02583714561</td></tr>\n",
       "<tr><td>98166254020</td><td>Magna Sed Industries</td><td>art dealers and g...</td><td>50368.23984575866</td></tr>\n",
       "<tr><td>40515428545</td><td>Elit Sed Consequa...</td><td>artist supply and...</td><td>49690.67623283822</td></tr>\n",
       "<tr><td>63123845164</td><td>Odio Phasellus In...</td><td>artist supply and...</td><td>49365.62169527529</td></tr>\n",
       "<tr><td>80551528183</td><td>Ac Ipsum LLC</td><td>tent and awning s...</td><td>47656.84060683302</td></tr>\n",
       "<tr><td>79417999332</td><td>Phasellus At Company</td><td>gift, card, novel...</td><td>47447.423036177366</td></tr>\n",
       "</table>\n",
       "only showing top 20 rows\n"
      ],
      "text/plain": [
       "+------------+--------------------+--------------------+------------------+\n",
       "|merchant_abn|                name|       business_area|  expected_revenue|\n",
       "+------------+--------------------+--------------------+------------------+\n",
       "| 32361057556|Orci In Consequat...|gift, card, novel...| 62224.66569754494|\n",
       "| 45629217853|    Lacus Consulting|gift, card, novel...| 60079.36627286218|\n",
       "| 96680767841|      Ornare Limited|motor vehicle sup...| 56982.14902073573|\n",
       "| 21439773999|Mauris Non Institute|cable, satellite,...|56548.880127988654|\n",
       "| 38700038932|Etiam Bibendum In...|tent and awning s...|55953.895759154606|\n",
       "| 48534649627|Dignissim Maecena...|opticians, optica...|  55471.7824868209|\n",
       "| 89726005175| Est Nunc Consulting|tent and awning s...|   55366.675559525|\n",
       "| 19492220327|Commodo Ipsum Ind...|jewelry, watch, c...| 55081.61016991129|\n",
       "| 64403598239|Lobortis Ultrices...|music shops - mus...|54593.534228743665|\n",
       "| 67978471888|Magna Malesuada C...|artist supply and...| 53131.83946357304|\n",
       "| 82368304209|    Nec Incorporated|             telecom|52303.974473391485|\n",
       "| 94493496784|Dictum Phasellus ...|gift, card, novel...| 52296.16977013355|\n",
       "| 86578477987|   Leo In Consulting|watch, clock, and...| 51865.87160718224|\n",
       "| 79827781481|     Amet Risus Inc.|furniture, home f...| 50682.84682357813|\n",
       "| 31334588839|Lacus Aliquam Cor...|antique shops - s...| 50554.02583714561|\n",
       "| 98166254020|Magna Sed Industries|art dealers and g...| 50368.23984575866|\n",
       "| 40515428545|Elit Sed Consequa...|artist supply and...| 49690.67623283822|\n",
       "| 63123845164|Odio Phasellus In...|artist supply and...| 49365.62169527529|\n",
       "| 80551528183|        Ac Ipsum LLC|tent and awning s...| 47656.84060683302|\n",
       "| 79417999332|Phasellus At Company|gift, card, novel...|47447.423036177366|\n",
       "+------------+--------------------+--------------------+------------------+\n",
       "only showing top 20 rows"
      ]
     },
     "execution_count": 18,
     "metadata": {},
     "output_type": "execute_result"
    }
   ],
   "source": [
    "ranking.orderBy(F.col(\"expected_revenue\").desc())"
   ]
  },
  {
   "cell_type": "code",
   "execution_count": 13,
   "id": "tested-organ",
   "metadata": {},
   "outputs": [
    {
     "data": {
      "text/html": [
       "<table border='1'>\n",
       "<tr><th>merchant_abn</th><th>business_area_type</th><th>total_transactions_count</th><th>avg_total_value</th><th>name</th><th>business_area</th><th>revenue_level</th><th>take_rate</th><th>consumer_scaled_spare_money</th><th>ap_percentage_by_gender</th><th>annual_turnover_percentage</th><th>count</th><th>ap_rate</th><th>expected_transaction</th><th>expected_revenue</th></tr>\n",
       "<tr><td>32361057556</td><td>Retail trade</td><td>76349</td><td>109.94763424911491</td><td>Orci In Consequat...</td><td>gift, card, novel...</td><td>a</td><td> 6.61</td><td>0.001298628265308...</td><td>0.0852938676341537</td><td>21.9</td><td>54388</td><td>0.08542372952050438</td><td>93069</td><td>62224.66569754494</td></tr>\n",
       "<tr><td>45629217853</td><td>Retail trade</td><td>203150</td><td>36.843416937248385</td><td>Lacus Consulting</td><td>gift, card, novel...</td><td>a</td><td> 6.98</td><td>0.023380752514037626</td><td>0.08525648043317746</td><td>21.9</td><td>145080</td><td>0.08759455493194195</td><td>247639</td><td>60079.36627286218</td></tr>\n",
       "<tr><td>96680767841</td><td>Retail trade</td><td>27728</td><td>314.9836517640228</td><td>Ornare Limited</td><td>motor vehicle sup...</td><td>a</td><td> 5.91</td><td>-0.01106999040695...</td><td>0.08521510747259088</td><td>21.9</td><td>19881</td><td>0.08410810756578825</td><td>33800</td><td>56982.14902073573</td></tr>\n",
       "<tr><td>21439773999</td><td>Retail trade</td><td>107366</td><td>78.1315484003629</td><td>Mauris Non Institute</td><td>cable, satellite,...</td><td>a</td><td> 6.10</td><td>-0.01118632446995...</td><td>0.08529546597619359</td><td>21.9</td><td>76429</td><td>0.08417683612180632</td><td>130879</td><td>56548.880127988654</td></tr>\n",
       "<tr><td>38700038932</td><td>Retail trade</td><td>6383</td><td>1337.4804473531829</td><td>Etiam Bibendum In...</td><td>tent and awning s...</td><td>a</td><td> 6.31</td><td>-0.06052124811389448</td><td>0.08520852263825789</td><td>21.9</td><td>4537</td><td>0.07915639548184633</td><td>7780</td><td>55953.895759154606</td></tr>\n",
       "<tr><td>48534649627</td><td>Manufacturing</td><td>59045</td><td>141.7645360505851</td><td>Dignissim Maecena...</td><td>opticians, optica...</td><td>a</td><td> 6.64</td><td>-0.05905459218211...</td><td>0.08511310017783047</td><td>17.0</td><td>42080</td><td>0.07920764148931952</td><td>69082</td><td>55471.7824868209</td></tr>\n",
       "<tr><td>89726005175</td><td>Retail trade</td><td>192212</td><td>41.23366403138043</td><td>Est Nunc Consulting</td><td>tent and awning s...</td><td>a</td><td> 6.01</td><td>0.03259640249317893</td><td>0.0852783254947662</td><td>21.9</td><td>137037</td><td>0.08853796503216625</td><td>234306</td><td>55366.675559525</td></tr>\n",
       "<tr><td>19492220327</td><td>Retail trade</td><td>738</td><td>9975.661071050292</td><td>Commodo Ipsum Ind...</td><td>jewelry, watch, c...</td><td>b</td><td> 4.93</td><td>0.3041444891863695</td><td>0.08529336043360436</td><td>21.9</td><td>540</td><td>0.1157078089731299</td><td>899</td><td>55081.61016991129</td></tr>\n",
       "<tr><td>64403598239</td><td>Retail trade</td><td>101021</td><td>78.13516813680323</td><td>Lobortis Ultrices...</td><td>music shops - mus...</td><td>a</td><td> 6.31</td><td>-0.01783674053447056</td><td>0.08527960028112967</td><td>21.9</td><td>71857</td><td>0.08349592477868338</td><td>123144</td><td>54593.534228743665</td></tr>\n",
       "<tr><td>67978471888</td><td>Retail trade</td><td>11095</td><td>648.30978524122</td><td>Magna Malesuada C...</td><td>artist supply and...</td><td>a</td><td> 5.56</td><td>0.15783094338825146</td><td>0.0854807570977918</td><td>21.9</td><td>7929</td><td>0.10126385139649192</td><td>13524</td><td>53131.83946357304</td></tr>\n",
       "<tr><td>82368304209</td><td>Information media...</td><td>4612</td><td>1866.1662464861827</td><td>Nec Incorporated</td><td>telecom</td><td>a</td><td> 5.55</td><td>0.02167851054824681</td><td>0.08518256721595836</td><td>16.4</td><td>3270</td><td>0.08735042097584138</td><td>5368</td><td>52303.974473391485</td></tr>\n",
       "<tr><td>94493496784</td><td>Retail trade</td><td>88195</td><td>91.89792743597171</td><td>Dictum Phasellus ...</td><td>gift, card, novel...</td><td>a</td><td> 5.65</td><td>0.01816286344067382</td><td>0.08517699982992233</td><td>21.9</td><td>62906</td><td>0.08699328323079758</td><td>107509</td><td>52296.16977013355</td></tr>\n",
       "<tr><td>86578477987</td><td>Other services</td><td>242894</td><td>34.98387464212009</td><td>Leo In Consulting</td><td>watch, clock, and...</td><td>a</td><td> 6.43</td><td>0.009153721754944503</td><td>0.08516108878770162</td><td>2.4</td><td>173082</td><td>0.08607646207265021</td><td>248723</td><td>51865.87160718224</td></tr>\n",
       "<tr><td>79827781481</td><td>Manufacturing</td><td>4285</td><td>2036.0280730959762</td><td>Amet Risus Inc.</td><td>furniture, home f...</td><td>a</td><td> 6.82</td><td>-0.17588248847463234</td><td>0.08528646441073513</td><td>17.0</td><td>3006</td><td>0.06769821196939696</td><td>5013</td><td>50682.84682357813</td></tr>\n",
       "<tr><td>31334588839</td><td>Retail trade</td><td>1363</td><td>6406.217634025092</td><td>Lacus Aliquam Cor...</td><td>antique shops - s...</td><td>b</td><td> 4.22</td><td>0.21316874373816855</td><td>0.08375458547322083</td><td>21.9</td><td>983</td><td>0.10507145856704653</td><td>1661</td><td>50554.02583714561</td></tr>\n",
       "<tr><td>98166254020</td><td>Arts and recreati...</td><td>3604</td><td>1837.1841204318157</td><td>Magna Sed Industries</td><td>art dealers and g...</td><td>a</td><td> 5.96</td><td>0.19250196650754572</td><td>0.0854830743618202</td><td>13.3</td><td>2560</td><td>0.104733270838987</td><td>4083</td><td>50368.23984575866</td></tr>\n",
       "<tr><td>40515428545</td><td>Retail trade</td><td>11625</td><td>597.0592765556579</td><td>Elit Sed Consequa...</td><td>artist supply and...</td><td>a</td><td> 5.89</td><td>0.07420899398639871</td><td>0.08522189247311829</td><td>21.9</td><td>8275</td><td>0.09264279348404712</td><td>14170</td><td>49690.67623283822</td></tr>\n",
       "<tr><td>63123845164</td><td>Retail trade</td><td>10132</td><td>751.35302257722</td><td>Odio Phasellus In...</td><td>artist supply and...</td><td>a</td><td> 6.59</td><td>-0.10403932984787038</td><td>0.08539765100671141</td><td>21.9</td><td>7218</td><td>0.07499372029690166</td><td>12350</td><td>49365.62169527529</td></tr>\n",
       "<tr><td>80551528183</td><td>Retail trade</td><td>6949</td><td>1125.8939852304156</td><td>Ac Ipsum LLC</td><td>tent and awning s...</td><td>b</td><td> 4.81</td><td>0.11701982391653729</td><td>0.08483724276874371</td><td>21.9</td><td>4953</td><td>0.09653922535258361</td><td>8470</td><td>47656.84060683302</td></tr>\n",
       "<tr><td>79417999332</td><td>Retail trade</td><td>88462</td><td>91.94568812572219</td><td>Phasellus At Company</td><td>gift, card, novel...</td><td>b</td><td> 4.95</td><td>0.04517950332217601</td><td>0.08524899957043702</td><td>21.9</td><td>63080</td><td>0.08976694962983647</td><td>107835</td><td>47447.423036177366</td></tr>\n",
       "</table>\n",
       "only showing top 20 rows\n"
      ],
      "text/plain": [
       "+------------+--------------------+------------------------+------------------+--------------------+--------------------+-------------+---------+---------------------------+-----------------------+--------------------------+------+-------------------+--------------------+------------------+\n",
       "|merchant_abn|  business_area_type|total_transactions_count|   avg_total_value|                name|       business_area|revenue_level|take_rate|consumer_scaled_spare_money|ap_percentage_by_gender|annual_turnover_percentage| count|            ap_rate|expected_transaction|  expected_revenue|\n",
       "+------------+--------------------+------------------------+------------------+--------------------+--------------------+-------------+---------+---------------------------+-----------------------+--------------------------+------+-------------------+--------------------+------------------+\n",
       "| 32361057556|        Retail trade|                   76349|109.94763424911491|Orci In Consequat...|gift, card, novel...|            a|     6.61|       0.001298628265308...|     0.0852938676341537|                      21.9| 54388|0.08542372952050438|               93069| 62224.66569754494|\n",
       "| 45629217853|        Retail trade|                  203150|36.843416937248385|    Lacus Consulting|gift, card, novel...|            a|     6.98|       0.023380752514037626|    0.08525648043317746|                      21.9|145080|0.08759455493194195|              247639| 60079.36627286218|\n",
       "| 96680767841|        Retail trade|                   27728| 314.9836517640228|      Ornare Limited|motor vehicle sup...|            a|     5.91|       -0.01106999040695...|    0.08521510747259088|                      21.9| 19881|0.08410810756578825|               33800| 56982.14902073573|\n",
       "| 21439773999|        Retail trade|                  107366|  78.1315484003629|Mauris Non Institute|cable, satellite,...|            a|     6.10|       -0.01118632446995...|    0.08529546597619359|                      21.9| 76429|0.08417683612180632|              130879|56548.880127988654|\n",
       "| 38700038932|        Retail trade|                    6383|1337.4804473531829|Etiam Bibendum In...|tent and awning s...|            a|     6.31|       -0.06052124811389448|    0.08520852263825789|                      21.9|  4537|0.07915639548184633|                7780|55953.895759154606|\n",
       "| 48534649627|       Manufacturing|                   59045| 141.7645360505851|Dignissim Maecena...|opticians, optica...|            a|     6.64|       -0.05905459218211...|    0.08511310017783047|                      17.0| 42080|0.07920764148931952|               69082|  55471.7824868209|\n",
       "| 89726005175|        Retail trade|                  192212| 41.23366403138043| Est Nunc Consulting|tent and awning s...|            a|     6.01|        0.03259640249317893|     0.0852783254947662|                      21.9|137037|0.08853796503216625|              234306|   55366.675559525|\n",
       "| 19492220327|        Retail trade|                     738| 9975.661071050292|Commodo Ipsum Ind...|jewelry, watch, c...|            b|     4.93|         0.3041444891863695|    0.08529336043360436|                      21.9|   540| 0.1157078089731299|                 899| 55081.61016991129|\n",
       "| 64403598239|        Retail trade|                  101021| 78.13516813680323|Lobortis Ultrices...|music shops - mus...|            a|     6.31|       -0.01783674053447056|    0.08527960028112967|                      21.9| 71857|0.08349592477868338|              123144|54593.534228743665|\n",
       "| 67978471888|        Retail trade|                   11095|   648.30978524122|Magna Malesuada C...|artist supply and...|            a|     5.56|        0.15783094338825146|     0.0854807570977918|                      21.9|  7929|0.10126385139649192|               13524| 53131.83946357304|\n",
       "| 82368304209|Information media...|                    4612|1866.1662464861827|    Nec Incorporated|             telecom|            a|     5.55|        0.02167851054824681|    0.08518256721595836|                      16.4|  3270|0.08735042097584138|                5368|52303.974473391485|\n",
       "| 94493496784|        Retail trade|                   88195| 91.89792743597171|Dictum Phasellus ...|gift, card, novel...|            a|     5.65|        0.01816286344067382|    0.08517699982992233|                      21.9| 62906|0.08699328323079758|              107509| 52296.16977013355|\n",
       "| 86578477987|      Other services|                  242894| 34.98387464212009|   Leo In Consulting|watch, clock, and...|            a|     6.43|       0.009153721754944503|    0.08516108878770162|                       2.4|173082|0.08607646207265021|              248723| 51865.87160718224|\n",
       "| 79827781481|       Manufacturing|                    4285|2036.0280730959762|     Amet Risus Inc.|furniture, home f...|            a|     6.82|       -0.17588248847463234|    0.08528646441073513|                      17.0|  3006|0.06769821196939696|                5013| 50682.84682357813|\n",
       "| 31334588839|        Retail trade|                    1363| 6406.217634025092|Lacus Aliquam Cor...|antique shops - s...|            b|     4.22|        0.21316874373816855|    0.08375458547322083|                      21.9|   983|0.10507145856704653|                1661| 50554.02583714561|\n",
       "| 98166254020|Arts and recreati...|                    3604|1837.1841204318157|Magna Sed Industries|art dealers and g...|            a|     5.96|        0.19250196650754572|     0.0854830743618202|                      13.3|  2560|  0.104733270838987|                4083| 50368.23984575866|\n",
       "| 40515428545|        Retail trade|                   11625| 597.0592765556579|Elit Sed Consequa...|artist supply and...|            a|     5.89|        0.07420899398639871|    0.08522189247311829|                      21.9|  8275|0.09264279348404712|               14170| 49690.67623283822|\n",
       "| 63123845164|        Retail trade|                   10132|   751.35302257722|Odio Phasellus In...|artist supply and...|            a|     6.59|       -0.10403932984787038|    0.08539765100671141|                      21.9|  7218|0.07499372029690166|               12350| 49365.62169527529|\n",
       "| 80551528183|        Retail trade|                    6949|1125.8939852304156|        Ac Ipsum LLC|tent and awning s...|            b|     4.81|        0.11701982391653729|    0.08483724276874371|                      21.9|  4953|0.09653922535258361|                8470| 47656.84060683302|\n",
       "| 79417999332|        Retail trade|                   88462| 91.94568812572219|Phasellus At Company|gift, card, novel...|            b|     4.95|        0.04517950332217601|    0.08524899957043702|                      21.9| 63080|0.08976694962983647|              107835|47447.423036177366|\n",
       "+------------+--------------------+------------------------+------------------+--------------------+--------------------+-------------+---------+---------------------------+-----------------------+--------------------------+------+-------------------+--------------------+------------------+\n",
       "only showing top 20 rows"
      ]
     },
     "execution_count": 13,
     "metadata": {},
     "output_type": "execute_result"
    }
   ],
   "source": [
    "full_data.orderBy(F.col(\"expected_revenue\").desc())"
   ]
  },
  {
   "cell_type": "code",
   "execution_count": 45,
   "id": "upset-choir",
   "metadata": {},
   "outputs": [],
   "source": [
    "busi_area_type = []"
   ]
  }
 ],
 "metadata": {
  "kernelspec": {
   "display_name": "Python 3",
   "language": "python",
   "name": "python3"
  },
  "language_info": {
   "codemirror_mode": {
    "name": "ipython",
    "version": 3
   },
   "file_extension": ".py",
   "mimetype": "text/x-python",
   "name": "python",
   "nbconvert_exporter": "python",
   "pygments_lexer": "ipython3",
   "version": "3.9.2"
  }
 },
 "nbformat": 4,
 "nbformat_minor": 5
}
