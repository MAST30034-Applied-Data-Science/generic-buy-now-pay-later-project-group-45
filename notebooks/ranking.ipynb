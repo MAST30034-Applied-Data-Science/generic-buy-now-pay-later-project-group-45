{
 "cells": [
  {
   "cell_type": "code",
   "execution_count": 1,
   "id": "senior-analysis",
   "metadata": {},
   "outputs": [],
   "source": [
    "# create modeling spark session\n",
    "from pyspark.sql import SparkSession\n",
    "\n",
    "spark = (\n",
    "    SparkSession.builder.appName('Project 2')\n",
    "    .config('spark.sql.repl.eagerEval.enabled', True) \n",
    "    .config('spark.sql.parquet.cacheMetadata', 'true')\n",
    "    .config(\"spark.sql.session.timeZone\", \"Etc/UTC\")\n",
    "    .config(\"spark.executor.memory\", \"8g\")\n",
    "    .config(\"spark.driver.memory\", \"8g\")\n",
    "    .getOrCreate()\n",
    ")\n",
    "import pandas as pd\n",
    "from pyspark.sql import functions as F\n",
    "import pathlib\n",
    "import matplotlib.pyplot as plt"
   ]
  },
  {
   "cell_type": "code",
   "execution_count": 2,
   "id": "stylish-contributor",
   "metadata": {},
   "outputs": [],
   "source": [
    "# create directory of rank folder\n",
    "pathlib.Path(\"../data/curated/rank\").mkdir(parents=True, exist_ok=True)"
   ]
  },
  {
   "cell_type": "code",
   "execution_count": 3,
   "id": "alien-childhood",
   "metadata": {},
   "outputs": [],
   "source": [
    "data = spark.read.parquet('../data/curated/final_dataset')"
   ]
  },
  {
   "cell_type": "markdown",
   "id": "presidential-ambassador",
   "metadata": {},
   "source": [
    "Use annual transaction count to predict future revenue"
   ]
  },
  {
   "cell_type": "code",
   "execution_count": 4,
   "id": "sweet-transportation",
   "metadata": {},
   "outputs": [],
   "source": [
    "clean_transaction = spark.read.parquet('../data/curated/clean_full_dataset')\n",
    "annual_transaction_count = clean_transaction.filter(F.col(\"order_datetime\")>\"2021-08-27\")\n",
    "annual_merchant_transaction = annual_transaction_count.groupby(\"merchant_abn\").count().select(\"merchant_abn\", \"count\")\n",
    "full_data = data.join(annual_merchant_transaction, on=\"merchant_abn\", how=\"left\")\n"
   ]
  },
  {
   "cell_type": "code",
   "execution_count": 5,
   "id": "modular-package",
   "metadata": {},
   "outputs": [],
   "source": [
    "# calculate proportion of potential afterpay users\n",
    "full_data = full_data.withColumn(\"ap_rate\", (F.col(\"consumer_scaled_spare_money\")*0.1+F.col(\"ap_percentage_by_gender\").cast(\"float\")))"
   ]
  },
  {
   "cell_type": "code",
   "execution_count": 6,
   "id": "authentic-christianity",
   "metadata": {},
   "outputs": [],
   "source": [
    "busi_area_type = [\n",
    "    \"fashion\", \"fashion\", \"electronics\", \"recreation\", \n",
    "    \"recreation\", \"household\", \"recreation\", \"household\",\n",
    "    \"recreation\", \"household\", \"electronics\", \"household\",\n",
    "    \"recreation\", \"household\", \"household\", \"electronics\",\n",
    "    \"fashion\", \"fashion\", \"recreation\", \"electronics\",\n",
    "    \"recreation\", \"recreation\", \"household\", \"household\", \"household\"]\n",
    "\n",
    "busi_area= full_data.groupby('business_area').count().select(\"business_area\").toPandas()['business_area'].to_list()\n",
    "\n",
    "\n",
    "allocation_sdf=spark.createDataFrame(pd.DataFrame(list(zip(busi_area, busi_area_type)),\n",
    "               columns =['business_area', 'business_segment']))\n",
    "\n",
    "full_data = full_data.join(allocation_sdf, on = \"business_area\")"
   ]
  },
  {
   "cell_type": "code",
   "execution_count": 7,
   "id": "logical-breakdown",
   "metadata": {},
   "outputs": [],
   "source": [
    "# calculate expected transaction counts for next year\n",
    "full_data = full_data.withColumn(\"expected_transaction\", (F.col(\"count\")*\n",
    "                                 (1+F.col(\"annual_turnover_percentage\")/100)).cast(\"int\"))"
   ]
  },
  {
   "cell_type": "code",
   "execution_count": 8,
   "id": "accredited-holocaust",
   "metadata": {},
   "outputs": [],
   "source": [
    "# there are ap_rate of less than 0, replace this rate by 0.001\n",
    "full_data = full_data.withColumn(\"ap_rate\", F.when(full_data[\"ap_rate\"] < 0, 0.001).otherwise(full_data[\"ap_rate\"]))"
   ]
  },
  {
   "cell_type": "code",
   "execution_count": 9,
   "id": "advance-leone",
   "metadata": {},
   "outputs": [],
   "source": [
    "# afterpay user = transaction*1.077*aprate\n",
    "full_data = full_data.withColumn(\"expected_revenue\", \\\n",
    "                        ((F.col(\"expected_transaction\")*1.077*F.col(\"ap_rate\")).cast(\"int\")\\\n",
    "                        *F.col(\"avg_total_value\"))*F.col(\"take_rate\")/100)"
   ]
  },
  {
   "cell_type": "code",
   "execution_count": 10,
   "id": "potential-courtesy",
   "metadata": {},
   "outputs": [],
   "source": [
    "ranking = full_data.select(\"merchant_abn\", \"name\", \"business_area\", \"expected_revenue\", \"avg_total_value\",\\\n",
    "                           \"fraud_rate\", \"ap_rate\", \"revenue_level\", \"business_segment\", \"expected_transaction\")"
   ]
  },
  {
   "cell_type": "code",
   "execution_count": 11,
   "id": "premium-conjunction",
   "metadata": {},
   "outputs": [],
   "source": [
    "ranking = ranking.withColumn(\"true_revenue\", (F.col(\"expected_revenue\")*(1-F.col(\"fraud_rate\"))))\\\n",
    "                .orderBy(F.col(\"true_revenue\").desc())"
   ]
  },
  {
   "cell_type": "code",
   "execution_count": 12,
   "id": "bizarre-infrastructure",
   "metadata": {},
   "outputs": [],
   "source": [
    "ranking = ranking.drop(\"expected_revenue\", \"fraud_rate\", \"ap_rate\")\n",
    "ranking.write.mode(\"overwrite\").parquet(\"../data/curated/rank/ranking/\")\n"
   ]
  },
  {
   "cell_type": "code",
   "execution_count": 13,
   "id": "cleared-organization",
   "metadata": {},
   "outputs": [],
   "source": [
    "household_rank = ranking.filter(F.col(\"business_segment\")==\"household\").orderBy(F.col(\"true_revenue\").desc())\n",
    "household_rank.write.mode(\"overwrite\").parquet(\"../data/curated/rank/household_rank/\")\n"
   ]
  },
  {
   "cell_type": "code",
   "execution_count": 14,
   "id": "important-wheel",
   "metadata": {},
   "outputs": [],
   "source": [
    "recreation_rank = ranking.filter(F.col(\"business_segment\")==\"recreation\").orderBy(F.col(\"true_revenue\").desc())\n",
    "recreation_rank.write.mode(\"overwrite\").parquet(\"../data/curated/rank/recreation_rank/\")\n"
   ]
  },
  {
   "cell_type": "code",
   "execution_count": 15,
   "id": "third-alexander",
   "metadata": {},
   "outputs": [],
   "source": [
    "electronic_rank = ranking.filter(F.col(\"business_segment\")==\"electronics\").orderBy(F.col(\"true_revenue\").desc())\n",
    "electronic_rank.write.mode(\"overwrite\").parquet(\"../data/curated/rank/electronic_rank/\")\n"
   ]
  },
  {
   "cell_type": "code",
   "execution_count": 16,
   "id": "instructional-location",
   "metadata": {},
   "outputs": [],
   "source": [
    "fashion_rank = ranking.filter(F.col(\"business_segment\")==\"fashion\").orderBy(F.col(\"true_revenue\").desc())\n",
    "fashion_rank.write.mode(\"overwrite\").parquet(\"../data/curated/rank/fashion_rank/\")"
   ]
  },
  {
   "cell_type": "markdown",
   "id": "dietary-apollo",
   "metadata": {},
   "source": [
    "Top 100 merchants"
   ]
  },
  {
   "cell_type": "code",
   "execution_count": 17,
   "id": "controlling-radius",
   "metadata": {},
   "outputs": [
    {
     "data": {
      "text/html": [
       "<table border='1'>\n",
       "<tr><th>merchant_abn</th><th>name</th><th>business_area</th><th>avg_total_value</th><th>revenue_level</th><th>business_segment</th><th>expected_transaction</th><th>true_revenue</th></tr>\n",
       "<tr><td>32361057556</td><td>Orci In Consequat...</td><td>gift, card, novel...</td><td>109.98738471647025</td><td>a</td><td>recreation</td><td>65016</td><td>43766.742919312244</td></tr>\n",
       "<tr><td>45629217853</td><td>Lacus Consulting</td><td>gift, card, novel...</td><td>36.86309255250773</td><td>a</td><td>recreation</td><td>173438</td><td>42207.57778690396</td></tr>\n",
       "<tr><td>96680767841</td><td>Ornare Limited</td><td>motor vehicle sup...</td><td>315.06861309524027</td><td>a</td><td>household</td><td>23763</td><td>39728.91708258423</td></tr>\n",
       "<tr><td>21439773999</td><td>Mauris Non Institute</td><td>cable, satellite,...</td><td>78.14540729233093</td><td>a</td><td>electronics</td><td>91406</td><td>39120.00430848647</td></tr>\n",
       "<tr><td>89726005175</td><td>Est Nunc Consulting</td><td>tent and awning s...</td><td>41.23187459923756</td><td>a</td><td>household</td><td>163743</td><td>38512.82005309113</td></tr>\n",
       "<tr><td>64403598239</td><td>Lobortis Ultrices...</td><td>music shops - mus...</td><td>78.11269321474416</td><td>a</td><td>recreation</td><td>85967</td><td>38210.088844639424</td></tr>\n",
       "<tr><td>48534649627</td><td>Dignissim Maecena...</td><td>opticians, optica...</td><td>141.65798620362992</td><td>a</td><td>fashion</td><td>48309</td><td>37992.51900873453</td></tr>\n",
       "<tr><td>67978471888</td><td>Magna Malesuada C...</td><td>artist supply and...</td><td>648.8876206534682</td><td>a</td><td>recreation</td><td>9454</td><td>36923.284896821715</td></tr>\n",
       "<tr><td>38700038932</td><td>Etiam Bibendum In...</td><td>tent and awning s...</td><td>1336.2436316547887</td><td>a</td><td>household</td><td>5411</td><td>36430.26875071515</td></tr>\n",
       "<tr><td>86578477987</td><td>Leo In Consulting</td><td>watch, clock, and...</td><td>34.98176268056113</td><td>a</td><td>fashion</td><td>173786</td><td>36308.45974929885</td></tr>\n",
       "</table>\n"
      ],
      "text/plain": [
       "+------------+--------------------+--------------------+------------------+-------------+----------------+--------------------+------------------+\n",
       "|merchant_abn|                name|       business_area|   avg_total_value|revenue_level|business_segment|expected_transaction|      true_revenue|\n",
       "+------------+--------------------+--------------------+------------------+-------------+----------------+--------------------+------------------+\n",
       "| 32361057556|Orci In Consequat...|gift, card, novel...|109.98738471647025|            a|      recreation|               65016|43766.742919312244|\n",
       "| 45629217853|    Lacus Consulting|gift, card, novel...| 36.86309255250773|            a|      recreation|              173438| 42207.57778690396|\n",
       "| 96680767841|      Ornare Limited|motor vehicle sup...|315.06861309524027|            a|       household|               23763| 39728.91708258423|\n",
       "| 21439773999|Mauris Non Institute|cable, satellite,...| 78.14540729233093|            a|     electronics|               91406| 39120.00430848647|\n",
       "| 89726005175| Est Nunc Consulting|tent and awning s...| 41.23187459923756|            a|       household|              163743| 38512.82005309113|\n",
       "| 64403598239|Lobortis Ultrices...|music shops - mus...| 78.11269321474416|            a|      recreation|               85967|38210.088844639424|\n",
       "| 48534649627|Dignissim Maecena...|opticians, optica...|141.65798620362992|            a|         fashion|               48309| 37992.51900873453|\n",
       "| 67978471888|Magna Malesuada C...|artist supply and...| 648.8876206534682|            a|      recreation|                9454|36923.284896821715|\n",
       "| 38700038932|Etiam Bibendum In...|tent and awning s...|1336.2436316547887|            a|       household|                5411| 36430.26875071515|\n",
       "| 86578477987|   Leo In Consulting|watch, clock, and...| 34.98176268056113|            a|         fashion|              173786| 36308.45974929885|\n",
       "+------------+--------------------+--------------------+------------------+-------------+----------------+--------------------+------------------+"
      ]
     },
     "execution_count": 17,
     "metadata": {},
     "output_type": "execute_result"
    }
   ],
   "source": [
    "top100 = ranking.limit(100)\n",
    "top100.limit(10)"
   ]
  },
  {
   "cell_type": "code",
   "execution_count": 47,
   "id": "three-moderator",
   "metadata": {},
   "outputs": [
    {
     "data": {
      "text/plain": [
       "true_revenue    2205746.0\n",
       "dtype: float64"
      ]
     },
     "execution_count": 47,
     "metadata": {},
     "output_type": "execute_result"
    }
   ],
   "source": [
    "top100.select(F.col(\"true_revenue\")).toPandas().sum().round()"
   ]
  },
  {
   "cell_type": "markdown",
   "id": "least-walker",
   "metadata": {},
   "source": [
    "Top 10 merchants for each segment"
   ]
  },
  {
   "cell_type": "code",
   "execution_count": 18,
   "id": "suffering-proceeding",
   "metadata": {},
   "outputs": [],
   "source": [
    "top10fashion = fashion_rank.limit(10)\n",
    "top10electric = electronic_rank.limit(10)\n",
    "top10recreation = recreation_rank.limit(10)\n",
    "top10household = household_rank.limit(10)"
   ]
  },
  {
   "cell_type": "code",
   "execution_count": 19,
   "id": "measured-newsletter",
   "metadata": {},
   "outputs": [
    {
     "data": {
      "text/html": [
       "<table border='1'>\n",
       "<tr><th>merchant_abn</th><th>name</th><th>business_area</th><th>avg_total_value</th><th>revenue_level</th><th>business_segment</th><th>expected_transaction</th><th>true_revenue</th></tr>\n",
       "<tr><td>96680767841</td><td>Ornare Limited</td><td>motor vehicle sup...</td><td>315.06861309524027</td><td>a</td><td>household</td><td>23763</td><td>39728.91708258423</td></tr>\n",
       "<tr><td>89726005175</td><td>Est Nunc Consulting</td><td>tent and awning s...</td><td>41.23187459923756</td><td>a</td><td>household</td><td>163743</td><td>38512.82005309113</td></tr>\n",
       "<tr><td>38700038932</td><td>Etiam Bibendum In...</td><td>tent and awning s...</td><td>1336.2436316547887</td><td>a</td><td>household</td><td>5411</td><td>36430.26875071515</td></tr>\n",
       "<tr><td>80551528183</td><td>Ac Ipsum LLC</td><td>tent and awning s...</td><td>1125.4718484638406</td><td>b</td><td>household</td><td>5919</td><td>31630.093244327345</td></tr>\n",
       "<tr><td>76767266140</td><td>Phasellus At Limited</td><td>furniture, home f...</td><td>214.48522155694192</td><td>b</td><td>household</td><td>31572</td><td>30628.084659145745</td></tr>\n",
       "<tr><td>49549583265</td><td>Luctus Et Incorpo...</td><td>tent and awning s...</td><td>678.704234522669</td><td>a</td><td>household</td><td>7611</td><td>30100.626867241706</td></tr>\n",
       "<tr><td>79827781481</td><td>Amet Risus Inc.</td><td>furniture, home f...</td><td>2036.4814449572925</td><td>a</td><td>household</td><td>3442</td><td>28800.457005251534</td></tr>\n",
       "<tr><td>49891706470</td><td>Non Vestibulum In...</td><td>tent and awning s...</td><td>28.980731305967698</td><td>a</td><td>household</td><td>187350</td><td>28426.296434780867</td></tr>\n",
       "<tr><td>43186523025</td><td>Lorem Ipsum Sodal...</td><td>florists supplies...</td><td>44.99407448848733</td><td>b</td><td>household</td><td>152011</td><td>28308.977410753636</td></tr>\n",
       "<tr><td>90568944804</td><td>Diam Eu Dolor LLC</td><td>tent and awning s...</td><td>898.5753673253311</td><td>b</td><td>household</td><td>8157</td><td>26953.984708165714</td></tr>\n",
       "</table>\n"
      ],
      "text/plain": [
       "+------------+--------------------+--------------------+------------------+-------------+----------------+--------------------+------------------+\n",
       "|merchant_abn|                name|       business_area|   avg_total_value|revenue_level|business_segment|expected_transaction|      true_revenue|\n",
       "+------------+--------------------+--------------------+------------------+-------------+----------------+--------------------+------------------+\n",
       "| 96680767841|      Ornare Limited|motor vehicle sup...|315.06861309524027|            a|       household|               23763| 39728.91708258423|\n",
       "| 89726005175| Est Nunc Consulting|tent and awning s...| 41.23187459923756|            a|       household|              163743| 38512.82005309113|\n",
       "| 38700038932|Etiam Bibendum In...|tent and awning s...|1336.2436316547887|            a|       household|                5411| 36430.26875071515|\n",
       "| 80551528183|        Ac Ipsum LLC|tent and awning s...|1125.4718484638406|            b|       household|                5919|31630.093244327345|\n",
       "| 76767266140|Phasellus At Limited|furniture, home f...|214.48522155694192|            b|       household|               31572|30628.084659145745|\n",
       "| 49549583265|Luctus Et Incorpo...|tent and awning s...|  678.704234522669|            a|       household|                7611|30100.626867241706|\n",
       "| 79827781481|     Amet Risus Inc.|furniture, home f...|2036.4814449572925|            a|       household|                3442|28800.457005251534|\n",
       "| 49891706470|Non Vestibulum In...|tent and awning s...|28.980731305967698|            a|       household|              187350|28426.296434780867|\n",
       "| 43186523025|Lorem Ipsum Sodal...|florists supplies...| 44.99407448848733|            b|       household|              152011|28308.977410753636|\n",
       "| 90568944804|   Diam Eu Dolor LLC|tent and awning s...| 898.5753673253311|            b|       household|                8157|26953.984708165714|\n",
       "+------------+--------------------+--------------------+------------------+-------------+----------------+--------------------+------------------+"
      ]
     },
     "execution_count": 19,
     "metadata": {},
     "output_type": "execute_result"
    }
   ],
   "source": [
    "top10household"
   ]
  },
  {
   "cell_type": "code",
   "execution_count": 20,
   "id": "secure-equation",
   "metadata": {},
   "outputs": [
    {
     "data": {
      "text/html": [
       "<table border='1'>\n",
       "<tr><th>merchant_abn</th><th>name</th><th>business_area</th><th>avg_total_value</th><th>revenue_level</th><th>business_segment</th><th>expected_transaction</th><th>true_revenue</th></tr>\n",
       "<tr><td>32361057556</td><td>Orci In Consequat...</td><td>gift, card, novel...</td><td>109.98738471647025</td><td>a</td><td>recreation</td><td>65016</td><td>43766.742919312244</td></tr>\n",
       "<tr><td>45629217853</td><td>Lacus Consulting</td><td>gift, card, novel...</td><td>36.86309255250773</td><td>a</td><td>recreation</td><td>173438</td><td>42207.57778690396</td></tr>\n",
       "<tr><td>64403598239</td><td>Lobortis Ultrices...</td><td>music shops - mus...</td><td>78.11269321474416</td><td>a</td><td>recreation</td><td>85967</td><td>38210.088844639424</td></tr>\n",
       "<tr><td>67978471888</td><td>Magna Malesuada C...</td><td>artist supply and...</td><td>648.8876206534682</td><td>a</td><td>recreation</td><td>9454</td><td>36923.284896821715</td></tr>\n",
       "<tr><td>94493496784</td><td>Dictum Phasellus ...</td><td>gift, card, novel...</td><td>91.89829533112882</td><td>a</td><td>recreation</td><td>75281</td><td>36284.53364046986</td></tr>\n",
       "<tr><td>40515428545</td><td>Elit Sed Consequa...</td><td>artist supply and...</td><td>596.5734154604642</td><td>a</td><td>recreation</td><td>9881</td><td>34353.536434727845</td></tr>\n",
       "<tr><td>63123845164</td><td>Odio Phasellus In...</td><td>artist supply and...</td><td>751.2370990170103</td><td>a</td><td>recreation</td><td>8641</td><td>33735.956793983576</td></tr>\n",
       "<tr><td>79417999332</td><td>Phasellus At Company</td><td>gift, card, novel...</td><td>91.9414464701124</td><td>b</td><td>recreation</td><td>75447</td><td>33074.7818877211</td></tr>\n",
       "<tr><td>72472909171</td><td>Nullam Consulting</td><td>digital goods: bo...</td><td>70.31518680234745</td><td>a</td><td>recreation</td><td>77204</td><td>32167.069700367047</td></tr>\n",
       "<tr><td>27326652377</td><td>Tellus Aenean Cor...</td><td>music shops - mus...</td><td>1009.5896252964578</td><td>a</td><td>recreation</td><td>4910</td><td>30423.656221079513</td></tr>\n",
       "</table>\n"
      ],
      "text/plain": [
       "+------------+--------------------+--------------------+------------------+-------------+----------------+--------------------+------------------+\n",
       "|merchant_abn|                name|       business_area|   avg_total_value|revenue_level|business_segment|expected_transaction|      true_revenue|\n",
       "+------------+--------------------+--------------------+------------------+-------------+----------------+--------------------+------------------+\n",
       "| 32361057556|Orci In Consequat...|gift, card, novel...|109.98738471647025|            a|      recreation|               65016|43766.742919312244|\n",
       "| 45629217853|    Lacus Consulting|gift, card, novel...| 36.86309255250773|            a|      recreation|              173438| 42207.57778690396|\n",
       "| 64403598239|Lobortis Ultrices...|music shops - mus...| 78.11269321474416|            a|      recreation|               85967|38210.088844639424|\n",
       "| 67978471888|Magna Malesuada C...|artist supply and...| 648.8876206534682|            a|      recreation|                9454|36923.284896821715|\n",
       "| 94493496784|Dictum Phasellus ...|gift, card, novel...| 91.89829533112882|            a|      recreation|               75281| 36284.53364046986|\n",
       "| 40515428545|Elit Sed Consequa...|artist supply and...| 596.5734154604642|            a|      recreation|                9881|34353.536434727845|\n",
       "| 63123845164|Odio Phasellus In...|artist supply and...| 751.2370990170103|            a|      recreation|                8641|33735.956793983576|\n",
       "| 79417999332|Phasellus At Company|gift, card, novel...|  91.9414464701124|            b|      recreation|               75447|  33074.7818877211|\n",
       "| 72472909171|   Nullam Consulting|digital goods: bo...| 70.31518680234745|            a|      recreation|               77204|32167.069700367047|\n",
       "| 27326652377|Tellus Aenean Cor...|music shops - mus...|1009.5896252964578|            a|      recreation|                4910|30423.656221079513|\n",
       "+------------+--------------------+--------------------+------------------+-------------+----------------+--------------------+------------------+"
      ]
     },
     "execution_count": 20,
     "metadata": {},
     "output_type": "execute_result"
    }
   ],
   "source": [
    "top10recreation"
   ]
  },
  {
   "cell_type": "code",
   "execution_count": 21,
   "id": "fatty-vietnamese",
   "metadata": {},
   "outputs": [
    {
     "data": {
      "text/html": [
       "<table border='1'>\n",
       "<tr><th>merchant_abn</th><th>name</th><th>business_area</th><th>avg_total_value</th><th>revenue_level</th><th>business_segment</th><th>expected_transaction</th><th>true_revenue</th></tr>\n",
       "<tr><td>48534649627</td><td>Dignissim Maecena...</td><td>opticians, optica...</td><td>141.65798620362992</td><td>a</td><td>fashion</td><td>48309</td><td>37992.51900873453</td></tr>\n",
       "<tr><td>86578477987</td><td>Leo In Consulting</td><td>watch, clock, and...</td><td>34.98176268056113</td><td>a</td><td>fashion</td><td>173786</td><td>36308.45974929885</td></tr>\n",
       "<tr><td>49322182190</td><td>Gravida Mauris In...</td><td>watch, clock, and...</td><td>151.2973045284807</td><td>a</td><td>fashion</td><td>33009</td><td>28798.587560997054</td></tr>\n",
       "<tr><td>19492220327</td><td>Commodo Ipsum Ind...</td><td>jewelry, watch, c...</td><td>9997.797797783242</td><td>b</td><td>fashion</td><td>649</td><td>20767.51858832556</td></tr>\n",
       "<tr><td>11439466003</td><td>Blandit At LLC</td><td>shoe shops</td><td>163.07968880593438</td><td>a</td><td>fashion</td><td>22619</td><td>20088.496428337545</td></tr>\n",
       "<tr><td>93558142492</td><td>Dolor Quisque Inc.</td><td>shoe shops</td><td>405.6866231203035</td><td>b</td><td>fashion</td><td>16544</td><td>18853.320486544595</td></tr>\n",
       "<tr><td>95574756848</td><td>At Pede Inc.</td><td>opticians, optica...</td><td>357.41601111620497</td><td>a</td><td>fashion</td><td>8266</td><td>17358.93264217874</td></tr>\n",
       "<tr><td>99976658299</td><td>Sociosqu Corp.</td><td>shoe shops</td><td>149.92402158371087</td><td>a</td><td>fashion</td><td>17440</td><td>16660.979479032503</td></tr>\n",
       "<tr><td>46804135891</td><td>Suspendisse Dui C...</td><td>opticians, optica...</td><td>29.98490952653827</td><td>c</td><td>fashion</td><td>170658</td><td>13434.684057044793</td></tr>\n",
       "<tr><td>81761494572</td><td>Nulla Facilisis I...</td><td>watch, clock, and...</td><td>115.0319859686225</td><td>a</td><td>fashion</td><td>16826</td><td>13369.956102551712</td></tr>\n",
       "</table>\n"
      ],
      "text/plain": [
       "+------------+--------------------+--------------------+------------------+-------------+----------------+--------------------+------------------+\n",
       "|merchant_abn|                name|       business_area|   avg_total_value|revenue_level|business_segment|expected_transaction|      true_revenue|\n",
       "+------------+--------------------+--------------------+------------------+-------------+----------------+--------------------+------------------+\n",
       "| 48534649627|Dignissim Maecena...|opticians, optica...|141.65798620362992|            a|         fashion|               48309| 37992.51900873453|\n",
       "| 86578477987|   Leo In Consulting|watch, clock, and...| 34.98176268056113|            a|         fashion|              173786| 36308.45974929885|\n",
       "| 49322182190|Gravida Mauris In...|watch, clock, and...| 151.2973045284807|            a|         fashion|               33009|28798.587560997054|\n",
       "| 19492220327|Commodo Ipsum Ind...|jewelry, watch, c...| 9997.797797783242|            b|         fashion|                 649| 20767.51858832556|\n",
       "| 11439466003|      Blandit At LLC|          shoe shops|163.07968880593438|            a|         fashion|               22619|20088.496428337545|\n",
       "| 93558142492|  Dolor Quisque Inc.|          shoe shops| 405.6866231203035|            b|         fashion|               16544|18853.320486544595|\n",
       "| 95574756848|        At Pede Inc.|opticians, optica...|357.41601111620497|            a|         fashion|                8266| 17358.93264217874|\n",
       "| 99976658299|      Sociosqu Corp.|          shoe shops|149.92402158371087|            a|         fashion|               17440|16660.979479032503|\n",
       "| 46804135891|Suspendisse Dui C...|opticians, optica...| 29.98490952653827|            c|         fashion|              170658|13434.684057044793|\n",
       "| 81761494572|Nulla Facilisis I...|watch, clock, and...| 115.0319859686225|            a|         fashion|               16826|13369.956102551712|\n",
       "+------------+--------------------+--------------------+------------------+-------------+----------------+--------------------+------------------+"
      ]
     },
     "execution_count": 21,
     "metadata": {},
     "output_type": "execute_result"
    }
   ],
   "source": [
    "top10fashion"
   ]
  },
  {
   "cell_type": "code",
   "execution_count": 22,
   "id": "pharmaceutical-chaos",
   "metadata": {},
   "outputs": [
    {
     "data": {
      "text/html": [
       "<table border='1'>\n",
       "<tr><th>merchant_abn</th><th>name</th><th>business_area</th><th>avg_total_value</th><th>revenue_level</th><th>business_segment</th><th>expected_transaction</th><th>true_revenue</th></tr>\n",
       "<tr><td>21439773999</td><td>Mauris Non Institute</td><td>cable, satellite,...</td><td>78.14540729233093</td><td>a</td><td>electronics</td><td>91406</td><td>39120.00430848647</td></tr>\n",
       "<tr><td>35909341340</td><td>Arcu Sed Eu Incor...</td><td>computer programm...</td><td>250.7705228080561</td><td>b</td><td>electronics</td><td>26338</td><td>32279.682572125555</td></tr>\n",
       "<tr><td>45433476494</td><td>Adipiscing Elit F...</td><td>computers, comput...</td><td>450.93672527389566</td><td>a</td><td>electronics</td><td>12121</td><td>31161.95303567217</td></tr>\n",
       "<tr><td>82368304209</td><td>Nec Incorporated</td><td>telecom</td><td>1867.954943974729</td><td>a</td><td>electronics</td><td>3720</td><td>31146.11606194541</td></tr>\n",
       "<tr><td>94690988633</td><td>Eu Placerat LLC</td><td>computers, comput...</td><td>202.0520362068834</td><td>a</td><td>electronics</td><td>23614</td><td>27964.158872441658</td></tr>\n",
       "<tr><td>58454491168</td><td>Diam At Foundation</td><td>computer programm...</td><td>251.55068227498938</td><td>a</td><td>electronics</td><td>18454</td><td>24132.20391261745</td></tr>\n",
       "<tr><td>80518954462</td><td>Neque Sed Dictum ...</td><td>computers, comput...</td><td>300.97378136636956</td><td>b</td><td>electronics</td><td>22628</td><td>23198.08590220679</td></tr>\n",
       "<tr><td>34096466752</td><td>Nullam Enim Ltd</td><td>computers, comput...</td><td>500.5880908303476</td><td>b</td><td>electronics</td><td>14008</td><td>21165.01895563647</td></tr>\n",
       "<tr><td>67400260923</td><td>Eleifend PC</td><td>computer programm...</td><td>149.812854422409</td><td>a</td><td>electronics</td><td>25908</td><td>20027.85742375301</td></tr>\n",
       "<tr><td>77590625261</td><td>Sed Diam Foundation</td><td>computer programm...</td><td>301.96276795289305</td><td>b</td><td>electronics</td><td>17412</td><td>16560.265927804096</td></tr>\n",
       "</table>\n"
      ],
      "text/plain": [
       "+------------+--------------------+--------------------+------------------+-------------+----------------+--------------------+------------------+\n",
       "|merchant_abn|                name|       business_area|   avg_total_value|revenue_level|business_segment|expected_transaction|      true_revenue|\n",
       "+------------+--------------------+--------------------+------------------+-------------+----------------+--------------------+------------------+\n",
       "| 21439773999|Mauris Non Institute|cable, satellite,...| 78.14540729233093|            a|     electronics|               91406| 39120.00430848647|\n",
       "| 35909341340|Arcu Sed Eu Incor...|computer programm...| 250.7705228080561|            b|     electronics|               26338|32279.682572125555|\n",
       "| 45433476494|Adipiscing Elit F...|computers, comput...|450.93672527389566|            a|     electronics|               12121| 31161.95303567217|\n",
       "| 82368304209|    Nec Incorporated|             telecom| 1867.954943974729|            a|     electronics|                3720| 31146.11606194541|\n",
       "| 94690988633|     Eu Placerat LLC|computers, comput...| 202.0520362068834|            a|     electronics|               23614|27964.158872441658|\n",
       "| 58454491168|  Diam At Foundation|computer programm...|251.55068227498938|            a|     electronics|               18454| 24132.20391261745|\n",
       "| 80518954462|Neque Sed Dictum ...|computers, comput...|300.97378136636956|            b|     electronics|               22628| 23198.08590220679|\n",
       "| 34096466752|     Nullam Enim Ltd|computers, comput...| 500.5880908303476|            b|     electronics|               14008| 21165.01895563647|\n",
       "| 67400260923|         Eleifend PC|computer programm...|  149.812854422409|            a|     electronics|               25908| 20027.85742375301|\n",
       "| 77590625261| Sed Diam Foundation|computer programm...|301.96276795289305|            b|     electronics|               17412|16560.265927804096|\n",
       "+------------+--------------------+--------------------+------------------+-------------+----------------+--------------------+------------------+"
      ]
     },
     "execution_count": 22,
     "metadata": {},
     "output_type": "execute_result"
    }
   ],
   "source": [
    "top10electric"
   ]
  },
  {
   "cell_type": "code",
   "execution_count": 23,
   "id": "extreme-spouse",
   "metadata": {},
   "outputs": [
    {
     "data": {
      "text/html": [
       "<div>\n",
       "<style scoped>\n",
       "    .dataframe tbody tr th:only-of-type {\n",
       "        vertical-align: middle;\n",
       "    }\n",
       "\n",
       "    .dataframe tbody tr th {\n",
       "        vertical-align: top;\n",
       "    }\n",
       "\n",
       "    .dataframe thead th {\n",
       "        text-align: right;\n",
       "    }\n",
       "</style>\n",
       "<table border=\"1\" class=\"dataframe\">\n",
       "  <thead>\n",
       "    <tr style=\"text-align: right;\">\n",
       "      <th></th>\n",
       "      <th>revenue_level</th>\n",
       "      <th>count</th>\n",
       "    </tr>\n",
       "  </thead>\n",
       "  <tbody>\n",
       "    <tr>\n",
       "      <th>0</th>\n",
       "      <td>a</td>\n",
       "      <td>50</td>\n",
       "    </tr>\n",
       "    <tr>\n",
       "      <th>1</th>\n",
       "      <td>b</td>\n",
       "      <td>39</td>\n",
       "    </tr>\n",
       "    <tr>\n",
       "      <th>2</th>\n",
       "      <td>c</td>\n",
       "      <td>11</td>\n",
       "    </tr>\n",
       "  </tbody>\n",
       "</table>\n",
       "</div>"
      ],
      "text/plain": [
       "  revenue_level  count\n",
       "0             a     50\n",
       "1             b     39\n",
       "2             c     11"
      ]
     },
     "execution_count": 23,
     "metadata": {},
     "output_type": "execute_result"
    }
   ],
   "source": [
    "top100_df = top100.select(\"revenue_level\").groupby(\"revenue_level\").count().toPandas()\n",
    "\n",
    "top100_df"
   ]
  },
  {
   "cell_type": "code",
   "execution_count": 24,
   "id": "seasonal-cyprus",
   "metadata": {},
   "outputs": [
    {
     "data": {
      "text/html": [
       "<table border='1'>\n",
       "<tr><th>business_area</th><th>merchant_abn</th><th>business_area_type</th><th>total_transactions_count</th><th>avg_total_value</th><th>name</th><th>revenue_level</th><th>take_rate</th><th>consumer_scaled_spare_money</th><th>ap_percentage_by_gender</th><th>annual_turnover_percentage</th><th>fraud_rate</th><th>count</th><th>ap_rate</th><th>business_segment</th><th>expected_transaction</th><th>expected_revenue</th></tr>\n",
       "<tr><td>shoe shops</td><td>45663905997</td><td>Retail trade</td><td>1846</td><td>409.7789910024507</td><td>Lacus Mauris Asso...</td><td>e</td><td> 0.48</td><td>-0.6073911267776049</td><td>0.08536782231852655</td><td>21.9</td><td>0.002708559046587...</td><td>1298</td><td>0.024628708479218116</td><td>fashion</td><td>1582</td><td>80.64450542928229</td></tr>\n",
       "<tr><td>tent and awning s...</td><td>33226000026</td><td>Retail trade</td><td>943</td><td>1176.0788257950946</td><td>Quis Turpis Corp.</td><td>e</td><td> 0.48</td><td>0.2266192907975403</td><td>0.08407688229056204</td><td>21.9</td><td>0.04772004241781548</td><td>666</td><td>0.10673881048844544</td><td>household</td><td>811</td><td>525.0015878349302</td></tr>\n",
       "<tr><td>antique shops - s...</td><td>41424526968</td><td>Retail trade</td><td>952</td><td>213.82587432490465</td><td>Elit Consulting</td><td>e</td><td> 0.47</td><td>-1.2829118234620451</td><td>0.08646113445378151</td><td>21.9</td><td>0.002100840336134...</td><td>671</td><td>0.001</td><td>household</td><td>817</td><td>0.0</td></tr>\n",
       "<tr><td>books, periodical...</td><td>28517327395</td><td>Retail trade</td><td>932</td><td>364.286655368395</td><td>Pede Blandit LLP</td><td>e</td><td> 0.47</td><td>-0.5705125688510309</td><td>0.08556545064377682</td><td>21.9</td><td>0.006437768240343348</td><td>662</td><td>0.028514190922208922</td><td>recreation</td><td>806</td><td>41.09153472555495</td></tr>\n",
       "<tr><td>shoe shops</td><td>28504709344</td><td>Retail trade</td><td>73</td><td>337.44485976125577</td><td>Consequat Corp.</td><td>e</td><td> 0.47</td><td>0.15316116835638535</td><td>0.08717123287671232</td><td>21.9</td><td>0.0136986301369863</td><td>48</td><td>0.10248735102610255</td><td>fashion</td><td>58</td><td>9.515945045267413</td></tr>\n",
       "<tr><td>motor vehicle sup...</td><td>47524805326</td><td>Retail trade</td><td>466</td><td>325.6629838664739</td><td>Gravida Nunc Inc.</td><td>e</td><td> 0.46</td><td>0.12908867327906604</td><td>0.08347103004291845</td><td>21.9</td><td>0.006437768240343348</td><td>331</td><td>0.09637989732477856</td><td>household</td><td>403</td><td>61.42003875721698</td></tr>\n",
       "<tr><td>artist supply and...</td><td>72780061668</td><td>Retail trade</td><td>35</td><td>914.6871094104937</td><td>Mattis Velit Just...</td><td>e</td><td> 0.45</td><td>0.19286779523502</td><td>0.08375714285714286</td><td>21.9</td><td>0.05714285714285714</td><td>24</td><td>0.10304391926587642</td><td>recreation</td><td>29</td><td>12.348275977041665</td></tr>\n",
       "<tr><td>shoe shops</td><td>99018524323</td><td>Retail trade</td><td>817</td><td>247.11640163433853</td><td>Orci Consectetuer...</td><td>e</td><td> 0.42</td><td>0.16261442167325385</td><td>0.08658261933904529</td><td>21.9</td><td>0.006119951040391677</td><td>577</td><td>0.10284405813889064</td><td>fashion</td><td>703</td><td>79.91744428854507</td></tr>\n",
       "<tr><td>florists supplies...</td><td>48666632255</td><td>Retail trade</td><td>79</td><td>392.71949903735765</td><td>Aliquam Nec Enim LLP</td><td>e</td><td> 0.42</td><td>0.012362883596388857</td><td>0.08743037974683546</td><td>21.9</td><td>0.012658227848101266</td><td>58</td><td>0.08866666864442511</td><td>household</td><td>70</td><td>9.89653137574141</td></tr>\n",
       "<tr><td>computer programm...</td><td>64928973842</td><td>Professional, sci...</td><td>365</td><td>320.36098636583995</td><td>Sed Company</td><td>e</td><td> 0.41</td><td>-0.01169741756257...</td><td>0.08792328767123289</td><td>11.3</td><td>0.005479452054794521</td><td>252</td><td>0.08675354658907955</td><td>electronics</td><td>280</td><td>34.15048114659854</td></tr>\n",
       "<tr><td>computer programm...</td><td>83000061755</td><td>Professional, sci...</td><td>3761</td><td>298.7771347194767</td><td>Eros Industries</td><td>e</td><td> 0.41</td><td>0.1654751396830494</td><td>0.08521616591332093</td><td>11.3</td><td>0.00425418771603297</td><td>2656</td><td>0.10176367855723316</td><td>electronics</td><td>2956</td><td>395.670559509003</td></tr>\n",
       "<tr><td>art dealers and g...</td><td>57223200264</td><td>Arts and recreati...</td><td>419</td><td>2675.77748535781</td><td>Massa Suspendisse...</td><td>e</td><td> 0.40</td><td>0.2136330200338506</td><td>0.08615513126491647</td><td>13.3</td><td>0.24821002386634844</td><td>296</td><td>0.1075184334626212</td><td>recreation</td><td>335</td><td>406.71817777438713</td></tr>\n",
       "<tr><td>motor vehicle sup...</td><td>61968317984</td><td>Retail trade</td><td>86</td><td>271.27861570679136</td><td>Ante Ipsum Ltd</td><td>e</td><td> 0.40</td><td>0.08541983585934845</td><td>0.08656395348837209</td><td>21.9</td><td>0.011627906976744186</td><td>59</td><td>0.0951059358531048</td><td>household</td><td>71</td><td>7.595801239790159</td></tr>\n",
       "<tr><td>cable, satellite,...</td><td>63685007785</td><td>Retail trade</td><td>9677</td><td>78.94562354380598</td><td>Augue Eu Tempor A...</td><td>e</td><td> 0.38</td><td>-0.08609002270507363</td><td>0.08486648754779375</td><td>21.9</td><td>0.002273431848713...</td><td>6887</td><td>0.07625748421926544</td><td>electronics</td><td>8395</td><td>206.6954315623928</td></tr>\n",
       "<tr><td>cable, satellite,...</td><td>67609108741</td><td>Retail trade</td><td>14501</td><td>78.36928788202195</td><td>Metus Sit Amet In...</td><td>e</td><td> 0.38</td><td>0.1263682576358204</td><td>0.08498258740776499</td><td>21.9</td><td>0.002275705123784...</td><td>10288</td><td>0.09761941465079671</td><td>electronics</td><td>12541</td><td>392.50474142831877</td></tr>\n",
       "<tr><td>watch, clock, and...</td><td>36758807067</td><td>Other services</td><td>333</td><td>56.11352218928511</td><td>Pellentesque Ut I...</td><td>e</td><td> 0.38</td><td>0.06362064328225214</td><td>0.08412612612612613</td><td>2.4</td><td>0.006006006006006006</td><td>230</td><td>0.09048819407466228</td><td>fashion</td><td>235</td><td>4.691090455024235</td></tr>\n",
       "<tr><td>bicycle shops - s...</td><td>22678591293</td><td>Retail trade</td><td>38</td><td>475.5967238508315</td><td>Tellus Id Industries</td><td>e</td><td> 0.37</td><td>0.29140029490542213</td><td>0.08469736842105263</td><td>21.9</td><td>0.02631578947368421</td><td>27</td><td>0.11383739525134544</td><td>household</td><td>32</td><td>5.279123634744229</td></tr>\n",
       "<tr><td>florists supplies...</td><td>78916025936</td><td>Retail trade</td><td>63</td><td>311.12584628705474</td><td>Urna Nec Corporation</td><td>e</td><td> 0.37</td><td>0.20200770680640207</td><td>0.08598412698412697</td><td>21.9</td><td>0.015873015873015872</td><td>47</td><td>0.10618489641401575</td><td>household</td><td>57</td><td>6.906993787572616</td></tr>\n",
       "<tr><td>music shops - mus...</td><td>17866919544</td><td>Retail trade</td><td>273</td><td>99.41156306337747</td><td>Orci Sem LLP</td><td>e</td><td> 0.37</td><td>0.21342548976671186</td><td>0.08348901098901099</td><td>21.9</td><td>0.01098901098901099</td><td>187</td><td>0.10483155722452352</td><td>recreation</td><td>227</td><td>9.195569583362415</td></tr>\n",
       "<tr><td>equipment, tool, ...</td><td>78864123417</td><td>Retail trade</td><td>266</td><td>1226.3086997067796</td><td>A Sollicitudin Or...</td><td>e</td><td> 0.36</td><td>0.14914753586211071</td><td>0.08664661654135339</td><td>21.9</td><td>0.10150375939849623</td><td>179</td><td>0.10156137004510389</td><td>household</td><td>218</td><td>101.53836033572135</td></tr>\n",
       "</table>\n",
       "only showing top 20 rows\n"
      ],
      "text/plain": [
       "+--------------------+------------+--------------------+------------------------+------------------+--------------------+-------------+---------+---------------------------+-----------------------+--------------------------+--------------------+-----+--------------------+----------------+--------------------+------------------+\n",
       "|       business_area|merchant_abn|  business_area_type|total_transactions_count|   avg_total_value|                name|revenue_level|take_rate|consumer_scaled_spare_money|ap_percentage_by_gender|annual_turnover_percentage|          fraud_rate|count|             ap_rate|business_segment|expected_transaction|  expected_revenue|\n",
       "+--------------------+------------+--------------------+------------------------+------------------+--------------------+-------------+---------+---------------------------+-----------------------+--------------------------+--------------------+-----+--------------------+----------------+--------------------+------------------+\n",
       "|          shoe shops| 45663905997|        Retail trade|                    1846| 409.7789910024507|Lacus Mauris Asso...|            e|     0.48|        -0.6073911267776049|    0.08536782231852655|                      21.9|0.002708559046587...| 1298|0.024628708479218116|         fashion|                1582| 80.64450542928229|\n",
       "|tent and awning s...| 33226000026|        Retail trade|                     943|1176.0788257950946|   Quis Turpis Corp.|            e|     0.48|         0.2266192907975403|    0.08407688229056204|                      21.9| 0.04772004241781548|  666| 0.10673881048844544|       household|                 811| 525.0015878349302|\n",
       "|antique shops - s...| 41424526968|        Retail trade|                     952|213.82587432490465|     Elit Consulting|            e|     0.47|        -1.2829118234620451|    0.08646113445378151|                      21.9|0.002100840336134...|  671|               0.001|       household|                 817|               0.0|\n",
       "|books, periodical...| 28517327395|        Retail trade|                     932|  364.286655368395|    Pede Blandit LLP|            e|     0.47|        -0.5705125688510309|    0.08556545064377682|                      21.9|0.006437768240343348|  662|0.028514190922208922|      recreation|                 806| 41.09153472555495|\n",
       "|          shoe shops| 28504709344|        Retail trade|                      73|337.44485976125577|     Consequat Corp.|            e|     0.47|        0.15316116835638535|    0.08717123287671232|                      21.9|  0.0136986301369863|   48| 0.10248735102610255|         fashion|                  58| 9.515945045267413|\n",
       "|motor vehicle sup...| 47524805326|        Retail trade|                     466| 325.6629838664739|   Gravida Nunc Inc.|            e|     0.46|        0.12908867327906604|    0.08347103004291845|                      21.9|0.006437768240343348|  331| 0.09637989732477856|       household|                 403| 61.42003875721698|\n",
       "|artist supply and...| 72780061668|        Retail trade|                      35| 914.6871094104937|Mattis Velit Just...|            e|     0.45|           0.19286779523502|    0.08375714285714286|                      21.9| 0.05714285714285714|   24| 0.10304391926587642|      recreation|                  29|12.348275977041665|\n",
       "|          shoe shops| 99018524323|        Retail trade|                     817|247.11640163433853|Orci Consectetuer...|            e|     0.42|        0.16261442167325385|    0.08658261933904529|                      21.9|0.006119951040391677|  577| 0.10284405813889064|         fashion|                 703| 79.91744428854507|\n",
       "|florists supplies...| 48666632255|        Retail trade|                      79|392.71949903735765|Aliquam Nec Enim LLP|            e|     0.42|       0.012362883596388857|    0.08743037974683546|                      21.9|0.012658227848101266|   58| 0.08866666864442511|       household|                  70|  9.89653137574141|\n",
       "|computer programm...| 64928973842|Professional, sci...|                     365|320.36098636583995|         Sed Company|            e|     0.41|       -0.01169741756257...|    0.08792328767123289|                      11.3|0.005479452054794521|  252| 0.08675354658907955|     electronics|                 280| 34.15048114659854|\n",
       "|computer programm...| 83000061755|Professional, sci...|                    3761| 298.7771347194767|     Eros Industries|            e|     0.41|         0.1654751396830494|    0.08521616591332093|                      11.3| 0.00425418771603297| 2656| 0.10176367855723316|     electronics|                2956|  395.670559509003|\n",
       "|art dealers and g...| 57223200264|Arts and recreati...|                     419|  2675.77748535781|Massa Suspendisse...|            e|     0.40|         0.2136330200338506|    0.08615513126491647|                      13.3| 0.24821002386634844|  296|  0.1075184334626212|      recreation|                 335|406.71817777438713|\n",
       "|motor vehicle sup...| 61968317984|        Retail trade|                      86|271.27861570679136|      Ante Ipsum Ltd|            e|     0.40|        0.08541983585934845|    0.08656395348837209|                      21.9|0.011627906976744186|   59|  0.0951059358531048|       household|                  71| 7.595801239790159|\n",
       "|cable, satellite,...| 63685007785|        Retail trade|                    9677| 78.94562354380598|Augue Eu Tempor A...|            e|     0.38|       -0.08609002270507363|    0.08486648754779375|                      21.9|0.002273431848713...| 6887| 0.07625748421926544|     electronics|                8395| 206.6954315623928|\n",
       "|cable, satellite,...| 67609108741|        Retail trade|                   14501| 78.36928788202195|Metus Sit Amet In...|            e|     0.38|         0.1263682576358204|    0.08498258740776499|                      21.9|0.002275705123784...|10288| 0.09761941465079671|     electronics|               12541|392.50474142831877|\n",
       "|watch, clock, and...| 36758807067|      Other services|                     333| 56.11352218928511|Pellentesque Ut I...|            e|     0.38|        0.06362064328225214|    0.08412612612612613|                       2.4|0.006006006006006006|  230| 0.09048819407466228|         fashion|                 235| 4.691090455024235|\n",
       "|bicycle shops - s...| 22678591293|        Retail trade|                      38| 475.5967238508315|Tellus Id Industries|            e|     0.37|        0.29140029490542213|    0.08469736842105263|                      21.9| 0.02631578947368421|   27| 0.11383739525134544|       household|                  32| 5.279123634744229|\n",
       "|florists supplies...| 78916025936|        Retail trade|                      63|311.12584628705474|Urna Nec Corporation|            e|     0.37|        0.20200770680640207|    0.08598412698412697|                      21.9|0.015873015873015872|   47| 0.10618489641401575|       household|                  57| 6.906993787572616|\n",
       "|music shops - mus...| 17866919544|        Retail trade|                     273| 99.41156306337747|        Orci Sem LLP|            e|     0.37|        0.21342548976671186|    0.08348901098901099|                      21.9| 0.01098901098901099|  187| 0.10483155722452352|      recreation|                 227| 9.195569583362415|\n",
       "|equipment, tool, ...| 78864123417|        Retail trade|                     266|1226.3086997067796|A Sollicitudin Or...|            e|     0.36|        0.14914753586211071|    0.08664661654135339|                      21.9| 0.10150375939849623|  179| 0.10156137004510389|       household|                 218|101.53836033572135|\n",
       "+--------------------+------------+--------------------+------------------------+------------------+--------------------+-------------+---------+---------------------------+-----------------------+--------------------------+--------------------+-----+--------------------+----------------+--------------------+------------------+\n",
       "only showing top 20 rows"
      ]
     },
     "execution_count": 24,
     "metadata": {},
     "output_type": "execute_result"
    }
   ],
   "source": [
    "full_data.filter(F.col(\"revenue_level\")==\"e\").orderBy(F.col(\"take_rate\").desc())"
   ]
  },
  {
   "cell_type": "code",
   "execution_count": 25,
   "id": "sonic-cross",
   "metadata": {},
   "outputs": [
    {
     "data": {
      "text/html": [
       "<table border='1'>\n",
       "<tr><th>business_area</th><th>merchant_abn</th><th>business_area_type</th><th>total_transactions_count</th><th>avg_total_value</th><th>name</th><th>revenue_level</th><th>take_rate</th><th>consumer_scaled_spare_money</th><th>ap_percentage_by_gender</th><th>annual_turnover_percentage</th><th>fraud_rate</th><th>count</th><th>ap_rate</th><th>business_segment</th><th>expected_transaction</th><th>expected_revenue</th></tr>\n",
       "<tr><td>stationery, offic...</td><td>36662964956</td><td>Retail trade</td><td>39</td><td>529.2581920267878</td><td>Curabitur Associates</td><td>a</td><td> 5.50</td><td>0.45837246678495003</td><td>0.0776794871794872</td><td>21.9</td><td>0.02564102564102564</td><td>28</td><td>0.12351673176112135</td><td>household</td><td>34</td><td>116.43680224589332</td></tr>\n",
       "<tr><td>computer programm...</td><td>15937271532</td><td>Professional, sci...</td><td>333</td><td>298.3888091718008</td><td>Diam Proin Dolor ...</td><td>a</td><td> 5.50</td><td>0.027219465631823505</td><td>0.08540840840840841</td><td>11.3</td><td>0.006006006006006006</td><td>248</td><td>0.088130358483253</td><td>electronics</td><td>276</td><td>426.69599711567514</td></tr>\n",
       "<tr><td>bicycle shops - s...</td><td>62583219931</td><td>Retail trade</td><td>7679</td><td>148.83980565795954</td><td>Mi Lacinia Mattis...</td><td>a</td><td> 5.50</td><td>0.0630210310002075</td><td>0.08515841906498244</td><td>21.9</td><td>0.003906758692538091</td><td>5442</td><td>0.09146052568932281</td><td>household</td><td>6633</td><td>5345.581620205618</td></tr>\n",
       "<tr><td>florists supplies...</td><td>74024744735</td><td>Retail trade</td><td>478</td><td>446.3800860125984</td><td>Eu LLP</td><td>a</td><td> 5.51</td><td>0.0831367499455325</td><td>0.08556380753138074</td><td>21.9</td><td>0.004184100418410...</td><td>335</td><td>0.09387748367413394</td><td>household</td><td>408</td><td>1008.4172523110609</td></tr>\n",
       "<tr><td>computer programm...</td><td>73895811023</td><td>Professional, sci...</td><td>2978</td><td>100.4109335312474</td><td>Libero Mauris Ali...</td><td>a</td><td> 5.51</td><td>0.2123792634828312</td><td>0.0860530557421088</td><td>11.3</td><td>0.004365345869711216</td><td>2152</td><td>0.1072909848533414</td><td>electronics</td><td>2395</td><td>1527.009312769798</td></tr>\n",
       "<tr><td>stationery, offic...</td><td>58596147982</td><td>Retail trade</td><td>413</td><td>403.4404615956827</td><td>Rutrum Lorem Inc.</td><td>a</td><td> 5.51</td><td>0.1703610396221989</td><td>0.0852046004842615</td><td>21.9</td><td>0.004842615012106538</td><td>274</td><td>0.10224070525006168</td><td>household</td><td>334</td><td>800.2644996211961</td></tr>\n",
       "<tr><td>bicycle shops - s...</td><td>52594457116</td><td>Retail trade</td><td>6800</td><td>510.6094922285751</td><td>Vel Turpis Aliqua...</td><td>a</td><td> 5.51</td><td>-0.5797955047373281</td><td>0.08514566176470588</td><td>21.9</td><td>0.0125</td><td>4798</td><td>0.027166109271006718</td><td>household</td><td>5848</td><td>4811.013696726857</td></tr>\n",
       "<tr><td>cable, satellite,...</td><td>41974958954</td><td>Retail trade</td><td>18390</td><td>58.9574961441794</td><td>Sed Libero Proin ...</td><td>a</td><td> 5.51</td><td>-0.01290240989087...</td><td>0.08515171288743882</td><td>21.9</td><td>0.003806416530723...</td><td>13096</td><td>0.08386146862709686</td><td>electronics</td><td>15964</td><td>4681.172132101315</td></tr>\n",
       "<tr><td>computer programm...</td><td>64732735902</td><td>Professional, sci...</td><td>6428</td><td>200.50988384720088</td><td>Imperdiet Non Ves...</td><td>a</td><td> 5.51</td><td>-0.13221250203323856</td><td>0.08486893279402613</td><td>11.3</td><td>0.004511512134411947</td><td>4523</td><td>0.07164768007688473</td><td>electronics</td><td>5034</td><td>4286.660704792538</td></tr>\n",
       "<tr><td>lawn and garden s...</td><td>17610103622</td><td>Retail trade</td><td>15</td><td>1990.557837897359</td><td>Per Conubia Corpo...</td><td>a</td><td> 5.51</td><td>-0.02057747121902...</td><td>0.09159999999999999</td><td>21.9</td><td>0.13333333333333333</td><td>12</td><td>0.08954225373640402</td><td>household</td><td>14</td><td>109.67973686814446</td></tr>\n",
       "<tr><td>shoe shops</td><td>91630014920</td><td>Retail trade</td><td>2547</td><td>326.228030581099</td><td>Accumsan Sed LLP</td><td>a</td><td> 5.51</td><td>-0.10766530788974148</td><td>0.08481743227326267</td><td>21.9</td><td>0.005104043973301924</td><td>1833</td><td>0.0740509010781485</td><td>fashion</td><td>2234</td><td>3199.579278333303</td></tr>\n",
       "<tr><td>gift, card, novel...</td><td>47721432444</td><td>Retail trade</td><td>1287</td><td>112.1050060124536</td><td>Ultrices Posuere ...</td><td>a</td><td> 5.52</td><td>-0.3926860758457052</td><td>0.08391219891219891</td><td>21.9</td><td>0.004662004662004662</td><td>913</td><td>0.04464359364118708</td><td>recreation</td><td>1112</td><td>327.9744055900342</td></tr>\n",
       "<tr><td>florists supplies...</td><td>78213188724</td><td>Retail trade</td><td>2196</td><td>226.7270910671841</td><td>Sem Industries</td><td>a</td><td> 5.52</td><td>-0.16999156074485403</td><td>0.08425</td><td>21.9</td><td>0.003642987249544...</td><td>1574</td><td>0.06725084702495612</td><td>household</td><td>1918</td><td>1727.1162889133814</td></tr>\n",
       "<tr><td>lawn and garden s...</td><td>60121698774</td><td>Retail trade</td><td>5798</td><td>106.68648500470817</td><td>Nec Tempus Inc.</td><td>a</td><td> 5.52</td><td>-0.04304371138749123</td><td>0.08524223870300103</td><td>21.9</td><td>0.004656778199379096</td><td>4082</td><td>0.08093787048226833</td><td>household</td><td>4975</td><td>2549.9776899885323</td></tr>\n",
       "<tr><td>lawn and garden s...</td><td>13067850740</td><td>Retail trade</td><td>23</td><td>1615.8236119866158</td><td>Felis Eget Indust...</td><td>a</td><td> 5.52</td><td>-0.2163845185419457</td><td>0.08152173913043478</td><td>21.9</td><td>0.043478260869565216</td><td>20</td><td>0.05988329019168479</td><td>household</td><td>24</td><td>89.19346338166119</td></tr>\n",
       "<tr><td>gift, card, novel...</td><td>70217388552</td><td>Retail trade</td><td>943</td><td>89.78192047577639</td><td>Quis Diam Company</td><td>a</td><td> 5.52</td><td>0.18817164260995503</td><td>0.08530593849416755</td><td>21.9</td><td>0.003181336161187699</td><td>648</td><td>0.10412310089553606</td><td>recreation</td><td>789</td><td>436.1246569031314</td></tr>\n",
       "<tr><td>lawn and garden s...</td><td>25938405651</td><td>Retail trade</td><td>8913</td><td>107.87911524904423</td><td>Elementum Dui Qui...</td><td>a</td><td> 5.52</td><td>-0.03296713815609...</td><td>0.08518517895209246</td><td>21.9</td><td>0.002692696061932...</td><td>6388</td><td>0.08188846380861606</td><td>household</td><td>7786</td><td>4085.0800329586073</td></tr>\n",
       "<tr><td>watch, clock, and...</td><td>82428360644</td><td>Other services</td><td>715</td><td>118.24223943139421</td><td>Erat Institute</td><td>a</td><td> 5.52</td><td>0.13802935948002634</td><td>0.08370839160839161</td><td>2.4</td><td>0.002797202797202797</td><td>496</td><td>0.09751132654153138</td><td>fashion</td><td>507</td><td>345.92949568048687</td></tr>\n",
       "<tr><td>furniture, home f...</td><td>30434864008</td><td>Manufacturing</td><td>156</td><td>127.64760895831081</td><td>Aliquet Magna LLC</td><td>a</td><td> 5.52</td><td>0.1957160820050364</td><td>0.08432692307692308</td><td>17.0</td><td>0.01282051282051282</td><td>111</td><td>0.10389853109402782</td><td>household</td><td>129</td><td>98.6460722029826</td></tr>\n",
       "<tr><td>tent and awning s...</td><td>93977601095</td><td>Retail trade</td><td>84</td><td>727.1292013600729</td><td>Primis LLC</td><td>a</td><td> 5.52</td><td>0.260918255445396</td><td>0.0855</td><td>21.9</td><td>0.011904761904761904</td><td>68</td><td>0.11159182745188823</td><td>household</td><td>82</td><td>361.2377872356842</td></tr>\n",
       "</table>\n",
       "only showing top 20 rows\n"
      ],
      "text/plain": [
       "+--------------------+------------+--------------------+------------------------+------------------+--------------------+-------------+---------+---------------------------+-----------------------+--------------------------+--------------------+-----+--------------------+----------------+--------------------+------------------+\n",
       "|       business_area|merchant_abn|  business_area_type|total_transactions_count|   avg_total_value|                name|revenue_level|take_rate|consumer_scaled_spare_money|ap_percentage_by_gender|annual_turnover_percentage|          fraud_rate|count|             ap_rate|business_segment|expected_transaction|  expected_revenue|\n",
       "+--------------------+------------+--------------------+------------------------+------------------+--------------------+-------------+---------+---------------------------+-----------------------+--------------------------+--------------------+-----+--------------------+----------------+--------------------+------------------+\n",
       "|stationery, offic...| 36662964956|        Retail trade|                      39| 529.2581920267878|Curabitur Associates|            a|     5.50|        0.45837246678495003|     0.0776794871794872|                      21.9| 0.02564102564102564|   28| 0.12351673176112135|       household|                  34|116.43680224589332|\n",
       "|computer programm...| 15937271532|Professional, sci...|                     333| 298.3888091718008|Diam Proin Dolor ...|            a|     5.50|       0.027219465631823505|    0.08540840840840841|                      11.3|0.006006006006006006|  248|   0.088130358483253|     electronics|                 276|426.69599711567514|\n",
       "|bicycle shops - s...| 62583219931|        Retail trade|                    7679|148.83980565795954|Mi Lacinia Mattis...|            a|     5.50|         0.0630210310002075|    0.08515841906498244|                      21.9|0.003906758692538091| 5442| 0.09146052568932281|       household|                6633| 5345.581620205618|\n",
       "|florists supplies...| 74024744735|        Retail trade|                     478| 446.3800860125984|              Eu LLP|            a|     5.51|         0.0831367499455325|    0.08556380753138074|                      21.9|0.004184100418410...|  335| 0.09387748367413394|       household|                 408|1008.4172523110609|\n",
       "|computer programm...| 73895811023|Professional, sci...|                    2978| 100.4109335312474|Libero Mauris Ali...|            a|     5.51|         0.2123792634828312|     0.0860530557421088|                      11.3|0.004365345869711216| 2152|  0.1072909848533414|     electronics|                2395| 1527.009312769798|\n",
       "|stationery, offic...| 58596147982|        Retail trade|                     413| 403.4404615956827|   Rutrum Lorem Inc.|            a|     5.51|         0.1703610396221989|     0.0852046004842615|                      21.9|0.004842615012106538|  274| 0.10224070525006168|       household|                 334| 800.2644996211961|\n",
       "|bicycle shops - s...| 52594457116|        Retail trade|                    6800| 510.6094922285751|Vel Turpis Aliqua...|            a|     5.51|        -0.5797955047373281|    0.08514566176470588|                      21.9|              0.0125| 4798|0.027166109271006718|       household|                5848| 4811.013696726857|\n",
       "|cable, satellite,...| 41974958954|        Retail trade|                   18390|  58.9574961441794|Sed Libero Proin ...|            a|     5.51|       -0.01290240989087...|    0.08515171288743882|                      21.9|0.003806416530723...|13096| 0.08386146862709686|     electronics|               15964| 4681.172132101315|\n",
       "|computer programm...| 64732735902|Professional, sci...|                    6428|200.50988384720088|Imperdiet Non Ves...|            a|     5.51|       -0.13221250203323856|    0.08486893279402613|                      11.3|0.004511512134411947| 4523| 0.07164768007688473|     electronics|                5034| 4286.660704792538|\n",
       "|lawn and garden s...| 17610103622|        Retail trade|                      15| 1990.557837897359|Per Conubia Corpo...|            a|     5.51|       -0.02057747121902...|    0.09159999999999999|                      21.9| 0.13333333333333333|   12| 0.08954225373640402|       household|                  14|109.67973686814446|\n",
       "|          shoe shops| 91630014920|        Retail trade|                    2547|  326.228030581099|    Accumsan Sed LLP|            a|     5.51|       -0.10766530788974148|    0.08481743227326267|                      21.9|0.005104043973301924| 1833|  0.0740509010781485|         fashion|                2234| 3199.579278333303|\n",
       "|gift, card, novel...| 47721432444|        Retail trade|                    1287| 112.1050060124536|Ultrices Posuere ...|            a|     5.52|        -0.3926860758457052|    0.08391219891219891|                      21.9|0.004662004662004662|  913| 0.04464359364118708|      recreation|                1112| 327.9744055900342|\n",
       "|florists supplies...| 78213188724|        Retail trade|                    2196| 226.7270910671841|      Sem Industries|            a|     5.52|       -0.16999156074485403|                0.08425|                      21.9|0.003642987249544...| 1574| 0.06725084702495612|       household|                1918|1727.1162889133814|\n",
       "|lawn and garden s...| 60121698774|        Retail trade|                    5798|106.68648500470817|     Nec Tempus Inc.|            a|     5.52|       -0.04304371138749123|    0.08524223870300103|                      21.9|0.004656778199379096| 4082| 0.08093787048226833|       household|                4975|2549.9776899885323|\n",
       "|lawn and garden s...| 13067850740|        Retail trade|                      23|1615.8236119866158|Felis Eget Indust...|            a|     5.52|        -0.2163845185419457|    0.08152173913043478|                      21.9|0.043478260869565216|   20| 0.05988329019168479|       household|                  24| 89.19346338166119|\n",
       "|gift, card, novel...| 70217388552|        Retail trade|                     943| 89.78192047577639|   Quis Diam Company|            a|     5.52|        0.18817164260995503|    0.08530593849416755|                      21.9|0.003181336161187699|  648| 0.10412310089553606|      recreation|                 789| 436.1246569031314|\n",
       "|lawn and garden s...| 25938405651|        Retail trade|                    8913|107.87911524904423|Elementum Dui Qui...|            a|     5.52|       -0.03296713815609...|    0.08518517895209246|                      21.9|0.002692696061932...| 6388| 0.08188846380861606|       household|                7786|4085.0800329586073|\n",
       "|watch, clock, and...| 82428360644|      Other services|                     715|118.24223943139421|      Erat Institute|            a|     5.52|        0.13802935948002634|    0.08370839160839161|                       2.4|0.002797202797202797|  496| 0.09751132654153138|         fashion|                 507|345.92949568048687|\n",
       "|furniture, home f...| 30434864008|       Manufacturing|                     156|127.64760895831081|   Aliquet Magna LLC|            a|     5.52|         0.1957160820050364|    0.08432692307692308|                      17.0| 0.01282051282051282|  111| 0.10389853109402782|       household|                 129|  98.6460722029826|\n",
       "|tent and awning s...| 93977601095|        Retail trade|                      84| 727.1292013600729|          Primis LLC|            a|     5.52|          0.260918255445396|                 0.0855|                      21.9|0.011904761904761904|   68| 0.11159182745188823|       household|                  82| 361.2377872356842|\n",
       "+--------------------+------------+--------------------+------------------------+------------------+--------------------+-------------+---------+---------------------------+-----------------------+--------------------------+--------------------+-----+--------------------+----------------+--------------------+------------------+\n",
       "only showing top 20 rows"
      ]
     },
     "execution_count": 25,
     "metadata": {},
     "output_type": "execute_result"
    }
   ],
   "source": [
    "full_data.filter(F.col(\"revenue_level\")==\"a\").orderBy(F.col(\"take_rate\").asc())"
   ]
  },
  {
   "cell_type": "code",
   "execution_count": 27,
   "id": "broken-registration",
   "metadata": {},
   "outputs": [
    {
     "data": {
      "text/html": [
       "<div>\n",
       "<style scoped>\n",
       "    .dataframe tbody tr th:only-of-type {\n",
       "        vertical-align: middle;\n",
       "    }\n",
       "\n",
       "    .dataframe tbody tr th {\n",
       "        vertical-align: top;\n",
       "    }\n",
       "\n",
       "    .dataframe thead th {\n",
       "        text-align: right;\n",
       "    }\n",
       "</style>\n",
       "<table border=\"1\" class=\"dataframe\">\n",
       "  <thead>\n",
       "    <tr style=\"text-align: right;\">\n",
       "      <th></th>\n",
       "      <th>revenue_level</th>\n",
       "      <th>count</th>\n",
       "    </tr>\n",
       "  </thead>\n",
       "  <tbody>\n",
       "    <tr>\n",
       "      <th>0</th>\n",
       "      <td>a</td>\n",
       "      <td>50</td>\n",
       "    </tr>\n",
       "    <tr>\n",
       "      <th>1</th>\n",
       "      <td>b</td>\n",
       "      <td>39</td>\n",
       "    </tr>\n",
       "    <tr>\n",
       "      <th>2</th>\n",
       "      <td>c</td>\n",
       "      <td>11</td>\n",
       "    </tr>\n",
       "  </tbody>\n",
       "</table>\n",
       "</div>"
      ],
      "text/plain": [
       "  revenue_level  count\n",
       "0             a     50\n",
       "1             b     39\n",
       "2             c     11"
      ]
     },
     "execution_count": 27,
     "metadata": {},
     "output_type": "execute_result"
    }
   ],
   "source": [
    "top100_df"
   ]
  },
  {
   "cell_type": "code",
   "execution_count": 75,
   "id": "formed-petite",
   "metadata": {},
   "outputs": [
    {
     "data": {
      "image/png": "[encoded data removed]",
      "text/plain": [
       "<Figure size 432x288 with 1 Axes>"
      ]
     },
     "metadata": {
      "needs_background": "light"
     },
     "output_type": "display_data"
    }
   ],
   "source": [
    "ax = top100_df.plot.bar(x = \"revenue_level\", rot=0, \n",
    "                        title='Number of revenue level in selected merchant')\n",
    "for p in ax.patches:\n",
    "    ax.annotate(str(p.get_height()), (p.get_x() + p.get_width()/3, p.get_height()*1.01))\n",
    "fig = ax.get_figure()\n",
    "fig.savefig(\"../plots/Number of revenue level in selected merchant.png\")\n"
   ]
  },
  {
   "cell_type": "code",
   "execution_count": 72,
   "id": "junior-yorkshire",
   "metadata": {},
   "outputs": [
    {
     "data": {
      "text/plain": [
       "<Figure size 432x288 with 0 Axes>"
      ]
     },
     "execution_count": 72,
     "metadata": {},
     "output_type": "execute_result"
    },
    {
     "data": {
      "image/png": "[encoded data removed]",
      "text/plain": [
       "<Figure size 720x720 with 1 Axes>"
      ]
     },
     "metadata": {},
     "output_type": "display_data"
    },
    {
     "data": {
      "text/plain": [
       "<Figure size 432x288 with 0 Axes>"
      ]
     },
     "metadata": {},
     "output_type": "display_data"
    }
   ],
   "source": [
    "top100_revenue_distribution = top100.select(\"business_segment\", \"true_revenue\")\\\n",
    "                                                        .groupby(\"business_segment\").sum().toPandas()\n",
    "top100_revenue_distribution = top100_revenue_distribution.rename(columns={\"sum(true_revenue)\":\"total revenue\"})\n",
    "top100_revenue_distribution = top100_revenue_distribution.set_index(\"business_segment\")\n",
    "\n",
    "ax = top100_revenue_distribution.plot.pie(y='total revenue', figsize=(10, 10), \\\n",
    "                                                           legend=False, autopct='%1.1f%%', \\\n",
    "                                                            shadow=False, fontsize = 15,  ylabel = \"\")\n",
    "\n",
    "ax.set_title(\"Business Segment Revenue Distribution\", fontdict={'fontsize':20})\n",
    "\n",
    "plt.savefig(\"../plots/Business segment revenue distribution.png\")\n",
    "plt.figure()\n",
    "\n"
   ]
  },
  {
   "cell_type": "code",
   "execution_count": 73,
   "id": "seasonal-difficulty",
   "metadata": {
    "scrolled": false
   },
   "outputs": [
    {
     "data": {
      "text/plain": [
       "<Figure size 432x288 with 0 Axes>"
      ]
     },
     "execution_count": 73,
     "metadata": {},
     "output_type": "execute_result"
    },
    {
     "data": {
      "image/png": "[encoded data removed]",
      "text/plain": [
       "<Figure size 720x720 with 1 Axes>"
      ]
     },
     "metadata": {},
     "output_type": "display_data"
    },
    {
     "data": {
      "text/plain": [
       "<Figure size 432x288 with 0 Axes>"
      ]
     },
     "metadata": {},
     "output_type": "display_data"
    }
   ],
   "source": [
    "top100_segment_distribution = top100.select(\"business_segment\").groupby(\"business_segment\").count().toPandas()\n",
    "top100_segment_distribution = top100_segment_distribution.set_index(\"business_segment\")\n",
    "ax = top100_segment_distribution.plot.pie(y='count', \\\n",
    "                                        figsize=(10, 10),\\\n",
    "                                        legend=False, autopct='%1.1f%%', shadow=False, startangle=0,\\\n",
    "                                        fontsize = 15,  ylabel = \"\")\n",
    "\n",
    "ax.set_title(\"Business Segment Distribution Percentage\", fontdict={'fontsize':20})\n",
    "\n",
    "plt.savefig(\"../plots/Business segment distribution.png\")\n",
    "plt.figure()\n",
    "\n"
   ]
  },
  {
   "cell_type": "code",
   "execution_count": 52,
   "id": "identified-miracle",
   "metadata": {},
   "outputs": [],
   "source": [
    "top10_all_segment = top10fashion.union(top10electric)\n",
    "top10_all_segment = top10_all_segment.union(top10recreation)\n",
    "top10_all_segment = top10_all_segment.union(top10household)"
   ]
  },
  {
   "cell_type": "code",
   "execution_count": 53,
   "id": "indian-region",
   "metadata": {},
   "outputs": [
    {
     "data": {
      "text/plain": [
       "true_revenue    1171057.0\n",
       "dtype: float64"
      ]
     },
     "execution_count": 53,
     "metadata": {},
     "output_type": "execute_result"
    }
   ],
   "source": [
    "top10_all_segment.select(F.col(\"true_revenue\")).toPandas().sum().round()"
   ]
  },
  {
   "cell_type": "code",
   "execution_count": 82,
   "id": "greenhouse-vaccine",
   "metadata": {},
   "outputs": [
    {
     "data": {
      "image/png": "[encoded data removed]",
      "text/plain": [
       "<Figure size 432x288 with 1 Axes>"
      ]
     },
     "metadata": {
      "needs_background": "light"
     },
     "output_type": "display_data"
    }
   ],
   "source": [
    "top10_all_segment_df = top10_all_segment.select(\"revenue_level\").groupby(\"revenue_level\")\\\n",
    "                        .count().orderBy(\"revenue_level\").toPandas()\n",
    "\n",
    "ax = top10_all_segment_df.plot.bar(x = \"revenue_level\", rot=0, \n",
    "                        title='Number of revenue level in selected merchant')\n",
    "for p in ax.patches:\n",
    "    ax.annotate(str(p.get_height()), (p.get_x() + p.get_width()/3, p.get_height()*1.01))\n",
    "fig = ax.get_figure()\n",
    "fig.savefig(\"../plots/Number of revenue level in selected merchant(top 10).png\")"
   ]
  },
  {
   "cell_type": "code",
   "execution_count": 81,
   "id": "artistic-gather",
   "metadata": {},
   "outputs": [
    {
     "data": {
      "text/html": [
       "<div>\n",
       "<style scoped>\n",
       "    .dataframe tbody tr th:only-of-type {\n",
       "        vertical-align: middle;\n",
       "    }\n",
       "\n",
       "    .dataframe tbody tr th {\n",
       "        vertical-align: top;\n",
       "    }\n",
       "\n",
       "    .dataframe thead th {\n",
       "        text-align: right;\n",
       "    }\n",
       "</style>\n",
       "<table border=\"1\" class=\"dataframe\">\n",
       "  <thead>\n",
       "    <tr style=\"text-align: right;\">\n",
       "      <th></th>\n",
       "      <th>revenue_level</th>\n",
       "      <th>count</th>\n",
       "    </tr>\n",
       "  </thead>\n",
       "  <tbody>\n",
       "    <tr>\n",
       "      <th>0</th>\n",
       "      <td>c</td>\n",
       "      <td>1</td>\n",
       "    </tr>\n",
       "    <tr>\n",
       "      <th>1</th>\n",
       "      <td>b</td>\n",
       "      <td>11</td>\n",
       "    </tr>\n",
       "    <tr>\n",
       "      <th>2</th>\n",
       "      <td>a</td>\n",
       "      <td>28</td>\n",
       "    </tr>\n",
       "  </tbody>\n",
       "</table>\n",
       "</div>"
      ],
      "text/plain": [
       "  revenue_level  count\n",
       "0             c      1\n",
       "1             b     11\n",
       "2             a     28"
      ]
     },
     "execution_count": 81,
     "metadata": {},
     "output_type": "execute_result"
    }
   ],
   "source": [
    "top10_all_segment_df"
   ]
  },
  {
   "cell_type": "code",
   "execution_count": 83,
   "id": "elegant-asbestos",
   "metadata": {},
   "outputs": [
    {
     "data": {
      "text/plain": [
       "<Figure size 432x288 with 0 Axes>"
      ]
     },
     "execution_count": 83,
     "metadata": {},
     "output_type": "execute_result"
    },
    {
     "data": {
      "image/png": "[encoded data removed]",
      "text/plain": [
       "<Figure size 720x720 with 1 Axes>"
      ]
     },
     "metadata": {},
     "output_type": "display_data"
    },
    {
     "data": {
      "text/plain": [
       "<Figure size 432x288 with 0 Axes>"
      ]
     },
     "metadata": {},
     "output_type": "display_data"
    }
   ],
   "source": [
    "top10_all_revenue_distribution = top10_all_segment.select(\"business_segment\", \"true_revenue\")\\\n",
    "                                                        .groupby(\"business_segment\").sum().toPandas()\n",
    "top10_revenue_distribution = top10_all_revenue_distribution.rename(columns={\"sum(true_revenue)\":\"total revenue\"})\n",
    "top10_revenue_distribution = top10_revenue_distribution.set_index(\"business_segment\")\n",
    "\n",
    "ax = top100_revenue_distribution.plot.pie(y='total revenue', figsize=(10, 10), \\\n",
    "                                                           legend=False, autopct='%1.1f%%', \\\n",
    "                                                            shadow=False, fontsize = 15,  ylabel = \"\")\n",
    "\n",
    "ax.set_title(\"Business Segment Revenue Distribution (Top 10)\", fontdict={'fontsize':20})\n",
    "\n",
    "plt.savefig(\"../plots/Business segment revenue distribution(top 10).png\")\n",
    "plt.figure()\n",
    "\n",
    "\n"
   ]
  },
  {
   "cell_type": "markdown",
   "id": "proved-miracle",
   "metadata": {},
   "source": [
    "### Introduction\n",
    "The Buy Now & Pay Later (BNPL) project we are working on is a project that helps companies like After \n",
    "Pay and other online financial business company to find better client merchant and increase their total \n",
    "profits with limited resources available.\n",
    "\n",
    "In order to find the best client merchants, we are looking for, we need to develop a ranking system to \n",
    "output the top 100 merchants and we also separate the merchants into four segments with business \n",
    "areas and ranked the top-10 merchants in the business area.\n",
    "\n",
    "We have the available dataset from After Pay of the merchant list, customer list and the transaction \n",
    "between merchant and customers. The merchants have features line their annual revenue level, the \n",
    "take rate After pay is going to charge in each transaction, and their business areas.\n",
    "The additional dataset we used is a turnover dataset form ABS database and a census data and the \n",
    "annual report from the After Pay company.\n",
    "\n",
    "\n",
    "### Preprocessing\n",
    "Data cleaning\n",
    "\n",
    "Null value evaluation\n",
    "\n",
    "Data merge with key\n",
    "\n",
    "Select merchants with reasonable amount of transaction\n",
    "\n",
    "Convert POS code in ABS data to post code and relate to customer (leftover merge)\n",
    "\n",
    "Data normalization\n",
    "\n",
    "Outlier detection and removal"
   ]
  },
  {
   "cell_type": "markdown",
   "id": "greater-knitting",
   "metadata": {},
   "source": [
    "### Ranking Algorithm \n",
    "\n",
    "The merchants are ranked by expected revenue:\n",
    "\n",
    "**expected revenue = ap_rate * total_transaction_count * avg_transaction_amount * take_rate_revenue**.\n",
    "\n",
    "where \n",
    "\n",
    "**ap_rate** is the percentage of customers who are likely to use afterpay for their orders, which is calculated combining customer gender, rent and income based on their recorded postcode;\n",
    "\n",
    "**total_transaction_count** is the expected count of transactions of this merchant after cooparated with BNPL company, (i.e. there will be a 7% increasing on transactions statistically);\n",
    "\n",
    "**avg_transaction_amount** is the average amount of existing transactions for this merchant;\n",
    "\n",
    "**take_rate_revenue** is the provided rate of total transaction amount that is the revenue of BNPL company."
   ]
  },
  {
   "cell_type": "markdown",
   "id": "collect-pattern",
   "metadata": {},
   "source": [
    "We separate the merchants into 3 segments according to their business area as follows:\n",
    "\n",
    "##### Recreation:\n",
    "-digital goods: books, movies, music  \n",
    "-health and beauty spas  \n",
    "-hobby, toy and game shops  \n",
    "-gift, card, novelty, and souvenir shops  \n",
    "-books, periodicals, and newspapers  \n",
    "-art dealers and galleries  \n",
    "-music shops - musical instruments, pianos, and sheet music  \n",
    "-artist supply and craft shops  \n",
    "\n",
    "\n",
    "##### Electronics:\n",
    "-computer programming , data processing, and integrated systems design services  \n",
    "-cable, satellite, and other pay television and radio services  \n",
    "-computers, computer peripheral equipment, and software  \n",
    "-telecom  \n",
    "\n",
    "\n",
    "##### Household:\n",
    "-antique shops - sales, repairs, and restoration services  \n",
    "-furniture, home furnishings and equipment shops, and manufacturers, except appliances  \n",
    "-tent and awning shops  \n",
    "-equipment, tool, furniture, and appliance rent al and leasing  \n",
    "-lawn and garden supply outlets, including nurseries  \n",
    "-florists supplies, nursery stock, and flowers  \n",
    "-bicycle shops - sales and service  \n",
    "-motor vehicle supplies and new parts"
   ]
  },
  {
   "cell_type": "markdown",
   "id": "grave-academy",
   "metadata": {},
   "source": [
    "### Discussion\n",
    "\n",
    "##### Distribution of revenue level in selected merchants\n",
    "It is noticed that the merchants with revenue level a are most favoured amongst all merchants whereas no merchants with revenue level d and e is selected in top 100 merchants. This implys that revenue level is one of the most important feature in the selection of merchants with the highest potential benefit to cooperate with. \n",
    "\n",
    "#### Business segment revenue distribution\n",
    "The pie graph demonstrates that the most revenue comes from household and creation segment, whereas the merchants of fashion segment provides the least potential revenue. \n",
    "\n",
    "#### Business segment merchant distribution\n",
    "g"
   ]
  }
 ],
 "metadata": {
  "kernelspec": {
   "display_name": "Python 3",
   "language": "python",
   "name": "python3"
  },
  "language_info": {
   "codemirror_mode": {
    "name": "ipython",
    "version": 3
   },
   "file_extension": ".py",
   "mimetype": "text/x-python",
   "name": "python",
   "nbconvert_exporter": "python",
   "pygments_lexer": "ipython3",
   "version": "3.9.2"
  }
 },
 "nbformat": 4,
 "nbformat_minor": 5
}
