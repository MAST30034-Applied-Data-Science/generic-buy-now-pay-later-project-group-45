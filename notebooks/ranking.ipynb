{
 "cells": [
  {
   "cell_type": "code",
   "execution_count": 1,
   "id": "senior-analysis",
   "metadata": {},
   "outputs": [],
   "source": [
    "# create modeling spark session\n",
    "from pyspark.sql import SparkSession\n",
    "\n",
    "spark = (\n",
    "    SparkSession.builder.appName('Project 2')\n",
    "    .config('spark.sql.repl.eagerEval.enabled', True) \n",
    "    .config('spark.sql.parquet.cacheMetadata', 'true')\n",
    "    .config(\"spark.sql.session.timeZone\", \"Etc/UTC\")\n",
    "    .config(\"spark.executor.memory\", \"8g\")\n",
    "    .config(\"spark.driver.memory\", \"8g\")\n",
    "    .getOrCreate()\n",
    ")"
   ]
  },
  {
   "cell_type": "code",
   "execution_count": 2,
   "id": "advisory-craft",
   "metadata": {},
   "outputs": [],
   "source": [
    "from pyspark.sql import functions as F"
   ]
  },
  {
   "cell_type": "code",
   "execution_count": 3,
   "id": "alien-childhood",
   "metadata": {},
   "outputs": [
    {
     "data": {
      "text/html": [
       "<table border='1'>\n",
       "<tr><th>merchant_abn</th><th>business_area_type</th><th>total_transactions_count</th><th>avg_total_value</th><th>name</th><th>business_area</th><th>revenue_level</th><th>take_rate</th><th>consumer_scaled_spare_money</th><th>ap_percentage_by_gender</th><th>annual_turnover_percentage</th><th>fraud_rate</th></tr>\n",
       "<tr><td>34440496342</td><td>Manufacturing</td><td>191</td><td>89.59955556402387</td><td>Mauris Nulla Inte...</td><td>opticians, optica...</td><td>c</td><td> 2.85</td><td>0.25666711503666284</td><td>0.089651832460733</td><td>17.0</td><td>0.015706806282722512</td></tr>\n",
       "<tr><td>83412691377</td><td>Other services</td><td>12516</td><td>34.89369140888509</td><td>Suspendisse Sagit...</td><td>watch, clock, and...</td><td>c</td><td> 2.94</td><td>-0.01150456428167246</td><td>0.08501993448386067</td><td>2.4</td><td>0.002796420581655481</td></tr>\n",
       "<tr><td>35344855546</td><td>Other services</td><td>1330</td><td>86.73320563981618</td><td>Quis Tristique Ac...</td><td>watch, clock, and...</td><td>c</td><td> 2.92</td><td>0.07656245290481792</td><td>0.08426165413533836</td><td>2.4</td><td>0.003759398496240...</td></tr>\n",
       "<tr><td>59128133246</td><td>Manufacturing</td><td>5607</td><td>30.12883220396019</td><td>Ut Tincidunt Foun...</td><td>opticians, optica...</td><td>a</td><td> 6.30</td><td>-0.08816005731045756</td><td>0.08575566256465134</td><td>17.0</td><td>0.003923666845015...</td></tr>\n",
       "<tr><td>86662713230</td><td>Other services</td><td>18947</td><td>52.36669172726792</td><td>Vestibulum Accums...</td><td>watch, clock, and...</td><td>a</td><td> 6.41</td><td>0.1057907662613883</td><td>0.08503800073890326</td><td>2.4</td><td>0.003219507045970338</td></tr>\n",
       "</table>\n"
      ],
      "text/plain": [
       "+------------+------------------+------------------------+-----------------+--------------------+--------------------+-------------+---------+---------------------------+-----------------------+--------------------------+--------------------+\n",
       "|merchant_abn|business_area_type|total_transactions_count|  avg_total_value|                name|       business_area|revenue_level|take_rate|consumer_scaled_spare_money|ap_percentage_by_gender|annual_turnover_percentage|          fraud_rate|\n",
       "+------------+------------------+------------------------+-----------------+--------------------+--------------------+-------------+---------+---------------------------+-----------------------+--------------------------+--------------------+\n",
       "| 34440496342|     Manufacturing|                     191|89.59955556402387|Mauris Nulla Inte...|opticians, optica...|            c|     2.85|        0.25666711503666284|      0.089651832460733|                      17.0|0.015706806282722512|\n",
       "| 83412691377|    Other services|                   12516|34.89369140888509|Suspendisse Sagit...|watch, clock, and...|            c|     2.94|       -0.01150456428167246|    0.08501993448386067|                       2.4|0.002796420581655481|\n",
       "| 35344855546|    Other services|                    1330|86.73320563981618|Quis Tristique Ac...|watch, clock, and...|            c|     2.92|        0.07656245290481792|    0.08426165413533836|                       2.4|0.003759398496240...|\n",
       "| 59128133246|     Manufacturing|                    5607|30.12883220396019|Ut Tincidunt Foun...|opticians, optica...|            a|     6.30|       -0.08816005731045756|    0.08575566256465134|                      17.0|0.003923666845015...|\n",
       "| 86662713230|    Other services|                   18947|52.36669172726792|Vestibulum Accums...|watch, clock, and...|            a|     6.41|         0.1057907662613883|    0.08503800073890326|                       2.4|0.003219507045970338|\n",
       "+------------+------------------+------------------------+-----------------+--------------------+--------------------+-------------+---------+---------------------------+-----------------------+--------------------------+--------------------+"
      ]
     },
     "execution_count": 3,
     "metadata": {},
     "output_type": "execute_result"
    }
   ],
   "source": [
    "data = spark.read.parquet('../data/curated/final_dataset')\n",
    "data.limit(5)"
   ]
  },
  {
   "cell_type": "code",
   "execution_count": 62,
   "id": "intelligent-forward",
   "metadata": {},
   "outputs": [
    {
     "data": {
      "text/html": [
       "<table border='1'>\n",
       "<tr><th>merchant_abn</th><th>business_area_type</th><th>total_transactions_count</th><th>avg_total_value</th><th>name</th><th>business_area</th><th>revenue_level</th><th>take_rate</th><th>consumer_scaled_spare_money</th><th>ap_percentage_by_gender</th><th>annual_turnover_percentage</th><th>fraud_rate</th></tr>\n",
       "<tr><td>89598973352</td><td>Retail trade</td><td>96</td><td>6260.185023263514</td><td>Ipsum LLC</td><td>antique shops - s...</td><td>b</td><td> 4.79</td><td>-7.319626782183222</td><td>0.08518229166666666</td><td>21.9</td><td>0.3229166666666667</td></tr>\n",
       "</table>\n"
      ],
      "text/plain": [
       "+------------+------------------+------------------------+-----------------+---------+--------------------+-------------+---------+---------------------------+-----------------------+--------------------------+------------------+\n",
       "|merchant_abn|business_area_type|total_transactions_count|  avg_total_value|     name|       business_area|revenue_level|take_rate|consumer_scaled_spare_money|ap_percentage_by_gender|annual_turnover_percentage|        fraud_rate|\n",
       "+------------+------------------+------------------------+-----------------+---------+--------------------+-------------+---------+---------------------------+-----------------------+--------------------------+------------------+\n",
       "| 89598973352|      Retail trade|                      96|6260.185023263514|Ipsum LLC|antique shops - s...|            b|     4.79|         -7.319626782183222|    0.08518229166666666|                      21.9|0.3229166666666667|\n",
       "+------------+------------------+------------------------+-----------------+---------+--------------------+-------------+---------+---------------------------+-----------------------+--------------------------+------------------+"
      ]
     },
     "execution_count": 62,
     "metadata": {},
     "output_type": "execute_result"
    }
   ],
   "source": [
    "data.filter(F.col(\"merchant_abn\")==89598973352)"
   ]
  },
  {
   "cell_type": "code",
   "execution_count": 4,
   "id": "bibliographic-spell",
   "metadata": {},
   "outputs": [
    {
     "data": {
      "text/plain": [
       "3082"
      ]
     },
     "execution_count": 4,
     "metadata": {},
     "output_type": "execute_result"
    }
   ],
   "source": [
    "data.count()"
   ]
  },
  {
   "cell_type": "markdown",
   "id": "presidential-ambassador",
   "metadata": {},
   "source": [
    "If we use annual transaction count to predict revenue, then run the following"
   ]
  },
  {
   "cell_type": "code",
   "execution_count": 12,
   "id": "sweet-transportation",
   "metadata": {},
   "outputs": [],
   "source": [
    "clean_transaction = spark.read.parquet('../data/curated/clean_full_dataset')\n",
    "annual_transaction_count = clean_transaction.filter(F.col(\"order_datetime\")>\"2021-08-27\")\n",
    "annual_merchant_transaction = annual_transaction_count.groupby(\"merchant_abn\").count()\n",
    "full_data = data.join(annual_merchant_transaction, on=\"merchant_abn\", how=\"left\")"
   ]
  },
  {
   "cell_type": "code",
   "execution_count": 63,
   "id": "legitimate-aurora",
   "metadata": {},
   "outputs": [],
   "source": [
    "full_data = full_data.withColumn(\"ap_rate\", (F.col(\"consumer_scaled_spare_money\")*0.01+F.col(\"ap_percentage_by_gender\").cast(\"float\")))"
   ]
  },
  {
   "cell_type": "code",
   "execution_count": 64,
   "id": "logical-breakdown",
   "metadata": {},
   "outputs": [],
   "source": [
    "# cal\n",
    "full_data = full_data.withColumn(\"expected_transaction\", (F.col(\"total_transactions_count\")*\n",
    "                                 (1+F.col(\"annual_turnover_percentage\")/100)).cast(\"int\"))"
   ]
  },
  {
   "cell_type": "code",
   "execution_count": 65,
   "id": "african-macedonia",
   "metadata": {},
   "outputs": [],
   "source": [
    "full_data = full_data.withColumn(\"expected_revenue\", \\\n",
    "                        ((F.col(\"expected_transaction\")*F.col(\"ap_percentage_by_gender\")).cast(\"int\")\\\n",
    "                        *F.col(\"avg_total_value\")+(F.col(\"expected_transaction\")*0.077*\\\n",
    "                            F.col(\"avg_total_value\")))*F.col(\"take_rate\")/100)\n"
   ]
  },
  {
   "cell_type": "code",
   "execution_count": 66,
   "id": "isolated-prediction",
   "metadata": {},
   "outputs": [],
   "source": [
    "full_data = full_data.withColumn(\"expected_revenue1\", \\\n",
    "                        ((F.col(\"expected_transaction\")*1.077*F.col(\"ap_rate\")).cast(\"int\")\\\n",
    "                        *F.col(\"avg_total_value\")*F.col(\"take_rate\")/100))\n",
    "\n"
   ]
  },
  {
   "cell_type": "code",
   "execution_count": 67,
   "id": "potential-courtesy",
   "metadata": {},
   "outputs": [],
   "source": [
    "ranking = full_data.select(\"merchant_abn\", \"name\", \"business_area\", \"expected_revenue\", \"expected_revenue1\",\\\n",
    "                          \"fraud_rate\", \"ap_rate\")"
   ]
  },
  {
   "cell_type": "code",
   "execution_count": 68,
   "id": "bound-fundamentals",
   "metadata": {},
   "outputs": [
    {
     "data": {
      "text/html": [
       "<table border='1'>\n",
       "<tr><th>merchant_abn</th><th>name</th><th>business_area</th><th>expected_revenue</th><th>expected_revenue1</th><th>fraud_rate</th><th>ap_rate</th></tr>\n",
       "<tr><td>79827781481</td><td>Amet Risus Inc.</td><td>furniture, home f...</td><td>110799.73510359028</td><td>61388.51126937062</td><td>0.1638525564803805</td><td>0.08344727232122293</td></tr>\n",
       "<tr><td>32361057556</td><td>Orci In Consequat...</td><td>gift, card, novel...</td><td>107965.60938014746</td><td>61178.44798191932</td><td>0.003303451307394...</td><td>0.0853819109486937</td></tr>\n",
       "<tr><td>38700038932</td><td>Etiam Bibendum In...</td><td>tent and awning s...</td><td>104239.30325807852</td><td>58515.979371247515</td><td>0.060731980182195944</td><td>0.08459241380959204</td></tr>\n",
       "<tr><td>48534649627</td><td>Dignissim Maecena...</td><td>opticians, optica...</td><td>103566.79174104368</td><td>58139.044044915856</td><td>0.017240785394419565</td><td>0.08448659476780845</td></tr>\n",
       "<tr><td>45629217853</td><td>Lacus Consulting</td><td>gift, card, novel...</td><td>101633.9382354574</td><td>57703.08160806118</td><td>0.003114328917194...</td><td>0.08552893617038042</td></tr>\n",
       "<tr><td>96680767841</td><td>Ornare Limited</td><td>motor vehicle sup...</td><td>100320.69815855534</td><td>56680.96952327896</td><td>0.009468237366508862</td><td>0.0851181392027642</td></tr>\n",
       "<tr><td>21439773999</td><td>Mauris Non Institute</td><td>cable, satellite,...</td><td>99595.57975972435</td><td>56291.96599762329</td><td>0.008380364380137116</td><td>0.08518079535350452</td></tr>\n",
       "<tr><td>63123845164</td><td>Odio Phasellus In...</td><td>artist supply and...</td><td>97642.65953675503</td><td>54556.19035739352</td><td>0.015253386853988962</td><td>0.08429987338759466</td></tr>\n",
       "<tr><td>64403598239</td><td>Lobortis Ultrices...</td><td>music shops - mus...</td><td>96883.0973593516</td><td>54760.20056395745</td><td>0.003824515142060...</td><td>0.08517253227072183</td></tr>\n",
       "<tr><td>89726005175</td><td>Est Nunc Consulting</td><td>tent and awning s...</td><td>92604.81968481065</td><td>52603.74106295616</td><td>0.003419491099265815</td><td>0.08559314090439958</td></tr>\n",
       "<tr><td>86578477987</td><td>Leo In Consulting</td><td>watch, clock, and...</td><td>89183.32104529269</td><td>50524.39071916813</td><td>0.003400691027117...</td><td>0.08529987252207906</td></tr>\n",
       "<tr><td>94493496784</td><td>Dictum Phasellus ...</td><td>gift, card, novel...</td><td>89045.852655059</td><td>50473.89808363554</td><td>0.008483954260420508</td><td>0.08535410869191067</td></tr>\n",
       "<tr><td>82368304209</td><td>Nec Incorporated</td><td>telecom</td><td>88601.39555318264</td><td>50280.67720443976</td><td>0.1416261599646487</td><td>0.08548989331172947</td></tr>\n",
       "<tr><td>40515428545</td><td>Elit Sed Consequa...</td><td>artist supply and...</td><td>79390.45281944425</td><td>45293.10650593091</td><td>0.009452954048140044</td><td>0.08600189814786391</td></tr>\n",
       "<tr><td>72472909171</td><td>Nullam Consulting</td><td>digital goods: bo...</td><td>78506.45808676582</td><td>44531.768002508885</td><td>0.003308510161051...</td><td>0.08547427319364614</td></tr>\n",
       "<tr><td>79417999332</td><td>Phasellus At Company</td><td>gift, card, novel...</td><td>78302.42210670789</td><td>44541.631361848005</td><td>0.003643636280042758</td><td>0.08568998465167396</td></tr>\n",
       "<tr><td>67978471888</td><td>Magna Malesuada C...</td><td>artist supply and...</td><td>77788.03074203299</td><td>44881.22072516604</td><td>0.0054178145087236</td><td>0.08703857658819324</td></tr>\n",
       "<tr><td>80551528183</td><td>Ac Ipsum LLC</td><td>tent and awning s...</td><td>72921.46227216393</td><td>41738.23604746637</td><td>0.04685212298682284</td><td>0.08600190305306973</td></tr>\n",
       "<tr><td>49322182190</td><td>Gravida Mauris In...</td><td>watch, clock, and...</td><td>72548.68018499756</td><td>41023.5076363749</td><td>0.003805627048549242</td><td>0.0851808407661029</td></tr>\n",
       "<tr><td>35909341340</td><td>Arcu Sed Eu Incor...</td><td>computer programm...</td><td>72257.04652821184</td><td>41419.26571116101</td><td>0.00897698517893722</td><td>0.08649010140240596</td></tr>\n",
       "</table>\n",
       "only showing top 20 rows\n"
      ],
      "text/plain": [
       "+------------+--------------------+--------------------+------------------+------------------+--------------------+-------------------+\n",
       "|merchant_abn|                name|       business_area|  expected_revenue| expected_revenue1|          fraud_rate|            ap_rate|\n",
       "+------------+--------------------+--------------------+------------------+------------------+--------------------+-------------------+\n",
       "| 79827781481|     Amet Risus Inc.|furniture, home f...|110799.73510359028| 61388.51126937062|  0.1638525564803805|0.08344727232122293|\n",
       "| 32361057556|Orci In Consequat...|gift, card, novel...|107965.60938014746| 61178.44798191932|0.003303451307394...| 0.0853819109486937|\n",
       "| 38700038932|Etiam Bibendum In...|tent and awning s...|104239.30325807852|58515.979371247515|0.060731980182195944|0.08459241380959204|\n",
       "| 48534649627|Dignissim Maecena...|opticians, optica...|103566.79174104368|58139.044044915856|0.017240785394419565|0.08448659476780845|\n",
       "| 45629217853|    Lacus Consulting|gift, card, novel...| 101633.9382354574| 57703.08160806118|0.003114328917194...|0.08552893617038042|\n",
       "| 96680767841|      Ornare Limited|motor vehicle sup...|100320.69815855534| 56680.96952327896|0.009468237366508862| 0.0851181392027642|\n",
       "| 21439773999|Mauris Non Institute|cable, satellite,...| 99595.57975972435| 56291.96599762329|0.008380364380137116|0.08518079535350452|\n",
       "| 63123845164|Odio Phasellus In...|artist supply and...| 97642.65953675503| 54556.19035739352|0.015253386853988962|0.08429987338759466|\n",
       "| 64403598239|Lobortis Ultrices...|music shops - mus...|  96883.0973593516| 54760.20056395745|0.003824515142060...|0.08517253227072183|\n",
       "| 89726005175| Est Nunc Consulting|tent and awning s...| 92604.81968481065| 52603.74106295616|0.003419491099265815|0.08559314090439958|\n",
       "| 86578477987|   Leo In Consulting|watch, clock, and...| 89183.32104529269| 50524.39071916813|0.003400691027117...|0.08529987252207906|\n",
       "| 94493496784|Dictum Phasellus ...|gift, card, novel...|   89045.852655059| 50473.89808363554|0.008483954260420508|0.08535410869191067|\n",
       "| 82368304209|    Nec Incorporated|             telecom| 88601.39555318264| 50280.67720443976|  0.1416261599646487|0.08548989331172947|\n",
       "| 40515428545|Elit Sed Consequa...|artist supply and...| 79390.45281944425| 45293.10650593091|0.009452954048140044|0.08600189814786391|\n",
       "| 72472909171|   Nullam Consulting|digital goods: bo...| 78506.45808676582|44531.768002508885|0.003308510161051...|0.08547427319364614|\n",
       "| 79417999332|Phasellus At Company|gift, card, novel...| 78302.42210670789|44541.631361848005|0.003643636280042758|0.08568998465167396|\n",
       "| 67978471888|Magna Malesuada C...|artist supply and...| 77788.03074203299| 44881.22072516604|  0.0054178145087236|0.08703857658819324|\n",
       "| 80551528183|        Ac Ipsum LLC|tent and awning s...| 72921.46227216393| 41738.23604746637| 0.04685212298682284|0.08600190305306973|\n",
       "| 49322182190|Gravida Mauris In...|watch, clock, and...| 72548.68018499756|  41023.5076363749|0.003805627048549242| 0.0851808407661029|\n",
       "| 35909341340|Arcu Sed Eu Incor...|computer programm...| 72257.04652821184| 41419.26571116101| 0.00897698517893722|0.08649010140240596|\n",
       "+------------+--------------------+--------------------+------------------+------------------+--------------------+-------------------+\n",
       "only showing top 20 rows"
      ]
     },
     "execution_count": 68,
     "metadata": {},
     "output_type": "execute_result"
    }
   ],
   "source": [
    "ranking.orderBy(F.col(\"expected_revenue\").desc(), F.col(\"fraud_rate\").asc())"
   ]
  },
  {
   "cell_type": "code",
   "execution_count": 69,
   "id": "caroline-volleyball",
   "metadata": {},
   "outputs": [
    {
     "data": {
      "text/html": [
       "<table border='1'>\n",
       "<tr><th>merchant_abn</th><th>name</th><th>business_area</th><th>expected_revenue</th><th>expected_revenue1</th><th>fraud_rate</th><th>ap_rate</th></tr>\n",
       "<tr><td>97638827169</td><td>Rutrum PC</td><td>telecom</td><td>352.3021584361444</td><td>-481.83563952971645</td><td>0.14814814814814814</td><td>-0.1819623361805084</td></tr>\n",
       "<tr><td>66236596240</td><td>Ut Ipsum Incorpor...</td><td>tent and awning s...</td><td>125.84516786506998</td><td>-175.19048890729002</td><td>0.16</td><td>-0.1967169088779563</td></tr>\n",
       "<tr><td>47393015569</td><td>Nonummy Ultricies...</td><td>opticians, optica...</td><td>47.962671419290245</td><td>-49.45625017456202</td><td>0.0625</td><td>-0.14141206673811293</td></tr>\n",
       "<tr><td>58380745308</td><td>Auctor Quis Trist...</td><td>health and beauty...</td><td>145.1555648495501</td><td>-14.508302333788118</td><td>0.015625</td><td>-0.01876701197276...</td></tr>\n",
       "<tr><td>24976666868</td><td>Duis Dignissim In...</td><td>hobby, toy and ga...</td><td>1777.0422321906165</td><td>0.0</td><td>0.16455696202531644</td><td>-0.00192333702210...</td></tr>\n",
       "<tr><td>91744809343</td><td>Egestas Associates</td><td>furniture, home f...</td><td>124.71527131943841</td><td>0.0</td><td>0.021505376344086023</td><td>0.006584408230726604</td></tr>\n",
       "<tr><td>46429297007</td><td>Magnis Dis Institute</td><td>art dealers and g...</td><td>63.175015238863615</td><td>0.0</td><td>0.2</td><td>0.08102068672724613</td></tr>\n",
       "<tr><td>35235320738</td><td>Gravida Sit Incor...</td><td>antique shops - s...</td><td>175.13366686111777</td><td>0.0</td><td>0.3333333333333333</td><td>0.05702085923047812</td></tr>\n",
       "<tr><td>54277261175</td><td>In Magna PC</td><td>antique shops - s...</td><td>162.5602393437372</td><td>0.0</td><td>0.3333333333333333</td><td>0.07852949094216193</td></tr>\n",
       "<tr><td>16377211887</td><td>Gravida Mauris PC</td><td>jewelry, watch, c...</td><td>109.48315121814932</td><td>0.0</td><td>0.625</td><td>0.07827686055047406</td></tr>\n",
       "<tr><td>10165489824</td><td>Nunc Sed Company</td><td>jewelry, watch, c...</td><td>173.2659634369056</td><td>0.0</td><td>0.5</td><td>0.081304138440765</td></tr>\n",
       "<tr><td>37815517789</td><td>Odio PC</td><td>jewelry, watch, c...</td><td>300.08846023169247</td><td>0.0</td><td>0.5</td><td>0.08626426497985688</td></tr>\n",
       "<tr><td>73909892719</td><td>Lorem Fringilla Ltd</td><td>equipment, tool, ...</td><td>62.9852861142897</td><td>0.0</td><td>0.3</td><td>0.07651931004547106</td></tr>\n",
       "<tr><td>81790520013</td><td>Magna Praesent In...</td><td>equipment, tool, ...</td><td>505.7353968293871</td><td>0.0</td><td>0.4166666666666667</td><td>0.06253629963079801</td></tr>\n",
       "<tr><td>65168284301</td><td>Dui LLC</td><td>jewelry, watch, c...</td><td>330.9956985684474</td><td>0.0</td><td>0.7142857142857143</td><td>0.07599549073018283</td></tr>\n",
       "<tr><td>21319642626</td><td>At Risus Associates</td><td>antique shops - s...</td><td>516.6727129506646</td><td>0.0</td><td>0.5</td><td>0.08615407651377409</td></tr>\n",
       "<tr><td>31552582037</td><td>Velit Inc.</td><td>telecom</td><td>135.3879939318715</td><td>0.0</td><td>0.3</td><td>0.07168464172653354</td></tr>\n",
       "<tr><td>53877856360</td><td>Sem Magna Company</td><td>antique shops - s...</td><td>759.2415527734533</td><td>0.0</td><td>0.5555555555555556</td><td>0.08968288545498891</td></tr>\n",
       "<tr><td>12983555508</td><td>Nibh Lacinia Foun...</td><td>jewelry, watch, c...</td><td>253.8068468222075</td><td>0.0</td><td>0.5</td><td>0.09878489073918263</td></tr>\n",
       "<tr><td>78279649113</td><td>Habitant Morbi In...</td><td>motor vehicle sup...</td><td>281.2543590169924</td><td>0.0</td><td>0.011235955056179775</td><td>0.008054537334212769</td></tr>\n",
       "</table>\n",
       "only showing top 20 rows\n"
      ],
      "text/plain": [
       "+------------+--------------------+--------------------+------------------+-------------------+--------------------+--------------------+\n",
       "|merchant_abn|                name|       business_area|  expected_revenue|  expected_revenue1|          fraud_rate|             ap_rate|\n",
       "+------------+--------------------+--------------------+------------------+-------------------+--------------------+--------------------+\n",
       "| 97638827169|           Rutrum PC|             telecom| 352.3021584361444|-481.83563952971645| 0.14814814814814814| -0.1819623361805084|\n",
       "| 66236596240|Ut Ipsum Incorpor...|tent and awning s...|125.84516786506998|-175.19048890729002|                0.16| -0.1967169088779563|\n",
       "| 47393015569|Nonummy Ultricies...|opticians, optica...|47.962671419290245| -49.45625017456202|              0.0625|-0.14141206673811293|\n",
       "| 58380745308|Auctor Quis Trist...|health and beauty...| 145.1555648495501|-14.508302333788118|            0.015625|-0.01876701197276...|\n",
       "| 24976666868|Duis Dignissim In...|hobby, toy and ga...|1777.0422321906165|                0.0| 0.16455696202531644|-0.00192333702210...|\n",
       "| 91744809343|  Egestas Associates|furniture, home f...|124.71527131943841|                0.0|0.021505376344086023|0.006584408230726604|\n",
       "| 46429297007|Magnis Dis Institute|art dealers and g...|63.175015238863615|                0.0|                 0.2| 0.08102068672724613|\n",
       "| 35235320738|Gravida Sit Incor...|antique shops - s...|175.13366686111777|                0.0|  0.3333333333333333| 0.05702085923047812|\n",
       "| 54277261175|         In Magna PC|antique shops - s...| 162.5602393437372|                0.0|  0.3333333333333333| 0.07852949094216193|\n",
       "| 16377211887|   Gravida Mauris PC|jewelry, watch, c...|109.48315121814932|                0.0|               0.625| 0.07827686055047406|\n",
       "| 10165489824|    Nunc Sed Company|jewelry, watch, c...| 173.2659634369056|                0.0|                 0.5|   0.081304138440765|\n",
       "| 37815517789|             Odio PC|jewelry, watch, c...|300.08846023169247|                0.0|                 0.5| 0.08626426497985688|\n",
       "| 73909892719| Lorem Fringilla Ltd|equipment, tool, ...|  62.9852861142897|                0.0|                 0.3| 0.07651931004547106|\n",
       "| 81790520013|Magna Praesent In...|equipment, tool, ...| 505.7353968293871|                0.0|  0.4166666666666667| 0.06253629963079801|\n",
       "| 65168284301|             Dui LLC|jewelry, watch, c...| 330.9956985684474|                0.0|  0.7142857142857143| 0.07599549073018283|\n",
       "| 21319642626| At Risus Associates|antique shops - s...| 516.6727129506646|                0.0|                 0.5| 0.08615407651377409|\n",
       "| 31552582037|          Velit Inc.|             telecom| 135.3879939318715|                0.0|                 0.3| 0.07168464172653354|\n",
       "| 53877856360|   Sem Magna Company|antique shops - s...| 759.2415527734533|                0.0|  0.5555555555555556| 0.08968288545498891|\n",
       "| 12983555508|Nibh Lacinia Foun...|jewelry, watch, c...| 253.8068468222075|                0.0|                 0.5| 0.09878489073918263|\n",
       "| 78279649113|Habitant Morbi In...|motor vehicle sup...| 281.2543590169924|                0.0|0.011235955056179775|0.008054537334212769|\n",
       "+------------+--------------------+--------------------+------------------+-------------------+--------------------+--------------------+\n",
       "only showing top 20 rows"
      ]
     },
     "execution_count": 69,
     "metadata": {},
     "output_type": "execute_result"
    }
   ],
   "source": [
    "ranking.orderBy(F.col(\"expected_revenue1\").asc())"
   ]
  },
  {
   "cell_type": "code",
   "execution_count": 45,
   "id": "upset-choir",
   "metadata": {},
   "outputs": [],
   "source": [
    "busi_area_type = []"
   ]
  }
 ],
 "metadata": {
  "kernelspec": {
   "display_name": "Python 3",
   "language": "python",
   "name": "python3"
  },
  "language_info": {
   "codemirror_mode": {
    "name": "ipython",
    "version": 3
   },
   "file_extension": ".py",
   "mimetype": "text/x-python",
   "name": "python",
   "nbconvert_exporter": "python",
   "pygments_lexer": "ipython3",
   "version": "3.9.2"
  }
 },
 "nbformat": 4,
 "nbformat_minor": 5
}
