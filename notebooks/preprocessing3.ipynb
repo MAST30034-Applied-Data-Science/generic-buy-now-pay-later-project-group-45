{
 "cells": [
  {
   "cell_type": "markdown",
   "metadata": {},
   "source": [
    "## Buy Now, Pay Later Project\n",
    "### MAST30034: Applied Data Science \n",
    "#### Notebook 2: Preprocessing Data 2: Data Aggregation"
   ]
  },
  {
   "cell_type": "code",
   "execution_count": 2,
   "metadata": {},
   "outputs": [],
   "source": [
    "# create modeling spark session\n",
    "from pyspark.sql import SparkSession\n",
    "import pandas as pd\n",
    "\n",
    "spark = (\n",
    "    SparkSession.builder.appName('Project 2 test')\n",
    "    .config('spark.sql.repl.eagerEval.enabled', True) \n",
    "    .config('spark.sql.parquet.cacheMetadata', 'true')\n",
    "    .config(\"spark.sql.session.timeZone\", \"Etc/UTC\")\n",
    "    .config(\"spark.executor.memory\", \"8g\")\n",
    "    .config(\"spark.driver.memory\", \"8g\")\n",
    "    .getOrCreate()\n",
    ")"
   ]
  },
  {
   "cell_type": "code",
   "execution_count": 3,
   "metadata": {},
   "outputs": [
    {
     "data": {
      "text/html": [
       "<table border='1'>\n",
       "<tr><th>postcode</th><th>user_id</th><th>merchant_abn</th><th>dollar_value</th><th>order_datetime</th><th>name</th><th>business_area</th><th>revenue_level</th><th>take_rate</th><th>consumer_id</th><th>state</th><th>gender</th><th>Median_age_persons</th><th>Median_mortgage_repay_monthly</th><th>Median_tot_prsnl_inc_weekly</th><th>Median_rent_weekly</th><th>Median_tot_fam_inc_weekly</th><th>Average_num_psns_per_bedroom</th><th>Median_tot_hhd_inc_weekly</th><th>Average_household_size</th><th>business_area_type</th></tr>\n",
       "<tr><td>3332</td><td>14</td><td>68004106739</td><td>35.066583865041444</td><td>2021-08-08</td><td>Nec Ante Ltd</td><td>cable, satellite,...</td><td>a</td><td> 5.61</td><td>1343547</td><td>VIC</td><td>Male</td><td>38</td><td>1733</td><td>797</td><td>350</td><td>2096</td><td>0.8</td><td>1955</td><td>2.9</td><td>Retail_trade</td></tr>\n",
       "<tr><td>3432</td><td>4943</td><td>67609108741</td><td>87.09715299772967</td><td>2022-03-05</td><td>Metus Sit Amet In...</td><td>cable, satellite,...</td><td>e</td><td> 0.38</td><td>533495</td><td>VIC</td><td>Male</td><td>51</td><td>2000</td><td>791</td><td>550</td><td>2374</td><td>0.8</td><td>1792</td><td>2.7</td><td>Retail_trade</td></tr>\n",
       "<tr><td>3332</td><td>14</td><td>70052129860</td><td>10.624562993647425</td><td>2021-07-25</td><td>Donec Tempus Lore...</td><td>cable, satellite,...</td><td>b</td><td> 3.37</td><td>1343547</td><td>VIC</td><td>Male</td><td>38</td><td>1733</td><td>797</td><td>350</td><td>2096</td><td>0.8</td><td>1955</td><td>2.9</td><td>Retail_trade</td></tr>\n",
       "<tr><td>3432</td><td>4943</td><td>19237425345</td><td>36.91374841278192</td><td>2022-03-08</td><td>A Scelerisque Ass...</td><td>cable, satellite,...</td><td>c</td><td> 2.04</td><td>533495</td><td>VIC</td><td>Male</td><td>51</td><td>2000</td><td>791</td><td>550</td><td>2374</td><td>0.8</td><td>1792</td><td>2.7</td><td>Retail_trade</td></tr>\n",
       "<tr><td>3332</td><td>14</td><td>79645157255</td><td>21.838580731119894</td><td>2021-04-16</td><td>Consectetuer Maur...</td><td>cable, satellite,...</td><td>a</td><td> 6.46</td><td>1343547</td><td>VIC</td><td>Male</td><td>38</td><td>1733</td><td>797</td><td>350</td><td>2096</td><td>0.8</td><td>1955</td><td>2.9</td><td>Retail_trade</td></tr>\n",
       "<tr><td>3432</td><td>4943</td><td>67979471799</td><td>9.354001353615072</td><td>2022-03-16</td><td>Laoreet Ipsum Corp.</td><td>cable, satellite,...</td><td>d</td><td> 1.04</td><td>533495</td><td>VIC</td><td>Male</td><td>51</td><td>2000</td><td>791</td><td>550</td><td>2374</td><td>0.8</td><td>1792</td><td>2.7</td><td>Retail_trade</td></tr>\n",
       "<tr><td>3332</td><td>14</td><td>21439773999</td><td>57.50723650600155</td><td>2021-06-01</td><td>Mauris Non Institute</td><td>cable, satellite,...</td><td>a</td><td> 6.10</td><td>1343547</td><td>VIC</td><td>Male</td><td>38</td><td>1733</td><td>797</td><td>350</td><td>2096</td><td>0.8</td><td>1955</td><td>2.9</td><td>Retail_trade</td></tr>\n",
       "<tr><td>3432</td><td>4943</td><td>68501926042</td><td>72.64904714060505</td><td>2022-03-23</td><td>Dolor Corp.</td><td>cable, satellite,...</td><td>a</td><td> 5.78</td><td>533495</td><td>VIC</td><td>Male</td><td>51</td><td>2000</td><td>791</td><td>550</td><td>2374</td><td>0.8</td><td>1792</td><td>2.7</td><td>Retail_trade</td></tr>\n",
       "<tr><td>3332</td><td>14</td><td>66370248931</td><td>24.001048123394057</td><td>2021-05-04</td><td>Morbi Non PC</td><td>cable, satellite,...</td><td>b</td><td> 3.15</td><td>1343547</td><td>VIC</td><td>Male</td><td>38</td><td>1733</td><td>797</td><td>350</td><td>2096</td><td>0.8</td><td>1955</td><td>2.9</td><td>Retail_trade</td></tr>\n",
       "<tr><td>2082</td><td>4949</td><td>44454840859</td><td>34.990386491563186</td><td>2021-08-27</td><td>Erat Eget Ipsum PC</td><td>cable, satellite,...</td><td>a</td><td> 5.62</td><td>801928</td><td>NSW</td><td>Undisclosed</td><td>42</td><td>2500</td><td>977</td><td>580</td><td>2804</td><td>0.8</td><td>2449</td><td>2.9</td><td>Retail_trade</td></tr>\n",
       "<tr><td>3332</td><td>14</td><td>40590483301</td><td>14.93929154059108</td><td>2021-04-01</td><td>Donec Tempus Corp...</td><td>cable, satellite,...</td><td>c</td><td> 3.10</td><td>1343547</td><td>VIC</td><td>Male</td><td>38</td><td>1733</td><td>797</td><td>350</td><td>2096</td><td>0.8</td><td>1955</td><td>2.9</td><td>Retail_trade</td></tr>\n",
       "<tr><td>2082</td><td>4949</td><td>71350572766</td><td>67.5169153121267</td><td>2021-08-26</td><td>Dictum Placerat A...</td><td>cable, satellite,...</td><td>c</td><td> 1.57</td><td>801928</td><td>NSW</td><td>Undisclosed</td><td>42</td><td>2500</td><td>977</td><td>580</td><td>2804</td><td>0.8</td><td>2449</td><td>2.9</td><td>Retail_trade</td></tr>\n",
       "<tr><td>3332</td><td>14</td><td>85071946566</td><td>129.3921791743538</td><td>2021-03-27</td><td>Est Mauris Associ...</td><td>cable, satellite,...</td><td>b</td><td> 3.19</td><td>1343547</td><td>VIC</td><td>Male</td><td>38</td><td>1733</td><td>797</td><td>350</td><td>2096</td><td>0.8</td><td>1955</td><td>2.9</td><td>Retail_trade</td></tr>\n",
       "<tr><td>2082</td><td>4949</td><td>71350572766</td><td>55.77843473425574</td><td>2021-06-11</td><td>Dictum Placerat A...</td><td>cable, satellite,...</td><td>c</td><td> 1.57</td><td>801928</td><td>NSW</td><td>Undisclosed</td><td>42</td><td>2500</td><td>977</td><td>580</td><td>2804</td><td>0.8</td><td>2449</td><td>2.9</td><td>Retail_trade</td></tr>\n",
       "<tr><td>3332</td><td>14</td><td>69703285964</td><td>28.33157420502937</td><td>2021-12-13</td><td>Suspendisse Incor...</td><td>cable, satellite,...</td><td>a</td><td> 5.77</td><td>1343547</td><td>VIC</td><td>Male</td><td>38</td><td>1733</td><td>797</td><td>350</td><td>2096</td><td>0.8</td><td>1955</td><td>2.9</td><td>Retail_trade</td></tr>\n",
       "<tr><td>2082</td><td>4949</td><td>17488304283</td><td>12.529185818529875</td><td>2021-06-11</td><td>Posuere Cubilia C...</td><td>cable, satellite,...</td><td>a</td><td> 6.18</td><td>801928</td><td>NSW</td><td>Undisclosed</td><td>42</td><td>2500</td><td>977</td><td>580</td><td>2804</td><td>0.8</td><td>2449</td><td>2.9</td><td>Retail_trade</td></tr>\n",
       "<tr><td>3332</td><td>14</td><td>98545158925</td><td>27.119818754515343</td><td>2021-12-28</td><td>Dictum Eleifend I...</td><td>cable, satellite,...</td><td>c</td><td> 2.13</td><td>1343547</td><td>VIC</td><td>Male</td><td>38</td><td>1733</td><td>797</td><td>350</td><td>2096</td><td>0.8</td><td>1955</td><td>2.9</td><td>Retail_trade</td></tr>\n",
       "<tr><td>2082</td><td>4949</td><td>67609108741</td><td>107.22795647375638</td><td>2021-05-14</td><td>Metus Sit Amet In...</td><td>cable, satellite,...</td><td>e</td><td> 0.38</td><td>801928</td><td>NSW</td><td>Undisclosed</td><td>42</td><td>2500</td><td>977</td><td>580</td><td>2804</td><td>0.8</td><td>2449</td><td>2.9</td><td>Retail_trade</td></tr>\n",
       "<tr><td>3332</td><td>14</td><td>50885695263</td><td>16.546336274375896</td><td>2021-09-16</td><td>Euismod Institute</td><td>cable, satellite,...</td><td>c</td><td> 2.84</td><td>1343547</td><td>VIC</td><td>Male</td><td>38</td><td>1733</td><td>797</td><td>350</td><td>2096</td><td>0.8</td><td>1955</td><td>2.9</td><td>Retail_trade</td></tr>\n",
       "<tr><td>2082</td><td>4949</td><td>21793603759</td><td>70.65996399415438</td><td>2021-06-10</td><td>In Tincidunt Cong...</td><td>cable, satellite,...</td><td>c</td><td> 1.83</td><td>801928</td><td>NSW</td><td>Undisclosed</td><td>42</td><td>2500</td><td>977</td><td>580</td><td>2804</td><td>0.8</td><td>2449</td><td>2.9</td><td>Retail_trade</td></tr>\n",
       "</table>\n",
       "only showing top 20 rows\n"
      ],
      "text/plain": [
       "+--------+-------+------------+------------------+--------------+--------------------+--------------------+-------------+---------+-----------+-----+-----------+------------------+-----------------------------+---------------------------+------------------+-------------------------+----------------------------+-------------------------+----------------------+------------------+\n",
       "|postcode|user_id|merchant_abn|      dollar_value|order_datetime|                name|       business_area|revenue_level|take_rate|consumer_id|state|     gender|Median_age_persons|Median_mortgage_repay_monthly|Median_tot_prsnl_inc_weekly|Median_rent_weekly|Median_tot_fam_inc_weekly|Average_num_psns_per_bedroom|Median_tot_hhd_inc_weekly|Average_household_size|business_area_type|\n",
       "+--------+-------+------------+------------------+--------------+--------------------+--------------------+-------------+---------+-----------+-----+-----------+------------------+-----------------------------+---------------------------+------------------+-------------------------+----------------------------+-------------------------+----------------------+------------------+\n",
       "|    3332|     14| 68004106739|35.066583865041444|    2021-08-08|        Nec Ante Ltd|cable, satellite,...|            a|     5.61|    1343547|  VIC|       Male|                38|                         1733|                        797|               350|                     2096|                         0.8|                     1955|                   2.9|      Retail_trade|\n",
       "|    3432|   4943| 67609108741| 87.09715299772967|    2022-03-05|Metus Sit Amet In...|cable, satellite,...|            e|     0.38|     533495|  VIC|       Male|                51|                         2000|                        791|               550|                     2374|                         0.8|                     1792|                   2.7|      Retail_trade|\n",
       "|    3332|     14| 70052129860|10.624562993647425|    2021-07-25|Donec Tempus Lore...|cable, satellite,...|            b|     3.37|    1343547|  VIC|       Male|                38|                         1733|                        797|               350|                     2096|                         0.8|                     1955|                   2.9|      Retail_trade|\n",
       "|    3432|   4943| 19237425345| 36.91374841278192|    2022-03-08|A Scelerisque Ass...|cable, satellite,...|            c|     2.04|     533495|  VIC|       Male|                51|                         2000|                        791|               550|                     2374|                         0.8|                     1792|                   2.7|      Retail_trade|\n",
       "|    3332|     14| 79645157255|21.838580731119894|    2021-04-16|Consectetuer Maur...|cable, satellite,...|            a|     6.46|    1343547|  VIC|       Male|                38|                         1733|                        797|               350|                     2096|                         0.8|                     1955|                   2.9|      Retail_trade|\n",
       "|    3432|   4943| 67979471799| 9.354001353615072|    2022-03-16| Laoreet Ipsum Corp.|cable, satellite,...|            d|     1.04|     533495|  VIC|       Male|                51|                         2000|                        791|               550|                     2374|                         0.8|                     1792|                   2.7|      Retail_trade|\n",
       "|    3332|     14| 21439773999| 57.50723650600155|    2021-06-01|Mauris Non Institute|cable, satellite,...|            a|     6.10|    1343547|  VIC|       Male|                38|                         1733|                        797|               350|                     2096|                         0.8|                     1955|                   2.9|      Retail_trade|\n",
       "|    3432|   4943| 68501926042| 72.64904714060505|    2022-03-23|         Dolor Corp.|cable, satellite,...|            a|     5.78|     533495|  VIC|       Male|                51|                         2000|                        791|               550|                     2374|                         0.8|                     1792|                   2.7|      Retail_trade|\n",
       "|    3332|     14| 66370248931|24.001048123394057|    2021-05-04|        Morbi Non PC|cable, satellite,...|            b|     3.15|    1343547|  VIC|       Male|                38|                         1733|                        797|               350|                     2096|                         0.8|                     1955|                   2.9|      Retail_trade|\n",
       "|    2082|   4949| 44454840859|34.990386491563186|    2021-08-27|  Erat Eget Ipsum PC|cable, satellite,...|            a|     5.62|     801928|  NSW|Undisclosed|                42|                         2500|                        977|               580|                     2804|                         0.8|                     2449|                   2.9|      Retail_trade|\n",
       "|    3332|     14| 40590483301| 14.93929154059108|    2021-04-01|Donec Tempus Corp...|cable, satellite,...|            c|     3.10|    1343547|  VIC|       Male|                38|                         1733|                        797|               350|                     2096|                         0.8|                     1955|                   2.9|      Retail_trade|\n",
       "|    2082|   4949| 71350572766|  67.5169153121267|    2021-08-26|Dictum Placerat A...|cable, satellite,...|            c|     1.57|     801928|  NSW|Undisclosed|                42|                         2500|                        977|               580|                     2804|                         0.8|                     2449|                   2.9|      Retail_trade|\n",
       "|    3332|     14| 85071946566| 129.3921791743538|    2021-03-27|Est Mauris Associ...|cable, satellite,...|            b|     3.19|    1343547|  VIC|       Male|                38|                         1733|                        797|               350|                     2096|                         0.8|                     1955|                   2.9|      Retail_trade|\n",
       "|    2082|   4949| 71350572766| 55.77843473425574|    2021-06-11|Dictum Placerat A...|cable, satellite,...|            c|     1.57|     801928|  NSW|Undisclosed|                42|                         2500|                        977|               580|                     2804|                         0.8|                     2449|                   2.9|      Retail_trade|\n",
       "|    3332|     14| 69703285964| 28.33157420502937|    2021-12-13|Suspendisse Incor...|cable, satellite,...|            a|     5.77|    1343547|  VIC|       Male|                38|                         1733|                        797|               350|                     2096|                         0.8|                     1955|                   2.9|      Retail_trade|\n",
       "|    2082|   4949| 17488304283|12.529185818529875|    2021-06-11|Posuere Cubilia C...|cable, satellite,...|            a|     6.18|     801928|  NSW|Undisclosed|                42|                         2500|                        977|               580|                     2804|                         0.8|                     2449|                   2.9|      Retail_trade|\n",
       "|    3332|     14| 98545158925|27.119818754515343|    2021-12-28|Dictum Eleifend I...|cable, satellite,...|            c|     2.13|    1343547|  VIC|       Male|                38|                         1733|                        797|               350|                     2096|                         0.8|                     1955|                   2.9|      Retail_trade|\n",
       "|    2082|   4949| 67609108741|107.22795647375638|    2021-05-14|Metus Sit Amet In...|cable, satellite,...|            e|     0.38|     801928|  NSW|Undisclosed|                42|                         2500|                        977|               580|                     2804|                         0.8|                     2449|                   2.9|      Retail_trade|\n",
       "|    3332|     14| 50885695263|16.546336274375896|    2021-09-16|   Euismod Institute|cable, satellite,...|            c|     2.84|    1343547|  VIC|       Male|                38|                         1733|                        797|               350|                     2096|                         0.8|                     1955|                   2.9|      Retail_trade|\n",
       "|    2082|   4949| 21793603759| 70.65996399415438|    2021-06-10|In Tincidunt Cong...|cable, satellite,...|            c|     1.83|     801928|  NSW|Undisclosed|                42|                         2500|                        977|               580|                     2804|                         0.8|                     2449|                   2.9|      Retail_trade|\n",
       "+--------+-------+------------+------------------+--------------+--------------------+--------------------+-------------+---------+-----------+-----+-----------+------------------+-----------------------------+---------------------------+------------------+-------------------------+----------------------------+-------------------------+----------------------+------------------+\n",
       "only showing top 20 rows"
      ]
     },
     "execution_count": 3,
     "metadata": {},
     "output_type": "execute_result"
    }
   ],
   "source": [
    "full = spark.read.parquet('../data/curated/clean_full_dataset/')\n",
    "full"
   ]
  },
  {
   "cell_type": "markdown",
   "metadata": {},
   "source": [
    "### Calculating the Gender Percentage for Consumers\n",
    "\n",
    "Noting that the \"male_percentage\"/\"female_percentage\"/\"undisclosed_percentage\" here refer to the amount of transactions made by male/female/undisclosed consumers divided by the total amount of transactions. Multiple transaction records made by the same consumers are included in this calculation algorithm."
   ]
  },
  {
   "cell_type": "code",
   "execution_count": null,
   "metadata": {},
   "outputs": [],
   "source": [
    "# count the number of comsumers by gender and merchant\n",
    "gender_count_sdf = full.groupBy([\"merchant_abn\", \"gender\"]).count().sort(\"merchant_abn\")\n",
    "gender_count_sdf"
   ]
  },
  {
   "cell_type": "code",
   "execution_count": null,
   "metadata": {},
   "outputs": [],
   "source": [
    "# count the total number of consumers\n",
    "total_count = gender_count_sdf.groupBy('merchant_abn').sum('count').sort(\"merchant_abn\")\n",
    "total_count"
   ]
  },
  {
   "cell_type": "code",
   "execution_count": null,
   "metadata": {},
   "outputs": [],
   "source": [
    "gender_count_sdf = gender_count_sdf.join(total_count, on='merchant_abn').sort(\"merchant_abn\")\n",
    "gender_count_sdf = gender_count_sdf.withColumnRenamed(\"sum(count)\",\"total_transactions_count\")\n",
    "gender_count_sdf\n"
   ]
  },
  {
   "cell_type": "code",
   "execution_count": null,
   "metadata": {},
   "outputs": [],
   "source": [
    "# calculate the consumer gender percentage for each gender and for each merchants, save the percentage as \"gender_percentage\"\n",
    "from pyspark.sql import functions as F\n",
    "gender_count_sdf = gender_count_sdf.withColumn(\"gender_percentage\", F.col(\"count\")/F.col(\"total_transactions_count\"))\n",
    "gender_count_sdf"
   ]
  },
  {
   "cell_type": "code",
   "execution_count": null,
   "metadata": {},
   "outputs": [],
   "source": [
    "# separate gender percentage by male, female and undisclosed\n",
    "male_percentage = gender_count_sdf.filter(\"gender == 'Male'\").select(F.col(\"merchant_abn\"),F.col(\"gender_percentage\")).withColumnRenamed(\"gender_percentage\",\"male_consumer_percentage\")\n",
    "female_percentage = gender_count_sdf.filter(\"gender == 'Female'\").select(F.col(\"merchant_abn\"),F.col(\"gender_percentage\")).withColumnRenamed(\"gender_percentage\",\"female_consumer_percentage\")\n",
    "undisclosed_percentage = gender_count_sdf.filter(\"gender == 'Undisclosed'\").select(F.col(\"merchant_abn\"),F.col(\"gender_percentage\")).withColumnRenamed(\"gender_percentage\",\"undisclosed_consumer_percentage\")"
   ]
  },
  {
   "cell_type": "code",
   "execution_count": null,
   "metadata": {},
   "outputs": [],
   "source": [
    "# observe one of the outcome dataframe\n",
    "male_percentage"
   ]
  },
  {
   "cell_type": "code",
   "execution_count": null,
   "metadata": {},
   "outputs": [],
   "source": [
    "# combine the 3 gender percentages together into 1 dataframe\n",
    "agg_df = male_percentage.join(female_percentage, on=\"merchant_abn\")\n",
    "agg_df = agg_df.join(undisclosed_percentage, on=\"merchant_abn\")\n",
    "# add the total transaction count into aggregated dataframe and rename the column name\n",
    "agg_df = agg_df.join(total_count, on=\"merchant_abn\")\n",
    "agg_df = agg_df.withColumnRenamed(\"sum(count)\",\"total_transactions_count\")\n",
    "agg_df"
   ]
  },
  {
   "cell_type": "code",
   "execution_count": null,
   "metadata": {},
   "outputs": [],
   "source": [
    "full.groupBy(\"merchant_abn\") \\\n",
    "    .agg(F.mean(\"Median_age_persons\").alias(\"ave_age\"), \\\n",
    "         F.mean(\"Median_tot_prsnl_inc_weekly\").alias(\"ave_income\"), \\\n",
    "         F.mean(\"Median_rent_weekly\").alias(\"ave_rent\") \\\n",
    "     ).limit(10)"
   ]
  }
 ],
 "metadata": {
  "kernelspec": {
   "display_name": "Python 3",
   "language": "python",
   "name": "python3"
  },
  "language_info": {
   "codemirror_mode": {
    "name": "ipython",
    "version": 3
   },
   "file_extension": ".py",
   "mimetype": "text/x-python",
   "name": "python",
   "nbconvert_exporter": "python",
   "pygments_lexer": "ipython3",
   "version": "3.9.2"
  },
  "vscode": {
   "interpreter": {
    "hash": "8b547a52226fc5fe22fa6147a895ab8492f18b840e638a9d35222f35938a0abf"
   }
  }
 },
 "nbformat": 4,
 "nbformat_minor": 2
}
