{
 "cells": [
  {
   "cell_type": "markdown",
   "metadata": {},
   "source": [
    "## Buy Now, Pay Later Project\n",
    "### MAST30034: Applied Data Science \n",
    "#### Notebook 2: Preprocessing Data 2: Missing Value and Outliers Detection"
   ]
  },
  {
   "cell_type": "code",
   "execution_count": 1,
   "metadata": {},
   "outputs": [
    {
     "name": "stderr",
     "output_type": "stream",
     "text": [
      "Setting default log level to \"WARN\".\n",
      "To adjust logging level use sc.setLogLevel(newLevel). For SparkR, use setLogLevel(newLevel).\n"
     ]
    },
    {
     "name": "stdout",
     "output_type": "stream",
     "text": [
      "22/09/08 12:27:01 WARN NativeCodeLoader: Unable to load native-hadoop library for your platform... using builtin-java classes where applicable\n",
      "22/09/08 12:27:02 WARN Utils: Service 'SparkUI' could not bind on port 4040. Attempting port 4041.\n"
     ]
    }
   ],
   "source": [
    "# create modeling spark session\n",
    "from pyspark.sql import SparkSession\n",
    "\n",
    "spark = (\n",
    "    SparkSession.builder.appName('Project 2 test')\n",
    "    .config('spark.sql.repl.eagerEval.enabled', True) \n",
    "    .config('spark.sql.parquet.cacheMetadata', 'true')\n",
    "    .config(\"spark.sql.session.timeZone\", \"Etc/UTC\")\n",
    "    .config(\"spark.executor.memory\", \"8g\")\n",
    "    .config(\"spark.driver.memory\", \"8g\")\n",
    "    .getOrCreate()\n",
    ")"
   ]
  },
  {
   "cell_type": "code",
   "execution_count": 4,
   "metadata": {},
   "outputs": [
    {
     "data": {
      "text/html": [
       "<table border='1'>\n",
       "<tr><th>postcode</th><th>merchant_abn</th><th>user_id</th><th>consumer_id</th><th>state</th><th>gender</th><th>dollar_value</th><th>order_datetime</th><th>business_area</th><th>revenue_level</th><th>take_rate</th><th>Median_age_persons</th><th>Median_mortgage_repay_monthly</th><th>Median_tot_prsnl_inc_weekly</th><th>Median_rent_weekly</th><th>Median_tot_fam_inc_weekly</th><th>Average_num_psns_per_bedroom</th><th>Median_tot_hhd_inc_weekly</th><th>Average_household_size</th></tr>\n",
       "<tr><td>3332</td><td>96161947306</td><td>14</td><td>1343547</td><td>VIC</td><td>Male</td><td>112.67012437787673</td><td>2021-08-20</td><td>shoe shops</td><td>b</td><td> 4.52</td><td>38</td><td>1733</td><td>797</td><td>350</td><td>2096</td><td>0.8</td><td>1955</td><td>2.9</td></tr>\n",
       "<tr><td>3332</td><td>75900778714</td><td>14</td><td>1343547</td><td>VIC</td><td>Male</td><td>546.6848295784864</td><td>2021-08-20</td><td>florists supplies...</td><td>c</td><td> 2.61</td><td>38</td><td>1733</td><td>797</td><td>350</td><td>2096</td><td>0.8</td><td>1955</td><td>2.9</td></tr>\n",
       "<tr><td>3332</td><td>68216911708</td><td>14</td><td>1343547</td><td>VIC</td><td>Male</td><td>32.90127154333186</td><td>2021-08-20</td><td>computers, comput...</td><td>c</td><td> 3.05</td><td>38</td><td>1733</td><td>797</td><td>350</td><td>2096</td><td>0.8</td><td>1955</td><td>2.9</td></tr>\n",
       "<tr><td>3332</td><td>20985347699</td><td>14</td><td>1343547</td><td>VIC</td><td>Male</td><td>0.27083188402634917</td><td>2021-08-21</td><td>tent and awning s...</td><td>a</td><td> 6.10</td><td>38</td><td>1733</td><td>797</td><td>350</td><td>2096</td><td>0.8</td><td>1955</td><td>2.9</td></tr>\n",
       "<tr><td>3332</td><td>45629217853</td><td>14</td><td>1343547</td><td>VIC</td><td>Male</td><td>8.204284579030558</td><td>2021-08-14</td><td>gift, card, novel...</td><td>a</td><td> 6.98</td><td>38</td><td>1733</td><td>797</td><td>350</td><td>2096</td><td>0.8</td><td>1955</td><td>2.9</td></tr>\n",
       "<tr><td>3332</td><td>92308095254</td><td>14</td><td>1343547</td><td>VIC</td><td>Male</td><td>102.3328793223507</td><td>2021-07-15</td><td>gift, card, novel...</td><td>a</td><td> 6.53</td><td>38</td><td>1733</td><td>797</td><td>350</td><td>2096</td><td>0.8</td><td>1955</td><td>2.9</td></tr>\n",
       "<tr><td>3332</td><td>17678252870</td><td>14</td><td>1343547</td><td>VIC</td><td>Male</td><td>36.297748446791886</td><td>2021-08-16</td><td>watch, clock, and...</td><td>c</td><td> 2.07</td><td>38</td><td>1733</td><td>797</td><td>350</td><td>2096</td><td>0.8</td><td>1955</td><td>2.9</td></tr>\n",
       "<tr><td>3332</td><td>64203420245</td><td>14</td><td>1343547</td><td>VIC</td><td>Male</td><td>53.08523476846913</td><td>2021-08-16</td><td>tent and awning s...</td><td>c</td><td> 2.86</td><td>38</td><td>1733</td><td>797</td><td>350</td><td>2096</td><td>0.8</td><td>1955</td><td>2.9</td></tr>\n",
       "<tr><td>3332</td><td>16570599421</td><td>14</td><td>1343547</td><td>VIC</td><td>Male</td><td>12.142216147150515</td><td>2021-08-16</td><td>digital goods: bo...</td><td>a</td><td> 6.74</td><td>38</td><td>1733</td><td>797</td><td>350</td><td>2096</td><td>0.8</td><td>1955</td><td>2.9</td></tr>\n",
       "<tr><td>3332</td><td>50644203172</td><td>14</td><td>1343547</td><td>VIC</td><td>Male</td><td>1501.5614321919952</td><td>2021-08-27</td><td>hobby, toy and ga...</td><td>b</td><td> 4.64</td><td>38</td><td>1733</td><td>797</td><td>350</td><td>2096</td><td>0.8</td><td>1955</td><td>2.9</td></tr>\n",
       "<tr><td>3332</td><td>55294337974</td><td>14</td><td>1343547</td><td>VIC</td><td>Male</td><td>260.7756369638948</td><td>2021-08-13</td><td>furniture, home f...</td><td>c</td><td> 2.46</td><td>38</td><td>1733</td><td>797</td><td>350</td><td>2096</td><td>0.8</td><td>1955</td><td>2.9</td></tr>\n",
       "<tr><td>3332</td><td>11588046517</td><td>14</td><td>1343547</td><td>VIC</td><td>Male</td><td>635.8467846079702</td><td>2021-07-16</td><td>health and beauty...</td><td>b</td><td> 3.94</td><td>38</td><td>1733</td><td>797</td><td>350</td><td>2096</td><td>0.8</td><td>1955</td><td>2.9</td></tr>\n",
       "<tr><td>3332</td><td>80682333501</td><td>14</td><td>1343547</td><td>VIC</td><td>Male</td><td>16.393685753872166</td><td>2021-07-23</td><td>florists supplies...</td><td>b</td><td> 4.88</td><td>38</td><td>1733</td><td>797</td><td>350</td><td>2096</td><td>0.8</td><td>1955</td><td>2.9</td></tr>\n",
       "<tr><td>3332</td><td>95274025676</td><td>14</td><td>1343547</td><td>VIC</td><td>Male</td><td>76.69349885082966</td><td>2021-07-23</td><td>digital goods: bo...</td><td>b</td><td> 3.39</td><td>38</td><td>1733</td><td>797</td><td>350</td><td>2096</td><td>0.8</td><td>1955</td><td>2.9</td></tr>\n",
       "<tr><td>3332</td><td>34726792617</td><td>14</td><td>1343547</td><td>VIC</td><td>Male</td><td>139.21165155571208</td><td>2021-05-21</td><td>gift, card, novel...</td><td>a</td><td> 5.94</td><td>38</td><td>1733</td><td>797</td><td>350</td><td>2096</td><td>0.8</td><td>1955</td><td>2.9</td></tr>\n",
       "<tr><td>3332</td><td>63290521567</td><td>14</td><td>1343547</td><td>VIC</td><td>Male</td><td>4.845198213342123</td><td>2021-05-21</td><td>artist supply and...</td><td>a</td><td> 6.48</td><td>38</td><td>1733</td><td>797</td><td>350</td><td>2096</td><td>0.8</td><td>1955</td><td>2.9</td></tr>\n",
       "<tr><td>3332</td><td>71528203369</td><td>14</td><td>1343547</td><td>VIC</td><td>Male</td><td>10.066089501008111</td><td>2021-07-30</td><td>watch, clock, and...</td><td>a</td><td> 6.94</td><td>38</td><td>1733</td><td>797</td><td>350</td><td>2096</td><td>0.8</td><td>1955</td><td>2.9</td></tr>\n",
       "<tr><td>3332</td><td>46804135891</td><td>14</td><td>1343547</td><td>VIC</td><td>Male</td><td>2.9252535204435226</td><td>2021-06-30</td><td>opticians, optica...</td><td>c</td><td> 2.93</td><td>38</td><td>1733</td><td>797</td><td>350</td><td>2096</td><td>0.8</td><td>1955</td><td>2.9</td></tr>\n",
       "<tr><td>3332</td><td>43186523025</td><td>14</td><td>1343547</td><td>VIC</td><td>Male</td><td>65.10083796485065</td><td>2021-05-28</td><td>florists supplies...</td><td>b</td><td> 4.47</td><td>38</td><td>1733</td><td>797</td><td>350</td><td>2096</td><td>0.8</td><td>1955</td><td>2.9</td></tr>\n",
       "<tr><td>3332</td><td>86578477987</td><td>14</td><td>1343547</td><td>VIC</td><td>Male</td><td>15.1521520148131</td><td>2021-05-28</td><td>watch, clock, and...</td><td>a</td><td> 6.43</td><td>38</td><td>1733</td><td>797</td><td>350</td><td>2096</td><td>0.8</td><td>1955</td><td>2.9</td></tr>\n",
       "</table>\n",
       "only showing top 20 rows\n"
      ],
      "text/plain": [
       "+--------+------------+-------+-----------+-----+------+-------------------+--------------+--------------------+-------------+---------+------------------+-----------------------------+---------------------------+------------------+-------------------------+----------------------------+-------------------------+----------------------+\n",
       "|postcode|merchant_abn|user_id|consumer_id|state|gender|       dollar_value|order_datetime|       business_area|revenue_level|take_rate|Median_age_persons|Median_mortgage_repay_monthly|Median_tot_prsnl_inc_weekly|Median_rent_weekly|Median_tot_fam_inc_weekly|Average_num_psns_per_bedroom|Median_tot_hhd_inc_weekly|Average_household_size|\n",
       "+--------+------------+-------+-----------+-----+------+-------------------+--------------+--------------------+-------------+---------+------------------+-----------------------------+---------------------------+------------------+-------------------------+----------------------------+-------------------------+----------------------+\n",
       "|    3332| 96161947306|     14|    1343547|  VIC|  Male| 112.67012437787673|    2021-08-20|          shoe shops|            b|     4.52|                38|                         1733|                        797|               350|                     2096|                         0.8|                     1955|                   2.9|\n",
       "|    3332| 75900778714|     14|    1343547|  VIC|  Male|  546.6848295784864|    2021-08-20|florists supplies...|            c|     2.61|                38|                         1733|                        797|               350|                     2096|                         0.8|                     1955|                   2.9|\n",
       "|    3332| 68216911708|     14|    1343547|  VIC|  Male|  32.90127154333186|    2021-08-20|computers, comput...|            c|     3.05|                38|                         1733|                        797|               350|                     2096|                         0.8|                     1955|                   2.9|\n",
       "|    3332| 20985347699|     14|    1343547|  VIC|  Male|0.27083188402634917|    2021-08-21|tent and awning s...|            a|     6.10|                38|                         1733|                        797|               350|                     2096|                         0.8|                     1955|                   2.9|\n",
       "|    3332| 45629217853|     14|    1343547|  VIC|  Male|  8.204284579030558|    2021-08-14|gift, card, novel...|            a|     6.98|                38|                         1733|                        797|               350|                     2096|                         0.8|                     1955|                   2.9|\n",
       "|    3332| 92308095254|     14|    1343547|  VIC|  Male|  102.3328793223507|    2021-07-15|gift, card, novel...|            a|     6.53|                38|                         1733|                        797|               350|                     2096|                         0.8|                     1955|                   2.9|\n",
       "|    3332| 17678252870|     14|    1343547|  VIC|  Male| 36.297748446791886|    2021-08-16|watch, clock, and...|            c|     2.07|                38|                         1733|                        797|               350|                     2096|                         0.8|                     1955|                   2.9|\n",
       "|    3332| 64203420245|     14|    1343547|  VIC|  Male|  53.08523476846913|    2021-08-16|tent and awning s...|            c|     2.86|                38|                         1733|                        797|               350|                     2096|                         0.8|                     1955|                   2.9|\n",
       "|    3332| 16570599421|     14|    1343547|  VIC|  Male| 12.142216147150515|    2021-08-16|digital goods: bo...|            a|     6.74|                38|                         1733|                        797|               350|                     2096|                         0.8|                     1955|                   2.9|\n",
       "|    3332| 50644203172|     14|    1343547|  VIC|  Male| 1501.5614321919952|    2021-08-27|hobby, toy and ga...|            b|     4.64|                38|                         1733|                        797|               350|                     2096|                         0.8|                     1955|                   2.9|\n",
       "|    3332| 55294337974|     14|    1343547|  VIC|  Male|  260.7756369638948|    2021-08-13|furniture, home f...|            c|     2.46|                38|                         1733|                        797|               350|                     2096|                         0.8|                     1955|                   2.9|\n",
       "|    3332| 11588046517|     14|    1343547|  VIC|  Male|  635.8467846079702|    2021-07-16|health and beauty...|            b|     3.94|                38|                         1733|                        797|               350|                     2096|                         0.8|                     1955|                   2.9|\n",
       "|    3332| 80682333501|     14|    1343547|  VIC|  Male| 16.393685753872166|    2021-07-23|florists supplies...|            b|     4.88|                38|                         1733|                        797|               350|                     2096|                         0.8|                     1955|                   2.9|\n",
       "|    3332| 95274025676|     14|    1343547|  VIC|  Male|  76.69349885082966|    2021-07-23|digital goods: bo...|            b|     3.39|                38|                         1733|                        797|               350|                     2096|                         0.8|                     1955|                   2.9|\n",
       "|    3332| 34726792617|     14|    1343547|  VIC|  Male| 139.21165155571208|    2021-05-21|gift, card, novel...|            a|     5.94|                38|                         1733|                        797|               350|                     2096|                         0.8|                     1955|                   2.9|\n",
       "|    3332| 63290521567|     14|    1343547|  VIC|  Male|  4.845198213342123|    2021-05-21|artist supply and...|            a|     6.48|                38|                         1733|                        797|               350|                     2096|                         0.8|                     1955|                   2.9|\n",
       "|    3332| 71528203369|     14|    1343547|  VIC|  Male| 10.066089501008111|    2021-07-30|watch, clock, and...|            a|     6.94|                38|                         1733|                        797|               350|                     2096|                         0.8|                     1955|                   2.9|\n",
       "|    3332| 46804135891|     14|    1343547|  VIC|  Male| 2.9252535204435226|    2021-06-30|opticians, optica...|            c|     2.93|                38|                         1733|                        797|               350|                     2096|                         0.8|                     1955|                   2.9|\n",
       "|    3332| 43186523025|     14|    1343547|  VIC|  Male|  65.10083796485065|    2021-05-28|florists supplies...|            b|     4.47|                38|                         1733|                        797|               350|                     2096|                         0.8|                     1955|                   2.9|\n",
       "|    3332| 86578477987|     14|    1343547|  VIC|  Male|   15.1521520148131|    2021-05-28|watch, clock, and...|            a|     6.43|                38|                         1733|                        797|               350|                     2096|                         0.8|                     1955|                   2.9|\n",
       "+--------+------------+-------+-----------+-----+------+-------------------+--------------+--------------------+-------------+---------+------------------+-----------------------------+---------------------------+------------------+-------------------------+----------------------------+-------------------------+----------------------+\n",
       "only showing top 20 rows"
      ]
     },
     "execution_count": 4,
     "metadata": {},
     "output_type": "execute_result"
    }
   ],
   "source": [
    "full = spark.read.parquet('../data/curated/full_dataset/')\n",
    "full\n"
   ]
  },
  {
   "cell_type": "code",
   "execution_count": 6,
   "metadata": {},
   "outputs": [
    {
     "name": "stdout",
     "output_type": "stream",
     "text": [
      "0\n"
     ]
    }
   ],
   "source": [
    "# check if missing value exists in all columns\n",
    "null_count = 0\n",
    "for col in full.columns:\n",
    "    null_count += full.filter(full[col].isNull()).count()\n",
    "print(null_count)"
   ]
  },
  {
   "cell_type": "markdown",
   "metadata": {},
   "source": [
    "There is no missing value in the curated full dataset."
   ]
  },
  {
   "cell_type": "markdown",
   "metadata": {},
   "source": [
    "### Outlier Detection"
   ]
  },
  {
   "cell_type": "code",
   "execution_count": 11,
   "metadata": {},
   "outputs": [
    {
     "name": "stderr",
     "output_type": "stream",
     "text": [
      "                                                                                \r"
     ]
    },
    {
     "data": {
      "text/html": [
       "<table border='1'>\n",
       "<tr><th>merchant_abn</th><th>count</th></tr>\n",
       "<tr><td>64094501963</td><td>1</td></tr>\n",
       "<tr><td>94009500943</td><td>1</td></tr>\n",
       "<tr><td>50532670634</td><td>1</td></tr>\n",
       "<tr><td>34205660775</td><td>1</td></tr>\n",
       "<tr><td>14616123867</td><td>1</td></tr>\n",
       "<tr><td>29068447069</td><td>1</td></tr>\n",
       "<tr><td>27518736748</td><td>1</td></tr>\n",
       "<tr><td>10165489824</td><td>1</td></tr>\n",
       "<tr><td>93263170091</td><td>1</td></tr>\n",
       "<tr><td>39150153670</td><td>1</td></tr>\n",
       "<tr><td>86201937910</td><td>1</td></tr>\n",
       "<tr><td>29279482521</td><td>1</td></tr>\n",
       "<tr><td>89618228232</td><td>1</td></tr>\n",
       "<tr><td>20884516643</td><td>1</td></tr>\n",
       "<tr><td>69853421807</td><td>1</td></tr>\n",
       "<tr><td>80426072728</td><td>1</td></tr>\n",
       "<tr><td>86621434137</td><td>1</td></tr>\n",
       "<tr><td>10739268011</td><td>1</td></tr>\n",
       "<tr><td>22853038342</td><td>1</td></tr>\n",
       "<tr><td>24212300522</td><td>1</td></tr>\n",
       "</table>\n",
       "only showing top 20 rows\n"
      ],
      "text/plain": [
       "+------------+-----+\n",
       "|merchant_abn|count|\n",
       "+------------+-----+\n",
       "| 64094501963|    1|\n",
       "| 94009500943|    1|\n",
       "| 50532670634|    1|\n",
       "| 34205660775|    1|\n",
       "| 14616123867|    1|\n",
       "| 29068447069|    1|\n",
       "| 27518736748|    1|\n",
       "| 10165489824|    1|\n",
       "| 93263170091|    1|\n",
       "| 39150153670|    1|\n",
       "| 86201937910|    1|\n",
       "| 29279482521|    1|\n",
       "| 89618228232|    1|\n",
       "| 20884516643|    1|\n",
       "| 69853421807|    1|\n",
       "| 80426072728|    1|\n",
       "| 86621434137|    1|\n",
       "| 10739268011|    1|\n",
       "| 22853038342|    1|\n",
       "| 24212300522|    1|\n",
       "+------------+-----+\n",
       "only showing top 20 rows"
      ]
     },
     "execution_count": 11,
     "metadata": {},
     "output_type": "execute_result"
    }
   ],
   "source": [
    "from pyspark.sql import functions as F\n",
    "full.groupBy(F.col('merchant_abn')).count().orderBy(F.col('count').asc())"
   ]
  },
  {
   "cell_type": "markdown",
   "metadata": {},
   "source": [
    "It is noticed that there exists a range of merchants which only has a single transaction. Such small count of transaction could not provide enough information. So draw boxplot to see the distribution of number of transactions based on merchant."
   ]
  },
  {
   "cell_type": "code",
   "execution_count": 18,
   "metadata": {},
   "outputs": [
    {
     "name": "stderr",
     "output_type": "stream",
     "text": [
      "                                                                                \r"
     ]
    }
   ],
   "source": [
    "count_sdf = full.groupBy(F.col('merchant_abn')).count()\n",
    "# convert to df to draw boxplot\n",
    "count_df = count_sdf.toPandas()"
   ]
  },
  {
   "cell_type": "code",
   "execution_count": 21,
   "metadata": {},
   "outputs": [],
   "source": [
    "count = count_df['count']"
   ]
  },
  {
   "cell_type": "code",
   "execution_count": 29,
   "metadata": {},
   "outputs": [
    {
     "name": "stderr",
     "output_type": "stream",
     "text": [
      "                                                                                \r"
     ]
    },
    {
     "data": {
      "text/html": [
       "<table border='1'>\n",
       "<tr><th>merchant_abn</th><th>sum(dollar_value)</th></tr>\n",
       "<tr><td>38700038932</td><td>4552053.738639486</td></tr>\n",
       "<tr><td>83412691377</td><td>237372.62254271065</td></tr>\n",
       "<tr><td>41956465747</td><td>31448.04858253271</td></tr>\n",
       "<tr><td>73256306726</td><td>710518.8299095897</td></tr>\n",
       "<tr><td>92202115241</td><td>16747.245044054187</td></tr>\n",
       "<tr><td>34440496342</td><td>10021.222423050696</td></tr>\n",
       "<tr><td>35344855546</td><td>63626.6179518422</td></tr>\n",
       "<tr><td>19839532017</td><td>56206.0</td></tr>\n",
       "<tr><td>15613631617</td><td>269000.12542759004</td></tr>\n",
       "<tr><td>12516851436</td><td>15215.045267330283</td></tr>\n",
       "<tr><td>73841664453</td><td>42823.753848122455</td></tr>\n",
       "<tr><td>60654402457</td><td>7261.730858720026</td></tr>\n",
       "<tr><td>48214071373</td><td>73885.54230086629</td></tr>\n",
       "<tr><td>96946925998</td><td>54400.55965404703</td></tr>\n",
       "<tr><td>38986645707</td><td>16702.813835173365</td></tr>\n",
       "<tr><td>78916025936</td><td>12569.144226637163</td></tr>\n",
       "<tr><td>52763133264</td><td>7242.730208231674</td></tr>\n",
       "<tr><td>37935728745</td><td>62016.19072639143</td></tr>\n",
       "<tr><td>29216160692</td><td>227998.9527978832</td></tr>\n",
       "<tr><td>45339304653</td><td>44466.81248270623</td></tr>\n",
       "</table>\n",
       "only showing top 20 rows\n"
      ],
      "text/plain": [
       "+------------+------------------+\n",
       "|merchant_abn| sum(dollar_value)|\n",
       "+------------+------------------+\n",
       "| 38700038932| 4552053.738639486|\n",
       "| 83412691377|237372.62254271065|\n",
       "| 41956465747| 31448.04858253271|\n",
       "| 73256306726| 710518.8299095897|\n",
       "| 92202115241|16747.245044054187|\n",
       "| 34440496342|10021.222423050696|\n",
       "| 35344855546|  63626.6179518422|\n",
       "| 19839532017|           56206.0|\n",
       "| 15613631617|269000.12542759004|\n",
       "| 12516851436|15215.045267330283|\n",
       "| 73841664453|42823.753848122455|\n",
       "| 60654402457| 7261.730858720026|\n",
       "| 48214071373| 73885.54230086629|\n",
       "| 96946925998| 54400.55965404703|\n",
       "| 38986645707|16702.813835173365|\n",
       "| 78916025936|12569.144226637163|\n",
       "| 52763133264| 7242.730208231674|\n",
       "| 37935728745| 62016.19072639143|\n",
       "| 29216160692| 227998.9527978832|\n",
       "| 45339304653| 44466.81248270623|\n",
       "+------------+------------------+\n",
       "only showing top 20 rows"
      ]
     },
     "execution_count": 29,
     "metadata": {},
     "output_type": "execute_result"
    }
   ],
   "source": [
    "amount = full.groupBy(F.col('merchant_abn')).sum('dollar_value') #.orderBy(F.col('dollar_value').asc())\n",
    "amount"
   ]
  },
  {
   "cell_type": "code",
   "execution_count": 23,
   "metadata": {},
   "outputs": [
    {
     "data": {
      "text/plain": [
       "<AxesSubplot:>"
      ]
     },
     "execution_count": 23,
     "metadata": {},
     "output_type": "execute_result"
    },
    {
     "data": {
      "image/png": "[encoded data removed]",
      "text/plain": [
       "<Figure size 432x288 with 1 Axes>"
      ]
     },
     "metadata": {
      "needs_background": "light"
     },
     "output_type": "display_data"
    }
   ],
   "source": [
    "count_df.boxplot(column='count', return_type='axes')"
   ]
  },
  {
   "cell_type": "code",
   "execution_count": null,
   "metadata": {},
   "outputs": [],
   "source": []
  }
 ],
 "metadata": {
  "kernelspec": {
   "display_name": "Python 3.9.7 ('base')",
   "language": "python",
   "name": "python3"
  },
  "language_info": {
   "codemirror_mode": {
    "name": "ipython",
    "version": 3
   },
   "file_extension": ".py",
   "mimetype": "text/x-python",
   "name": "python",
   "nbconvert_exporter": "python",
   "pygments_lexer": "ipython3",
   "version": "3.9.7"
  },
  "orig_nbformat": 4,
  "vscode": {
   "interpreter": {
    "hash": "8b547a52226fc5fe22fa6147a895ab8492f18b840e638a9d35222f35938a0abf"
   }
  }
 },
 "nbformat": 4,
 "nbformat_minor": 2
}
